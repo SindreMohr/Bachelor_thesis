{
 "cells": [
  {
   "cell_type": "code",
   "execution_count": 1,
   "metadata": {},
   "outputs": [],
   "source": [
    "import pandas as pd\n",
    "import matplotlib.pyplot as plt\n",
    "from datetime import datetime\n",
    "\n",
    "from data_read import load_data_into_dataframe\n",
    "\n",
    "#enable IPython to display matplolib graphs\n",
    "%matplotlib inline"
   ]
  },
  {
   "cell_type": "code",
   "execution_count": 2,
   "metadata": {},
   "outputs": [
    {
     "name": "stderr",
     "output_type": "stream",
     "text": [
      "/home/daniel/Bachelor/Bachelor_thesis/data_read.py:39: DtypeWarning: Columns (2) have mixed types. Specify dtype option on import or set low_memory=False.\n",
      "  df = pd.concat((pd.read_csv(file) for file in dataset_files_csv), ignore_index=True)\n",
      "/home/daniel/Bachelor/Bachelor_thesis/data_read.py:39: DtypeWarning: Columns (2) have mixed types. Specify dtype option on import or set low_memory=False.\n",
      "  df = pd.concat((pd.read_csv(file) for file in dataset_files_csv), ignore_index=True)\n",
      "/home/daniel/Bachelor/Bachelor_thesis/data_read.py:39: DtypeWarning: Columns (2) have mixed types. Specify dtype option on import or set low_memory=False.\n",
      "  df = pd.concat((pd.read_csv(file) for file in dataset_files_csv), ignore_index=True)\n",
      "/home/daniel/Bachelor/Bachelor_thesis/data_read.py:39: DtypeWarning: Columns (2) have mixed types. Specify dtype option on import or set low_memory=False.\n",
      "  df = pd.concat((pd.read_csv(file) for file in dataset_files_csv), ignore_index=True)\n",
      "/home/daniel/Bachelor/Bachelor_thesis/data_read.py:39: DtypeWarning: Columns (2) have mixed types. Specify dtype option on import or set low_memory=False.\n",
      "  df = pd.concat((pd.read_csv(file) for file in dataset_files_csv), ignore_index=True)\n",
      "/home/daniel/Bachelor/Bachelor_thesis/data_read.py:39: DtypeWarning: Columns (2) have mixed types. Specify dtype option on import or set low_memory=False.\n",
      "  df = pd.concat((pd.read_csv(file) for file in dataset_files_csv), ignore_index=True)\n",
      "/home/daniel/Bachelor/Bachelor_thesis/data_read.py:39: DtypeWarning: Columns (2) have mixed types. Specify dtype option on import or set low_memory=False.\n",
      "  df = pd.concat((pd.read_csv(file) for file in dataset_files_csv), ignore_index=True)\n",
      "/home/daniel/Bachelor/Bachelor_thesis/data_read.py:39: DtypeWarning: Columns (2) have mixed types. Specify dtype option on import or set low_memory=False.\n",
      "  df = pd.concat((pd.read_csv(file) for file in dataset_files_csv), ignore_index=True)\n"
     ]
    }
   ],
   "source": [
    "h_df = load_data_into_dataframe(\"halfhourly\")\n",
    "hhi_df = pd.read_csv(\"../data/informations_households.csv\")"
   ]
  },
  {
   "cell_type": "code",
   "execution_count": 3,
   "metadata": {},
   "outputs": [
    {
     "data": {
      "text/html": [
       "<div>\n",
       "<style scoped>\n",
       "    .dataframe tbody tr th:only-of-type {\n",
       "        vertical-align: middle;\n",
       "    }\n",
       "\n",
       "    .dataframe tbody tr th {\n",
       "        vertical-align: top;\n",
       "    }\n",
       "\n",
       "    .dataframe thead th {\n",
       "        text-align: right;\n",
       "    }\n",
       "</style>\n",
       "<table border=\"1\" class=\"dataframe\">\n",
       "  <thead>\n",
       "    <tr style=\"text-align: right;\">\n",
       "      <th></th>\n",
       "      <th>LCLid</th>\n",
       "      <th>stdorToU</th>\n",
       "      <th>Acorn</th>\n",
       "      <th>Acorn_grouped</th>\n",
       "      <th>file</th>\n",
       "    </tr>\n",
       "  </thead>\n",
       "  <tbody>\n",
       "    <tr>\n",
       "      <th>0</th>\n",
       "      <td>MAC005492</td>\n",
       "      <td>ToU</td>\n",
       "      <td>ACORN-</td>\n",
       "      <td>ACORN-</td>\n",
       "      <td>block_0</td>\n",
       "    </tr>\n",
       "    <tr>\n",
       "      <th>1</th>\n",
       "      <td>MAC001074</td>\n",
       "      <td>ToU</td>\n",
       "      <td>ACORN-</td>\n",
       "      <td>ACORN-</td>\n",
       "      <td>block_0</td>\n",
       "    </tr>\n",
       "    <tr>\n",
       "      <th>2</th>\n",
       "      <td>MAC000002</td>\n",
       "      <td>Std</td>\n",
       "      <td>ACORN-A</td>\n",
       "      <td>Affluent</td>\n",
       "      <td>block_0</td>\n",
       "    </tr>\n",
       "    <tr>\n",
       "      <th>3</th>\n",
       "      <td>MAC003613</td>\n",
       "      <td>Std</td>\n",
       "      <td>ACORN-A</td>\n",
       "      <td>Affluent</td>\n",
       "      <td>block_0</td>\n",
       "    </tr>\n",
       "    <tr>\n",
       "      <th>4</th>\n",
       "      <td>MAC003597</td>\n",
       "      <td>Std</td>\n",
       "      <td>ACORN-A</td>\n",
       "      <td>Affluent</td>\n",
       "      <td>block_0</td>\n",
       "    </tr>\n",
       "    <tr>\n",
       "      <th>...</th>\n",
       "      <td>...</td>\n",
       "      <td>...</td>\n",
       "      <td>...</td>\n",
       "      <td>...</td>\n",
       "      <td>...</td>\n",
       "    </tr>\n",
       "    <tr>\n",
       "      <th>5561</th>\n",
       "      <td>MAC002056</td>\n",
       "      <td>Std</td>\n",
       "      <td>ACORN-U</td>\n",
       "      <td>ACORN-U</td>\n",
       "      <td>block_111</td>\n",
       "    </tr>\n",
       "    <tr>\n",
       "      <th>5562</th>\n",
       "      <td>MAC004587</td>\n",
       "      <td>Std</td>\n",
       "      <td>ACORN-U</td>\n",
       "      <td>ACORN-U</td>\n",
       "      <td>block_111</td>\n",
       "    </tr>\n",
       "    <tr>\n",
       "      <th>5563</th>\n",
       "      <td>MAC004828</td>\n",
       "      <td>Std</td>\n",
       "      <td>ACORN-U</td>\n",
       "      <td>ACORN-U</td>\n",
       "      <td>block_111</td>\n",
       "    </tr>\n",
       "    <tr>\n",
       "      <th>5564</th>\n",
       "      <td>MAC001704</td>\n",
       "      <td>ToU</td>\n",
       "      <td>ACORN-U</td>\n",
       "      <td>ACORN-U</td>\n",
       "      <td>block_111</td>\n",
       "    </tr>\n",
       "    <tr>\n",
       "      <th>5565</th>\n",
       "      <td>MAC002774</td>\n",
       "      <td>ToU</td>\n",
       "      <td>ACORN-U</td>\n",
       "      <td>ACORN-U</td>\n",
       "      <td>block_111</td>\n",
       "    </tr>\n",
       "  </tbody>\n",
       "</table>\n",
       "<p>5566 rows × 5 columns</p>\n",
       "</div>"
      ],
      "text/plain": [
       "          LCLid stdorToU    Acorn Acorn_grouped       file\n",
       "0     MAC005492      ToU   ACORN-        ACORN-    block_0\n",
       "1     MAC001074      ToU   ACORN-        ACORN-    block_0\n",
       "2     MAC000002      Std  ACORN-A      Affluent    block_0\n",
       "3     MAC003613      Std  ACORN-A      Affluent    block_0\n",
       "4     MAC003597      Std  ACORN-A      Affluent    block_0\n",
       "...         ...      ...      ...           ...        ...\n",
       "5561  MAC002056      Std  ACORN-U       ACORN-U  block_111\n",
       "5562  MAC004587      Std  ACORN-U       ACORN-U  block_111\n",
       "5563  MAC004828      Std  ACORN-U       ACORN-U  block_111\n",
       "5564  MAC001704      ToU  ACORN-U       ACORN-U  block_111\n",
       "5565  MAC002774      ToU  ACORN-U       ACORN-U  block_111\n",
       "\n",
       "[5566 rows x 5 columns]"
      ]
     },
     "execution_count": 3,
     "metadata": {},
     "output_type": "execute_result"
    }
   ],
   "source": [
    "hhi_df"
   ]
  },
  {
   "cell_type": "code",
   "execution_count": 4,
   "metadata": {},
   "outputs": [
    {
     "data": {
      "text/html": [
       "<div>\n",
       "<style scoped>\n",
       "    .dataframe tbody tr th:only-of-type {\n",
       "        vertical-align: middle;\n",
       "    }\n",
       "\n",
       "    .dataframe tbody tr th {\n",
       "        vertical-align: top;\n",
       "    }\n",
       "\n",
       "    .dataframe thead th {\n",
       "        text-align: right;\n",
       "    }\n",
       "</style>\n",
       "<table border=\"1\" class=\"dataframe\">\n",
       "  <thead>\n",
       "    <tr style=\"text-align: right;\">\n",
       "      <th></th>\n",
       "      <th>LCLid</th>\n",
       "      <th>stdorToU</th>\n",
       "      <th>Acorn</th>\n",
       "      <th>Acorn_grouped</th>\n",
       "      <th>file</th>\n",
       "    </tr>\n",
       "  </thead>\n",
       "  <tbody>\n",
       "    <tr>\n",
       "      <th>627</th>\n",
       "      <td>MAC002543</td>\n",
       "      <td>Std</td>\n",
       "      <td>ACORN-E</td>\n",
       "      <td>Affluent</td>\n",
       "      <td>block_12</td>\n",
       "    </tr>\n",
       "    <tr>\n",
       "      <th>628</th>\n",
       "      <td>MAC002556</td>\n",
       "      <td>Std</td>\n",
       "      <td>ACORN-E</td>\n",
       "      <td>Affluent</td>\n",
       "      <td>block_12</td>\n",
       "    </tr>\n",
       "    <tr>\n",
       "      <th>629</th>\n",
       "      <td>MAC002660</td>\n",
       "      <td>Std</td>\n",
       "      <td>ACORN-E</td>\n",
       "      <td>Affluent</td>\n",
       "      <td>block_12</td>\n",
       "    </tr>\n",
       "    <tr>\n",
       "      <th>630</th>\n",
       "      <td>MAC005399</td>\n",
       "      <td>Std</td>\n",
       "      <td>ACORN-E</td>\n",
       "      <td>Affluent</td>\n",
       "      <td>block_12</td>\n",
       "    </tr>\n",
       "    <tr>\n",
       "      <th>631</th>\n",
       "      <td>MAC002545</td>\n",
       "      <td>Std</td>\n",
       "      <td>ACORN-E</td>\n",
       "      <td>Affluent</td>\n",
       "      <td>block_12</td>\n",
       "    </tr>\n",
       "    <tr>\n",
       "      <th>...</th>\n",
       "      <td>...</td>\n",
       "      <td>...</td>\n",
       "      <td>...</td>\n",
       "      <td>...</td>\n",
       "      <td>...</td>\n",
       "    </tr>\n",
       "    <tr>\n",
       "      <th>2189</th>\n",
       "      <td>MAC001853</td>\n",
       "      <td>ToU</td>\n",
       "      <td>ACORN-E</td>\n",
       "      <td>Affluent</td>\n",
       "      <td>block_43</td>\n",
       "    </tr>\n",
       "    <tr>\n",
       "      <th>2190</th>\n",
       "      <td>MAC001914</td>\n",
       "      <td>Std</td>\n",
       "      <td>ACORN-E</td>\n",
       "      <td>Affluent</td>\n",
       "      <td>block_43</td>\n",
       "    </tr>\n",
       "    <tr>\n",
       "      <th>2191</th>\n",
       "      <td>MAC001182</td>\n",
       "      <td>ToU</td>\n",
       "      <td>ACORN-E</td>\n",
       "      <td>Affluent</td>\n",
       "      <td>block_43</td>\n",
       "    </tr>\n",
       "    <tr>\n",
       "      <th>2192</th>\n",
       "      <td>MAC000631</td>\n",
       "      <td>Std</td>\n",
       "      <td>ACORN-E</td>\n",
       "      <td>Affluent</td>\n",
       "      <td>block_43</td>\n",
       "    </tr>\n",
       "    <tr>\n",
       "      <th>2193</th>\n",
       "      <td>MAC002093</td>\n",
       "      <td>ToU</td>\n",
       "      <td>ACORN-E</td>\n",
       "      <td>Affluent</td>\n",
       "      <td>block_43</td>\n",
       "    </tr>\n",
       "  </tbody>\n",
       "</table>\n",
       "<p>1567 rows × 5 columns</p>\n",
       "</div>"
      ],
      "text/plain": [
       "          LCLid stdorToU    Acorn Acorn_grouped      file\n",
       "627   MAC002543      Std  ACORN-E      Affluent  block_12\n",
       "628   MAC002556      Std  ACORN-E      Affluent  block_12\n",
       "629   MAC002660      Std  ACORN-E      Affluent  block_12\n",
       "630   MAC005399      Std  ACORN-E      Affluent  block_12\n",
       "631   MAC002545      Std  ACORN-E      Affluent  block_12\n",
       "...         ...      ...      ...           ...       ...\n",
       "2189  MAC001853      ToU  ACORN-E      Affluent  block_43\n",
       "2190  MAC001914      Std  ACORN-E      Affluent  block_43\n",
       "2191  MAC001182      ToU  ACORN-E      Affluent  block_43\n",
       "2192  MAC000631      Std  ACORN-E      Affluent  block_43\n",
       "2193  MAC002093      ToU  ACORN-E      Affluent  block_43\n",
       "\n",
       "[1567 rows x 5 columns]"
      ]
     },
     "execution_count": 4,
     "metadata": {},
     "output_type": "execute_result"
    }
   ],
   "source": [
    "acorn_e_filter = hhi_df[\"Acorn\"] == \"ACORN-E\"\n",
    "acorn_e_hh = hhi_df[acorn_e_filter]\n",
    "acorn_e_hh"
   ]
  },
  {
   "cell_type": "code",
   "execution_count": 5,
   "metadata": {},
   "outputs": [],
   "source": [
    "house_datacount = h_df[\"LCLid\"].value_counts()"
   ]
  },
  {
   "cell_type": "code",
   "execution_count": 15,
   "metadata": {},
   "outputs": [
    {
     "data": {
      "text/plain": [
       "0            False\n",
       "1            False\n",
       "2            False\n",
       "3            False\n",
       "4            False\n",
       "             ...  \n",
       "167817016     True\n",
       "167817017     True\n",
       "167817018     True\n",
       "167817019     True\n",
       "167817020     True\n",
       "Name: LCLid, Length: 167817021, dtype: bool"
      ]
     },
     "execution_count": 15,
     "metadata": {},
     "output_type": "execute_result"
    },
    {
     "name": "stdout",
     "output_type": "stream",
     "text": [
      "ERROR! Session/line number was not unique in database. History logging moved to new session 331\n"
     ]
    }
   ],
   "source": [
    "f = h_df[\"LCLid\"].isin(acorn_e_hh[\"LCLid\"])\n",
    "f"
   ]
  },
  {
   "cell_type": "code",
   "execution_count": 19,
   "metadata": {},
   "outputs": [],
   "source": [
    "house_datacount = h_df[f]\n",
    "house_datacount = house_datacount[\"LCLid\"].value_counts()"
   ]
  },
  {
   "cell_type": "code",
   "execution_count": 22,
   "metadata": {},
   "outputs": [
    {
     "data": {
      "text/plain": [
       "MAC000150    39720\n",
       "MAC000152    39719\n",
       "MAC000153    39714\n",
       "MAC000165    39671\n",
       "MAC000169    39667\n",
       "MAC000168    39648\n",
       "MAC000159    39646\n",
       "MAC000173    39619\n",
       "MAC000179    39580\n",
       "MAC000181    39578\n",
       "Name: LCLid, dtype: int64"
      ]
     },
     "execution_count": 22,
     "metadata": {},
     "output_type": "execute_result"
    }
   ],
   "source": [
    "house_datacount.head(10)"
   ]
  },
  {
   "cell_type": "code",
   "execution_count": 9,
   "metadata": {},
   "outputs": [],
   "source": [
    "hhi_df = hhi_df.set_index(\"LCLid\")"
   ]
  },
  {
   "cell_type": "code",
   "execution_count": 21,
   "metadata": {},
   "outputs": [
    {
     "data": {
      "text/plain": [
       "stdorToU              Std\n",
       "Acorn             ACORN-E\n",
       "Acorn_grouped    Affluent\n",
       "file             block_21\n",
       "Name: MAC000150, dtype: object"
      ]
     },
     "execution_count": 21,
     "metadata": {},
     "output_type": "execute_result"
    }
   ],
   "source": [
    "hhi_df.loc[\"MAC000150\"]"
   ]
  },
  {
   "cell_type": "code",
   "execution_count": null,
   "metadata": {},
   "outputs": [],
   "source": []
  }
 ],
 "metadata": {
  "kernelspec": {
   "display_name": "Python 3 (ipykernel)",
   "language": "python",
   "name": "python3"
  },
  "language_info": {
   "codemirror_mode": {
    "name": "ipython",
    "version": 3
   },
   "file_extension": ".py",
   "mimetype": "text/x-python",
   "name": "python",
   "nbconvert_exporter": "python",
   "pygments_lexer": "ipython3",
   "version": "3.8.10"
  }
 },
 "nbformat": 4,
 "nbformat_minor": 4
}
