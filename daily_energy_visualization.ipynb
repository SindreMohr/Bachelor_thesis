{
 "cells": [
  {
   "cell_type": "code",
   "execution_count": 7,
   "metadata": {},
   "outputs": [
    {
     "name": "stdout",
     "output_type": "stream",
     "text": [
      "ERROR! Session/line number was not unique in database. History logging moved to new session 118\n"
     ]
    }
   ],
   "source": [
    "import pandas as pd\n",
    "import matplotlib.pyplot as plt\n",
    "import seaborn as sbn\n",
    "from datetime import datetime\n",
    "\n",
    "\n",
    "from data_read import load_data_into_dataframe\n",
    "\n",
    "#enable IPython to display matplolib graphs\n",
    "%matplotlib inline\n"
   ]
  },
  {
   "cell_type": "code",
   "execution_count": 3,
   "metadata": {},
   "outputs": [
    {
     "data": {
      "text/html": [
       "<div>\n",
       "<style scoped>\n",
       "    .dataframe tbody tr th:only-of-type {\n",
       "        vertical-align: middle;\n",
       "    }\n",
       "\n",
       "    .dataframe tbody tr th {\n",
       "        vertical-align: top;\n",
       "    }\n",
       "\n",
       "    .dataframe thead th {\n",
       "        text-align: right;\n",
       "    }\n",
       "</style>\n",
       "<table border=\"1\" class=\"dataframe\">\n",
       "  <thead>\n",
       "    <tr style=\"text-align: right;\">\n",
       "      <th></th>\n",
       "      <th>LCLid</th>\n",
       "      <th>day</th>\n",
       "      <th>energy_median</th>\n",
       "      <th>energy_mean</th>\n",
       "      <th>energy_max</th>\n",
       "      <th>energy_count</th>\n",
       "      <th>energy_std</th>\n",
       "      <th>energy_sum</th>\n",
       "      <th>energy_min</th>\n",
       "    </tr>\n",
       "  </thead>\n",
       "  <tbody>\n",
       "    <tr>\n",
       "      <th>0</th>\n",
       "      <td>MAC000239</td>\n",
       "      <td>2011-12-02</td>\n",
       "      <td>0.1665</td>\n",
       "      <td>0.177571</td>\n",
       "      <td>0.500</td>\n",
       "      <td>28</td>\n",
       "      <td>0.099961</td>\n",
       "      <td>4.972</td>\n",
       "      <td>0.055</td>\n",
       "    </tr>\n",
       "    <tr>\n",
       "      <th>1</th>\n",
       "      <td>MAC000239</td>\n",
       "      <td>2011-12-03</td>\n",
       "      <td>0.1000</td>\n",
       "      <td>0.146417</td>\n",
       "      <td>0.632</td>\n",
       "      <td>48</td>\n",
       "      <td>0.119502</td>\n",
       "      <td>7.028</td>\n",
       "      <td>0.025</td>\n",
       "    </tr>\n",
       "    <tr>\n",
       "      <th>2</th>\n",
       "      <td>MAC000239</td>\n",
       "      <td>2011-12-04</td>\n",
       "      <td>0.0835</td>\n",
       "      <td>0.133646</td>\n",
       "      <td>0.685</td>\n",
       "      <td>48</td>\n",
       "      <td>0.120006</td>\n",
       "      <td>6.415</td>\n",
       "      <td>0.024</td>\n",
       "    </tr>\n",
       "    <tr>\n",
       "      <th>3</th>\n",
       "      <td>MAC000239</td>\n",
       "      <td>2011-12-05</td>\n",
       "      <td>0.0870</td>\n",
       "      <td>0.135646</td>\n",
       "      <td>0.685</td>\n",
       "      <td>48</td>\n",
       "      <td>0.123517</td>\n",
       "      <td>6.511</td>\n",
       "      <td>0.017</td>\n",
       "    </tr>\n",
       "    <tr>\n",
       "      <th>4</th>\n",
       "      <td>MAC000239</td>\n",
       "      <td>2011-12-06</td>\n",
       "      <td>0.1175</td>\n",
       "      <td>0.145708</td>\n",
       "      <td>0.778</td>\n",
       "      <td>48</td>\n",
       "      <td>0.139207</td>\n",
       "      <td>6.994</td>\n",
       "      <td>0.027</td>\n",
       "    </tr>\n",
       "  </tbody>\n",
       "</table>\n",
       "</div>"
      ],
      "text/plain": [
       "       LCLid         day  energy_median  energy_mean  energy_max  \\\n",
       "0  MAC000239  2011-12-02         0.1665     0.177571       0.500   \n",
       "1  MAC000239  2011-12-03         0.1000     0.146417       0.632   \n",
       "2  MAC000239  2011-12-04         0.0835     0.133646       0.685   \n",
       "3  MAC000239  2011-12-05         0.0870     0.135646       0.685   \n",
       "4  MAC000239  2011-12-06         0.1175     0.145708       0.778   \n",
       "\n",
       "   energy_count  energy_std  energy_sum  energy_min  \n",
       "0            28    0.099961       4.972       0.055  \n",
       "1            48    0.119502       7.028       0.025  \n",
       "2            48    0.120006       6.415       0.024  \n",
       "3            48    0.123517       6.511       0.017  \n",
       "4            48    0.139207       6.994       0.027  "
      ]
     },
     "execution_count": 3,
     "metadata": {},
     "output_type": "execute_result"
    }
   ],
   "source": [
    "    df = load_data_into_dataframe(\"daily\")\n",
    "    df.head()"
   ]
  },
  {
   "cell_type": "code",
   "execution_count": 4,
   "metadata": {},
   "outputs": [
    {
     "data": {
      "text/plain": [
       "Index(['LCLid', 'day', 'energy_median', 'energy_mean', 'energy_max',\n",
       "       'energy_count', 'energy_std', 'energy_sum', 'energy_min'],\n",
       "      dtype='object')"
      ]
     },
     "execution_count": 4,
     "metadata": {},
     "output_type": "execute_result"
    }
   ],
   "source": [
    "df.columns"
   ]
  },
  {
   "cell_type": "code",
   "execution_count": 5,
   "metadata": {},
   "outputs": [
    {
     "data": {
      "text/plain": [
       "(3510433, 9)"
      ]
     },
     "execution_count": 5,
     "metadata": {},
     "output_type": "execute_result"
    }
   ],
   "source": [
    "df.shape"
   ]
  },
  {
   "cell_type": "code",
   "execution_count": 6,
   "metadata": {},
   "outputs": [],
   "source": [
    "#A heat map of correlation may give us a understanding of which variables are important\n",
    "def plot_correlation_map(df):\n",
    "    corr = df.corr()\n",
    "    _ , ax = plt.subplots( figsize =( 12 , 10 ) )\n",
    "    cmap = sbn.diverging_palette( 220 , 10 , as_cmap = True )\n",
    "    _ = sbn.heatmap(corr, cmap = cmap, square=True, cbar_kws={ 'shrink' : .9 }, ax=ax, annot = True, annot_kws = { 'fontsize' : 12 })\n",
    "\n",
    "def plot_distribution( df , var , target , **kwargs ):\n",
    "    row = kwargs.get( 'row' , None )\n",
    "    col = kwargs.get( 'col' , None )\n",
    "    facet = sbn.FacetGrid( df , hue=target , aspect=4 , row = row , col = col )\n",
    "    facet.map( sbn.kdeplot , var , shade= True )\n",
    "    facet.set( xlim=( 0 , df[ var ].max() ) )\n",
    "    facet.add_legend()\n",
    "\n"
   ]
  },
  {
   "cell_type": "code",
   "execution_count": 8,
   "metadata": {},
   "outputs": [
    {
     "data": {
      "image/png": "[encoded data removed]",
      "text/plain": [
       "<Figure size 864x720 with 2 Axes>"
      ]
     },
     "metadata": {
      "needs_background": "light"
     },
     "output_type": "display_data"
    }
   ],
   "source": [
    "plot_correlation_map(df)"
   ]
  },
  {
   "cell_type": "code",
   "execution_count": 11,
   "metadata": {},
   "outputs": [],
   "source": [
    "affluenthh_filt = df[\"LCLid\"] == \"MAC000002\""
   ]
  },
  {
   "cell_type": "code",
   "execution_count": 13,
   "metadata": {},
   "outputs": [
    {
     "name": "stdout",
     "output_type": "stream",
     "text": [
      "ERROR! Session/line number was not unique in database. History logging moved to new session 127\n"
     ]
    }
   ],
   "source": [
    "affluent_hh_data = df[affluenthh_filt]"
   ]
  },
  {
   "cell_type": "code",
   "execution_count": 14,
   "metadata": {},
   "outputs": [
    {
     "data": {
      "text/plain": [
       "<bound method NDFrame.describe of          LCLid         day  energy_median  energy_mean  energy_max  \\\n",
       "0    MAC000002  2012-10-12         0.1385     0.154304       0.886   \n",
       "1    MAC000002  2012-10-13         0.1800     0.230979       0.933   \n",
       "2    MAC000002  2012-10-14         0.1580     0.275479       1.085   \n",
       "3    MAC000002  2012-10-15         0.1310     0.213688       1.164   \n",
       "4    MAC000002  2012-10-16         0.1450     0.203521       0.991   \n",
       "..         ...         ...            ...          ...         ...   \n",
       "500  MAC000002  2014-02-24         0.1345     0.261000       0.891   \n",
       "501  MAC000002  2014-02-25         0.1925     0.246375       0.802   \n",
       "502  MAC000002  2014-02-26         0.1515     0.256833       1.028   \n",
       "503  MAC000002  2014-02-27         0.2180     0.427458       1.350   \n",
       "504  MAC000002  2014-02-28         1.3870     1.387000       1.387   \n",
       "\n",
       "     energy_count  energy_std  energy_sum  energy_min  \n",
       "0              46    0.196034       7.098       0.000  \n",
       "1              48    0.192329      11.087       0.076  \n",
       "2              48    0.274647      13.223       0.070  \n",
       "3              48    0.224483      10.257       0.070  \n",
       "4              48    0.184115       9.769       0.087  \n",
       "..            ...         ...         ...         ...  \n",
       "500            48    0.205853      12.528       0.075  \n",
       "501            48    0.166291      11.826       0.075  \n",
       "502            48    0.196095      12.328       0.076  \n",
       "503            48    0.406681      20.518       0.080  \n",
       "504             1         NaN       1.387       1.387  \n",
       "\n",
       "[505 rows x 9 columns]>"
      ]
     },
     "execution_count": 14,
     "metadata": {},
     "output_type": "execute_result"
    }
   ],
   "source": [
    "affluent_hh_data.describe"
   ]
  },
  {
   "cell_type": "code",
   "execution_count": 16,
   "metadata": {},
   "outputs": [
    {
     "data": {
      "text/html": [
       "<div>\n",
       "<style scoped>\n",
       "    .dataframe tbody tr th:only-of-type {\n",
       "        vertical-align: middle;\n",
       "    }\n",
       "\n",
       "    .dataframe tbody tr th {\n",
       "        vertical-align: top;\n",
       "    }\n",
       "\n",
       "    .dataframe thead th {\n",
       "        text-align: right;\n",
       "    }\n",
       "</style>\n",
       "<table border=\"1\" class=\"dataframe\">\n",
       "  <thead>\n",
       "    <tr style=\"text-align: right;\">\n",
       "      <th></th>\n",
       "      <th>day</th>\n",
       "      <th>energy_mean</th>\n",
       "    </tr>\n",
       "  </thead>\n",
       "  <tbody>\n",
       "    <tr>\n",
       "      <th>0</th>\n",
       "      <td>2012-10-12</td>\n",
       "      <td>0.154304</td>\n",
       "    </tr>\n",
       "    <tr>\n",
       "      <th>1</th>\n",
       "      <td>2012-10-13</td>\n",
       "      <td>0.230979</td>\n",
       "    </tr>\n",
       "    <tr>\n",
       "      <th>2</th>\n",
       "      <td>2012-10-14</td>\n",
       "      <td>0.275479</td>\n",
       "    </tr>\n",
       "    <tr>\n",
       "      <th>3</th>\n",
       "      <td>2012-10-15</td>\n",
       "      <td>0.213688</td>\n",
       "    </tr>\n",
       "    <tr>\n",
       "      <th>4</th>\n",
       "      <td>2012-10-16</td>\n",
       "      <td>0.203521</td>\n",
       "    </tr>\n",
       "    <tr>\n",
       "      <th>...</th>\n",
       "      <td>...</td>\n",
       "      <td>...</td>\n",
       "    </tr>\n",
       "    <tr>\n",
       "      <th>500</th>\n",
       "      <td>2014-02-24</td>\n",
       "      <td>0.261000</td>\n",
       "    </tr>\n",
       "    <tr>\n",
       "      <th>501</th>\n",
       "      <td>2014-02-25</td>\n",
       "      <td>0.246375</td>\n",
       "    </tr>\n",
       "    <tr>\n",
       "      <th>502</th>\n",
       "      <td>2014-02-26</td>\n",
       "      <td>0.256833</td>\n",
       "    </tr>\n",
       "    <tr>\n",
       "      <th>503</th>\n",
       "      <td>2014-02-27</td>\n",
       "      <td>0.427458</td>\n",
       "    </tr>\n",
       "    <tr>\n",
       "      <th>504</th>\n",
       "      <td>2014-02-28</td>\n",
       "      <td>1.387000</td>\n",
       "    </tr>\n",
       "  </tbody>\n",
       "</table>\n",
       "<p>505 rows × 2 columns</p>\n",
       "</div>"
      ],
      "text/plain": [
       "            day  energy_mean\n",
       "0    2012-10-12     0.154304\n",
       "1    2012-10-13     0.230979\n",
       "2    2012-10-14     0.275479\n",
       "3    2012-10-15     0.213688\n",
       "4    2012-10-16     0.203521\n",
       "..          ...          ...\n",
       "500  2014-02-24     0.261000\n",
       "501  2014-02-25     0.246375\n",
       "502  2014-02-26     0.256833\n",
       "503  2014-02-27     0.427458\n",
       "504  2014-02-28     1.387000\n",
       "\n",
       "[505 rows x 2 columns]"
      ]
     },
     "execution_count": 16,
     "metadata": {},
     "output_type": "execute_result"
    }
   ],
   "source": [
    "affluent_hh_data[[\"day\", \"energy_mean\"]]"
   ]
  },
  {
   "cell_type": "code",
   "execution_count": null,
   "metadata": {},
   "outputs": [],
   "source": []
  }
 ],
 "metadata": {
  "kernelspec": {
   "display_name": "Python 3.8.10 64-bit",
   "language": "python",
   "name": "python3810jvsc74a57bd031f2aee4e71d21fbe5cf8b01ff0e069b9275f58929596ceb00d14d90e3e16cd6"
  },
  "language_info": {
   "codemirror_mode": {
    "name": "ipython",
    "version": 3
   },
   "file_extension": ".py",
   "mimetype": "text/x-python",
   "name": "python",
   "nbconvert_exporter": "python",
   "pygments_lexer": "ipython3",
   "version": "3.8.10"
  }
 },
 "nbformat": 4,
 "nbformat_minor": 4
}
