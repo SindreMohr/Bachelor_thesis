{
 "cells": [
  {
   "cell_type": "code",
   "execution_count": 53,
   "metadata": {},
   "outputs": [],
   "source": [
    "import pandas as pd\n",
    "import numpy as np\n",
    "import matplotlib as plt\n",
    "from datetime import datetime\n",
    "\n",
    "\n",
    "# Deep learning packages\n",
    "from keras.models import Sequential\n",
    "from keras.layers import LSTM, Dense\n"
   ]
  },
  {
   "cell_type": "code",
   "execution_count": 54,
   "metadata": {},
   "outputs": [],
   "source": [
    "df = pd.read_csv('./data/ouput.csv')"
   ]
  },
  {
   "cell_type": "code",
   "execution_count": 55,
   "metadata": {},
   "outputs": [
    {
     "data": {
      "text/html": [
       "<div>\n",
       "<style scoped>\n",
       "    .dataframe tbody tr th:only-of-type {\n",
       "        vertical-align: middle;\n",
       "    }\n",
       "\n",
       "    .dataframe tbody tr th {\n",
       "        vertical-align: top;\n",
       "    }\n",
       "\n",
       "    .dataframe thead th {\n",
       "        text-align: right;\n",
       "    }\n",
       "</style>\n",
       "<table border=\"1\" class=\"dataframe\">\n",
       "  <thead>\n",
       "    <tr style=\"text-align: right;\">\n",
       "      <th></th>\n",
       "      <th>LCLid</th>\n",
       "      <th>tstp</th>\n",
       "      <th>energy(kWh/hh)</th>\n",
       "    </tr>\n",
       "  </thead>\n",
       "  <tbody>\n",
       "    <tr>\n",
       "      <th>0</th>\n",
       "      <td>MAC000168</td>\n",
       "      <td>2011-11-24 13:30:00</td>\n",
       "      <td>0.054</td>\n",
       "    </tr>\n",
       "    <tr>\n",
       "      <th>1</th>\n",
       "      <td>MAC000168</td>\n",
       "      <td>2011-11-24 14:00:00</td>\n",
       "      <td>0.178</td>\n",
       "    </tr>\n",
       "    <tr>\n",
       "      <th>2</th>\n",
       "      <td>MAC000168</td>\n",
       "      <td>2011-11-24 14:30:00</td>\n",
       "      <td>0.113</td>\n",
       "    </tr>\n",
       "    <tr>\n",
       "      <th>3</th>\n",
       "      <td>MAC000168</td>\n",
       "      <td>2011-11-24 15:00:00</td>\n",
       "      <td>0.068</td>\n",
       "    </tr>\n",
       "    <tr>\n",
       "      <th>4</th>\n",
       "      <td>MAC000168</td>\n",
       "      <td>2011-11-24 15:30:00</td>\n",
       "      <td>0.061</td>\n",
       "    </tr>\n",
       "  </tbody>\n",
       "</table>\n",
       "</div>"
      ],
      "text/plain": [
       "       LCLid                 tstp energy(kWh/hh)\n",
       "0  MAC000168  2011-11-24 13:30:00         0.054 \n",
       "1  MAC000168  2011-11-24 14:00:00         0.178 \n",
       "2  MAC000168  2011-11-24 14:30:00         0.113 \n",
       "3  MAC000168  2011-11-24 15:00:00         0.068 \n",
       "4  MAC000168  2011-11-24 15:30:00         0.061 "
      ]
     },
     "execution_count": 55,
     "metadata": {},
     "output_type": "execute_result"
    }
   ],
   "source": [
    "df.head()"
   ]
  },
  {
   "cell_type": "code",
   "execution_count": 56,
   "metadata": {},
   "outputs": [
    {
     "data": {
      "text/plain": [
       "(396562, 3)"
      ]
     },
     "execution_count": 56,
     "metadata": {},
     "output_type": "execute_result"
    }
   ],
   "source": [
    "df.shape"
   ]
  },
  {
   "cell_type": "code",
   "execution_count": 57,
   "metadata": {},
   "outputs": [],
   "source": [
    "df['tstp'] = [datetime.strptime(x, '%Y-%m-%d %H:%M:%S').timestamp() for x in df['tstp']]\n"
   ]
  },
  {
   "cell_type": "code",
   "execution_count": 58,
   "metadata": {},
   "outputs": [],
   "source": [
    "# Sorting the values\n",
    "df.sort_values('tstp', inplace=True)"
   ]
  },
  {
   "cell_type": "code",
   "execution_count": 59,
   "metadata": {},
   "outputs": [
    {
     "data": {
      "text/html": [
       "<div>\n",
       "<style scoped>\n",
       "    .dataframe tbody tr th:only-of-type {\n",
       "        vertical-align: middle;\n",
       "    }\n",
       "\n",
       "    .dataframe tbody tr th {\n",
       "        vertical-align: top;\n",
       "    }\n",
       "\n",
       "    .dataframe thead th {\n",
       "        text-align: right;\n",
       "    }\n",
       "</style>\n",
       "<table border=\"1\" class=\"dataframe\">\n",
       "  <thead>\n",
       "    <tr style=\"text-align: right;\">\n",
       "      <th></th>\n",
       "      <th>LCLid</th>\n",
       "      <th>tstp</th>\n",
       "      <th>energy(kWh/hh)</th>\n",
       "    </tr>\n",
       "  </thead>\n",
       "  <tbody>\n",
       "    <tr>\n",
       "      <th>356842</th>\n",
       "      <td>MAC000150</td>\n",
       "      <td>1.322039e+09</td>\n",
       "      <td>0.301</td>\n",
       "    </tr>\n",
       "    <tr>\n",
       "      <th>356843</th>\n",
       "      <td>MAC000150</td>\n",
       "      <td>1.322041e+09</td>\n",
       "      <td>0.127</td>\n",
       "    </tr>\n",
       "    <tr>\n",
       "      <th>356844</th>\n",
       "      <td>MAC000150</td>\n",
       "      <td>1.322042e+09</td>\n",
       "      <td>0.201</td>\n",
       "    </tr>\n",
       "    <tr>\n",
       "      <th>356845</th>\n",
       "      <td>MAC000150</td>\n",
       "      <td>1.322044e+09</td>\n",
       "      <td>0.564</td>\n",
       "    </tr>\n",
       "    <tr>\n",
       "      <th>356846</th>\n",
       "      <td>MAC000150</td>\n",
       "      <td>1.322046e+09</td>\n",
       "      <td>0.159</td>\n",
       "    </tr>\n",
       "  </tbody>\n",
       "</table>\n",
       "</div>"
      ],
      "text/plain": [
       "            LCLid          tstp energy(kWh/hh)\n",
       "356842  MAC000150  1.322039e+09         0.301 \n",
       "356843  MAC000150  1.322041e+09         0.127 \n",
       "356844  MAC000150  1.322042e+09         0.201 \n",
       "356845  MAC000150  1.322044e+09         0.564 \n",
       "356846  MAC000150  1.322046e+09         0.159 "
      ]
     },
     "execution_count": 59,
     "metadata": {},
     "output_type": "execute_result"
    }
   ],
   "source": [
    "df.head()"
   ]
  },
  {
   "cell_type": "code",
   "execution_count": 60,
   "metadata": {},
   "outputs": [],
   "source": [
    "def create_X_Y(ts: list, lag: int) -> tuple:\n",
    "    \"\"\"\n",
    "    A method to create X and Y matrix from a time series list for the training of \n",
    "    deep learning models \n",
    "    \"\"\"\n",
    "\n",
    "    X, Y = [], []\n",
    "\n",
    "    if len(ts) - lag <= 0:\n",
    "        X.append(ts)\n",
    "    else:\n",
    "        for i in range(len(ts) - lag):\n",
    "            Y.append(ts[i + lag])\n",
    "            X.append(ts[i:(i + lag)])\n",
    "\n",
    "    X, Y = np.array(X), np.array(Y)\n",
    "\n",
    "    # Reshaping the X array to an LSTM input shape \n",
    "    X = np.reshape(X, (X.shape[0], X.shape[1], 1))\n",
    "\n",
    "    return X, Y"
   ]
  },
  {
   "cell_type": "code",
   "execution_count": 67,
   "metadata": {},
   "outputs": [
    {
     "name": "stdout",
     "output_type": "stream",
     "text": [
      "Model: \"sequential_15\"\n",
      "_________________________________________________________________\n",
      " Layer (type)                Output Shape              Param #   \n",
      "=================================================================\n",
      " lstm_15 (LSTM)              (None, 50)                10400     \n",
      "                                                                 \n",
      " dense_15 (Dense)            (None, 1)                 51        \n",
      "                                                                 \n",
      "=================================================================\n",
      "Total params: 10,451\n",
      "Trainable params: 10,451\n",
      "Non-trainable params: 0\n",
      "_________________________________________________________________\n"
     ]
    }
   ],
   "source": [
    "# Deep Learning (LSTM)\n",
    "\n",
    "# Defining the number of neurons in the LSTM layer\n",
    "n_layer = 50\n",
    "\n",
    "# Defining how many lags will be used in the time series\n",
    "n_lag = 3\n",
    "\n",
    "\n",
    "# Defining the model\n",
    "model = Sequential()\n",
    "model.add(LSTM(n_layer, activation='relu', input_shape=(n_lag, 1)))\n",
    "model.add(Dense(1))\n",
    "\n",
    "model.summary()\n",
    "\n",
    "# The objective functions which will be minimized is mean squared error (mse)\n",
    "model.compile(optimizer='adam', loss='mse')"
   ]
  },
  {
   "cell_type": "code",
   "execution_count": 62,
   "metadata": {},
   "outputs": [],
   "source": [
    "class DeepModelTS():\n",
    "    \"\"\"\n",
    "    A class to create a deep time series model\n",
    "    \"\"\"\n",
    "\n",
    "    def __init__(self, data: pd.DataFrame, Y_var: str, lag: int, LSTM_layer_depth: int, epochs=10, batch_size=256, train_test_split=0):\n",
    "        self.data = data \n",
    "        self.Y_var = Y_var \n",
    "        self.lag = lag \n",
    "        self.LSTM_layer_depth = LSTM_layer_depth\n",
    "        self.batch_size = batch_size\n",
    "        self.epochs = epochs\n",
    "        self.train_test_split = train_test_split\n",
    "    \n",
    "    @staticmethod\n",
    "    def create_X_Y(ts: list, lag: int) -> tuple:\n",
    "        \"\"\"\n",
    "        A method to create X and Y matrix from a time series list for the training of \n",
    "        deep learning models \n",
    "        \"\"\"\n",
    "        X, Y = [], []\n",
    "\n",
    "        if len(ts) - lag <= 0:\n",
    "            X.append(ts)\n",
    "        else:\n",
    "            for i in range(len(ts) - lag):\n",
    "                Y.append(ts[i + lag])\n",
    "                X.append(ts[i:(i + lag)])\n",
    "\n",
    "        X, Y = np.array(X), np.array(Y)\n",
    "\n",
    "        # Reshaping the X array to an LSTM input shape \n",
    "        X = np.reshape(X, (X.shape[0], X.shape[1], 1))\n",
    "\n",
    "        return X, Y         \n",
    "\n",
    "    def create_data_for_NN(\n",
    "        self,\n",
    "        use_last_n=None\n",
    "        ):\n",
    "        \"\"\"\n",
    "        A method to create data for the neural network model\n",
    "        \"\"\"\n",
    "        # Extracting the main variable we want to model/forecast\n",
    "        y = self.data[self.Y_var].tolist()\n",
    "\n",
    "        # Subseting the time series if needed\n",
    "        if use_last_n is not None:\n",
    "            y = y[-use_last_n:]\n",
    "\n",
    "        # The X matrix will hold the lags of Y \n",
    "        X, Y = self.create_X_Y(y, self.lag)\n",
    "\n",
    "        # Creating training and test sets \n",
    "        X_train = X\n",
    "        X_test = []\n",
    "\n",
    "        Y_train = Y\n",
    "        Y_test = []\n",
    "\n",
    "        if self.train_test_split > 0:\n",
    "            index = round(len(X) * self.train_test_split)\n",
    "            X_train = X[:(len(X) - index)]\n",
    "            X_test = X[-index:]     \n",
    "            \n",
    "            Y_train = Y[:(len(X) - index)]\n",
    "            Y_test = Y[-index:]\n",
    "\n",
    "        return X_train, X_test, Y_train, Y_test\n",
    "\n",
    "    def LSTModel(self):\n",
    "        \"\"\"\n",
    "        A method to fit the LSTM model \n",
    "        \"\"\"\n",
    "        # Getting the data \n",
    "        X_train, X_test, Y_train, Y_test = self.create_data_for_NN()\n",
    "\n",
    "        # Defining the model\n",
    "        model = Sequential()\n",
    "        model.add(LSTM(self.LSTM_layer_depth, activation='relu', input_shape=(self.lag, 1)))\n",
    "        model.add(Dense(1))\n",
    "        model.compile(optimizer='adam', loss='mse')\n",
    "\n",
    "        # Defining the model parameter dict \n",
    "        keras_dict = {\n",
    "            'x': X_train,\n",
    "            'y': Y_train,\n",
    "            'batch_size': self.batch_size,\n",
    "            'epochs': self.epochs,\n",
    "            'shuffle': False\n",
    "        }\n",
    "\n",
    "        if self.train_test_split > 0:\n",
    "            keras_dict.update({\n",
    "                'validation_data': (X_test, Y_test)\n",
    "            })\n",
    "\n",
    "        # Fitting the model \n",
    "        model.fit(\n",
    "            **keras_dict\n",
    "        )\n",
    "\n",
    "        # Saving the model to the class \n",
    "        self.model = model\n",
    "\n",
    "        return model\n",
    "\n",
    "    def predict(self) -> list:\n",
    "        \"\"\"\n",
    "        A method to predict using the test data used in creating the class\n",
    "        \"\"\"\n",
    "        yhat = []\n",
    "\n",
    "        if(self.train_test_split > 0):\n",
    "        \n",
    "            # Getting the last n time series \n",
    "            _, X_test, _, _ = self.create_data_for_NN()        \n",
    "\n",
    "            # Making the prediction list \n",
    "            yhat = [y[0] for y in self.model.predict(X_test)]\n",
    "\n",
    "        return yhat\n",
    "\n",
    "    def predict_n_ahead(self, n_ahead: int):\n",
    "        \"\"\"\n",
    "        A method to predict n time steps ahead\n",
    "        \"\"\"    \n",
    "        X, _, _, _ = self.create_data_for_NN(use_last_n=self.lag)        \n",
    "\n",
    "        # Making the prediction list \n",
    "        yhat = []\n",
    "\n",
    "        for _ in range(n_ahead):\n",
    "            # Making the prediction\n",
    "            fc = self.model.predict(X)\n",
    "            yhat.append(fc)\n",
    "\n",
    "            # Creating a new input matrix for forecasting\n",
    "            X = np.append(X, fc)\n",
    "\n",
    "            # Ommiting the first variable\n",
    "            X = np.delete(X, 0)\n",
    "\n",
    "            # Reshaping for the next iteration\n",
    "            X = np.reshape(X, (1, len(X), 1))\n",
    "\n",
    "        return yhat    \n"
   ]
  },
  {
   "cell_type": "code",
   "execution_count": 63,
   "metadata": {},
   "outputs": [],
   "source": [
    "# Initiating the class\n",
    "deep_learner = DeepModelTS(\n",
    "data = df,\n",
    "Y_var = 'energy(kWh/hh)',\n",
    "lag = 6,\n",
    "LSTM_layer_depth = 50,\n",
    "epochs = 10,\n",
    "batch_size = 256,\n",
    "train_test_split = 0.15\n",
    ")\n"
   ]
  },
  {
   "cell_type": "code",
   "execution_count": 64,
   "metadata": {},
   "outputs": [
    {
     "name": "stdout",
     "output_type": "stream",
     "text": [
      "Epoch 1/10\n"
     ]
    },
    {
     "ename": "UnimplementedError",
     "evalue": "Graph execution error:\n\nDetected at node 'sequential_12/Cast' defined at (most recent call last):\n    File \"D:\\Python\\lib\\runpy.py\", line 196, in _run_module_as_main\n      return _run_code(code, main_globals, None,\n    File \"D:\\Python\\lib\\runpy.py\", line 86, in _run_code\n      exec(code, run_globals)\n    File \"d:\\OneDrive - Universitetet i Stavanger\\Bachelor_test\\.venv\\lib\\site-packages\\ipykernel_launcher.py\", line 16, in <module>\n      app.launch_new_instance()\n    File \"d:\\OneDrive - Universitetet i Stavanger\\Bachelor_test\\.venv\\lib\\site-packages\\traitlets\\config\\application.py\", line 846, in launch_instance\n      app.start()\n    File \"d:\\OneDrive - Universitetet i Stavanger\\Bachelor_test\\.venv\\lib\\site-packages\\ipykernel\\kernelapp.py\", line 677, in start\n      self.io_loop.start()\n    File \"d:\\OneDrive - Universitetet i Stavanger\\Bachelor_test\\.venv\\lib\\site-packages\\tornado\\platform\\asyncio.py\", line 199, in start\n      self.asyncio_loop.run_forever()\n    File \"D:\\Python\\lib\\asyncio\\base_events.py\", line 595, in run_forever\n      self._run_once()\n    File \"D:\\Python\\lib\\asyncio\\base_events.py\", line 1881, in _run_once\n      handle._run()\n    File \"D:\\Python\\lib\\asyncio\\events.py\", line 80, in _run\n      self._context.run(self._callback, *self._args)\n    File \"d:\\OneDrive - Universitetet i Stavanger\\Bachelor_test\\.venv\\lib\\site-packages\\ipykernel\\kernelbase.py\", line 461, in dispatch_queue\n      await self.process_one()\n    File \"d:\\OneDrive - Universitetet i Stavanger\\Bachelor_test\\.venv\\lib\\site-packages\\ipykernel\\kernelbase.py\", line 450, in process_one\n      await dispatch(*args)\n    File \"d:\\OneDrive - Universitetet i Stavanger\\Bachelor_test\\.venv\\lib\\site-packages\\ipykernel\\kernelbase.py\", line 357, in dispatch_shell\n      await result\n    File \"d:\\OneDrive - Universitetet i Stavanger\\Bachelor_test\\.venv\\lib\\site-packages\\ipykernel\\kernelbase.py\", line 652, in execute_request\n      reply_content = await reply_content\n    File \"d:\\OneDrive - Universitetet i Stavanger\\Bachelor_test\\.venv\\lib\\site-packages\\ipykernel\\ipkernel.py\", line 359, in do_execute\n      res = shell.run_cell(code, store_history=store_history, silent=silent)\n    File \"d:\\OneDrive - Universitetet i Stavanger\\Bachelor_test\\.venv\\lib\\site-packages\\ipykernel\\zmqshell.py\", line 532, in run_cell\n      return super().run_cell(*args, **kwargs)\n    File \"d:\\OneDrive - Universitetet i Stavanger\\Bachelor_test\\.venv\\lib\\site-packages\\IPython\\core\\interactiveshell.py\", line 2768, in run_cell\n      result = self._run_cell(\n    File \"d:\\OneDrive - Universitetet i Stavanger\\Bachelor_test\\.venv\\lib\\site-packages\\IPython\\core\\interactiveshell.py\", line 2814, in _run_cell\n      return runner(coro)\n    File \"d:\\OneDrive - Universitetet i Stavanger\\Bachelor_test\\.venv\\lib\\site-packages\\IPython\\core\\async_helpers.py\", line 129, in _pseudo_sync_runner\n      coro.send(None)\n    File \"d:\\OneDrive - Universitetet i Stavanger\\Bachelor_test\\.venv\\lib\\site-packages\\IPython\\core\\interactiveshell.py\", line 3012, in run_cell_async\n      has_raised = await self.run_ast_nodes(code_ast.body, cell_name,\n    File \"d:\\OneDrive - Universitetet i Stavanger\\Bachelor_test\\.venv\\lib\\site-packages\\IPython\\core\\interactiveshell.py\", line 3191, in run_ast_nodes\n      if await self.run_code(code, result, async_=asy):\n    File \"d:\\OneDrive - Universitetet i Stavanger\\Bachelor_test\\.venv\\lib\\site-packages\\IPython\\core\\interactiveshell.py\", line 3251, in run_code\n      exec(code_obj, self.user_global_ns, self.user_ns)\n    File \"C:\\Users\\denny\\AppData\\Local\\Temp\\ipykernel_11424\\2544786562.py\", line 3, in <module>\n      model = deep_learner.LSTModel()\n    File \"C:\\Users\\denny\\AppData\\Local\\Temp\\ipykernel_11424\\414824208.py\", line 99, in LSTModel\n      model.fit(\n    File \"d:\\OneDrive - Universitetet i Stavanger\\Bachelor_test\\.venv\\lib\\site-packages\\keras\\utils\\traceback_utils.py\", line 64, in error_handler\n      return fn(*args, **kwargs)\n    File \"d:\\OneDrive - Universitetet i Stavanger\\Bachelor_test\\.venv\\lib\\site-packages\\keras\\engine\\training.py\", line 1384, in fit\n      tmp_logs = self.train_function(iterator)\n    File \"d:\\OneDrive - Universitetet i Stavanger\\Bachelor_test\\.venv\\lib\\site-packages\\keras\\engine\\training.py\", line 1021, in train_function\n      return step_function(self, iterator)\n    File \"d:\\OneDrive - Universitetet i Stavanger\\Bachelor_test\\.venv\\lib\\site-packages\\keras\\engine\\training.py\", line 1010, in step_function\n      outputs = model.distribute_strategy.run(run_step, args=(data,))\n    File \"d:\\OneDrive - Universitetet i Stavanger\\Bachelor_test\\.venv\\lib\\site-packages\\keras\\engine\\training.py\", line 1000, in run_step\n      outputs = model.train_step(data)\n    File \"d:\\OneDrive - Universitetet i Stavanger\\Bachelor_test\\.venv\\lib\\site-packages\\keras\\engine\\training.py\", line 859, in train_step\n      y_pred = self(x, training=True)\n    File \"d:\\OneDrive - Universitetet i Stavanger\\Bachelor_test\\.venv\\lib\\site-packages\\keras\\utils\\traceback_utils.py\", line 64, in error_handler\n      return fn(*args, **kwargs)\n    File \"d:\\OneDrive - Universitetet i Stavanger\\Bachelor_test\\.venv\\lib\\site-packages\\keras\\engine\\base_layer.py\", line 1096, in __call__\n      outputs = call_fn(inputs, *args, **kwargs)\n    File \"d:\\OneDrive - Universitetet i Stavanger\\Bachelor_test\\.venv\\lib\\site-packages\\keras\\utils\\traceback_utils.py\", line 92, in error_handler\n      return fn(*args, **kwargs)\n    File \"d:\\OneDrive - Universitetet i Stavanger\\Bachelor_test\\.venv\\lib\\site-packages\\keras\\engine\\sequential.py\", line 374, in call\n      return super(Sequential, self).call(inputs, training=training, mask=mask)\n    File \"d:\\OneDrive - Universitetet i Stavanger\\Bachelor_test\\.venv\\lib\\site-packages\\keras\\engine\\functional.py\", line 451, in call\n      return self._run_internal_graph(\n    File \"d:\\OneDrive - Universitetet i Stavanger\\Bachelor_test\\.venv\\lib\\site-packages\\keras\\engine\\functional.py\", line 571, in _run_internal_graph\n      y = self._conform_to_reference_input(y, ref_input=x)\n    File \"d:\\OneDrive - Universitetet i Stavanger\\Bachelor_test\\.venv\\lib\\site-packages\\keras\\engine\\functional.py\", line 671, in _conform_to_reference_input\n      tensor = tf.cast(tensor, dtype=ref_input.dtype)\nNode: 'sequential_12/Cast'\nCast string to float is not supported\n\t [[{{node sequential_12/Cast}}]] [Op:__inference_train_function_12700]",
     "output_type": "error",
     "traceback": [
      "\u001b[1;31m---------------------------------------------------------------------------\u001b[0m",
      "\u001b[1;31mUnimplementedError\u001b[0m                        Traceback (most recent call last)",
      "\u001b[1;32md:\\OneDrive - Universitetet i Stavanger\\Bachelor_test\\LSTM model.ipynb Cell 12'\u001b[0m in \u001b[0;36m<module>\u001b[1;34m\u001b[0m\n\u001b[0;32m      <a href='vscode-notebook-cell:/d%3A/OneDrive%20-%20Universitetet%20i%20Stavanger/Bachelor_test/LSTM%20model.ipynb#ch0000015?line=0'>1</a>\u001b[0m \u001b[39m# Fitting the model\u001b[39;00m\n\u001b[1;32m----> <a href='vscode-notebook-cell:/d%3A/OneDrive%20-%20Universitetet%20i%20Stavanger/Bachelor_test/LSTM%20model.ipynb#ch0000015?line=2'>3</a>\u001b[0m model \u001b[39m=\u001b[39m deep_learner\u001b[39m.\u001b[39;49mLSTModel()\n",
      "\u001b[1;32md:\\OneDrive - Universitetet i Stavanger\\Bachelor_test\\LSTM model.ipynb Cell 10'\u001b[0m in \u001b[0;36mDeepModelTS.LSTModel\u001b[1;34m(self)\u001b[0m\n\u001b[0;32m     <a href='vscode-notebook-cell:/d%3A/OneDrive%20-%20Universitetet%20i%20Stavanger/Bachelor_test/LSTM%20model.ipynb#ch0000011?line=93'>94</a>\u001b[0m     keras_dict\u001b[39m.\u001b[39mupdate({\n\u001b[0;32m     <a href='vscode-notebook-cell:/d%3A/OneDrive%20-%20Universitetet%20i%20Stavanger/Bachelor_test/LSTM%20model.ipynb#ch0000011?line=94'>95</a>\u001b[0m         \u001b[39m'\u001b[39m\u001b[39mvalidation_data\u001b[39m\u001b[39m'\u001b[39m: (X_test, Y_test)\n\u001b[0;32m     <a href='vscode-notebook-cell:/d%3A/OneDrive%20-%20Universitetet%20i%20Stavanger/Bachelor_test/LSTM%20model.ipynb#ch0000011?line=95'>96</a>\u001b[0m     })\n\u001b[0;32m     <a href='vscode-notebook-cell:/d%3A/OneDrive%20-%20Universitetet%20i%20Stavanger/Bachelor_test/LSTM%20model.ipynb#ch0000011?line=97'>98</a>\u001b[0m \u001b[39m# Fitting the model \u001b[39;00m\n\u001b[1;32m---> <a href='vscode-notebook-cell:/d%3A/OneDrive%20-%20Universitetet%20i%20Stavanger/Bachelor_test/LSTM%20model.ipynb#ch0000011?line=98'>99</a>\u001b[0m model\u001b[39m.\u001b[39mfit(\n\u001b[0;32m    <a href='vscode-notebook-cell:/d%3A/OneDrive%20-%20Universitetet%20i%20Stavanger/Bachelor_test/LSTM%20model.ipynb#ch0000011?line=99'>100</a>\u001b[0m     \u001b[39m*\u001b[39m\u001b[39m*\u001b[39mkeras_dict\n\u001b[0;32m    <a href='vscode-notebook-cell:/d%3A/OneDrive%20-%20Universitetet%20i%20Stavanger/Bachelor_test/LSTM%20model.ipynb#ch0000011?line=100'>101</a>\u001b[0m )\n\u001b[0;32m    <a href='vscode-notebook-cell:/d%3A/OneDrive%20-%20Universitetet%20i%20Stavanger/Bachelor_test/LSTM%20model.ipynb#ch0000011?line=102'>103</a>\u001b[0m \u001b[39m# Saving the model to the class \u001b[39;00m\n\u001b[0;32m    <a href='vscode-notebook-cell:/d%3A/OneDrive%20-%20Universitetet%20i%20Stavanger/Bachelor_test/LSTM%20model.ipynb#ch0000011?line=103'>104</a>\u001b[0m \u001b[39mself\u001b[39m\u001b[39m.\u001b[39mmodel \u001b[39m=\u001b[39m model\n",
      "File \u001b[1;32md:\\OneDrive - Universitetet i Stavanger\\Bachelor_test\\.venv\\lib\\site-packages\\keras\\utils\\traceback_utils.py:67\u001b[0m, in \u001b[0;36mfilter_traceback.<locals>.error_handler\u001b[1;34m(*args, **kwargs)\u001b[0m\n\u001b[0;32m     <a href='file:///d%3A/OneDrive%20-%20Universitetet%20i%20Stavanger/Bachelor_test/.venv/lib/site-packages/keras/utils/traceback_utils.py?line=64'>65</a>\u001b[0m \u001b[39mexcept\u001b[39;00m \u001b[39mException\u001b[39;00m \u001b[39mas\u001b[39;00m e:  \u001b[39m# pylint: disable=broad-except\u001b[39;00m\n\u001b[0;32m     <a href='file:///d%3A/OneDrive%20-%20Universitetet%20i%20Stavanger/Bachelor_test/.venv/lib/site-packages/keras/utils/traceback_utils.py?line=65'>66</a>\u001b[0m   filtered_tb \u001b[39m=\u001b[39m _process_traceback_frames(e\u001b[39m.\u001b[39m__traceback__)\n\u001b[1;32m---> <a href='file:///d%3A/OneDrive%20-%20Universitetet%20i%20Stavanger/Bachelor_test/.venv/lib/site-packages/keras/utils/traceback_utils.py?line=66'>67</a>\u001b[0m   \u001b[39mraise\u001b[39;00m e\u001b[39m.\u001b[39mwith_traceback(filtered_tb) \u001b[39mfrom\u001b[39;00m \u001b[39mNone\u001b[39m\n\u001b[0;32m     <a href='file:///d%3A/OneDrive%20-%20Universitetet%20i%20Stavanger/Bachelor_test/.venv/lib/site-packages/keras/utils/traceback_utils.py?line=67'>68</a>\u001b[0m \u001b[39mfinally\u001b[39;00m:\n\u001b[0;32m     <a href='file:///d%3A/OneDrive%20-%20Universitetet%20i%20Stavanger/Bachelor_test/.venv/lib/site-packages/keras/utils/traceback_utils.py?line=68'>69</a>\u001b[0m   \u001b[39mdel\u001b[39;00m filtered_tb\n",
      "File \u001b[1;32md:\\OneDrive - Universitetet i Stavanger\\Bachelor_test\\.venv\\lib\\site-packages\\tensorflow\\python\\eager\\execute.py:54\u001b[0m, in \u001b[0;36mquick_execute\u001b[1;34m(op_name, num_outputs, inputs, attrs, ctx, name)\u001b[0m\n\u001b[0;32m     <a href='file:///d%3A/OneDrive%20-%20Universitetet%20i%20Stavanger/Bachelor_test/.venv/lib/site-packages/tensorflow/python/eager/execute.py?line=51'>52</a>\u001b[0m \u001b[39mtry\u001b[39;00m:\n\u001b[0;32m     <a href='file:///d%3A/OneDrive%20-%20Universitetet%20i%20Stavanger/Bachelor_test/.venv/lib/site-packages/tensorflow/python/eager/execute.py?line=52'>53</a>\u001b[0m   ctx\u001b[39m.\u001b[39mensure_initialized()\n\u001b[1;32m---> <a href='file:///d%3A/OneDrive%20-%20Universitetet%20i%20Stavanger/Bachelor_test/.venv/lib/site-packages/tensorflow/python/eager/execute.py?line=53'>54</a>\u001b[0m   tensors \u001b[39m=\u001b[39m pywrap_tfe\u001b[39m.\u001b[39mTFE_Py_Execute(ctx\u001b[39m.\u001b[39m_handle, device_name, op_name,\n\u001b[0;32m     <a href='file:///d%3A/OneDrive%20-%20Universitetet%20i%20Stavanger/Bachelor_test/.venv/lib/site-packages/tensorflow/python/eager/execute.py?line=54'>55</a>\u001b[0m                                       inputs, attrs, num_outputs)\n\u001b[0;32m     <a href='file:///d%3A/OneDrive%20-%20Universitetet%20i%20Stavanger/Bachelor_test/.venv/lib/site-packages/tensorflow/python/eager/execute.py?line=55'>56</a>\u001b[0m \u001b[39mexcept\u001b[39;00m core\u001b[39m.\u001b[39m_NotOkStatusException \u001b[39mas\u001b[39;00m e:\n\u001b[0;32m     <a href='file:///d%3A/OneDrive%20-%20Universitetet%20i%20Stavanger/Bachelor_test/.venv/lib/site-packages/tensorflow/python/eager/execute.py?line=56'>57</a>\u001b[0m   \u001b[39mif\u001b[39;00m name \u001b[39mis\u001b[39;00m \u001b[39mnot\u001b[39;00m \u001b[39mNone\u001b[39;00m:\n",
      "\u001b[1;31mUnimplementedError\u001b[0m: Graph execution error:\n\nDetected at node 'sequential_12/Cast' defined at (most recent call last):\n    File \"D:\\Python\\lib\\runpy.py\", line 196, in _run_module_as_main\n      return _run_code(code, main_globals, None,\n    File \"D:\\Python\\lib\\runpy.py\", line 86, in _run_code\n      exec(code, run_globals)\n    File \"d:\\OneDrive - Universitetet i Stavanger\\Bachelor_test\\.venv\\lib\\site-packages\\ipykernel_launcher.py\", line 16, in <module>\n      app.launch_new_instance()\n    File \"d:\\OneDrive - Universitetet i Stavanger\\Bachelor_test\\.venv\\lib\\site-packages\\traitlets\\config\\application.py\", line 846, in launch_instance\n      app.start()\n    File \"d:\\OneDrive - Universitetet i Stavanger\\Bachelor_test\\.venv\\lib\\site-packages\\ipykernel\\kernelapp.py\", line 677, in start\n      self.io_loop.start()\n    File \"d:\\OneDrive - Universitetet i Stavanger\\Bachelor_test\\.venv\\lib\\site-packages\\tornado\\platform\\asyncio.py\", line 199, in start\n      self.asyncio_loop.run_forever()\n    File \"D:\\Python\\lib\\asyncio\\base_events.py\", line 595, in run_forever\n      self._run_once()\n    File \"D:\\Python\\lib\\asyncio\\base_events.py\", line 1881, in _run_once\n      handle._run()\n    File \"D:\\Python\\lib\\asyncio\\events.py\", line 80, in _run\n      self._context.run(self._callback, *self._args)\n    File \"d:\\OneDrive - Universitetet i Stavanger\\Bachelor_test\\.venv\\lib\\site-packages\\ipykernel\\kernelbase.py\", line 461, in dispatch_queue\n      await self.process_one()\n    File \"d:\\OneDrive - Universitetet i Stavanger\\Bachelor_test\\.venv\\lib\\site-packages\\ipykernel\\kernelbase.py\", line 450, in process_one\n      await dispatch(*args)\n    File \"d:\\OneDrive - Universitetet i Stavanger\\Bachelor_test\\.venv\\lib\\site-packages\\ipykernel\\kernelbase.py\", line 357, in dispatch_shell\n      await result\n    File \"d:\\OneDrive - Universitetet i Stavanger\\Bachelor_test\\.venv\\lib\\site-packages\\ipykernel\\kernelbase.py\", line 652, in execute_request\n      reply_content = await reply_content\n    File \"d:\\OneDrive - Universitetet i Stavanger\\Bachelor_test\\.venv\\lib\\site-packages\\ipykernel\\ipkernel.py\", line 359, in do_execute\n      res = shell.run_cell(code, store_history=store_history, silent=silent)\n    File \"d:\\OneDrive - Universitetet i Stavanger\\Bachelor_test\\.venv\\lib\\site-packages\\ipykernel\\zmqshell.py\", line 532, in run_cell\n      return super().run_cell(*args, **kwargs)\n    File \"d:\\OneDrive - Universitetet i Stavanger\\Bachelor_test\\.venv\\lib\\site-packages\\IPython\\core\\interactiveshell.py\", line 2768, in run_cell\n      result = self._run_cell(\n    File \"d:\\OneDrive - Universitetet i Stavanger\\Bachelor_test\\.venv\\lib\\site-packages\\IPython\\core\\interactiveshell.py\", line 2814, in _run_cell\n      return runner(coro)\n    File \"d:\\OneDrive - Universitetet i Stavanger\\Bachelor_test\\.venv\\lib\\site-packages\\IPython\\core\\async_helpers.py\", line 129, in _pseudo_sync_runner\n      coro.send(None)\n    File \"d:\\OneDrive - Universitetet i Stavanger\\Bachelor_test\\.venv\\lib\\site-packages\\IPython\\core\\interactiveshell.py\", line 3012, in run_cell_async\n      has_raised = await self.run_ast_nodes(code_ast.body, cell_name,\n    File \"d:\\OneDrive - Universitetet i Stavanger\\Bachelor_test\\.venv\\lib\\site-packages\\IPython\\core\\interactiveshell.py\", line 3191, in run_ast_nodes\n      if await self.run_code(code, result, async_=asy):\n    File \"d:\\OneDrive - Universitetet i Stavanger\\Bachelor_test\\.venv\\lib\\site-packages\\IPython\\core\\interactiveshell.py\", line 3251, in run_code\n      exec(code_obj, self.user_global_ns, self.user_ns)\n    File \"C:\\Users\\denny\\AppData\\Local\\Temp\\ipykernel_11424\\2544786562.py\", line 3, in <module>\n      model = deep_learner.LSTModel()\n    File \"C:\\Users\\denny\\AppData\\Local\\Temp\\ipykernel_11424\\414824208.py\", line 99, in LSTModel\n      model.fit(\n    File \"d:\\OneDrive - Universitetet i Stavanger\\Bachelor_test\\.venv\\lib\\site-packages\\keras\\utils\\traceback_utils.py\", line 64, in error_handler\n      return fn(*args, **kwargs)\n    File \"d:\\OneDrive - Universitetet i Stavanger\\Bachelor_test\\.venv\\lib\\site-packages\\keras\\engine\\training.py\", line 1384, in fit\n      tmp_logs = self.train_function(iterator)\n    File \"d:\\OneDrive - Universitetet i Stavanger\\Bachelor_test\\.venv\\lib\\site-packages\\keras\\engine\\training.py\", line 1021, in train_function\n      return step_function(self, iterator)\n    File \"d:\\OneDrive - Universitetet i Stavanger\\Bachelor_test\\.venv\\lib\\site-packages\\keras\\engine\\training.py\", line 1010, in step_function\n      outputs = model.distribute_strategy.run(run_step, args=(data,))\n    File \"d:\\OneDrive - Universitetet i Stavanger\\Bachelor_test\\.venv\\lib\\site-packages\\keras\\engine\\training.py\", line 1000, in run_step\n      outputs = model.train_step(data)\n    File \"d:\\OneDrive - Universitetet i Stavanger\\Bachelor_test\\.venv\\lib\\site-packages\\keras\\engine\\training.py\", line 859, in train_step\n      y_pred = self(x, training=True)\n    File \"d:\\OneDrive - Universitetet i Stavanger\\Bachelor_test\\.venv\\lib\\site-packages\\keras\\utils\\traceback_utils.py\", line 64, in error_handler\n      return fn(*args, **kwargs)\n    File \"d:\\OneDrive - Universitetet i Stavanger\\Bachelor_test\\.venv\\lib\\site-packages\\keras\\engine\\base_layer.py\", line 1096, in __call__\n      outputs = call_fn(inputs, *args, **kwargs)\n    File \"d:\\OneDrive - Universitetet i Stavanger\\Bachelor_test\\.venv\\lib\\site-packages\\keras\\utils\\traceback_utils.py\", line 92, in error_handler\n      return fn(*args, **kwargs)\n    File \"d:\\OneDrive - Universitetet i Stavanger\\Bachelor_test\\.venv\\lib\\site-packages\\keras\\engine\\sequential.py\", line 374, in call\n      return super(Sequential, self).call(inputs, training=training, mask=mask)\n    File \"d:\\OneDrive - Universitetet i Stavanger\\Bachelor_test\\.venv\\lib\\site-packages\\keras\\engine\\functional.py\", line 451, in call\n      return self._run_internal_graph(\n    File \"d:\\OneDrive - Universitetet i Stavanger\\Bachelor_test\\.venv\\lib\\site-packages\\keras\\engine\\functional.py\", line 571, in _run_internal_graph\n      y = self._conform_to_reference_input(y, ref_input=x)\n    File \"d:\\OneDrive - Universitetet i Stavanger\\Bachelor_test\\.venv\\lib\\site-packages\\keras\\engine\\functional.py\", line 671, in _conform_to_reference_input\n      tensor = tf.cast(tensor, dtype=ref_input.dtype)\nNode: 'sequential_12/Cast'\nCast string to float is not supported\n\t [[{{node sequential_12/Cast}}]] [Op:__inference_train_function_12700]"
     ]
    }
   ],
   "source": [
    "# Fitting the model\n",
    "\n",
    "model = deep_learner.LSTModel()"
   ]
  },
  {
   "cell_type": "code",
   "execution_count": null,
   "metadata": {},
   "outputs": [
    {
     "ename": "KeyError",
     "evalue": "'energy(kWh/hh)'",
     "output_type": "error",
     "traceback": [
      "\u001b[1;31m---------------------------------------------------------------------------\u001b[0m",
      "\u001b[1;31mKeyError\u001b[0m                                  Traceback (most recent call last)",
      "File \u001b[1;32md:\\OneDrive - Universitetet i Stavanger\\Bachelor_test\\.venv\\lib\\site-packages\\pandas\\core\\indexes\\base.py:3621\u001b[0m, in \u001b[0;36mIndex.get_loc\u001b[1;34m(self, key, method, tolerance)\u001b[0m\n\u001b[0;32m   <a href='file:///d%3A/OneDrive%20-%20Universitetet%20i%20Stavanger/Bachelor_test/.venv/lib/site-packages/pandas/core/indexes/base.py?line=3619'>3620</a>\u001b[0m \u001b[39mtry\u001b[39;00m:\n\u001b[1;32m-> <a href='file:///d%3A/OneDrive%20-%20Universitetet%20i%20Stavanger/Bachelor_test/.venv/lib/site-packages/pandas/core/indexes/base.py?line=3620'>3621</a>\u001b[0m     \u001b[39mreturn\u001b[39;00m \u001b[39mself\u001b[39;49m\u001b[39m.\u001b[39;49m_engine\u001b[39m.\u001b[39;49mget_loc(casted_key)\n\u001b[0;32m   <a href='file:///d%3A/OneDrive%20-%20Universitetet%20i%20Stavanger/Bachelor_test/.venv/lib/site-packages/pandas/core/indexes/base.py?line=3621'>3622</a>\u001b[0m \u001b[39mexcept\u001b[39;00m \u001b[39mKeyError\u001b[39;00m \u001b[39mas\u001b[39;00m err:\n",
      "File \u001b[1;32md:\\OneDrive - Universitetet i Stavanger\\Bachelor_test\\.venv\\lib\\site-packages\\pandas\\_libs\\index.pyx:136\u001b[0m, in \u001b[0;36mpandas._libs.index.IndexEngine.get_loc\u001b[1;34m()\u001b[0m\n",
      "File \u001b[1;32md:\\OneDrive - Universitetet i Stavanger\\Bachelor_test\\.venv\\lib\\site-packages\\pandas\\_libs\\index.pyx:163\u001b[0m, in \u001b[0;36mpandas._libs.index.IndexEngine.get_loc\u001b[1;34m()\u001b[0m\n",
      "File \u001b[1;32mpandas\\_libs\\hashtable_class_helper.pxi:5198\u001b[0m, in \u001b[0;36mpandas._libs.hashtable.PyObjectHashTable.get_item\u001b[1;34m()\u001b[0m\n",
      "File \u001b[1;32mpandas\\_libs\\hashtable_class_helper.pxi:5206\u001b[0m, in \u001b[0;36mpandas._libs.hashtable.PyObjectHashTable.get_item\u001b[1;34m()\u001b[0m\n",
      "\u001b[1;31mKeyError\u001b[0m: 'energy(kWh/hh)'",
      "\nThe above exception was the direct cause of the following exception:\n",
      "\u001b[1;31mKeyError\u001b[0m                                  Traceback (most recent call last)",
      "\u001b[1;32md:\\OneDrive - Universitetet i Stavanger\\Bachelor_test\\Linear model.ipynb Cell 12'\u001b[0m in \u001b[0;36m<module>\u001b[1;34m\u001b[0m\n\u001b[0;32m      <a href='vscode-notebook-cell:/d%3A/OneDrive%20-%20Universitetet%20i%20Stavanger/Bachelor_test/Linear%20model.ipynb#ch0000013?line=1'>2</a>\u001b[0m lag_model \u001b[39m=\u001b[39m \u001b[39m12\u001b[39m\n\u001b[0;32m      <a href='vscode-notebook-cell:/d%3A/OneDrive%20-%20Universitetet%20i%20Stavanger/Bachelor_test/Linear%20model.ipynb#ch0000013?line=2'>3</a>\u001b[0m \u001b[39m# Getting the last period\u001b[39;00m\n\u001b[1;32m----> <a href='vscode-notebook-cell:/d%3A/OneDrive%20-%20Universitetet%20i%20Stavanger/Bachelor_test/Linear%20model.ipynb#ch0000013?line=3'>4</a>\u001b[0m ts \u001b[39m=\u001b[39m df[\u001b[39m'\u001b[39;49m\u001b[39menergy(kWh/hh)\u001b[39;49m\u001b[39m'\u001b[39;49m]\u001b[39m.\u001b[39mtail(lag_model)\u001b[39m.\u001b[39mvalues\u001b[39m.\u001b[39mtolist()\n\u001b[0;32m      <a href='vscode-notebook-cell:/d%3A/OneDrive%20-%20Universitetet%20i%20Stavanger/Bachelor_test/Linear%20model.ipynb#ch0000013?line=4'>5</a>\u001b[0m \u001b[39m# Creating the X matrix for the model\u001b[39;00m\n\u001b[0;32m      <a href='vscode-notebook-cell:/d%3A/OneDrive%20-%20Universitetet%20i%20Stavanger/Bachelor_test/Linear%20model.ipynb#ch0000013?line=5'>6</a>\u001b[0m X, _ \u001b[39m=\u001b[39m deep_learner\u001b[39m.\u001b[39mcreate_X_Y(ts, lag\u001b[39m=\u001b[39mlag_model)\n",
      "File \u001b[1;32md:\\OneDrive - Universitetet i Stavanger\\Bachelor_test\\.venv\\lib\\site-packages\\pandas\\core\\frame.py:3506\u001b[0m, in \u001b[0;36mDataFrame.__getitem__\u001b[1;34m(self, key)\u001b[0m\n\u001b[0;32m   <a href='file:///d%3A/OneDrive%20-%20Universitetet%20i%20Stavanger/Bachelor_test/.venv/lib/site-packages/pandas/core/frame.py?line=3503'>3504</a>\u001b[0m \u001b[39mif\u001b[39;00m \u001b[39mself\u001b[39m\u001b[39m.\u001b[39mcolumns\u001b[39m.\u001b[39mnlevels \u001b[39m>\u001b[39m \u001b[39m1\u001b[39m:\n\u001b[0;32m   <a href='file:///d%3A/OneDrive%20-%20Universitetet%20i%20Stavanger/Bachelor_test/.venv/lib/site-packages/pandas/core/frame.py?line=3504'>3505</a>\u001b[0m     \u001b[39mreturn\u001b[39;00m \u001b[39mself\u001b[39m\u001b[39m.\u001b[39m_getitem_multilevel(key)\n\u001b[1;32m-> <a href='file:///d%3A/OneDrive%20-%20Universitetet%20i%20Stavanger/Bachelor_test/.venv/lib/site-packages/pandas/core/frame.py?line=3505'>3506</a>\u001b[0m indexer \u001b[39m=\u001b[39m \u001b[39mself\u001b[39;49m\u001b[39m.\u001b[39;49mcolumns\u001b[39m.\u001b[39;49mget_loc(key)\n\u001b[0;32m   <a href='file:///d%3A/OneDrive%20-%20Universitetet%20i%20Stavanger/Bachelor_test/.venv/lib/site-packages/pandas/core/frame.py?line=3506'>3507</a>\u001b[0m \u001b[39mif\u001b[39;00m is_integer(indexer):\n\u001b[0;32m   <a href='file:///d%3A/OneDrive%20-%20Universitetet%20i%20Stavanger/Bachelor_test/.venv/lib/site-packages/pandas/core/frame.py?line=3507'>3508</a>\u001b[0m     indexer \u001b[39m=\u001b[39m [indexer]\n",
      "File \u001b[1;32md:\\OneDrive - Universitetet i Stavanger\\Bachelor_test\\.venv\\lib\\site-packages\\pandas\\core\\indexes\\base.py:3623\u001b[0m, in \u001b[0;36mIndex.get_loc\u001b[1;34m(self, key, method, tolerance)\u001b[0m\n\u001b[0;32m   <a href='file:///d%3A/OneDrive%20-%20Universitetet%20i%20Stavanger/Bachelor_test/.venv/lib/site-packages/pandas/core/indexes/base.py?line=3620'>3621</a>\u001b[0m     \u001b[39mreturn\u001b[39;00m \u001b[39mself\u001b[39m\u001b[39m.\u001b[39m_engine\u001b[39m.\u001b[39mget_loc(casted_key)\n\u001b[0;32m   <a href='file:///d%3A/OneDrive%20-%20Universitetet%20i%20Stavanger/Bachelor_test/.venv/lib/site-packages/pandas/core/indexes/base.py?line=3621'>3622</a>\u001b[0m \u001b[39mexcept\u001b[39;00m \u001b[39mKeyError\u001b[39;00m \u001b[39mas\u001b[39;00m err:\n\u001b[1;32m-> <a href='file:///d%3A/OneDrive%20-%20Universitetet%20i%20Stavanger/Bachelor_test/.venv/lib/site-packages/pandas/core/indexes/base.py?line=3622'>3623</a>\u001b[0m     \u001b[39mraise\u001b[39;00m \u001b[39mKeyError\u001b[39;00m(key) \u001b[39mfrom\u001b[39;00m \u001b[39merr\u001b[39;00m\n\u001b[0;32m   <a href='file:///d%3A/OneDrive%20-%20Universitetet%20i%20Stavanger/Bachelor_test/.venv/lib/site-packages/pandas/core/indexes/base.py?line=3623'>3624</a>\u001b[0m \u001b[39mexcept\u001b[39;00m \u001b[39mTypeError\u001b[39;00m:\n\u001b[0;32m   <a href='file:///d%3A/OneDrive%20-%20Universitetet%20i%20Stavanger/Bachelor_test/.venv/lib/site-packages/pandas/core/indexes/base.py?line=3624'>3625</a>\u001b[0m     \u001b[39m# If we have a listlike key, _check_indexing_error will raise\u001b[39;00m\n\u001b[0;32m   <a href='file:///d%3A/OneDrive%20-%20Universitetet%20i%20Stavanger/Bachelor_test/.venv/lib/site-packages/pandas/core/indexes/base.py?line=3625'>3626</a>\u001b[0m     \u001b[39m#  InvalidIndexError. Otherwise we fall through and re-raise\u001b[39;00m\n\u001b[0;32m   <a href='file:///d%3A/OneDrive%20-%20Universitetet%20i%20Stavanger/Bachelor_test/.venv/lib/site-packages/pandas/core/indexes/base.py?line=3626'>3627</a>\u001b[0m     \u001b[39m#  the TypeError.\u001b[39;00m\n\u001b[0;32m   <a href='file:///d%3A/OneDrive%20-%20Universitetet%20i%20Stavanger/Bachelor_test/.venv/lib/site-packages/pandas/core/indexes/base.py?line=3627'>3628</a>\u001b[0m     \u001b[39mself\u001b[39m\u001b[39m.\u001b[39m_check_indexing_error(key)\n",
      "\u001b[1;31mKeyError\u001b[0m: 'energy(kWh/hh)'"
     ]
    }
   ],
   "source": [
    "# Defining the lag that we used for training of the model \n",
    "lag_model = 12\n",
    "# Getting the last period\n",
    "ts = df['energy(kWh/hh)'].tail(lag_model).values.tolist()\n",
    "# Creating the X matrix for the model\n",
    "X, _ = deep_learner.create_X_Y(ts, lag=lag_model)\n",
    "# Getting the forecast\n",
    "yhat = model.predict(X)"
   ]
  },
  {
   "cell_type": "code",
   "execution_count": null,
   "metadata": {},
   "outputs": [
    {
     "ename": "TypeError",
     "evalue": "'module' object is not callable",
     "output_type": "error",
     "traceback": [
      "\u001b[1;31m---------------------------------------------------------------------------\u001b[0m",
      "\u001b[1;31mTypeError\u001b[0m                                 Traceback (most recent call last)",
      "\u001b[1;32md:\\OneDrive - Universitetet i Stavanger\\Bachelor_test\\Linear model.ipynb Cell 13'\u001b[0m in \u001b[0;36m<module>\u001b[1;34m\u001b[0m\n\u001b[0;32m      <a href='vscode-notebook-cell:/d%3A/OneDrive%20-%20Universitetet%20i%20Stavanger/Bachelor_test/Linear%20model.ipynb#ch0000014?line=4'>5</a>\u001b[0m fc[\u001b[39m'\u001b[39m\u001b[39mforecast\u001b[39m\u001b[39m'\u001b[39m] \u001b[39m=\u001b[39m yhat\n\u001b[0;32m      <a href='vscode-notebook-cell:/d%3A/OneDrive%20-%20Universitetet%20i%20Stavanger/Bachelor_test/Linear%20model.ipynb#ch0000014?line=5'>6</a>\u001b[0m \u001b[39m# Ploting the forecasts\u001b[39;00m\n\u001b[1;32m----> <a href='vscode-notebook-cell:/d%3A/OneDrive%20-%20Universitetet%20i%20Stavanger/Bachelor_test/Linear%20model.ipynb#ch0000014?line=6'>7</a>\u001b[0m plt\u001b[39m.\u001b[39;49mfigure(figsize\u001b[39m=\u001b[39;49m(\u001b[39m12\u001b[39;49m, \u001b[39m8\u001b[39;49m))\n\u001b[0;32m      <a href='vscode-notebook-cell:/d%3A/OneDrive%20-%20Universitetet%20i%20Stavanger/Bachelor_test/Linear%20model.ipynb#ch0000014?line=7'>8</a>\u001b[0m \u001b[39mfor\u001b[39;00m dtype \u001b[39min\u001b[39;00m [\u001b[39m'\u001b[39m\u001b[39mtstp\u001b[39m\u001b[39m'\u001b[39m, \u001b[39m'\u001b[39m\u001b[39mforecast\u001b[39m\u001b[39m'\u001b[39m]:\n\u001b[0;32m      <a href='vscode-notebook-cell:/d%3A/OneDrive%20-%20Universitetet%20i%20Stavanger/Bachelor_test/Linear%20model.ipynb#ch0000014?line=8'>9</a>\u001b[0m   plt\u001b[39m.\u001b[39mplot(\n\u001b[0;32m     <a href='vscode-notebook-cell:/d%3A/OneDrive%20-%20Universitetet%20i%20Stavanger/Bachelor_test/Linear%20model.ipynb#ch0000014?line=9'>10</a>\u001b[0m     \u001b[39m'\u001b[39m\u001b[39mtstp\u001b[39m\u001b[39m'\u001b[39m,\n\u001b[0;32m     <a href='vscode-notebook-cell:/d%3A/OneDrive%20-%20Universitetet%20i%20Stavanger/Bachelor_test/Linear%20model.ipynb#ch0000014?line=10'>11</a>\u001b[0m     dtype,\n\u001b[1;32m   (...)\u001b[0m\n\u001b[0;32m     <a href='vscode-notebook-cell:/d%3A/OneDrive%20-%20Universitetet%20i%20Stavanger/Bachelor_test/Linear%20model.ipynb#ch0000014?line=13'>14</a>\u001b[0m     alpha\u001b[39m=\u001b[39m\u001b[39m0.8\u001b[39m\n\u001b[0;32m     <a href='vscode-notebook-cell:/d%3A/OneDrive%20-%20Universitetet%20i%20Stavanger/Bachelor_test/Linear%20model.ipynb#ch0000014?line=14'>15</a>\u001b[0m   )\n",
      "\u001b[1;31mTypeError\u001b[0m: 'module' object is not callable"
     ]
    }
   ],
   "source": [
    "yhat = deep_learner.predict()\n",
    "# Constructing the forecast dataframe\n",
    "fc = df.tail(len(yhat)).copy()\n",
    "fc.reset_index(inplace=True)\n",
    "fc['forecast'] = yhat\n",
    "# Ploting the forecasts\n",
    "plt.figure(figsize=(12, 8))\n",
    "for dtype in ['energy(kWh/hh)', 'forecast']:\n",
    "  plt.plot(\n",
    "    'tstp',\n",
    "    dtype,\n",
    "    data=fc,\n",
    "    label=dtype,\n",
    "    alpha=0.8\n",
    "  )\n",
    "plt.legend()\n",
    "plt.grid()\n",
    "plt.show()"
   ]
  }
 ],
 "metadata": {
  "interpreter": {
   "hash": "55bc3ce9f9f57c4df1faa89487ee4749dce1b5d904b5bab89e302a644b73527a"
  },
  "kernelspec": {
   "display_name": "Python 3.10.2 ('.venv': venv)",
   "language": "python",
   "name": "python3"
  },
  "language_info": {
   "codemirror_mode": {
    "name": "ipython",
    "version": 3
   },
   "file_extension": ".py",
   "mimetype": "text/x-python",
   "name": "python",
   "nbconvert_exporter": "python",
   "pygments_lexer": "ipython3",
   "version": "3.10.2"
  },
  "orig_nbformat": 4
 },
 "nbformat": 4,
 "nbformat_minor": 2
}
