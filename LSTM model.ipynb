{
 "cells": [
  {
   "cell_type": "code",
   "execution_count": 167,
   "metadata": {},
   "outputs": [],
   "source": [
    "import pandas as pd\n",
    "import numpy as np\n",
    "from datetime import datetime, timedelta\n",
    "import matplotlib.pyplot as plt\n",
    "from pandas.plotting import register_matplotlib_converters\n",
    "register_matplotlib_converters()\n",
    "\n",
    "\n",
    "# Deep learning packages\n",
    "from keras.models import Sequential\n",
    "from keras.layers import LSTM, Dense\n"
   ]
  },
  {
   "cell_type": "code",
   "execution_count": 168,
   "metadata": {},
   "outputs": [],
   "source": [
    "df = pd.read_csv('./data/ouput.csv')"
   ]
  },
  {
   "cell_type": "markdown",
   "metadata": {},
   "source": []
  },
  {
   "cell_type": "code",
   "execution_count": 169,
   "metadata": {},
   "outputs": [
    {
     "data": {
      "text/html": [
       "<div>\n",
       "<style scoped>\n",
       "    .dataframe tbody tr th:only-of-type {\n",
       "        vertical-align: middle;\n",
       "    }\n",
       "\n",
       "    .dataframe tbody tr th {\n",
       "        vertical-align: top;\n",
       "    }\n",
       "\n",
       "    .dataframe thead th {\n",
       "        text-align: right;\n",
       "    }\n",
       "</style>\n",
       "<table border=\"1\" class=\"dataframe\">\n",
       "  <thead>\n",
       "    <tr style=\"text-align: right;\">\n",
       "      <th></th>\n",
       "      <th>LCLid</th>\n",
       "      <th>tstp</th>\n",
       "      <th>energy(kWh/hh)</th>\n",
       "    </tr>\n",
       "  </thead>\n",
       "  <tbody>\n",
       "    <tr>\n",
       "      <th>0</th>\n",
       "      <td>MAC000168</td>\n",
       "      <td>2011-11-24 13:30:00</td>\n",
       "      <td>0.054</td>\n",
       "    </tr>\n",
       "    <tr>\n",
       "      <th>1</th>\n",
       "      <td>MAC000168</td>\n",
       "      <td>2011-11-24 14:00:00</td>\n",
       "      <td>0.178</td>\n",
       "    </tr>\n",
       "    <tr>\n",
       "      <th>2</th>\n",
       "      <td>MAC000168</td>\n",
       "      <td>2011-11-24 14:30:00</td>\n",
       "      <td>0.113</td>\n",
       "    </tr>\n",
       "    <tr>\n",
       "      <th>3</th>\n",
       "      <td>MAC000168</td>\n",
       "      <td>2011-11-24 15:00:00</td>\n",
       "      <td>0.068</td>\n",
       "    </tr>\n",
       "    <tr>\n",
       "      <th>4</th>\n",
       "      <td>MAC000168</td>\n",
       "      <td>2011-11-24 15:30:00</td>\n",
       "      <td>0.061</td>\n",
       "    </tr>\n",
       "  </tbody>\n",
       "</table>\n",
       "</div>"
      ],
      "text/plain": [
       "       LCLid                 tstp energy(kWh/hh)\n",
       "0  MAC000168  2011-11-24 13:30:00         0.054 \n",
       "1  MAC000168  2011-11-24 14:00:00         0.178 \n",
       "2  MAC000168  2011-11-24 14:30:00         0.113 \n",
       "3  MAC000168  2011-11-24 15:00:00         0.068 \n",
       "4  MAC000168  2011-11-24 15:30:00         0.061 "
      ]
     },
     "execution_count": 169,
     "metadata": {},
     "output_type": "execute_result"
    }
   ],
   "source": [
    "df.head()"
   ]
  },
  {
   "cell_type": "code",
   "execution_count": 170,
   "metadata": {},
   "outputs": [
    {
     "data": {
      "text/plain": [
       "(396562, 3)"
      ]
     },
     "execution_count": 170,
     "metadata": {},
     "output_type": "execute_result"
    }
   ],
   "source": [
    "df.shape"
   ]
  },
  {
   "cell_type": "code",
   "execution_count": 171,
   "metadata": {},
   "outputs": [],
   "source": [
    "df['tstp'] = [datetime.strptime(x, '%Y-%m-%d %H:%M:%S') for x in df['tstp']]\n",
    "df[\"energy(kWh/hh)\"] = pd.to_numeric(df[\"energy(kWh/hh)\"], downcast=\"float\", errors=\"coerce\")\n",
    "\n",
    "\n"
   ]
  },
  {
   "cell_type": "code",
   "execution_count": 172,
   "metadata": {},
   "outputs": [],
   "source": [
    "# Sorting the values\n",
    "df.sort_values('tstp', inplace=True)"
   ]
  },
  {
   "cell_type": "code",
   "execution_count": 173,
   "metadata": {},
   "outputs": [
    {
     "data": {
      "text/html": [
       "<div>\n",
       "<style scoped>\n",
       "    .dataframe tbody tr th:only-of-type {\n",
       "        vertical-align: middle;\n",
       "    }\n",
       "\n",
       "    .dataframe tbody tr th {\n",
       "        vertical-align: top;\n",
       "    }\n",
       "\n",
       "    .dataframe thead th {\n",
       "        text-align: right;\n",
       "    }\n",
       "</style>\n",
       "<table border=\"1\" class=\"dataframe\">\n",
       "  <thead>\n",
       "    <tr style=\"text-align: right;\">\n",
       "      <th></th>\n",
       "      <th>LCLid</th>\n",
       "      <th>tstp</th>\n",
       "      <th>energy(kWh/hh)</th>\n",
       "    </tr>\n",
       "  </thead>\n",
       "  <tbody>\n",
       "    <tr>\n",
       "      <th>356842</th>\n",
       "      <td>MAC000150</td>\n",
       "      <td>2011-11-23 10:00:00</td>\n",
       "      <td>0.301</td>\n",
       "    </tr>\n",
       "    <tr>\n",
       "      <th>356843</th>\n",
       "      <td>MAC000150</td>\n",
       "      <td>2011-11-23 10:30:00</td>\n",
       "      <td>0.127</td>\n",
       "    </tr>\n",
       "    <tr>\n",
       "      <th>356844</th>\n",
       "      <td>MAC000150</td>\n",
       "      <td>2011-11-23 11:00:00</td>\n",
       "      <td>0.201</td>\n",
       "    </tr>\n",
       "    <tr>\n",
       "      <th>356845</th>\n",
       "      <td>MAC000150</td>\n",
       "      <td>2011-11-23 11:30:00</td>\n",
       "      <td>0.564</td>\n",
       "    </tr>\n",
       "    <tr>\n",
       "      <th>356846</th>\n",
       "      <td>MAC000150</td>\n",
       "      <td>2011-11-23 12:00:00</td>\n",
       "      <td>0.159</td>\n",
       "    </tr>\n",
       "  </tbody>\n",
       "</table>\n",
       "</div>"
      ],
      "text/plain": [
       "            LCLid                tstp  energy(kWh/hh)\n",
       "356842  MAC000150 2011-11-23 10:00:00           0.301\n",
       "356843  MAC000150 2011-11-23 10:30:00           0.127\n",
       "356844  MAC000150 2011-11-23 11:00:00           0.201\n",
       "356845  MAC000150 2011-11-23 11:30:00           0.564\n",
       "356846  MAC000150 2011-11-23 12:00:00           0.159"
      ]
     },
     "execution_count": 173,
     "metadata": {},
     "output_type": "execute_result"
    }
   ],
   "source": [
    "df.head()"
   ]
  },
  {
   "cell_type": "code",
   "execution_count": 174,
   "metadata": {},
   "outputs": [],
   "source": [
    "def create_X_Y(ts: list, lag: int) -> tuple:\n",
    "    \"\"\"\n",
    "    A method to create X and Y matrix from a time series list for the training of \n",
    "    deep learning models \n",
    "    \"\"\"\n",
    "\n",
    "    X, Y = [], []\n",
    "\n",
    "    if len(ts) - lag <= 0:\n",
    "        X.append(ts)\n",
    "    else:\n",
    "        for i in range(len(ts) - lag):\n",
    "            Y.append(ts[i + lag])\n",
    "            X.append(ts[i:(i + lag)])\n",
    "\n",
    "    X, Y = np.array(X), np.array(Y)\n",
    "\n",
    "    # Reshaping the X array to an LSTM input shape \n",
    "    X = np.reshape(X, (X.shape[0], X.shape[1], 1))\n",
    "\n",
    "    return X, Y"
   ]
  },
  {
   "cell_type": "code",
   "execution_count": 175,
   "metadata": {},
   "outputs": [
    {
     "name": "stdout",
     "output_type": "stream",
     "text": [
      "Model: \"sequential_30\"\n",
      "_________________________________________________________________\n",
      " Layer (type)                Output Shape              Param #   \n",
      "=================================================================\n",
      " lstm_30 (LSTM)              (None, 50)                10400     \n",
      "                                                                 \n",
      " dense_30 (Dense)            (None, 1)                 51        \n",
      "                                                                 \n",
      "=================================================================\n",
      "Total params: 10,451\n",
      "Trainable params: 10,451\n",
      "Non-trainable params: 0\n",
      "_________________________________________________________________\n"
     ]
    }
   ],
   "source": [
    "# Deep Learning (LSTM)\n",
    "\n",
    "# Defining the number of neurons in the LSTM layer\n",
    "n_layer = 50\n",
    "\n",
    "# Defining how many lags will be used in the time series\n",
    "n_lag = 3\n",
    "\n",
    "\n",
    "# Defining the model\n",
    "model = Sequential()\n",
    "model.add(LSTM(n_layer, activation='relu', input_shape=(n_lag, 1)))\n",
    "model.add(Dense(1))\n",
    "\n",
    "model.summary()\n",
    "\n",
    "# The objective functions which will be minimized is mean squared error (mse)\n",
    "model.compile(optimizer='adam', loss='mse')"
   ]
  },
  {
   "cell_type": "code",
   "execution_count": 176,
   "metadata": {},
   "outputs": [],
   "source": [
    "class DeepModelTS():\n",
    "    \"\"\"\n",
    "    A class to create a deep time series model\n",
    "    \"\"\"\n",
    "\n",
    "    def __init__(self, data: pd.DataFrame, Y_var: str, lag: int, LSTM_layer_depth: int, epochs=10, batch_size=256, train_test_split=0):\n",
    "        self.data = data \n",
    "        self.Y_var = Y_var \n",
    "        self.lag = lag \n",
    "        self.LSTM_layer_depth = LSTM_layer_depth\n",
    "        self.batch_size = batch_size\n",
    "        self.epochs = epochs\n",
    "        self.train_test_split = train_test_split\n",
    "    \n",
    "    @staticmethod\n",
    "    def create_X_Y(ts: list, lag: int) -> tuple:\n",
    "        \"\"\"\n",
    "        A method to create X and Y matrix from a time series list for the training of \n",
    "        deep learning models \n",
    "        \"\"\"\n",
    "        X, Y = [], []\n",
    "\n",
    "        if len(ts) - lag <= 0:\n",
    "            X.append(ts)\n",
    "        else:\n",
    "            for i in range(len(ts) - lag):\n",
    "                Y.append(ts[i + lag])\n",
    "                X.append(ts[i:(i + lag)])\n",
    "\n",
    "        X, Y = np.array(X), np.array(Y)\n",
    "\n",
    "        # Reshaping the X array to an LSTM input shape \n",
    "        X = np.reshape(X, (X.shape[0], X.shape[1], 1))\n",
    "\n",
    "        return X, Y         \n",
    "\n",
    "    def create_data_for_NN(\n",
    "        self,\n",
    "        use_last_n=None\n",
    "        ):\n",
    "        \"\"\"\n",
    "        A method to create data for the neural network model\n",
    "        \"\"\"\n",
    "        # Extracting the main variable we want to model/forecast\n",
    "        y = self.data[self.Y_var].tolist()\n",
    "\n",
    "        # Subseting the time series if needed\n",
    "        if use_last_n is not None:\n",
    "            y = y[-use_last_n:]\n",
    "\n",
    "        # The X matrix will hold the lags of Y \n",
    "        X, Y = self.create_X_Y(y, self.lag)\n",
    "\n",
    "        # Creating training and test sets \n",
    "        X_train = X\n",
    "        X_test = []\n",
    "\n",
    "        Y_train = Y\n",
    "        Y_test = []\n",
    "\n",
    "        if self.train_test_split > 0:\n",
    "            index = round(len(X) * self.train_test_split)\n",
    "            X_train = X[:(len(X) - index)]\n",
    "            X_test = X[-index:]     \n",
    "            \n",
    "            Y_train = Y[:(len(X) - index)]\n",
    "            Y_test = Y[-index:]\n",
    "\n",
    "        return X_train, X_test, Y_train, Y_test\n",
    "\n",
    "    def LSTModel(self):\n",
    "        \"\"\"\n",
    "        A method to fit the LSTM model \n",
    "        \"\"\"\n",
    "        # Getting the data \n",
    "        X_train, X_test, Y_train, Y_test = self.create_data_for_NN()\n",
    "\n",
    "        # Defining the model\n",
    "        model = Sequential()\n",
    "        model.add(LSTM(self.LSTM_layer_depth, activation='relu', input_shape=(self.lag, 1)))\n",
    "        model.add(Dense(1))\n",
    "        model.compile(optimizer='adam', loss='mse')\n",
    "\n",
    "        # Defining the model parameter dict \n",
    "        keras_dict = {\n",
    "            'x': X_train,\n",
    "            'y': Y_train,\n",
    "            'batch_size': self.batch_size,\n",
    "            'epochs': self.epochs,\n",
    "            'shuffle': False\n",
    "        }\n",
    "\n",
    "        if self.train_test_split > 0:\n",
    "            keras_dict.update({\n",
    "                'validation_data': (X_test, Y_test)\n",
    "            })\n",
    "\n",
    "        # Fitting the model \n",
    "        model.fit(\n",
    "            **keras_dict\n",
    "        )\n",
    "\n",
    "        # Saving the model to the class \n",
    "        self.model = model\n",
    "\n",
    "        return model\n",
    "\n",
    "    def predict(self) -> list:\n",
    "        \"\"\"\n",
    "        A method to predict using the test data used in creating the class\n",
    "        \"\"\"\n",
    "        yhat = []\n",
    "\n",
    "        if(self.train_test_split > 0):\n",
    "        \n",
    "            # Getting the last n time series \n",
    "            _, X_test, _, _ = self.create_data_for_NN()        \n",
    "\n",
    "            # Making the prediction list \n",
    "            yhat = [y[0] for y in self.model.predict(X_test)]\n",
    "\n",
    "        return yhat\n",
    "\n",
    "    def predict_n_ahead(self, n_ahead: int):\n",
    "        \"\"\"\n",
    "        A method to predict n time steps ahead\n",
    "        \"\"\"    \n",
    "        X, _, _, _ = self.create_data_for_NN(use_last_n=self.lag)        \n",
    "\n",
    "        # Making the prediction list \n",
    "        yhat = []\n",
    "\n",
    "        for _ in range(n_ahead):\n",
    "            # Making the prediction\n",
    "            fc = self.model.predict(X)\n",
    "            yhat.append(fc)\n",
    "\n",
    "            # Creating a new input matrix for forecasting\n",
    "            X = np.append(X, fc)\n",
    "\n",
    "            # Ommiting the first variable\n",
    "            X = np.delete(X, 0)\n",
    "\n",
    "            # Reshaping for the next iteration\n",
    "            X = np.reshape(X, (1, len(X), 1))\n",
    "\n",
    "        return yhat    \n"
   ]
  },
  {
   "cell_type": "code",
   "execution_count": 177,
   "metadata": {},
   "outputs": [
    {
     "data": {
      "text/plain": [
       "356842    MAC000150\n",
       "356843    MAC000150\n",
       "356844    MAC000150\n",
       "356845    MAC000150\n",
       "356846    MAC000150\n",
       "            ...    \n",
       "396557    MAC000150\n",
       "396558    MAC000150\n",
       "396559    MAC000150\n",
       "396560    MAC000150\n",
       "396561    MAC000150\n",
       "Name: LCLid, Length: 39720, dtype: object"
      ]
     },
     "execution_count": 177,
     "metadata": {},
     "output_type": "execute_result"
    }
   ],
   "source": [
    "lclid_list = df['LCLid'].unique()\n",
    "def find_household(identification):\n",
    "    affluenthh_filt = df[\"LCLid\"] == identification\n",
    "    affluent_hh_data = df[affluenthh_filt]\n",
    "    return affluent_hh_data\n",
    "\n",
    "hh = find_household(\"MAC000150\")\n",
    "hh.pop(\"LCLid\")"
   ]
  },
  {
   "cell_type": "code",
   "execution_count": 178,
   "metadata": {},
   "outputs": [
    {
     "data": {
      "text/plain": [
       "numpy.float32"
      ]
     },
     "execution_count": 178,
     "metadata": {},
     "output_type": "execute_result"
    }
   ],
   "source": [
    "#normalizedtstp = (hh[\"tstp\"] - hh[\"tstp\"].mean()) / hh[\"tstp\"].std()\n",
    "#normalizedtstp\n",
    "type(hh.iloc[0][\"energy(kWh/hh)\"])"
   ]
  },
  {
   "cell_type": "code",
   "execution_count": 179,
   "metadata": {},
   "outputs": [],
   "source": [
    "# Initiating the class\n",
    "deep_learner = DeepModelTS(\n",
    "data = hh,\n",
    "Y_var = 'energy(kWh/hh)',\n",
    "lag = 24,\n",
    "LSTM_layer_depth = 50,\n",
    "epochs = 10,\n",
    "batch_size = 256,\n",
    "train_test_split = 0.15\n",
    ")\n"
   ]
  },
  {
   "cell_type": "code",
   "execution_count": 180,
   "metadata": {},
   "outputs": [
    {
     "name": "stdout",
     "output_type": "stream",
     "text": [
      "Epoch 1/10\n",
      "132/132 [==============================] - 3s 14ms/step - loss: nan - val_loss: nan\n",
      "Epoch 2/10\n",
      "132/132 [==============================] - 2s 12ms/step - loss: nan - val_loss: nan\n",
      "Epoch 3/10\n",
      "132/132 [==============================] - 2s 12ms/step - loss: nan - val_loss: nan\n",
      "Epoch 4/10\n",
      "132/132 [==============================] - 2s 11ms/step - loss: nan - val_loss: nan\n",
      "Epoch 5/10\n",
      "132/132 [==============================] - 1s 11ms/step - loss: nan - val_loss: nan\n",
      "Epoch 6/10\n",
      "132/132 [==============================] - 2s 12ms/step - loss: nan - val_loss: nan\n",
      "Epoch 7/10\n",
      "132/132 [==============================] - 2s 12ms/step - loss: nan - val_loss: nan\n",
      "Epoch 8/10\n",
      "132/132 [==============================] - 2s 11ms/step - loss: nan - val_loss: nan\n",
      "Epoch 9/10\n",
      "132/132 [==============================] - 2s 11ms/step - loss: nan - val_loss: nan\n",
      "Epoch 10/10\n",
      "132/132 [==============================] - 2s 12ms/step - loss: nan - val_loss: nan\n"
     ]
    }
   ],
   "source": [
    "# Fitting the model\n",
    "\n",
    "model = deep_learner.LSTModel()"
   ]
  },
  {
   "cell_type": "code",
   "execution_count": 181,
   "metadata": {},
   "outputs": [],
   "source": [
    "# Defining the lag that we used for training of the model \n",
    "lag_model = 24\n",
    "# Getting the last period\n",
    "ts = hh['energy(kWh/hh)'].tail(lag_model).values.tolist()\n",
    "# Creating the X matrix for the model\n",
    "X, _ = deep_learner.create_X_Y(ts, lag=lag_model)\n",
    "# Getting the forecast\n",
    "yhat = model.predict(X)"
   ]
  },
  {
   "cell_type": "code",
   "execution_count": 182,
   "metadata": {},
   "outputs": [
    {
     "data": {
      "image/png": "[encoded data removed]",
      "text/plain": [
       "<Figure size 864x576 with 1 Axes>"
      ]
     },
     "metadata": {
      "needs_background": "light"
     },
     "output_type": "display_data"
    }
   ],
   "source": [
    "yhat = deep_learner.predict()\n",
    "# Constructing the forecast dataframe\n",
    "fc = df.tail(len(yhat)).copy()\n",
    "fc.reset_index(inplace=True)\n",
    "fc['forecast'] = yhat\n",
    "# Ploting the forecasts\n",
    "plt.figure(figsize=(12, 8))\n",
    "for dtype in ['energy(kWh/hh)', 'forecast']:\n",
    "  plt.plot(\n",
    "    'tstp',\n",
    "    dtype,\n",
    "    data=fc,\n",
    "    label=dtype,\n",
    "    alpha=0.8\n",
    "  )\n",
    "plt.legend()\n",
    "plt.grid()"
   ]
  },
  {
   "cell_type": "code",
   "execution_count": 183,
   "metadata": {},
   "outputs": [
    {
     "name": "stdout",
     "output_type": "stream",
     "text": [
      "Epoch 1/10\n",
      "156/156 [==============================] - 3s 13ms/step - loss: nan\n",
      "Epoch 2/10\n",
      "156/156 [==============================] - 2s 13ms/step - loss: nan\n",
      "Epoch 3/10\n",
      "156/156 [==============================] - 2s 13ms/step - loss: nan\n",
      "Epoch 4/10\n",
      "156/156 [==============================] - 2s 13ms/step - loss: nan\n",
      "Epoch 5/10\n",
      "156/156 [==============================] - 2s 13ms/step - loss: nan\n",
      "Epoch 6/10\n",
      "156/156 [==============================] - 2s 13ms/step - loss: nan\n",
      "Epoch 7/10\n",
      "156/156 [==============================] - 2s 13ms/step - loss: nan\n",
      "Epoch 8/10\n",
      "156/156 [==============================] - 2s 13ms/step - loss: nan\n",
      "Epoch 9/10\n",
      "156/156 [==============================] - 2s 13ms/step - loss: nan\n",
      "Epoch 10/10\n",
      "156/156 [==============================] - 2s 13ms/step - loss: nan\n"
     ]
    },
    {
     "name": "stderr",
     "output_type": "stream",
     "text": [
      "C:\\Users\\denny\\AppData\\Local\\Temp\\ipykernel_16796\\824342345.py:32: FutureWarning: The frame.append method is deprecated and will be removed from pandas in a future version. Use pandas.concat instead.\n",
      "  fc = fc.append(hat_frame)\n"
     ]
    },
    {
     "data": {
      "image/png": "[encoded data removed]",
      "text/plain": [
       "<Figure size 864x576 with 1 Axes>"
      ]
     },
     "metadata": {
      "needs_background": "light"
     },
     "output_type": "display_data"
    }
   ],
   "source": [
    "# Forecasting n steps ahead   \n",
    "\n",
    "# Creating the model using full data and forecasting n steps ahead\n",
    "deep_learner = DeepModelTS(\n",
    "    data=hh, \n",
    "    Y_var='energy(kWh/hh)',\n",
    "    lag=24,\n",
    "    LSTM_layer_depth=64,\n",
    "    epochs=10,\n",
    "    train_test_split=0 \n",
    ")\n",
    "\n",
    "# Fitting the model \n",
    "deep_learner.LSTModel()\n",
    "\n",
    "# Forecasting n steps ahead\n",
    "n_ahead = 168\n",
    "yhat = deep_learner.predict_n_ahead(n_ahead)\n",
    "yhat = [y[0][0] for y in yhat]\n",
    "\n",
    "# Constructing the forecast dataframe\n",
    "fc = hh.tail(400).copy() \n",
    "fc['type'] = 'original'\n",
    "\n",
    "last_date = max(fc['tstp'])\n",
    "hat_frame = pd.DataFrame({\n",
    "    'tstp': [last_date + timedelta(hours=x + 1) for x in range(n_ahead)], \n",
    "    'energy(kWh/hh)': yhat,\n",
    "    'type': 'forecast'\n",
    "})\n",
    "\n",
    "fc = fc.append(hat_frame)\n",
    "fc.reset_index(inplace=True, drop=True)\n",
    "\n",
    "# Ploting the forecasts \n",
    "plt.figure(figsize=(12, 8))\n",
    "for col_type in ['original', 'forecast']:\n",
    "    plt.plot(\n",
    "        'tstp', \n",
    "        'energy(kWh/hh)', \n",
    "        data=fc[fc['type']==col_type],\n",
    "        label=col_type\n",
    "        )\n",
    "\n",
    "plt.legend()\n",
    "plt.grid()   "
   ]
  }
 ],
 "metadata": {
  "interpreter": {
   "hash": "55bc3ce9f9f57c4df1faa89487ee4749dce1b5d904b5bab89e302a644b73527a"
  },
  "kernelspec": {
   "display_name": "Python 3.10.2 ('.venv': venv)",
   "language": "python",
   "name": "python3"
  },
  "language_info": {
   "codemirror_mode": {
    "name": "ipython",
    "version": 3
   },
   "file_extension": ".py",
   "mimetype": "text/x-python",
   "name": "python",
   "nbconvert_exporter": "python",
   "pygments_lexer": "ipython3",
   "version": "3.10.2"
  },
  "orig_nbformat": 4
 },
 "nbformat": 4,
 "nbformat_minor": 2
}
