{
 "cells": [
  {
   "cell_type": "markdown",
   "metadata": {},
   "source": [
    "## Linear model\n",
    "\n",
    "using a linear model to predict the energy consumption"
   ]
  },
  {
   "cell_type": "code",
   "execution_count": 121,
   "metadata": {},
   "outputs": [],
   "source": [
    "from __future__ import absolute_import, division, print_function, unicode_literals\n",
    "\n",
    "import matplotlib.pyplot as plt\n",
    "import numpy as np\n",
    "import pandas as pd\n",
    "from IPython.display import clear_output\n",
    "from six.moves import urllib\n",
    "\n",
    "import tensorflow.compat.v2.feature_column as fc\n",
    "\n",
    "import tensorflow as tf\n",
    "\n",
    "from data_read import load_data_into_dataframe\n",
    "from house_filtration import house_filtration_select\n",
    "\n",
    "from datetime import datetime\n",
    "import time"
   ]
  },
  {
   "cell_type": "code",
   "execution_count": 122,
   "metadata": {},
   "outputs": [],
   "source": [
    "# Load the dataset\n",
    "df = pd.read_csv('./data/ouput.csv')\n"
   ]
  },
  {
   "cell_type": "code",
   "execution_count": 123,
   "metadata": {},
   "outputs": [
    {
     "data": {
      "text/html": [
       "<div>\n",
       "<style scoped>\n",
       "    .dataframe tbody tr th:only-of-type {\n",
       "        vertical-align: middle;\n",
       "    }\n",
       "\n",
       "    .dataframe tbody tr th {\n",
       "        vertical-align: top;\n",
       "    }\n",
       "\n",
       "    .dataframe thead th {\n",
       "        text-align: right;\n",
       "    }\n",
       "</style>\n",
       "<table border=\"1\" class=\"dataframe\">\n",
       "  <thead>\n",
       "    <tr style=\"text-align: right;\">\n",
       "      <th></th>\n",
       "      <th>LCLid</th>\n",
       "      <th>tstp</th>\n",
       "      <th>energy(kWh/hh)</th>\n",
       "    </tr>\n",
       "  </thead>\n",
       "  <tbody>\n",
       "    <tr>\n",
       "      <th>0</th>\n",
       "      <td>MAC000168</td>\n",
       "      <td>2011-11-24 13:30:00</td>\n",
       "      <td>0.054</td>\n",
       "    </tr>\n",
       "    <tr>\n",
       "      <th>1</th>\n",
       "      <td>MAC000168</td>\n",
       "      <td>2011-11-24 14:00:00</td>\n",
       "      <td>0.178</td>\n",
       "    </tr>\n",
       "    <tr>\n",
       "      <th>2</th>\n",
       "      <td>MAC000168</td>\n",
       "      <td>2011-11-24 14:30:00</td>\n",
       "      <td>0.113</td>\n",
       "    </tr>\n",
       "    <tr>\n",
       "      <th>3</th>\n",
       "      <td>MAC000168</td>\n",
       "      <td>2011-11-24 15:00:00</td>\n",
       "      <td>0.068</td>\n",
       "    </tr>\n",
       "    <tr>\n",
       "      <th>4</th>\n",
       "      <td>MAC000168</td>\n",
       "      <td>2011-11-24 15:30:00</td>\n",
       "      <td>0.061</td>\n",
       "    </tr>\n",
       "  </tbody>\n",
       "</table>\n",
       "</div>"
      ],
      "text/plain": [
       "       LCLid                 tstp energy(kWh/hh)\n",
       "0  MAC000168  2011-11-24 13:30:00         0.054 \n",
       "1  MAC000168  2011-11-24 14:00:00         0.178 \n",
       "2  MAC000168  2011-11-24 14:30:00         0.113 \n",
       "3  MAC000168  2011-11-24 15:00:00         0.068 \n",
       "4  MAC000168  2011-11-24 15:30:00         0.061 "
      ]
     },
     "execution_count": 123,
     "metadata": {},
     "output_type": "execute_result"
    }
   ],
   "source": [
    "df.head()"
   ]
  },
  {
   "cell_type": "code",
   "execution_count": 124,
   "metadata": {},
   "outputs": [
    {
     "ename": "TypeError",
     "evalue": "cannot astype a datetimelike from [datetime64[ns]] to [int32]",
     "output_type": "error",
     "traceback": [
      "\u001b[1;31m---------------------------------------------------------------------------\u001b[0m",
      "\u001b[1;31mTypeError\u001b[0m                                 Traceback (most recent call last)",
      "\u001b[1;32md:\\OneDrive - Universitetet i Stavanger\\Bachelor\\test_model.ipynb Cell 5'\u001b[0m in \u001b[0;36m<module>\u001b[1;34m\u001b[0m\n\u001b[0;32m      <a href='vscode-notebook-cell:/d%3A/OneDrive%20-%20Universitetet%20i%20Stavanger/Bachelor/test_model.ipynb#ch0000020?line=0'>1</a>\u001b[0m df[\u001b[39m\"\u001b[39m\u001b[39menergy(kWh/hh)\u001b[39m\u001b[39m\"\u001b[39m] \u001b[39m=\u001b[39m pd\u001b[39m.\u001b[39mto_numeric(df[\u001b[39m\"\u001b[39m\u001b[39menergy(kWh/hh)\u001b[39m\u001b[39m\"\u001b[39m], downcast\u001b[39m=\u001b[39m\u001b[39m\"\u001b[39m\u001b[39mfloat\u001b[39m\u001b[39m\"\u001b[39m, errors\u001b[39m=\u001b[39m\u001b[39m\"\u001b[39m\u001b[39mcoerce\u001b[39m\u001b[39m\"\u001b[39m)\n\u001b[0;32m      <a href='vscode-notebook-cell:/d%3A/OneDrive%20-%20Universitetet%20i%20Stavanger/Bachelor/test_model.ipynb#ch0000020?line=1'>2</a>\u001b[0m df[\u001b[39m'\u001b[39m\u001b[39mtstp\u001b[39m\u001b[39m'\u001b[39m] \u001b[39m=\u001b[39m [datetime\u001b[39m.\u001b[39mstrptime(x, \u001b[39m'\u001b[39m\u001b[39m%\u001b[39m\u001b[39mY-\u001b[39m\u001b[39m%\u001b[39m\u001b[39mm-\u001b[39m\u001b[39m%d\u001b[39;00m\u001b[39m \u001b[39m\u001b[39m%\u001b[39m\u001b[39mH:\u001b[39m\u001b[39m%\u001b[39m\u001b[39mM:\u001b[39m\u001b[39m%\u001b[39m\u001b[39mS\u001b[39m\u001b[39m'\u001b[39m) \u001b[39mfor\u001b[39;00m x \u001b[39min\u001b[39;00m df[\u001b[39m'\u001b[39m\u001b[39mtstp\u001b[39m\u001b[39m'\u001b[39m]]\n\u001b[1;32m----> <a href='vscode-notebook-cell:/d%3A/OneDrive%20-%20Universitetet%20i%20Stavanger/Bachelor/test_model.ipynb#ch0000020?line=2'>3</a>\u001b[0m df[\u001b[39m'\u001b[39m\u001b[39mtstp\u001b[39m\u001b[39m'\u001b[39m] \u001b[39m=\u001b[39m pd\u001b[39m.\u001b[39;49mto_datetime(df[\u001b[39m'\u001b[39;49m\u001b[39mtstp\u001b[39;49m\u001b[39m'\u001b[39;49m])\u001b[39m.\u001b[39;49mastype(\u001b[39mint\u001b[39;49m) \u001b[39m/\u001b[39m \u001b[39m10\u001b[39m\u001b[39m*\u001b[39m\u001b[39m*\u001b[39m\u001b[39m9\u001b[39m\n\u001b[0;32m      <a href='vscode-notebook-cell:/d%3A/OneDrive%20-%20Universitetet%20i%20Stavanger/Bachelor/test_model.ipynb#ch0000020?line=5'>6</a>\u001b[0m \u001b[39m# id for the household we want to use to train and test\u001b[39;00m\n\u001b[0;32m      <a href='vscode-notebook-cell:/d%3A/OneDrive%20-%20Universitetet%20i%20Stavanger/Bachelor/test_model.ipynb#ch0000020?line=6'>7</a>\u001b[0m id_training \u001b[39m=\u001b[39m \u001b[39m'\u001b[39m\u001b[39mMAC000150\u001b[39m\u001b[39m'\u001b[39m \n",
      "File \u001b[1;32mD:\\Python\\lib\\site-packages\\pandas\\core\\generic.py:5920\u001b[0m, in \u001b[0;36mNDFrame.astype\u001b[1;34m(self, dtype, copy, errors)\u001b[0m\n\u001b[0;32m   <a href='file:///d%3A/Python/lib/site-packages/pandas/core/generic.py?line=5912'>5913</a>\u001b[0m     results \u001b[39m=\u001b[39m [\n\u001b[0;32m   <a href='file:///d%3A/Python/lib/site-packages/pandas/core/generic.py?line=5913'>5914</a>\u001b[0m         \u001b[39mself\u001b[39m\u001b[39m.\u001b[39miloc[:, i]\u001b[39m.\u001b[39mastype(dtype, copy\u001b[39m=\u001b[39mcopy)\n\u001b[0;32m   <a href='file:///d%3A/Python/lib/site-packages/pandas/core/generic.py?line=5914'>5915</a>\u001b[0m         \u001b[39mfor\u001b[39;00m i \u001b[39min\u001b[39;00m \u001b[39mrange\u001b[39m(\u001b[39mlen\u001b[39m(\u001b[39mself\u001b[39m\u001b[39m.\u001b[39mcolumns))\n\u001b[0;32m   <a href='file:///d%3A/Python/lib/site-packages/pandas/core/generic.py?line=5915'>5916</a>\u001b[0m     ]\n\u001b[0;32m   <a href='file:///d%3A/Python/lib/site-packages/pandas/core/generic.py?line=5917'>5918</a>\u001b[0m \u001b[39melse\u001b[39;00m:\n\u001b[0;32m   <a href='file:///d%3A/Python/lib/site-packages/pandas/core/generic.py?line=5918'>5919</a>\u001b[0m     \u001b[39m# else, only a single dtype is given\u001b[39;00m\n\u001b[1;32m-> <a href='file:///d%3A/Python/lib/site-packages/pandas/core/generic.py?line=5919'>5920</a>\u001b[0m     new_data \u001b[39m=\u001b[39m \u001b[39mself\u001b[39;49m\u001b[39m.\u001b[39;49m_mgr\u001b[39m.\u001b[39;49mastype(dtype\u001b[39m=\u001b[39;49mdtype, copy\u001b[39m=\u001b[39;49mcopy, errors\u001b[39m=\u001b[39;49merrors)\n\u001b[0;32m   <a href='file:///d%3A/Python/lib/site-packages/pandas/core/generic.py?line=5920'>5921</a>\u001b[0m     \u001b[39mreturn\u001b[39;00m \u001b[39mself\u001b[39m\u001b[39m.\u001b[39m_constructor(new_data)\u001b[39m.\u001b[39m__finalize__(\u001b[39mself\u001b[39m, method\u001b[39m=\u001b[39m\u001b[39m\"\u001b[39m\u001b[39mastype\u001b[39m\u001b[39m\"\u001b[39m)\n\u001b[0;32m   <a href='file:///d%3A/Python/lib/site-packages/pandas/core/generic.py?line=5922'>5923</a>\u001b[0m \u001b[39m# GH 33113: handle empty frame or series\u001b[39;00m\n",
      "File \u001b[1;32mD:\\Python\\lib\\site-packages\\pandas\\core\\internals\\managers.py:419\u001b[0m, in \u001b[0;36mBaseBlockManager.astype\u001b[1;34m(self, dtype, copy, errors)\u001b[0m\n\u001b[0;32m    <a href='file:///d%3A/Python/lib/site-packages/pandas/core/internals/managers.py?line=417'>418</a>\u001b[0m \u001b[39mdef\u001b[39;00m \u001b[39mastype\u001b[39m(\u001b[39mself\u001b[39m: T, dtype, copy: \u001b[39mbool\u001b[39m \u001b[39m=\u001b[39m \u001b[39mFalse\u001b[39;00m, errors: \u001b[39mstr\u001b[39m \u001b[39m=\u001b[39m \u001b[39m\"\u001b[39m\u001b[39mraise\u001b[39m\u001b[39m\"\u001b[39m) \u001b[39m-\u001b[39m\u001b[39m>\u001b[39m T:\n\u001b[1;32m--> <a href='file:///d%3A/Python/lib/site-packages/pandas/core/internals/managers.py?line=418'>419</a>\u001b[0m     \u001b[39mreturn\u001b[39;00m \u001b[39mself\u001b[39;49m\u001b[39m.\u001b[39;49mapply(\u001b[39m\"\u001b[39;49m\u001b[39mastype\u001b[39;49m\u001b[39m\"\u001b[39;49m, dtype\u001b[39m=\u001b[39;49mdtype, copy\u001b[39m=\u001b[39;49mcopy, errors\u001b[39m=\u001b[39;49merrors)\n",
      "File \u001b[1;32mD:\\Python\\lib\\site-packages\\pandas\\core\\internals\\managers.py:304\u001b[0m, in \u001b[0;36mBaseBlockManager.apply\u001b[1;34m(self, f, align_keys, ignore_failures, **kwargs)\u001b[0m\n\u001b[0;32m    <a href='file:///d%3A/Python/lib/site-packages/pandas/core/internals/managers.py?line=301'>302</a>\u001b[0m         applied \u001b[39m=\u001b[39m b\u001b[39m.\u001b[39mapply(f, \u001b[39m*\u001b[39m\u001b[39m*\u001b[39mkwargs)\n\u001b[0;32m    <a href='file:///d%3A/Python/lib/site-packages/pandas/core/internals/managers.py?line=302'>303</a>\u001b[0m     \u001b[39melse\u001b[39;00m:\n\u001b[1;32m--> <a href='file:///d%3A/Python/lib/site-packages/pandas/core/internals/managers.py?line=303'>304</a>\u001b[0m         applied \u001b[39m=\u001b[39m \u001b[39mgetattr\u001b[39m(b, f)(\u001b[39m*\u001b[39m\u001b[39m*\u001b[39mkwargs)\n\u001b[0;32m    <a href='file:///d%3A/Python/lib/site-packages/pandas/core/internals/managers.py?line=304'>305</a>\u001b[0m \u001b[39mexcept\u001b[39;00m (\u001b[39mTypeError\u001b[39;00m, \u001b[39mNotImplementedError\u001b[39;00m):\n\u001b[0;32m    <a href='file:///d%3A/Python/lib/site-packages/pandas/core/internals/managers.py?line=305'>306</a>\u001b[0m     \u001b[39mif\u001b[39;00m \u001b[39mnot\u001b[39;00m ignore_failures:\n",
      "File \u001b[1;32mD:\\Python\\lib\\site-packages\\pandas\\core\\internals\\blocks.py:582\u001b[0m, in \u001b[0;36mBlock.astype\u001b[1;34m(self, dtype, copy, errors)\u001b[0m\n\u001b[0;32m    <a href='file:///d%3A/Python/lib/site-packages/pandas/core/internals/blocks.py?line=563'>564</a>\u001b[0m \u001b[39m\"\"\"\u001b[39;00m\n\u001b[0;32m    <a href='file:///d%3A/Python/lib/site-packages/pandas/core/internals/blocks.py?line=564'>565</a>\u001b[0m \u001b[39mCoerce to the new dtype.\u001b[39;00m\n\u001b[0;32m    <a href='file:///d%3A/Python/lib/site-packages/pandas/core/internals/blocks.py?line=565'>566</a>\u001b[0m \n\u001b[1;32m   (...)\u001b[0m\n\u001b[0;32m    <a href='file:///d%3A/Python/lib/site-packages/pandas/core/internals/blocks.py?line=577'>578</a>\u001b[0m \u001b[39mBlock\u001b[39;00m\n\u001b[0;32m    <a href='file:///d%3A/Python/lib/site-packages/pandas/core/internals/blocks.py?line=578'>579</a>\u001b[0m \u001b[39m\"\"\"\u001b[39;00m\n\u001b[0;32m    <a href='file:///d%3A/Python/lib/site-packages/pandas/core/internals/blocks.py?line=579'>580</a>\u001b[0m values \u001b[39m=\u001b[39m \u001b[39mself\u001b[39m\u001b[39m.\u001b[39mvalues\n\u001b[1;32m--> <a href='file:///d%3A/Python/lib/site-packages/pandas/core/internals/blocks.py?line=581'>582</a>\u001b[0m new_values \u001b[39m=\u001b[39m astype_array_safe(values, dtype, copy\u001b[39m=\u001b[39;49mcopy, errors\u001b[39m=\u001b[39;49merrors)\n\u001b[0;32m    <a href='file:///d%3A/Python/lib/site-packages/pandas/core/internals/blocks.py?line=583'>584</a>\u001b[0m new_values \u001b[39m=\u001b[39m maybe_coerce_values(new_values)\n\u001b[0;32m    <a href='file:///d%3A/Python/lib/site-packages/pandas/core/internals/blocks.py?line=584'>585</a>\u001b[0m newb \u001b[39m=\u001b[39m \u001b[39mself\u001b[39m\u001b[39m.\u001b[39mmake_block(new_values)\n",
      "File \u001b[1;32mD:\\Python\\lib\\site-packages\\pandas\\core\\dtypes\\cast.py:1292\u001b[0m, in \u001b[0;36mastype_array_safe\u001b[1;34m(values, dtype, copy, errors)\u001b[0m\n\u001b[0;32m   <a href='file:///d%3A/Python/lib/site-packages/pandas/core/dtypes/cast.py?line=1288'>1289</a>\u001b[0m     dtype \u001b[39m=\u001b[39m dtype\u001b[39m.\u001b[39mnumpy_dtype\n\u001b[0;32m   <a href='file:///d%3A/Python/lib/site-packages/pandas/core/dtypes/cast.py?line=1290'>1291</a>\u001b[0m \u001b[39mtry\u001b[39;00m:\n\u001b[1;32m-> <a href='file:///d%3A/Python/lib/site-packages/pandas/core/dtypes/cast.py?line=1291'>1292</a>\u001b[0m     new_values \u001b[39m=\u001b[39m astype_array(values, dtype, copy\u001b[39m=\u001b[39;49mcopy)\n\u001b[0;32m   <a href='file:///d%3A/Python/lib/site-packages/pandas/core/dtypes/cast.py?line=1292'>1293</a>\u001b[0m \u001b[39mexcept\u001b[39;00m (\u001b[39mValueError\u001b[39;00m, \u001b[39mTypeError\u001b[39;00m):\n\u001b[0;32m   <a href='file:///d%3A/Python/lib/site-packages/pandas/core/dtypes/cast.py?line=1293'>1294</a>\u001b[0m     \u001b[39m# e.g. astype_nansafe can fail on object-dtype of strings\u001b[39;00m\n\u001b[0;32m   <a href='file:///d%3A/Python/lib/site-packages/pandas/core/dtypes/cast.py?line=1294'>1295</a>\u001b[0m     \u001b[39m#  trying to convert to float\u001b[39;00m\n\u001b[0;32m   <a href='file:///d%3A/Python/lib/site-packages/pandas/core/dtypes/cast.py?line=1295'>1296</a>\u001b[0m     \u001b[39mif\u001b[39;00m errors \u001b[39m==\u001b[39m \u001b[39m\"\u001b[39m\u001b[39mignore\u001b[39m\u001b[39m\"\u001b[39m:\n",
      "File \u001b[1;32mD:\\Python\\lib\\site-packages\\pandas\\core\\dtypes\\cast.py:1222\u001b[0m, in \u001b[0;36mastype_array\u001b[1;34m(values, dtype, copy)\u001b[0m\n\u001b[0;32m   <a href='file:///d%3A/Python/lib/site-packages/pandas/core/dtypes/cast.py?line=1213'>1214</a>\u001b[0m \u001b[39mif\u001b[39;00m (\n\u001b[0;32m   <a href='file:///d%3A/Python/lib/site-packages/pandas/core/dtypes/cast.py?line=1214'>1215</a>\u001b[0m     values\u001b[39m.\u001b[39mdtype\u001b[39m.\u001b[39mkind \u001b[39min\u001b[39;00m [\u001b[39m\"\u001b[39m\u001b[39mm\u001b[39m\u001b[39m\"\u001b[39m, \u001b[39m\"\u001b[39m\u001b[39mM\u001b[39m\u001b[39m\"\u001b[39m]\n\u001b[0;32m   <a href='file:///d%3A/Python/lib/site-packages/pandas/core/dtypes/cast.py?line=1215'>1216</a>\u001b[0m     \u001b[39mand\u001b[39;00m dtype\u001b[39m.\u001b[39mkind \u001b[39min\u001b[39;00m [\u001b[39m\"\u001b[39m\u001b[39mi\u001b[39m\u001b[39m\"\u001b[39m, \u001b[39m\"\u001b[39m\u001b[39mu\u001b[39m\u001b[39m\"\u001b[39m]\n\u001b[1;32m   (...)\u001b[0m\n\u001b[0;32m   <a href='file:///d%3A/Python/lib/site-packages/pandas/core/dtypes/cast.py?line=1218'>1219</a>\u001b[0m ):\n\u001b[0;32m   <a href='file:///d%3A/Python/lib/site-packages/pandas/core/dtypes/cast.py?line=1219'>1220</a>\u001b[0m     \u001b[39m# TODO(2.0) remove special case once deprecation on DTA/TDA is enforced\u001b[39;00m\n\u001b[0;32m   <a href='file:///d%3A/Python/lib/site-packages/pandas/core/dtypes/cast.py?line=1220'>1221</a>\u001b[0m     msg \u001b[39m=\u001b[39m \u001b[39mrf\u001b[39m\u001b[39m\"\u001b[39m\u001b[39mcannot astype a datetimelike from [\u001b[39m\u001b[39m{\u001b[39;00mvalues\u001b[39m.\u001b[39mdtype\u001b[39m}\u001b[39;00m\u001b[39m] to [\u001b[39m\u001b[39m{\u001b[39;00mdtype\u001b[39m}\u001b[39;00m\u001b[39m]\u001b[39m\u001b[39m\"\u001b[39m\n\u001b[1;32m-> <a href='file:///d%3A/Python/lib/site-packages/pandas/core/dtypes/cast.py?line=1221'>1222</a>\u001b[0m     \u001b[39mraise\u001b[39;00m \u001b[39mTypeError\u001b[39;00m(msg)\n\u001b[0;32m   <a href='file:///d%3A/Python/lib/site-packages/pandas/core/dtypes/cast.py?line=1223'>1224</a>\u001b[0m \u001b[39mif\u001b[39;00m is_datetime64tz_dtype(dtype) \u001b[39mand\u001b[39;00m is_datetime64_dtype(values\u001b[39m.\u001b[39mdtype):\n\u001b[0;32m   <a href='file:///d%3A/Python/lib/site-packages/pandas/core/dtypes/cast.py?line=1224'>1225</a>\u001b[0m     \u001b[39mreturn\u001b[39;00m astype_dt64_to_dt64tz(values, dtype, copy, via_utc\u001b[39m=\u001b[39m\u001b[39mTrue\u001b[39;00m)\n",
      "\u001b[1;31mTypeError\u001b[0m: cannot astype a datetimelike from [datetime64[ns]] to [int32]"
     ]
    }
   ],
   "source": [
    "df[\"energy(kWh/hh)\"] = pd.to_numeric(df[\"energy(kWh/hh)\"], downcast=\"float\", errors=\"coerce\")\n",
    "df['tstp'] = [datetime.strptime(x, '%Y-%m-%d %H:%M:%S').timestamp() for x in df['tstp']]\n",
    "\n",
    "\n",
    "# id for the household we want to use to train and test\n",
    "id_training = 'MAC000150' \n",
    "id_eval = 'MAC000152'\n",
    "\n",
    "\n",
    "def find_household(identification):\n",
    "    affluenthh_filt = df[\"LCLid\"] == identification\n",
    "    affluent_hh_data = df[affluenthh_filt]\n",
    "    return affluent_hh_data"
   ]
  },
  {
   "cell_type": "code",
   "execution_count": null,
   "metadata": {},
   "outputs": [],
   "source": [
    "training = find_household(id_training)\n",
    "eval = find_household(id_eval)\n",
    "\n",
    "dftrain = training\n",
    "dfeval = eval\n",
    "\n",
    "y_train = dftrain.pop(\"energy(kWh/hh)\")\n",
    "y_eval = dfeval.pop(\"energy(kWh/hh)\")"
   ]
  },
  {
   "cell_type": "code",
   "execution_count": null,
   "metadata": {},
   "outputs": [
    {
     "data": {
      "text/html": [
       "<div>\n",
       "<style scoped>\n",
       "    .dataframe tbody tr th:only-of-type {\n",
       "        vertical-align: middle;\n",
       "    }\n",
       "\n",
       "    .dataframe tbody tr th {\n",
       "        vertical-align: top;\n",
       "    }\n",
       "\n",
       "    .dataframe thead th {\n",
       "        text-align: right;\n",
       "    }\n",
       "</style>\n",
       "<table border=\"1\" class=\"dataframe\">\n",
       "  <thead>\n",
       "    <tr style=\"text-align: right;\">\n",
       "      <th></th>\n",
       "      <th>LCLid</th>\n",
       "      <th>tstp</th>\n",
       "    </tr>\n",
       "  </thead>\n",
       "  <tbody>\n",
       "    <tr>\n",
       "      <th>356842</th>\n",
       "      <td>MAC000150</td>\n",
       "      <td>1.322039e+09</td>\n",
       "    </tr>\n",
       "    <tr>\n",
       "      <th>356843</th>\n",
       "      <td>MAC000150</td>\n",
       "      <td>1.322041e+09</td>\n",
       "    </tr>\n",
       "    <tr>\n",
       "      <th>356844</th>\n",
       "      <td>MAC000150</td>\n",
       "      <td>1.322042e+09</td>\n",
       "    </tr>\n",
       "    <tr>\n",
       "      <th>356845</th>\n",
       "      <td>MAC000150</td>\n",
       "      <td>1.322044e+09</td>\n",
       "    </tr>\n",
       "    <tr>\n",
       "      <th>356846</th>\n",
       "      <td>MAC000150</td>\n",
       "      <td>1.322046e+09</td>\n",
       "    </tr>\n",
       "  </tbody>\n",
       "</table>\n",
       "</div>"
      ],
      "text/plain": [
       "            LCLid          tstp\n",
       "356842  MAC000150  1.322039e+09\n",
       "356843  MAC000150  1.322041e+09\n",
       "356844  MAC000150  1.322042e+09\n",
       "356845  MAC000150  1.322044e+09\n",
       "356846  MAC000150  1.322046e+09"
      ]
     },
     "execution_count": 113,
     "metadata": {},
     "output_type": "execute_result"
    }
   ],
   "source": [
    "dftrain.head()"
   ]
  },
  {
   "cell_type": "code",
   "execution_count": null,
   "metadata": {},
   "outputs": [
    {
     "data": {
      "text/plain": [
       "(39720, 2)"
      ]
     },
     "execution_count": 114,
     "metadata": {},
     "output_type": "execute_result"
    }
   ],
   "source": [
    "dftrain.shape"
   ]
  },
  {
   "cell_type": "code",
   "execution_count": null,
   "metadata": {},
   "outputs": [
    {
     "data": {
      "text/html": [
       "<div>\n",
       "<style scoped>\n",
       "    .dataframe tbody tr th:only-of-type {\n",
       "        vertical-align: middle;\n",
       "    }\n",
       "\n",
       "    .dataframe tbody tr th {\n",
       "        vertical-align: top;\n",
       "    }\n",
       "\n",
       "    .dataframe thead th {\n",
       "        text-align: right;\n",
       "    }\n",
       "</style>\n",
       "<table border=\"1\" class=\"dataframe\">\n",
       "  <thead>\n",
       "    <tr style=\"text-align: right;\">\n",
       "      <th></th>\n",
       "      <th>tstp</th>\n",
       "    </tr>\n",
       "  </thead>\n",
       "  <tbody>\n",
       "    <tr>\n",
       "      <th>count</th>\n",
       "      <td>3.972000e+04</td>\n",
       "    </tr>\n",
       "    <tr>\n",
       "      <th>mean</th>\n",
       "      <td>1.357789e+09</td>\n",
       "    </tr>\n",
       "    <tr>\n",
       "      <th>std</th>\n",
       "      <td>2.064149e+07</td>\n",
       "    </tr>\n",
       "    <tr>\n",
       "      <th>min</th>\n",
       "      <td>1.322039e+09</td>\n",
       "    </tr>\n",
       "    <tr>\n",
       "      <th>25%</th>\n",
       "      <td>1.339912e+09</td>\n",
       "    </tr>\n",
       "    <tr>\n",
       "      <th>50%</th>\n",
       "      <td>1.357790e+09</td>\n",
       "    </tr>\n",
       "    <tr>\n",
       "      <th>75%</th>\n",
       "      <td>1.375663e+09</td>\n",
       "    </tr>\n",
       "    <tr>\n",
       "      <th>max</th>\n",
       "      <td>1.393542e+09</td>\n",
       "    </tr>\n",
       "  </tbody>\n",
       "</table>\n",
       "</div>"
      ],
      "text/plain": [
       "               tstp\n",
       "count  3.972000e+04\n",
       "mean   1.357789e+09\n",
       "std    2.064149e+07\n",
       "min    1.322039e+09\n",
       "25%    1.339912e+09\n",
       "50%    1.357790e+09\n",
       "75%    1.375663e+09\n",
       "max    1.393542e+09"
      ]
     },
     "execution_count": 115,
     "metadata": {},
     "output_type": "execute_result"
    }
   ],
   "source": [
    "dftrain.describe(datetime_is_numeric=True)"
   ]
  },
  {
   "cell_type": "code",
   "execution_count": null,
   "metadata": {},
   "outputs": [
    {
     "data": {
      "text/plain": [
       "356842    0.301\n",
       "356843    0.127\n",
       "356844    0.201\n",
       "356845    0.564\n",
       "356846    0.159\n",
       "Name: energy(kWh/hh), dtype: float32"
      ]
     },
     "execution_count": 116,
     "metadata": {},
     "output_type": "execute_result"
    }
   ],
   "source": [
    "y_train.head()"
   ]
  },
  {
   "cell_type": "code",
   "execution_count": null,
   "metadata": {},
   "outputs": [
    {
     "name": "stdout",
     "output_type": "stream",
     "text": [
      "[VocabularyListCategoricalColumn(key='LCLid', vocabulary_list=('MAC000150',), dtype=tf.string, default_value=-1, num_oov_buckets=0), NumericColumn(key='tstp', shape=(1,), default_value=None, dtype=tf.float32, normalizer_fn=None)]\n"
     ]
    }
   ],
   "source": [
    "CATEGORIAL_COLUMNS = ['LCLid']\n",
    "NUMERIC_COLUMNS = ['tstp']\n",
    "\n",
    "feature_columns = []\n",
    "for feature_name in CATEGORIAL_COLUMNS:\n",
    "    vocabulary = dftrain[feature_name].unique()\n",
    "    feature_columns.append(tf.feature_column.categorical_column_with_vocabulary_list(feature_name, vocabulary))\n",
    "\n",
    "for feature_name in NUMERIC_COLUMNS:\n",
    "    feature_columns.append(tf.feature_column.numeric_column(feature_name, dtype=tf.float32))\n",
    "\n",
    "print(feature_columns)"
   ]
  },
  {
   "cell_type": "code",
   "execution_count": null,
   "metadata": {},
   "outputs": [],
   "source": [
    "#check https://www.tensorflow.org/tutorials/estimator/linear\n",
    "\n",
    "def make_input_fn(data_df, label_df, num_epochs=10, shuffle=True, batch_size=32):\n",
    "  def input_function():  # inner function, this will be returned\n",
    "    ds = tf.data.Dataset.from_tensor_slices((dict(data_df), label_df))  # create tf.data.Dataset object with data and its label\n",
    "    if shuffle:\n",
    "      ds = ds.shuffle(1000)  # randomize order of data\n",
    "    ds = ds.batch(batch_size).repeat(num_epochs)  # split dataset into batches of 32 and repeat process for number of epochs\n",
    "    return ds  # return a batch of the dataset\n",
    "  return input_function  # return a function object for use\n",
    "\n",
    "\n",
    "train_input_fn = make_input_fn(dftrain, y_train)\n",
    "eval_input_fn = make_input_fn(dfeval, y_eval, num_epochs=1, shuffle=False)\n"
   ]
  },
  {
   "cell_type": "code",
   "execution_count": null,
   "metadata": {},
   "outputs": [
    {
     "name": "stdout",
     "output_type": "stream",
     "text": [
      "INFO:tensorflow:Using default config.\n",
      "WARNING:tensorflow:Using temporary folder as model directory: C:\\Users\\denny\\AppData\\Local\\Temp\\tmpuozy8k34\n",
      "INFO:tensorflow:Using config: {'_model_dir': 'C:\\\\Users\\\\denny\\\\AppData\\\\Local\\\\Temp\\\\tmpuozy8k34', '_tf_random_seed': None, '_save_summary_steps': 100, '_save_checkpoints_steps': None, '_save_checkpoints_secs': 600, '_session_config': allow_soft_placement: true\n",
      "graph_options {\n",
      "  rewrite_options {\n",
      "    meta_optimizer_iterations: ONE\n",
      "  }\n",
      "}\n",
      ", '_keep_checkpoint_max': 5, '_keep_checkpoint_every_n_hours': 10000, '_log_step_count_steps': 100, '_train_distribute': None, '_device_fn': None, '_protocol': None, '_eval_distribute': None, '_experimental_distribute': None, '_experimental_max_worker_delay_secs': None, '_session_creation_timeout_secs': 7200, '_checkpoint_save_graph_def': True, '_service': None, '_cluster_spec': ClusterSpec({}), '_task_type': 'worker', '_task_id': 0, '_global_id_in_cluster': 0, '_master': '', '_evaluation_master': '', '_is_chief': True, '_num_ps_replicas': 0, '_num_worker_replicas': 1}\n"
     ]
    }
   ],
   "source": [
    "#Creating the model\n",
    "\n",
    "linear_est = tf.estimator.LinearClassifier(feature_columns=feature_columns)"
   ]
  },
  {
   "cell_type": "code",
   "execution_count": null,
   "metadata": {},
   "outputs": [
    {
     "name": "stdout",
     "output_type": "stream",
     "text": [
      "INFO:tensorflow:Calling model_fn.\n"
     ]
    },
    {
     "name": "stderr",
     "output_type": "stream",
     "text": [
      "D:\\Python\\lib\\site-packages\\tensorflow_estimator\\python\\estimator\\canned\\linear.py:1468: UserWarning: `layer.add_variable` is deprecated and will be removed in a future version. Please use `layer.add_weight` method instead.\n",
      "  self.bias = self.add_variable(\n"
     ]
    },
    {
     "name": "stdout",
     "output_type": "stream",
     "text": [
      "INFO:tensorflow:Done calling model_fn.\n",
      "INFO:tensorflow:Create CheckpointSaverHook.\n",
      "INFO:tensorflow:Graph was finalized.\n",
      "INFO:tensorflow:Running local_init_op.\n",
      "INFO:tensorflow:Done running local_init_op.\n",
      "INFO:tensorflow:Calling checkpoint listeners before saving checkpoint 0...\n",
      "INFO:tensorflow:Saving checkpoints for 0 into C:\\Users\\denny\\AppData\\Local\\Temp\\tmpuozy8k34\\model.ckpt.\n",
      "INFO:tensorflow:Calling checkpoint listeners after saving checkpoint 0...\n"
     ]
    },
    {
     "ename": "InvalidArgumentError",
     "evalue": "Graph execution error:\n\nassertion failed: [Labels must be <= n_classes - 1] [Condition x <= y did not hold element-wise:] [x (head/losses/labels:0) = ] [[0.36][0.141][0.217]...] [y (head/losses/check_label_range/Const:0) = ] [1]\n\t [[{{node Assert}}]]",
     "output_type": "error",
     "traceback": [
      "\u001b[1;31m---------------------------------------------------------------------------\u001b[0m",
      "\u001b[1;31mInvalidArgumentError\u001b[0m                      Traceback (most recent call last)",
      "File \u001b[1;32mD:\\Python\\lib\\site-packages\\tensorflow\\python\\client\\session.py:1377\u001b[0m, in \u001b[0;36mBaseSession._do_call\u001b[1;34m(self, fn, *args)\u001b[0m\n\u001b[0;32m   <a href='file:///d%3A/Python/lib/site-packages/tensorflow/python/client/session.py?line=1375'>1376</a>\u001b[0m \u001b[39mtry\u001b[39;00m:\n\u001b[1;32m-> <a href='file:///d%3A/Python/lib/site-packages/tensorflow/python/client/session.py?line=1376'>1377</a>\u001b[0m   \u001b[39mreturn\u001b[39;00m fn(\u001b[39m*\u001b[39;49margs)\n\u001b[0;32m   <a href='file:///d%3A/Python/lib/site-packages/tensorflow/python/client/session.py?line=1377'>1378</a>\u001b[0m \u001b[39mexcept\u001b[39;00m errors\u001b[39m.\u001b[39mOpError \u001b[39mas\u001b[39;00m e:\n",
      "File \u001b[1;32mD:\\Python\\lib\\site-packages\\tensorflow\\python\\client\\session.py:1360\u001b[0m, in \u001b[0;36mBaseSession._do_run.<locals>._run_fn\u001b[1;34m(feed_dict, fetch_list, target_list, options, run_metadata)\u001b[0m\n\u001b[0;32m   <a href='file:///d%3A/Python/lib/site-packages/tensorflow/python/client/session.py?line=1358'>1359</a>\u001b[0m \u001b[39mself\u001b[39m\u001b[39m.\u001b[39m_extend_graph()\n\u001b[1;32m-> <a href='file:///d%3A/Python/lib/site-packages/tensorflow/python/client/session.py?line=1359'>1360</a>\u001b[0m \u001b[39mreturn\u001b[39;00m \u001b[39mself\u001b[39;49m\u001b[39m.\u001b[39;49m_call_tf_sessionrun(options, feed_dict, fetch_list,\n\u001b[0;32m   <a href='file:///d%3A/Python/lib/site-packages/tensorflow/python/client/session.py?line=1360'>1361</a>\u001b[0m                                 target_list, run_metadata)\n",
      "File \u001b[1;32mD:\\Python\\lib\\site-packages\\tensorflow\\python\\client\\session.py:1453\u001b[0m, in \u001b[0;36mBaseSession._call_tf_sessionrun\u001b[1;34m(self, options, feed_dict, fetch_list, target_list, run_metadata)\u001b[0m\n\u001b[0;32m   <a href='file:///d%3A/Python/lib/site-packages/tensorflow/python/client/session.py?line=1450'>1451</a>\u001b[0m \u001b[39mdef\u001b[39;00m \u001b[39m_call_tf_sessionrun\u001b[39m(\u001b[39mself\u001b[39m, options, feed_dict, fetch_list, target_list,\n\u001b[0;32m   <a href='file:///d%3A/Python/lib/site-packages/tensorflow/python/client/session.py?line=1451'>1452</a>\u001b[0m                         run_metadata):\n\u001b[1;32m-> <a href='file:///d%3A/Python/lib/site-packages/tensorflow/python/client/session.py?line=1452'>1453</a>\u001b[0m   \u001b[39mreturn\u001b[39;00m tf_session\u001b[39m.\u001b[39;49mTF_SessionRun_wrapper(\u001b[39mself\u001b[39;49m\u001b[39m.\u001b[39;49m_session, options, feed_dict,\n\u001b[0;32m   <a href='file:///d%3A/Python/lib/site-packages/tensorflow/python/client/session.py?line=1453'>1454</a>\u001b[0m                                           fetch_list, target_list,\n\u001b[0;32m   <a href='file:///d%3A/Python/lib/site-packages/tensorflow/python/client/session.py?line=1454'>1455</a>\u001b[0m                                           run_metadata)\n",
      "\u001b[1;31mInvalidArgumentError\u001b[0m: assertion failed: [Labels must be <= n_classes - 1] [Condition x <= y did not hold element-wise:] [x (head/losses/labels:0) = ] [[0.36][0.141][0.217]...] [y (head/losses/check_label_range/Const:0) = ] [1]\n\t [[{{function_node head_losses_check_label_range_assert_less_equal_Assert_AssertGuard_false_5842}}{{node Assert}}]]",
      "\nDuring handling of the above exception, another exception occurred:\n",
      "\u001b[1;31mInvalidArgumentError\u001b[0m                      Traceback (most recent call last)",
      "\u001b[1;32md:\\OneDrive - Universitetet i Stavanger\\Bachelor\\test_model.ipynb Cell 14'\u001b[0m in \u001b[0;36m<module>\u001b[1;34m\u001b[0m\n\u001b[1;32m----> <a href='vscode-notebook-cell:/d%3A/OneDrive%20-%20Universitetet%20i%20Stavanger/Bachelor/test_model.ipynb#ch0000028?line=0'>1</a>\u001b[0m linear_est\u001b[39m.\u001b[39;49mtrain(train_input_fn)\n\u001b[0;32m      <a href='vscode-notebook-cell:/d%3A/OneDrive%20-%20Universitetet%20i%20Stavanger/Bachelor/test_model.ipynb#ch0000028?line=1'>2</a>\u001b[0m result \u001b[39m=\u001b[39m linear_est\u001b[39m.\u001b[39mevaluate(eval_input_fn)\n\u001b[0;32m      <a href='vscode-notebook-cell:/d%3A/OneDrive%20-%20Universitetet%20i%20Stavanger/Bachelor/test_model.ipynb#ch0000028?line=3'>4</a>\u001b[0m clear_output()\n",
      "File \u001b[1;32mD:\\Python\\lib\\site-packages\\tensorflow_estimator\\python\\estimator\\estimator.py:360\u001b[0m, in \u001b[0;36mEstimator.train\u001b[1;34m(self, input_fn, hooks, steps, max_steps, saving_listeners)\u001b[0m\n\u001b[0;32m    <a href='file:///d%3A/Python/lib/site-packages/tensorflow_estimator/python/estimator/estimator.py?line=356'>357</a>\u001b[0m hooks\u001b[39m.\u001b[39mextend(\u001b[39mself\u001b[39m\u001b[39m.\u001b[39m_convert_train_steps_to_hooks(steps, max_steps))\n\u001b[0;32m    <a href='file:///d%3A/Python/lib/site-packages/tensorflow_estimator/python/estimator/estimator.py?line=358'>359</a>\u001b[0m saving_listeners \u001b[39m=\u001b[39m _check_listeners_type(saving_listeners)\n\u001b[1;32m--> <a href='file:///d%3A/Python/lib/site-packages/tensorflow_estimator/python/estimator/estimator.py?line=359'>360</a>\u001b[0m loss \u001b[39m=\u001b[39m \u001b[39mself\u001b[39;49m\u001b[39m.\u001b[39;49m_train_model(input_fn, hooks, saving_listeners)\n\u001b[0;32m    <a href='file:///d%3A/Python/lib/site-packages/tensorflow_estimator/python/estimator/estimator.py?line=360'>361</a>\u001b[0m logging\u001b[39m.\u001b[39minfo(\u001b[39m'\u001b[39m\u001b[39mLoss for final step: \u001b[39m\u001b[39m%s\u001b[39;00m\u001b[39m.\u001b[39m\u001b[39m'\u001b[39m, loss)\n\u001b[0;32m    <a href='file:///d%3A/Python/lib/site-packages/tensorflow_estimator/python/estimator/estimator.py?line=361'>362</a>\u001b[0m \u001b[39mreturn\u001b[39;00m \u001b[39mself\u001b[39m\n",
      "File \u001b[1;32mD:\\Python\\lib\\site-packages\\tensorflow_estimator\\python\\estimator\\estimator.py:1186\u001b[0m, in \u001b[0;36mEstimator._train_model\u001b[1;34m(self, input_fn, hooks, saving_listeners)\u001b[0m\n\u001b[0;32m   <a href='file:///d%3A/Python/lib/site-packages/tensorflow_estimator/python/estimator/estimator.py?line=1183'>1184</a>\u001b[0m   \u001b[39mreturn\u001b[39;00m \u001b[39mself\u001b[39m\u001b[39m.\u001b[39m_train_model_distributed(input_fn, hooks, saving_listeners)\n\u001b[0;32m   <a href='file:///d%3A/Python/lib/site-packages/tensorflow_estimator/python/estimator/estimator.py?line=1184'>1185</a>\u001b[0m \u001b[39melse\u001b[39;00m:\n\u001b[1;32m-> <a href='file:///d%3A/Python/lib/site-packages/tensorflow_estimator/python/estimator/estimator.py?line=1185'>1186</a>\u001b[0m   \u001b[39mreturn\u001b[39;00m \u001b[39mself\u001b[39;49m\u001b[39m.\u001b[39;49m_train_model_default(input_fn, hooks, saving_listeners)\n",
      "File \u001b[1;32mD:\\Python\\lib\\site-packages\\tensorflow_estimator\\python\\estimator\\estimator.py:1217\u001b[0m, in \u001b[0;36mEstimator._train_model_default\u001b[1;34m(self, input_fn, hooks, saving_listeners)\u001b[0m\n\u001b[0;32m   <a href='file:///d%3A/Python/lib/site-packages/tensorflow_estimator/python/estimator/estimator.py?line=1213'>1214</a>\u001b[0m estimator_spec \u001b[39m=\u001b[39m \u001b[39mself\u001b[39m\u001b[39m.\u001b[39m_call_model_fn(features, labels, ModeKeys\u001b[39m.\u001b[39mTRAIN,\n\u001b[0;32m   <a href='file:///d%3A/Python/lib/site-packages/tensorflow_estimator/python/estimator/estimator.py?line=1214'>1215</a>\u001b[0m                                      \u001b[39mself\u001b[39m\u001b[39m.\u001b[39mconfig)\n\u001b[0;32m   <a href='file:///d%3A/Python/lib/site-packages/tensorflow_estimator/python/estimator/estimator.py?line=1215'>1216</a>\u001b[0m global_step_tensor \u001b[39m=\u001b[39m tf\u001b[39m.\u001b[39mcompat\u001b[39m.\u001b[39mv1\u001b[39m.\u001b[39mtrain\u001b[39m.\u001b[39mget_global_step(g)\n\u001b[1;32m-> <a href='file:///d%3A/Python/lib/site-packages/tensorflow_estimator/python/estimator/estimator.py?line=1216'>1217</a>\u001b[0m \u001b[39mreturn\u001b[39;00m \u001b[39mself\u001b[39;49m\u001b[39m.\u001b[39;49m_train_with_estimator_spec(estimator_spec, worker_hooks,\n\u001b[0;32m   <a href='file:///d%3A/Python/lib/site-packages/tensorflow_estimator/python/estimator/estimator.py?line=1217'>1218</a>\u001b[0m                                        hooks, global_step_tensor,\n\u001b[0;32m   <a href='file:///d%3A/Python/lib/site-packages/tensorflow_estimator/python/estimator/estimator.py?line=1218'>1219</a>\u001b[0m                                        saving_listeners)\n",
      "File \u001b[1;32mD:\\Python\\lib\\site-packages\\tensorflow_estimator\\python\\estimator\\estimator.py:1533\u001b[0m, in \u001b[0;36mEstimator._train_with_estimator_spec\u001b[1;34m(self, estimator_spec, worker_hooks, hooks, global_step_tensor, saving_listeners)\u001b[0m\n\u001b[0;32m   <a href='file:///d%3A/Python/lib/site-packages/tensorflow_estimator/python/estimator/estimator.py?line=1529'>1530</a>\u001b[0m   \u001b[39m# just as keras(https://github.com/tensorflow/tensorflow/blob/v2.4.1/tensorflow/python/keras/engine/training.py#L1093),\u001b[39;00m\n\u001b[0;32m   <a href='file:///d%3A/Python/lib/site-packages/tensorflow_estimator/python/estimator/estimator.py?line=1530'>1531</a>\u001b[0m   \u001b[39m# trace should be enabled for every step\u001b[39;00m\n\u001b[0;32m   <a href='file:///d%3A/Python/lib/site-packages/tensorflow_estimator/python/estimator/estimator.py?line=1531'>1532</a>\u001b[0m   \u001b[39mwith\u001b[39;00m trace\u001b[39m.\u001b[39mTrace(\u001b[39m'\u001b[39m\u001b[39mtrain\u001b[39m\u001b[39m'\u001b[39m, step_num\u001b[39m=\u001b[39mcurrent_step, _r\u001b[39m=\u001b[39m\u001b[39m1\u001b[39m):\n\u001b[1;32m-> <a href='file:///d%3A/Python/lib/site-packages/tensorflow_estimator/python/estimator/estimator.py?line=1532'>1533</a>\u001b[0m     _, loss \u001b[39m=\u001b[39m mon_sess\u001b[39m.\u001b[39;49mrun([estimator_spec\u001b[39m.\u001b[39;49mtrain_op, estimator_spec\u001b[39m.\u001b[39;49mloss])\n\u001b[0;32m   <a href='file:///d%3A/Python/lib/site-packages/tensorflow_estimator/python/estimator/estimator.py?line=1533'>1534</a>\u001b[0m \u001b[39mif\u001b[39;00m current_step \u001b[39m==\u001b[39m \u001b[39m0\u001b[39m:\n\u001b[0;32m   <a href='file:///d%3A/Python/lib/site-packages/tensorflow_estimator/python/estimator/estimator.py?line=1534'>1535</a>\u001b[0m   tf\u001b[39m.\u001b[39mcompat\u001b[39m.\u001b[39mv1\u001b[39m.\u001b[39mlogging\u001b[39m.\u001b[39mwarn(\u001b[39m'\u001b[39m\u001b[39mTraining with estimator made no steps. \u001b[39m\u001b[39m'\u001b[39m\n\u001b[0;32m   <a href='file:///d%3A/Python/lib/site-packages/tensorflow_estimator/python/estimator/estimator.py?line=1535'>1536</a>\u001b[0m                             \u001b[39m'\u001b[39m\u001b[39mPerhaps input is empty or misspecified.\u001b[39m\u001b[39m'\u001b[39m)\n",
      "File \u001b[1;32mD:\\Python\\lib\\site-packages\\tensorflow\\python\\training\\monitored_session.py:782\u001b[0m, in \u001b[0;36m_MonitoredSession.run\u001b[1;34m(self, fetches, feed_dict, options, run_metadata)\u001b[0m\n\u001b[0;32m    <a href='file:///d%3A/Python/lib/site-packages/tensorflow/python/training/monitored_session.py?line=767'>768</a>\u001b[0m \u001b[39mdef\u001b[39;00m \u001b[39mrun\u001b[39m(\u001b[39mself\u001b[39m, fetches, feed_dict\u001b[39m=\u001b[39m\u001b[39mNone\u001b[39;00m, options\u001b[39m=\u001b[39m\u001b[39mNone\u001b[39;00m, run_metadata\u001b[39m=\u001b[39m\u001b[39mNone\u001b[39;00m):\n\u001b[0;32m    <a href='file:///d%3A/Python/lib/site-packages/tensorflow/python/training/monitored_session.py?line=768'>769</a>\u001b[0m   \u001b[39m\"\"\"Run ops in the monitored session.\u001b[39;00m\n\u001b[0;32m    <a href='file:///d%3A/Python/lib/site-packages/tensorflow/python/training/monitored_session.py?line=769'>770</a>\u001b[0m \n\u001b[0;32m    <a href='file:///d%3A/Python/lib/site-packages/tensorflow/python/training/monitored_session.py?line=770'>771</a>\u001b[0m \u001b[39m  This method is completely compatible with the `tf.Session.run()` method.\u001b[39;00m\n\u001b[1;32m   (...)\u001b[0m\n\u001b[0;32m    <a href='file:///d%3A/Python/lib/site-packages/tensorflow/python/training/monitored_session.py?line=779'>780</a>\u001b[0m \u001b[39m    Same as `tf.Session.run()`.\u001b[39;00m\n\u001b[0;32m    <a href='file:///d%3A/Python/lib/site-packages/tensorflow/python/training/monitored_session.py?line=780'>781</a>\u001b[0m \u001b[39m  \"\"\"\u001b[39;00m\n\u001b[1;32m--> <a href='file:///d%3A/Python/lib/site-packages/tensorflow/python/training/monitored_session.py?line=781'>782</a>\u001b[0m   \u001b[39mreturn\u001b[39;00m \u001b[39mself\u001b[39;49m\u001b[39m.\u001b[39;49m_sess\u001b[39m.\u001b[39;49mrun(\n\u001b[0;32m    <a href='file:///d%3A/Python/lib/site-packages/tensorflow/python/training/monitored_session.py?line=782'>783</a>\u001b[0m       fetches,\n\u001b[0;32m    <a href='file:///d%3A/Python/lib/site-packages/tensorflow/python/training/monitored_session.py?line=783'>784</a>\u001b[0m       feed_dict\u001b[39m=\u001b[39;49mfeed_dict,\n\u001b[0;32m    <a href='file:///d%3A/Python/lib/site-packages/tensorflow/python/training/monitored_session.py?line=784'>785</a>\u001b[0m       options\u001b[39m=\u001b[39;49moptions,\n\u001b[0;32m    <a href='file:///d%3A/Python/lib/site-packages/tensorflow/python/training/monitored_session.py?line=785'>786</a>\u001b[0m       run_metadata\u001b[39m=\u001b[39;49mrun_metadata)\n",
      "File \u001b[1;32mD:\\Python\\lib\\site-packages\\tensorflow\\python\\training\\monitored_session.py:1311\u001b[0m, in \u001b[0;36m_RecoverableSession.run\u001b[1;34m(self, fetches, feed_dict, options, run_metadata)\u001b[0m\n\u001b[0;32m   <a href='file:///d%3A/Python/lib/site-packages/tensorflow/python/training/monitored_session.py?line=1308'>1309</a>\u001b[0m   \u001b[39mif\u001b[39;00m \u001b[39mnot\u001b[39;00m \u001b[39mself\u001b[39m\u001b[39m.\u001b[39m_sess:\n\u001b[0;32m   <a href='file:///d%3A/Python/lib/site-packages/tensorflow/python/training/monitored_session.py?line=1309'>1310</a>\u001b[0m     \u001b[39mself\u001b[39m\u001b[39m.\u001b[39m_sess \u001b[39m=\u001b[39m \u001b[39mself\u001b[39m\u001b[39m.\u001b[39m_create_session()\n\u001b[1;32m-> <a href='file:///d%3A/Python/lib/site-packages/tensorflow/python/training/monitored_session.py?line=1310'>1311</a>\u001b[0m   \u001b[39mreturn\u001b[39;00m \u001b[39mself\u001b[39;49m\u001b[39m.\u001b[39;49m_sess\u001b[39m.\u001b[39;49mrun(\n\u001b[0;32m   <a href='file:///d%3A/Python/lib/site-packages/tensorflow/python/training/monitored_session.py?line=1311'>1312</a>\u001b[0m       fetches,\n\u001b[0;32m   <a href='file:///d%3A/Python/lib/site-packages/tensorflow/python/training/monitored_session.py?line=1312'>1313</a>\u001b[0m       feed_dict\u001b[39m=\u001b[39;49mfeed_dict,\n\u001b[0;32m   <a href='file:///d%3A/Python/lib/site-packages/tensorflow/python/training/monitored_session.py?line=1313'>1314</a>\u001b[0m       options\u001b[39m=\u001b[39;49moptions,\n\u001b[0;32m   <a href='file:///d%3A/Python/lib/site-packages/tensorflow/python/training/monitored_session.py?line=1314'>1315</a>\u001b[0m       run_metadata\u001b[39m=\u001b[39;49mrun_metadata)\n\u001b[0;32m   <a href='file:///d%3A/Python/lib/site-packages/tensorflow/python/training/monitored_session.py?line=1315'>1316</a>\u001b[0m \u001b[39mexcept\u001b[39;00m _PREEMPTION_ERRORS \u001b[39mas\u001b[39;00m e:\n\u001b[0;32m   <a href='file:///d%3A/Python/lib/site-packages/tensorflow/python/training/monitored_session.py?line=1316'>1317</a>\u001b[0m   logging\u001b[39m.\u001b[39minfo(\n\u001b[0;32m   <a href='file:///d%3A/Python/lib/site-packages/tensorflow/python/training/monitored_session.py?line=1317'>1318</a>\u001b[0m       \u001b[39m'\u001b[39m\u001b[39mAn error was raised. This may be due to a preemption in \u001b[39m\u001b[39m'\u001b[39m\n\u001b[0;32m   <a href='file:///d%3A/Python/lib/site-packages/tensorflow/python/training/monitored_session.py?line=1318'>1319</a>\u001b[0m       \u001b[39m'\u001b[39m\u001b[39ma connected worker or parameter server. The current \u001b[39m\u001b[39m'\u001b[39m\n\u001b[1;32m   (...)\u001b[0m\n\u001b[0;32m   <a href='file:///d%3A/Python/lib/site-packages/tensorflow/python/training/monitored_session.py?line=1323'>1324</a>\u001b[0m       \u001b[39m'\u001b[39m\u001b[39mincreasing the number of parameter servers assigned to \u001b[39m\u001b[39m'\u001b[39m\n\u001b[0;32m   <a href='file:///d%3A/Python/lib/site-packages/tensorflow/python/training/monitored_session.py?line=1324'>1325</a>\u001b[0m       \u001b[39m'\u001b[39m\u001b[39mthe job. Error: \u001b[39m\u001b[39m%s\u001b[39;00m\u001b[39m'\u001b[39m, e)\n",
      "File \u001b[1;32mD:\\Python\\lib\\site-packages\\tensorflow\\python\\training\\monitored_session.py:1416\u001b[0m, in \u001b[0;36m_CoordinatedSession.run\u001b[1;34m(self, *args, **kwargs)\u001b[0m\n\u001b[0;32m   <a href='file:///d%3A/Python/lib/site-packages/tensorflow/python/training/monitored_session.py?line=1413'>1414</a>\u001b[0m   \u001b[39mraise\u001b[39;00m six\u001b[39m.\u001b[39mreraise(\u001b[39m*\u001b[39moriginal_exc_info)\n\u001b[0;32m   <a href='file:///d%3A/Python/lib/site-packages/tensorflow/python/training/monitored_session.py?line=1414'>1415</a>\u001b[0m \u001b[39melse\u001b[39;00m:\n\u001b[1;32m-> <a href='file:///d%3A/Python/lib/site-packages/tensorflow/python/training/monitored_session.py?line=1415'>1416</a>\u001b[0m   \u001b[39mraise\u001b[39;00m six\u001b[39m.\u001b[39;49mreraise(\u001b[39m*\u001b[39;49moriginal_exc_info)\n",
      "File \u001b[1;32m~\\AppData\\Roaming\\Python\\Python310\\site-packages\\six.py:719\u001b[0m, in \u001b[0;36mreraise\u001b[1;34m(tp, value, tb)\u001b[0m\n\u001b[0;32m    <a href='file:///~/AppData/Roaming/Python/Python310/site-packages/six.py?line=716'>717</a>\u001b[0m     \u001b[39mif\u001b[39;00m value\u001b[39m.\u001b[39m__traceback__ \u001b[39mis\u001b[39;00m \u001b[39mnot\u001b[39;00m tb:\n\u001b[0;32m    <a href='file:///~/AppData/Roaming/Python/Python310/site-packages/six.py?line=717'>718</a>\u001b[0m         \u001b[39mraise\u001b[39;00m value\u001b[39m.\u001b[39mwith_traceback(tb)\n\u001b[1;32m--> <a href='file:///~/AppData/Roaming/Python/Python310/site-packages/six.py?line=718'>719</a>\u001b[0m     \u001b[39mraise\u001b[39;00m value\n\u001b[0;32m    <a href='file:///~/AppData/Roaming/Python/Python310/site-packages/six.py?line=719'>720</a>\u001b[0m \u001b[39mfinally\u001b[39;00m:\n\u001b[0;32m    <a href='file:///~/AppData/Roaming/Python/Python310/site-packages/six.py?line=720'>721</a>\u001b[0m     value \u001b[39m=\u001b[39m \u001b[39mNone\u001b[39;00m\n",
      "File \u001b[1;32mD:\\Python\\lib\\site-packages\\tensorflow\\python\\training\\monitored_session.py:1401\u001b[0m, in \u001b[0;36m_CoordinatedSession.run\u001b[1;34m(self, *args, **kwargs)\u001b[0m\n\u001b[0;32m   <a href='file:///d%3A/Python/lib/site-packages/tensorflow/python/training/monitored_session.py?line=1398'>1399</a>\u001b[0m \u001b[39mdef\u001b[39;00m \u001b[39mrun\u001b[39m(\u001b[39mself\u001b[39m, \u001b[39m*\u001b[39margs, \u001b[39m*\u001b[39m\u001b[39m*\u001b[39mkwargs):\n\u001b[0;32m   <a href='file:///d%3A/Python/lib/site-packages/tensorflow/python/training/monitored_session.py?line=1399'>1400</a>\u001b[0m   \u001b[39mtry\u001b[39;00m:\n\u001b[1;32m-> <a href='file:///d%3A/Python/lib/site-packages/tensorflow/python/training/monitored_session.py?line=1400'>1401</a>\u001b[0m     \u001b[39mreturn\u001b[39;00m \u001b[39mself\u001b[39m\u001b[39m.\u001b[39m_sess\u001b[39m.\u001b[39mrun(\u001b[39m*\u001b[39margs, \u001b[39m*\u001b[39m\u001b[39m*\u001b[39mkwargs)\n\u001b[0;32m   <a href='file:///d%3A/Python/lib/site-packages/tensorflow/python/training/monitored_session.py?line=1401'>1402</a>\u001b[0m   \u001b[39mexcept\u001b[39;00m _PREEMPTION_ERRORS:\n\u001b[0;32m   <a href='file:///d%3A/Python/lib/site-packages/tensorflow/python/training/monitored_session.py?line=1402'>1403</a>\u001b[0m     \u001b[39mraise\u001b[39;00m\n",
      "File \u001b[1;32mD:\\Python\\lib\\site-packages\\tensorflow\\python\\training\\monitored_session.py:1469\u001b[0m, in \u001b[0;36m_HookedSession.run\u001b[1;34m(self, fetches, feed_dict, options, run_metadata)\u001b[0m\n\u001b[0;32m   <a href='file:///d%3A/Python/lib/site-packages/tensorflow/python/training/monitored_session.py?line=1466'>1467</a>\u001b[0m \u001b[39m# Do session run.\u001b[39;00m\n\u001b[0;32m   <a href='file:///d%3A/Python/lib/site-packages/tensorflow/python/training/monitored_session.py?line=1467'>1468</a>\u001b[0m run_metadata \u001b[39m=\u001b[39m run_metadata \u001b[39mor\u001b[39;00m config_pb2\u001b[39m.\u001b[39mRunMetadata()\n\u001b[1;32m-> <a href='file:///d%3A/Python/lib/site-packages/tensorflow/python/training/monitored_session.py?line=1468'>1469</a>\u001b[0m outputs \u001b[39m=\u001b[39m _WrappedSession\u001b[39m.\u001b[39;49mrun(\n\u001b[0;32m   <a href='file:///d%3A/Python/lib/site-packages/tensorflow/python/training/monitored_session.py?line=1469'>1470</a>\u001b[0m     \u001b[39mself\u001b[39;49m,\n\u001b[0;32m   <a href='file:///d%3A/Python/lib/site-packages/tensorflow/python/training/monitored_session.py?line=1470'>1471</a>\u001b[0m     fetches\u001b[39m=\u001b[39;49mactual_fetches,\n\u001b[0;32m   <a href='file:///d%3A/Python/lib/site-packages/tensorflow/python/training/monitored_session.py?line=1471'>1472</a>\u001b[0m     feed_dict\u001b[39m=\u001b[39;49mfeed_dict,\n\u001b[0;32m   <a href='file:///d%3A/Python/lib/site-packages/tensorflow/python/training/monitored_session.py?line=1472'>1473</a>\u001b[0m     options\u001b[39m=\u001b[39;49moptions,\n\u001b[0;32m   <a href='file:///d%3A/Python/lib/site-packages/tensorflow/python/training/monitored_session.py?line=1473'>1474</a>\u001b[0m     run_metadata\u001b[39m=\u001b[39;49mrun_metadata)\n\u001b[0;32m   <a href='file:///d%3A/Python/lib/site-packages/tensorflow/python/training/monitored_session.py?line=1475'>1476</a>\u001b[0m \u001b[39mfor\u001b[39;00m hook \u001b[39min\u001b[39;00m \u001b[39mself\u001b[39m\u001b[39m.\u001b[39m_hooks:\n\u001b[0;32m   <a href='file:///d%3A/Python/lib/site-packages/tensorflow/python/training/monitored_session.py?line=1476'>1477</a>\u001b[0m   hook\u001b[39m.\u001b[39mafter_run(\n\u001b[0;32m   <a href='file:///d%3A/Python/lib/site-packages/tensorflow/python/training/monitored_session.py?line=1477'>1478</a>\u001b[0m       run_context,\n\u001b[0;32m   <a href='file:///d%3A/Python/lib/site-packages/tensorflow/python/training/monitored_session.py?line=1478'>1479</a>\u001b[0m       session_run_hook\u001b[39m.\u001b[39mSessionRunValues(\n\u001b[0;32m   <a href='file:///d%3A/Python/lib/site-packages/tensorflow/python/training/monitored_session.py?line=1479'>1480</a>\u001b[0m           results\u001b[39m=\u001b[39moutputs[hook] \u001b[39mif\u001b[39;00m hook \u001b[39min\u001b[39;00m outputs \u001b[39melse\u001b[39;00m \u001b[39mNone\u001b[39;00m,\n\u001b[0;32m   <a href='file:///d%3A/Python/lib/site-packages/tensorflow/python/training/monitored_session.py?line=1480'>1481</a>\u001b[0m           options\u001b[39m=\u001b[39moptions,\n\u001b[0;32m   <a href='file:///d%3A/Python/lib/site-packages/tensorflow/python/training/monitored_session.py?line=1481'>1482</a>\u001b[0m           run_metadata\u001b[39m=\u001b[39mrun_metadata))\n",
      "File \u001b[1;32mD:\\Python\\lib\\site-packages\\tensorflow\\python\\training\\monitored_session.py:1232\u001b[0m, in \u001b[0;36m_WrappedSession.run\u001b[1;34m(self, *args, **kwargs)\u001b[0m\n\u001b[0;32m   <a href='file:///d%3A/Python/lib/site-packages/tensorflow/python/training/monitored_session.py?line=1230'>1231</a>\u001b[0m \u001b[39mdef\u001b[39;00m \u001b[39mrun\u001b[39m(\u001b[39mself\u001b[39m, \u001b[39m*\u001b[39margs, \u001b[39m*\u001b[39m\u001b[39m*\u001b[39mkwargs):\n\u001b[1;32m-> <a href='file:///d%3A/Python/lib/site-packages/tensorflow/python/training/monitored_session.py?line=1231'>1232</a>\u001b[0m   \u001b[39mreturn\u001b[39;00m \u001b[39mself\u001b[39m\u001b[39m.\u001b[39m_sess\u001b[39m.\u001b[39mrun(\u001b[39m*\u001b[39margs, \u001b[39m*\u001b[39m\u001b[39m*\u001b[39mkwargs)\n",
      "File \u001b[1;32mD:\\Python\\lib\\site-packages\\tensorflow\\python\\client\\session.py:967\u001b[0m, in \u001b[0;36mBaseSession.run\u001b[1;34m(self, fetches, feed_dict, options, run_metadata)\u001b[0m\n\u001b[0;32m    <a href='file:///d%3A/Python/lib/site-packages/tensorflow/python/client/session.py?line=963'>964</a>\u001b[0m run_metadata_ptr \u001b[39m=\u001b[39m tf_session\u001b[39m.\u001b[39mTF_NewBuffer() \u001b[39mif\u001b[39;00m run_metadata \u001b[39melse\u001b[39;00m \u001b[39mNone\u001b[39;00m\n\u001b[0;32m    <a href='file:///d%3A/Python/lib/site-packages/tensorflow/python/client/session.py?line=965'>966</a>\u001b[0m \u001b[39mtry\u001b[39;00m:\n\u001b[1;32m--> <a href='file:///d%3A/Python/lib/site-packages/tensorflow/python/client/session.py?line=966'>967</a>\u001b[0m   result \u001b[39m=\u001b[39m \u001b[39mself\u001b[39;49m\u001b[39m.\u001b[39;49m_run(\u001b[39mNone\u001b[39;49;00m, fetches, feed_dict, options_ptr,\n\u001b[0;32m    <a href='file:///d%3A/Python/lib/site-packages/tensorflow/python/client/session.py?line=967'>968</a>\u001b[0m                      run_metadata_ptr)\n\u001b[0;32m    <a href='file:///d%3A/Python/lib/site-packages/tensorflow/python/client/session.py?line=968'>969</a>\u001b[0m   \u001b[39mif\u001b[39;00m run_metadata:\n\u001b[0;32m    <a href='file:///d%3A/Python/lib/site-packages/tensorflow/python/client/session.py?line=969'>970</a>\u001b[0m     proto_data \u001b[39m=\u001b[39m tf_session\u001b[39m.\u001b[39mTF_GetBuffer(run_metadata_ptr)\n",
      "File \u001b[1;32mD:\\Python\\lib\\site-packages\\tensorflow\\python\\client\\session.py:1190\u001b[0m, in \u001b[0;36mBaseSession._run\u001b[1;34m(self, handle, fetches, feed_dict, options, run_metadata)\u001b[0m\n\u001b[0;32m   <a href='file:///d%3A/Python/lib/site-packages/tensorflow/python/client/session.py?line=1186'>1187</a>\u001b[0m \u001b[39m# We only want to really perform the run if fetches or targets are provided,\u001b[39;00m\n\u001b[0;32m   <a href='file:///d%3A/Python/lib/site-packages/tensorflow/python/client/session.py?line=1187'>1188</a>\u001b[0m \u001b[39m# or if the call is a partial run that specifies feeds.\u001b[39;00m\n\u001b[0;32m   <a href='file:///d%3A/Python/lib/site-packages/tensorflow/python/client/session.py?line=1188'>1189</a>\u001b[0m \u001b[39mif\u001b[39;00m final_fetches \u001b[39mor\u001b[39;00m final_targets \u001b[39mor\u001b[39;00m (handle \u001b[39mand\u001b[39;00m feed_dict_tensor):\n\u001b[1;32m-> <a href='file:///d%3A/Python/lib/site-packages/tensorflow/python/client/session.py?line=1189'>1190</a>\u001b[0m   results \u001b[39m=\u001b[39m \u001b[39mself\u001b[39;49m\u001b[39m.\u001b[39;49m_do_run(handle, final_targets, final_fetches,\n\u001b[0;32m   <a href='file:///d%3A/Python/lib/site-packages/tensorflow/python/client/session.py?line=1190'>1191</a>\u001b[0m                          feed_dict_tensor, options, run_metadata)\n\u001b[0;32m   <a href='file:///d%3A/Python/lib/site-packages/tensorflow/python/client/session.py?line=1191'>1192</a>\u001b[0m \u001b[39melse\u001b[39;00m:\n\u001b[0;32m   <a href='file:///d%3A/Python/lib/site-packages/tensorflow/python/client/session.py?line=1192'>1193</a>\u001b[0m   results \u001b[39m=\u001b[39m []\n",
      "File \u001b[1;32mD:\\Python\\lib\\site-packages\\tensorflow\\python\\client\\session.py:1370\u001b[0m, in \u001b[0;36mBaseSession._do_run\u001b[1;34m(self, handle, target_list, fetch_list, feed_dict, options, run_metadata)\u001b[0m\n\u001b[0;32m   <a href='file:///d%3A/Python/lib/site-packages/tensorflow/python/client/session.py?line=1366'>1367</a>\u001b[0m   \u001b[39mreturn\u001b[39;00m \u001b[39mself\u001b[39m\u001b[39m.\u001b[39m_call_tf_sessionprun(handle, feed_dict, fetch_list)\n\u001b[0;32m   <a href='file:///d%3A/Python/lib/site-packages/tensorflow/python/client/session.py?line=1368'>1369</a>\u001b[0m \u001b[39mif\u001b[39;00m handle \u001b[39mis\u001b[39;00m \u001b[39mNone\u001b[39;00m:\n\u001b[1;32m-> <a href='file:///d%3A/Python/lib/site-packages/tensorflow/python/client/session.py?line=1369'>1370</a>\u001b[0m   \u001b[39mreturn\u001b[39;00m \u001b[39mself\u001b[39;49m\u001b[39m.\u001b[39;49m_do_call(_run_fn, feeds, fetches, targets, options,\n\u001b[0;32m   <a href='file:///d%3A/Python/lib/site-packages/tensorflow/python/client/session.py?line=1370'>1371</a>\u001b[0m                        run_metadata)\n\u001b[0;32m   <a href='file:///d%3A/Python/lib/site-packages/tensorflow/python/client/session.py?line=1371'>1372</a>\u001b[0m \u001b[39melse\u001b[39;00m:\n\u001b[0;32m   <a href='file:///d%3A/Python/lib/site-packages/tensorflow/python/client/session.py?line=1372'>1373</a>\u001b[0m   \u001b[39mreturn\u001b[39;00m \u001b[39mself\u001b[39m\u001b[39m.\u001b[39m_do_call(_prun_fn, handle, feeds, fetches)\n",
      "File \u001b[1;32mD:\\Python\\lib\\site-packages\\tensorflow\\python\\client\\session.py:1396\u001b[0m, in \u001b[0;36mBaseSession._do_call\u001b[1;34m(self, fn, *args)\u001b[0m\n\u001b[0;32m   <a href='file:///d%3A/Python/lib/site-packages/tensorflow/python/client/session.py?line=1390'>1391</a>\u001b[0m \u001b[39mif\u001b[39;00m \u001b[39m'\u001b[39m\u001b[39monly supports NHWC tensor format\u001b[39m\u001b[39m'\u001b[39m \u001b[39min\u001b[39;00m message:\n\u001b[0;32m   <a href='file:///d%3A/Python/lib/site-packages/tensorflow/python/client/session.py?line=1391'>1392</a>\u001b[0m   message \u001b[39m+\u001b[39m\u001b[39m=\u001b[39m (\u001b[39m'\u001b[39m\u001b[39m\\n\u001b[39;00m\u001b[39mA possible workaround: Try disabling Grappler optimizer\u001b[39m\u001b[39m'\u001b[39m\n\u001b[0;32m   <a href='file:///d%3A/Python/lib/site-packages/tensorflow/python/client/session.py?line=1392'>1393</a>\u001b[0m               \u001b[39m'\u001b[39m\u001b[39m\\n\u001b[39;00m\u001b[39mby modifying the config for creating the session eg.\u001b[39m\u001b[39m'\u001b[39m\n\u001b[0;32m   <a href='file:///d%3A/Python/lib/site-packages/tensorflow/python/client/session.py?line=1393'>1394</a>\u001b[0m               \u001b[39m'\u001b[39m\u001b[39m\\n\u001b[39;00m\u001b[39msession_config.graph_options.rewrite_options.\u001b[39m\u001b[39m'\u001b[39m\n\u001b[0;32m   <a href='file:///d%3A/Python/lib/site-packages/tensorflow/python/client/session.py?line=1394'>1395</a>\u001b[0m               \u001b[39m'\u001b[39m\u001b[39mdisable_meta_optimizer = True\u001b[39m\u001b[39m'\u001b[39m)\n\u001b[1;32m-> <a href='file:///d%3A/Python/lib/site-packages/tensorflow/python/client/session.py?line=1395'>1396</a>\u001b[0m \u001b[39mraise\u001b[39;00m \u001b[39mtype\u001b[39m(e)(node_def, op, message)\n",
      "\u001b[1;31mInvalidArgumentError\u001b[0m: Graph execution error:\n\nassertion failed: [Labels must be <= n_classes - 1] [Condition x <= y did not hold element-wise:] [x (head/losses/labels:0) = ] [[0.36][0.141][0.217]...] [y (head/losses/check_label_range/Const:0) = ] [1]\n\t [[{{node Assert}}]]"
     ]
    }
   ],
   "source": [
    "linear_est.train(train_input_fn)\n",
    "result = linear_est.evaluate(eval_input_fn)\n",
    "\n",
    "clear_output()\n",
    "print(result['accuracy'])"
   ]
  }
 ],
 "metadata": {
  "interpreter": {
   "hash": "916dbcbb3f70747c44a77c7bcd40155683ae19c65e1c03b4aa3499c5328201f1"
  },
  "kernelspec": {
   "display_name": "Python 3.8.10 64-bit",
   "language": "python",
   "name": "python3"
  },
  "language_info": {
   "codemirror_mode": {
    "name": "ipython",
    "version": 3
   },
   "file_extension": ".py",
   "mimetype": "text/x-python",
   "name": "python",
   "nbconvert_exporter": "python",
   "pygments_lexer": "ipython3",
   "version": "3.10.2"
  },
  "orig_nbformat": 4
 },
 "nbformat": 4,
 "nbformat_minor": 2
}
