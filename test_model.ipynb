{
 "cells": [
  {
   "cell_type": "code",
   "execution_count": null,
   "metadata": {},
   "outputs": [],
   "source": []
  },
  {
   "cell_type": "code",
   "execution_count": null,
   "metadata": {},
   "outputs": [],
   "source": []
  },
  {
   "cell_type": "code",
   "execution_count": null,
   "metadata": {},
   "outputs": [],
   "source": []
  },
  {
   "cell_type": "markdown",
   "metadata": {},
   "source": [
    "## Linear model\n",
    "\n",
    "using a linear model to predict the energy consumption"
   ]
  },
  {
   "cell_type": "code",
   "execution_count": 29,
   "metadata": {},
   "outputs": [],
   "source": [
    "from __future__ import absolute_import, division, print_function, unicode_literals\n",
    "\n",
    "import matplotlib.pyplot as plt\n",
    "import numpy as np\n",
    "import pandas as pd\n",
    "from IPython.display import clear_output\n",
    "from six.moves import urllib\n",
    "\n",
    "import tensorflow.compat.v2.feature_column as fc\n",
    "\n",
    "import tensorflow as tf\n",
    "\n",
    "from data_read import load_data_into_dataframe\n",
    "from house_filtration import house_filtration_select\n",
    "\n",
    "import datetime\n",
    "import time"
   ]
  },
  {
   "cell_type": "code",
   "execution_count": 27,
   "metadata": {},
   "outputs": [
    {
     "name": "stderr",
     "output_type": "stream",
     "text": [
      "d:\\OneDrive - Universitetet i Stavanger\\Bachelor\\data_read.py:49: DtypeWarning: Columns (2) have mixed types. Specify dtype option on import or set low_memory=False.\n",
      "  df = pd.concat((pd.read_csv(file) for file in dataset_files_csv), ignore_index=False)\n",
      "d:\\OneDrive - Universitetet i Stavanger\\Bachelor\\data_read.py:49: DtypeWarning: Columns (2) have mixed types. Specify dtype option on import or set low_memory=False.\n",
      "  df = pd.concat((pd.read_csv(file) for file in dataset_files_csv), ignore_index=False)\n",
      "d:\\OneDrive - Universitetet i Stavanger\\Bachelor\\data_read.py:49: DtypeWarning: Columns (2) have mixed types. Specify dtype option on import or set low_memory=False.\n",
      "  df = pd.concat((pd.read_csv(file) for file in dataset_files_csv), ignore_index=False)\n",
      "d:\\OneDrive - Universitetet i Stavanger\\Bachelor\\data_read.py:49: DtypeWarning: Columns (2) have mixed types. Specify dtype option on import or set low_memory=False.\n",
      "  df = pd.concat((pd.read_csv(file) for file in dataset_files_csv), ignore_index=False)\n",
      "d:\\OneDrive - Universitetet i Stavanger\\Bachelor\\data_read.py:49: DtypeWarning: Columns (2) have mixed types. Specify dtype option on import or set low_memory=False.\n",
      "  df = pd.concat((pd.read_csv(file) for file in dataset_files_csv), ignore_index=False)\n",
      "d:\\OneDrive - Universitetet i Stavanger\\Bachelor\\data_read.py:49: DtypeWarning: Columns (2) have mixed types. Specify dtype option on import or set low_memory=False.\n",
      "  df = pd.concat((pd.read_csv(file) for file in dataset_files_csv), ignore_index=False)\n",
      "d:\\OneDrive - Universitetet i Stavanger\\Bachelor\\data_read.py:49: DtypeWarning: Columns (2) have mixed types. Specify dtype option on import or set low_memory=False.\n",
      "  df = pd.concat((pd.read_csv(file) for file in dataset_files_csv), ignore_index=False)\n",
      "d:\\OneDrive - Universitetet i Stavanger\\Bachelor\\data_read.py:49: DtypeWarning: Columns (2) have mixed types. Specify dtype option on import or set low_memory=False.\n",
      "  df = pd.concat((pd.read_csv(file) for file in dataset_files_csv), ignore_index=False)\n"
     ]
    },
    {
     "name": "stdout",
     "output_type": "stream",
     "text": [
      "       LCLid                         tstp energy(kWh/hh)\n",
      "0  MAC000002  2012-10-12 00:30:00.0000000             0 \n",
      "1  MAC000002  2012-10-12 01:00:00.0000000             0 \n",
      "2  MAC000002  2012-10-12 01:30:00.0000000             0 \n",
      "3  MAC000002  2012-10-12 02:00:00.0000000             0 \n",
      "4  MAC000002  2012-10-12 02:30:00.0000000             0 \n",
      "-80.21616768836975\n"
     ]
    },
    {
     "ename": "NameError",
     "evalue": "name 'datetime' is not defined",
     "output_type": "error",
     "traceback": [
      "\u001b[1;31m---------------------------------------------------------------------------\u001b[0m",
      "\u001b[1;31mNameError\u001b[0m                                 Traceback (most recent call last)",
      "\u001b[1;32md:\\OneDrive - Universitetet i Stavanger\\Bachelor\\test_model.ipynb Cell 3'\u001b[0m in \u001b[0;36m<module>\u001b[1;34m\u001b[0m\n\u001b[0;32m     <a href='vscode-notebook-cell:/d%3A/OneDrive%20-%20Universitetet%20i%20Stavanger/Bachelor/test_model.ipynb#ch0000017?line=14'>15</a>\u001b[0m     clock \u001b[39m=\u001b[39m datetime\u001b[39m.\u001b[39mtime(hour, minute, second)\n\u001b[0;32m     <a href='vscode-notebook-cell:/d%3A/OneDrive%20-%20Universitetet%20i%20Stavanger/Bachelor/test_model.ipynb#ch0000017?line=15'>16</a>\u001b[0m     \u001b[39mreturn\u001b[39;00m \u001b[39mfloat\u001b[39m(datetime\u001b[39m.\u001b[39mdatetime\u001b[39m.\u001b[39mcombine(date, clock)\u001b[39m.\u001b[39mtimestamp())\n\u001b[1;32m---> <a href='vscode-notebook-cell:/d%3A/OneDrive%20-%20Universitetet%20i%20Stavanger/Bachelor/test_model.ipynb#ch0000017?line=17'>18</a>\u001b[0m df[\u001b[39m\"\u001b[39m\u001b[39mtstp\u001b[39m\u001b[39m\"\u001b[39m] \u001b[39m=\u001b[39m df[\u001b[39m\"\u001b[39;49m\u001b[39mtstp\u001b[39;49m\u001b[39m\"\u001b[39;49m]\u001b[39m.\u001b[39;49mapply(unix_time)\n",
      "File \u001b[1;32mD:\\Python\\lib\\site-packages\\pandas\\core\\series.py:4430\u001b[0m, in \u001b[0;36mSeries.apply\u001b[1;34m(self, func, convert_dtype, args, **kwargs)\u001b[0m\n\u001b[0;32m   <a href='file:///d%3A/Python/lib/site-packages/pandas/core/series.py?line=4319'>4320</a>\u001b[0m \u001b[39mdef\u001b[39;00m \u001b[39mapply\u001b[39m(\n\u001b[0;32m   <a href='file:///d%3A/Python/lib/site-packages/pandas/core/series.py?line=4320'>4321</a>\u001b[0m     \u001b[39mself\u001b[39m,\n\u001b[0;32m   <a href='file:///d%3A/Python/lib/site-packages/pandas/core/series.py?line=4321'>4322</a>\u001b[0m     func: AggFuncType,\n\u001b[1;32m   (...)\u001b[0m\n\u001b[0;32m   <a href='file:///d%3A/Python/lib/site-packages/pandas/core/series.py?line=4324'>4325</a>\u001b[0m     \u001b[39m*\u001b[39m\u001b[39m*\u001b[39mkwargs,\n\u001b[0;32m   <a href='file:///d%3A/Python/lib/site-packages/pandas/core/series.py?line=4325'>4326</a>\u001b[0m ) \u001b[39m-\u001b[39m\u001b[39m>\u001b[39m DataFrame \u001b[39m|\u001b[39m Series:\n\u001b[0;32m   <a href='file:///d%3A/Python/lib/site-packages/pandas/core/series.py?line=4326'>4327</a>\u001b[0m     \u001b[39m\"\"\"\u001b[39;00m\n\u001b[0;32m   <a href='file:///d%3A/Python/lib/site-packages/pandas/core/series.py?line=4327'>4328</a>\u001b[0m \u001b[39m    Invoke function on values of Series.\u001b[39;00m\n\u001b[0;32m   <a href='file:///d%3A/Python/lib/site-packages/pandas/core/series.py?line=4328'>4329</a>\u001b[0m \n\u001b[1;32m   (...)\u001b[0m\n\u001b[0;32m   <a href='file:///d%3A/Python/lib/site-packages/pandas/core/series.py?line=4427'>4428</a>\u001b[0m \u001b[39m    dtype: float64\u001b[39;00m\n\u001b[0;32m   <a href='file:///d%3A/Python/lib/site-packages/pandas/core/series.py?line=4428'>4429</a>\u001b[0m \u001b[39m    \"\"\"\u001b[39;00m\n\u001b[1;32m-> <a href='file:///d%3A/Python/lib/site-packages/pandas/core/series.py?line=4429'>4430</a>\u001b[0m     \u001b[39mreturn\u001b[39;00m SeriesApply(\u001b[39mself\u001b[39;49m, func, convert_dtype, args, kwargs)\u001b[39m.\u001b[39;49mapply()\n",
      "File \u001b[1;32mD:\\Python\\lib\\site-packages\\pandas\\core\\apply.py:1082\u001b[0m, in \u001b[0;36mSeriesApply.apply\u001b[1;34m(self)\u001b[0m\n\u001b[0;32m   <a href='file:///d%3A/Python/lib/site-packages/pandas/core/apply.py?line=1077'>1078</a>\u001b[0m \u001b[39mif\u001b[39;00m \u001b[39misinstance\u001b[39m(\u001b[39mself\u001b[39m\u001b[39m.\u001b[39mf, \u001b[39mstr\u001b[39m):\n\u001b[0;32m   <a href='file:///d%3A/Python/lib/site-packages/pandas/core/apply.py?line=1078'>1079</a>\u001b[0m     \u001b[39m# if we are a string, try to dispatch\u001b[39;00m\n\u001b[0;32m   <a href='file:///d%3A/Python/lib/site-packages/pandas/core/apply.py?line=1079'>1080</a>\u001b[0m     \u001b[39mreturn\u001b[39;00m \u001b[39mself\u001b[39m\u001b[39m.\u001b[39mapply_str()\n\u001b[1;32m-> <a href='file:///d%3A/Python/lib/site-packages/pandas/core/apply.py?line=1081'>1082</a>\u001b[0m \u001b[39mreturn\u001b[39;00m \u001b[39mself\u001b[39;49m\u001b[39m.\u001b[39;49mapply_standard()\n",
      "File \u001b[1;32mD:\\Python\\lib\\site-packages\\pandas\\core\\apply.py:1137\u001b[0m, in \u001b[0;36mSeriesApply.apply_standard\u001b[1;34m(self)\u001b[0m\n\u001b[0;32m   <a href='file:///d%3A/Python/lib/site-packages/pandas/core/apply.py?line=1130'>1131</a>\u001b[0m         values \u001b[39m=\u001b[39m obj\u001b[39m.\u001b[39mastype(\u001b[39mobject\u001b[39m)\u001b[39m.\u001b[39m_values\n\u001b[0;32m   <a href='file:///d%3A/Python/lib/site-packages/pandas/core/apply.py?line=1131'>1132</a>\u001b[0m         \u001b[39m# error: Argument 2 to \"map_infer\" has incompatible type\u001b[39;00m\n\u001b[0;32m   <a href='file:///d%3A/Python/lib/site-packages/pandas/core/apply.py?line=1132'>1133</a>\u001b[0m         \u001b[39m# \"Union[Callable[..., Any], str, List[Union[Callable[..., Any], str]],\u001b[39;00m\n\u001b[0;32m   <a href='file:///d%3A/Python/lib/site-packages/pandas/core/apply.py?line=1133'>1134</a>\u001b[0m         \u001b[39m# Dict[Hashable, Union[Union[Callable[..., Any], str],\u001b[39;00m\n\u001b[0;32m   <a href='file:///d%3A/Python/lib/site-packages/pandas/core/apply.py?line=1134'>1135</a>\u001b[0m         \u001b[39m# List[Union[Callable[..., Any], str]]]]]\"; expected\u001b[39;00m\n\u001b[0;32m   <a href='file:///d%3A/Python/lib/site-packages/pandas/core/apply.py?line=1135'>1136</a>\u001b[0m         \u001b[39m# \"Callable[[Any], Any]\"\u001b[39;00m\n\u001b[1;32m-> <a href='file:///d%3A/Python/lib/site-packages/pandas/core/apply.py?line=1136'>1137</a>\u001b[0m         mapped \u001b[39m=\u001b[39m lib\u001b[39m.\u001b[39;49mmap_infer(\n\u001b[0;32m   <a href='file:///d%3A/Python/lib/site-packages/pandas/core/apply.py?line=1137'>1138</a>\u001b[0m             values,\n\u001b[0;32m   <a href='file:///d%3A/Python/lib/site-packages/pandas/core/apply.py?line=1138'>1139</a>\u001b[0m             f,  \u001b[39m# type: ignore[arg-type]\u001b[39;49;00m\n\u001b[0;32m   <a href='file:///d%3A/Python/lib/site-packages/pandas/core/apply.py?line=1139'>1140</a>\u001b[0m             convert\u001b[39m=\u001b[39;49m\u001b[39mself\u001b[39;49m\u001b[39m.\u001b[39;49mconvert_dtype,\n\u001b[0;32m   <a href='file:///d%3A/Python/lib/site-packages/pandas/core/apply.py?line=1140'>1141</a>\u001b[0m         )\n\u001b[0;32m   <a href='file:///d%3A/Python/lib/site-packages/pandas/core/apply.py?line=1142'>1143</a>\u001b[0m \u001b[39mif\u001b[39;00m \u001b[39mlen\u001b[39m(mapped) \u001b[39mand\u001b[39;00m \u001b[39misinstance\u001b[39m(mapped[\u001b[39m0\u001b[39m], ABCSeries):\n\u001b[0;32m   <a href='file:///d%3A/Python/lib/site-packages/pandas/core/apply.py?line=1143'>1144</a>\u001b[0m     \u001b[39m# GH#43986 Need to do list(mapped) in order to get treated as nested\u001b[39;00m\n\u001b[0;32m   <a href='file:///d%3A/Python/lib/site-packages/pandas/core/apply.py?line=1144'>1145</a>\u001b[0m     \u001b[39m#  See also GH#25959 regarding EA support\u001b[39;00m\n\u001b[0;32m   <a href='file:///d%3A/Python/lib/site-packages/pandas/core/apply.py?line=1145'>1146</a>\u001b[0m     \u001b[39mreturn\u001b[39;00m obj\u001b[39m.\u001b[39m_constructor_expanddim(\u001b[39mlist\u001b[39m(mapped), index\u001b[39m=\u001b[39mobj\u001b[39m.\u001b[39mindex)\n",
      "File \u001b[1;32mD:\\Python\\lib\\site-packages\\pandas\\_libs\\lib.pyx:2870\u001b[0m, in \u001b[0;36mpandas._libs.lib.map_infer\u001b[1;34m()\u001b[0m\n",
      "\u001b[1;32md:\\OneDrive - Universitetet i Stavanger\\Bachelor\\test_model.ipynb Cell 3'\u001b[0m in \u001b[0;36munix_time\u001b[1;34m(timestamp)\u001b[0m\n\u001b[0;32m      <a href='vscode-notebook-cell:/d%3A/OneDrive%20-%20Universitetet%20i%20Stavanger/Bachelor/test_model.ipynb#ch0000017?line=7'>8</a>\u001b[0m month \u001b[39m=\u001b[39m \u001b[39mint\u001b[39m(date[\u001b[39m1\u001b[39m])\n\u001b[0;32m      <a href='vscode-notebook-cell:/d%3A/OneDrive%20-%20Universitetet%20i%20Stavanger/Bachelor/test_model.ipynb#ch0000017?line=8'>9</a>\u001b[0m day \u001b[39m=\u001b[39m \u001b[39mint\u001b[39m(date[\u001b[39m2\u001b[39m])\n\u001b[1;32m---> <a href='vscode-notebook-cell:/d%3A/OneDrive%20-%20Universitetet%20i%20Stavanger/Bachelor/test_model.ipynb#ch0000017?line=9'>10</a>\u001b[0m date \u001b[39m=\u001b[39m datetime\u001b[39m.\u001b[39mdate(year, month, day)\n\u001b[0;32m     <a href='vscode-notebook-cell:/d%3A/OneDrive%20-%20Universitetet%20i%20Stavanger/Bachelor/test_model.ipynb#ch0000017?line=10'>11</a>\u001b[0m clock \u001b[39m=\u001b[39m values[\u001b[39m1\u001b[39m]\u001b[39m.\u001b[39msplit(\u001b[39m\"\u001b[39m\u001b[39m:\u001b[39m\u001b[39m\"\u001b[39m)\n\u001b[0;32m     <a href='vscode-notebook-cell:/d%3A/OneDrive%20-%20Universitetet%20i%20Stavanger/Bachelor/test_model.ipynb#ch0000017?line=11'>12</a>\u001b[0m hour \u001b[39m=\u001b[39m \u001b[39mint\u001b[39m(clock[\u001b[39m0\u001b[39m])\n",
      "\u001b[1;31mNameError\u001b[0m: name 'datetime' is not defined"
     ]
    }
   ],
   "source": [
    "# Load the dataset\n",
    "df = house_filtration_select()\n"
   ]
  },
  {
   "cell_type": "code",
   "execution_count": 30,
   "metadata": {},
   "outputs": [],
   "source": [
    "def unix_time(timestamp):\n",
    "    values = timestamp.split(\" \")\n",
    "    date = values[0].split(\"-\")\n",
    "    year = int(date[0])\n",
    "    month = int(date[1])\n",
    "    day = int(date[2])\n",
    "    date = datetime.date(year, month, day)\n",
    "    clock = values[1].split(\":\")\n",
    "    hour = int(clock[0])\n",
    "    minute = int(clock[1])\n",
    "    second = int(0)\n",
    "    clock = datetime.time(hour, minute, second)\n",
    "    return float(datetime.datetime.combine(date, clock).timestamp())\n",
    "\n",
    "df[\"tstp\"] = df[\"tstp\"].apply(unix_time)"
   ]
  },
  {
   "cell_type": "code",
   "execution_count": 66,
   "metadata": {},
   "outputs": [
    {
     "data": {
      "text/html": [
       "<div>\n",
       "<style scoped>\n",
       "    .dataframe tbody tr th:only-of-type {\n",
       "        vertical-align: middle;\n",
       "    }\n",
       "\n",
       "    .dataframe tbody tr th {\n",
       "        vertical-align: top;\n",
       "    }\n",
       "\n",
       "    .dataframe thead th {\n",
       "        text-align: right;\n",
       "    }\n",
       "</style>\n",
       "<table border=\"1\" class=\"dataframe\">\n",
       "  <thead>\n",
       "    <tr style=\"text-align: right;\">\n",
       "      <th></th>\n",
       "      <th>LCLid</th>\n",
       "      <th>tstp</th>\n",
       "      <th>energy(kWh/hh)</th>\n",
       "    </tr>\n",
       "  </thead>\n",
       "  <tbody>\n",
       "    <tr>\n",
       "      <th>233272</th>\n",
       "      <td>MAC000165</td>\n",
       "      <td>1.322132e+09</td>\n",
       "      <td>0.114</td>\n",
       "    </tr>\n",
       "    <tr>\n",
       "      <th>233273</th>\n",
       "      <td>MAC000165</td>\n",
       "      <td>1.322134e+09</td>\n",
       "      <td>0.174</td>\n",
       "    </tr>\n",
       "    <tr>\n",
       "      <th>233274</th>\n",
       "      <td>MAC000165</td>\n",
       "      <td>1.322136e+09</td>\n",
       "      <td>0.112</td>\n",
       "    </tr>\n",
       "    <tr>\n",
       "      <th>233275</th>\n",
       "      <td>MAC000165</td>\n",
       "      <td>1.322138e+09</td>\n",
       "      <td>0.125</td>\n",
       "    </tr>\n",
       "    <tr>\n",
       "      <th>233276</th>\n",
       "      <td>MAC000165</td>\n",
       "      <td>1.322140e+09</td>\n",
       "      <td>0.597</td>\n",
       "    </tr>\n",
       "  </tbody>\n",
       "</table>\n",
       "</div>"
      ],
      "text/plain": [
       "            LCLid          tstp  energy(kWh/hh)\n",
       "233272  MAC000165  1.322132e+09           0.114\n",
       "233273  MAC000165  1.322134e+09           0.174\n",
       "233274  MAC000165  1.322136e+09           0.112\n",
       "233275  MAC000165  1.322138e+09           0.125\n",
       "233276  MAC000165  1.322140e+09           0.597"
      ]
     },
     "execution_count": 66,
     "metadata": {},
     "output_type": "execute_result"
    }
   ],
   "source": [
    "df.head()"
   ]
  },
  {
   "cell_type": "code",
   "execution_count": 67,
   "metadata": {},
   "outputs": [],
   "source": [
    "df[\"energy(kWh/hh)\"] = pd.to_numeric(df[\"energy(kWh/hh)\"], downcast=\"float\", errors=\"coerce\")\n",
    "\n",
    "\n",
    "# id for the household we want to use to train and test\n",
    "id_training = 'MAC000150' \n",
    "id_eval = 'MAC000152'\n",
    "\n",
    "\n",
    "def find_household(identification):\n",
    "    affluenthh_filt = df[\"LCLid\"] == identification\n",
    "    affluent_hh_data = df[affluenthh_filt]\n",
    "    return affluent_hh_data"
   ]
  },
  {
   "cell_type": "code",
   "execution_count": 40,
   "metadata": {},
   "outputs": [],
   "source": [
    "training = find_household(id_training)\n",
    "eval = find_household(id_eval)\n",
    "\n",
    "dftrain = training\n",
    "dfeval = eval\n",
    "\n",
    "y_train = dftrain.pop(\"energy(kWh/hh)\")\n",
    "y_eval = dfeval.pop(\"energy(kWh/hh)\")"
   ]
  },
  {
   "cell_type": "code",
   "execution_count": 60,
   "metadata": {},
   "outputs": [
    {
     "data": {
      "text/html": [
       "<div>\n",
       "<style scoped>\n",
       "    .dataframe tbody tr th:only-of-type {\n",
       "        vertical-align: middle;\n",
       "    }\n",
       "\n",
       "    .dataframe tbody tr th {\n",
       "        vertical-align: top;\n",
       "    }\n",
       "\n",
       "    .dataframe thead th {\n",
       "        text-align: right;\n",
       "    }\n",
       "</style>\n",
       "<table border=\"1\" class=\"dataframe\">\n",
       "  <thead>\n",
       "    <tr style=\"text-align: right;\">\n",
       "      <th></th>\n",
       "      <th>LCLid</th>\n",
       "      <th>tstp</th>\n",
       "    </tr>\n",
       "  </thead>\n",
       "  <tbody>\n",
       "    <tr>\n",
       "      <th>69303</th>\n",
       "      <td>MAC000150</td>\n",
       "      <td>1.322039e+09</td>\n",
       "    </tr>\n",
       "    <tr>\n",
       "      <th>69304</th>\n",
       "      <td>MAC000150</td>\n",
       "      <td>1.322041e+09</td>\n",
       "    </tr>\n",
       "    <tr>\n",
       "      <th>69305</th>\n",
       "      <td>MAC000150</td>\n",
       "      <td>1.322042e+09</td>\n",
       "    </tr>\n",
       "    <tr>\n",
       "      <th>69306</th>\n",
       "      <td>MAC000150</td>\n",
       "      <td>1.322044e+09</td>\n",
       "    </tr>\n",
       "    <tr>\n",
       "      <th>69307</th>\n",
       "      <td>MAC000150</td>\n",
       "      <td>1.322046e+09</td>\n",
       "    </tr>\n",
       "  </tbody>\n",
       "</table>\n",
       "</div>"
      ],
      "text/plain": [
       "           LCLid          tstp\n",
       "69303  MAC000150  1.322039e+09\n",
       "69304  MAC000150  1.322041e+09\n",
       "69305  MAC000150  1.322042e+09\n",
       "69306  MAC000150  1.322044e+09\n",
       "69307  MAC000150  1.322046e+09"
      ]
     },
     "execution_count": 60,
     "metadata": {},
     "output_type": "execute_result"
    }
   ],
   "source": [
    "dftrain.head()"
   ]
  },
  {
   "cell_type": "code",
   "execution_count": 69,
   "metadata": {},
   "outputs": [
    {
     "data": {
      "text/plain": [
       "(39720, 2)"
      ]
     },
     "execution_count": 69,
     "metadata": {},
     "output_type": "execute_result"
    }
   ],
   "source": [
    "dftrain.shape"
   ]
  },
  {
   "cell_type": "code",
   "execution_count": 43,
   "metadata": {},
   "outputs": [
    {
     "data": {
      "text/html": [
       "<div>\n",
       "<style scoped>\n",
       "    .dataframe tbody tr th:only-of-type {\n",
       "        vertical-align: middle;\n",
       "    }\n",
       "\n",
       "    .dataframe tbody tr th {\n",
       "        vertical-align: top;\n",
       "    }\n",
       "\n",
       "    .dataframe thead th {\n",
       "        text-align: right;\n",
       "    }\n",
       "</style>\n",
       "<table border=\"1\" class=\"dataframe\">\n",
       "  <thead>\n",
       "    <tr style=\"text-align: right;\">\n",
       "      <th></th>\n",
       "      <th>tstp</th>\n",
       "    </tr>\n",
       "  </thead>\n",
       "  <tbody>\n",
       "    <tr>\n",
       "      <th>count</th>\n",
       "      <td>3.972000e+04</td>\n",
       "    </tr>\n",
       "    <tr>\n",
       "      <th>mean</th>\n",
       "      <td>1.357789e+09</td>\n",
       "    </tr>\n",
       "    <tr>\n",
       "      <th>std</th>\n",
       "      <td>2.064149e+07</td>\n",
       "    </tr>\n",
       "    <tr>\n",
       "      <th>min</th>\n",
       "      <td>1.322039e+09</td>\n",
       "    </tr>\n",
       "    <tr>\n",
       "      <th>25%</th>\n",
       "      <td>1.339912e+09</td>\n",
       "    </tr>\n",
       "    <tr>\n",
       "      <th>50%</th>\n",
       "      <td>1.357790e+09</td>\n",
       "    </tr>\n",
       "    <tr>\n",
       "      <th>75%</th>\n",
       "      <td>1.375663e+09</td>\n",
       "    </tr>\n",
       "    <tr>\n",
       "      <th>max</th>\n",
       "      <td>1.393542e+09</td>\n",
       "    </tr>\n",
       "  </tbody>\n",
       "</table>\n",
       "</div>"
      ],
      "text/plain": [
       "               tstp\n",
       "count  3.972000e+04\n",
       "mean   1.357789e+09\n",
       "std    2.064149e+07\n",
       "min    1.322039e+09\n",
       "25%    1.339912e+09\n",
       "50%    1.357790e+09\n",
       "75%    1.375663e+09\n",
       "max    1.393542e+09"
      ]
     },
     "execution_count": 43,
     "metadata": {},
     "output_type": "execute_result"
    }
   ],
   "source": [
    "dftrain.describe(datetime_is_numeric=True)"
   ]
  },
  {
   "cell_type": "code",
   "execution_count": 44,
   "metadata": {},
   "outputs": [
    {
     "data": {
      "text/plain": [
       "69303    0.301\n",
       "69304    0.127\n",
       "69305    0.201\n",
       "69306    0.564\n",
       "69307    0.159\n",
       "Name: energy(kWh/hh), dtype: float32"
      ]
     },
     "execution_count": 44,
     "metadata": {},
     "output_type": "execute_result"
    }
   ],
   "source": [
    "y_train.head()"
   ]
  },
  {
   "cell_type": "code",
   "execution_count": 72,
   "metadata": {},
   "outputs": [
    {
     "name": "stdout",
     "output_type": "stream",
     "text": [
      "[VocabularyListCategoricalColumn(key='LCLid', vocabulary_list=('MAC000150',), dtype=tf.string, default_value=-1, num_oov_buckets=0), NumericColumn(key='tstp', shape=(1,), default_value=None, dtype=tf.float32, normalizer_fn=None)]\n"
     ]
    }
   ],
   "source": [
    "CATEGORIAL_COLUMNS = ['LCLid']\n",
    "NUMERIC_COLUMNS = ['tstp']\n",
    "\n",
    "feature_columns = []\n",
    "for feature_name in CATEGORIAL_COLUMNS:\n",
    "    vocabulary = dftrain[feature_name].unique()\n",
    "    feature_columns.append(tf.feature_column.categorical_column_with_vocabulary_list(feature_name, vocabulary))\n",
    "\n",
    "for feature_name in NUMERIC_COLUMNS:\n",
    "    feature_columns.append(tf.feature_column.numeric_column(feature_name, dtype=tf.float32))\n",
    "\n",
    "print(feature_columns)"
   ]
  },
  {
   "cell_type": "code",
   "execution_count": 73,
   "metadata": {},
   "outputs": [],
   "source": [
    "#check https://www.tensorflow.org/tutorials/estimator/linear\n",
    "\n",
    "def make_input_fn(data_df, label_df, num_epochs=10, shuffle=True, batch_size=32):\n",
    "  def input_function():  # inner function, this will be returned\n",
    "    ds = tf.data.Dataset.from_tensor_slices((dict(data_df), label_df))  # create tf.data.Dataset object with data and its label\n",
    "    if shuffle:\n",
    "      ds = ds.shuffle(1000)  # randomize order of data\n",
    "    ds = ds.batch(batch_size).repeat(num_epochs)  # split dataset into batches of 32 and repeat process for number of epochs\n",
    "    return ds  # return a batch of the dataset\n",
    "  return input_function  # return a function object for use\n",
    "\n",
    "\n",
    "train_input_fn = make_input_fn(dftrain, y_train)\n",
    "eval_input_fn = make_input_fn(dfeval, y_eval, num_epochs=1, shuffle=False)\n"
   ]
  },
  {
   "cell_type": "code",
   "execution_count": 74,
   "metadata": {},
   "outputs": [
    {
     "name": "stdout",
     "output_type": "stream",
     "text": [
      "INFO:tensorflow:Using default config.\n",
      "WARNING:tensorflow:Using temporary folder as model directory: C:\\Users\\denny\\AppData\\Local\\Temp\\tmpw52ttwqo\n",
      "INFO:tensorflow:Using config: {'_model_dir': 'C:\\\\Users\\\\denny\\\\AppData\\\\Local\\\\Temp\\\\tmpw52ttwqo', '_tf_random_seed': None, '_save_summary_steps': 100, '_save_checkpoints_steps': None, '_save_checkpoints_secs': 600, '_session_config': allow_soft_placement: true\n",
      "graph_options {\n",
      "  rewrite_options {\n",
      "    meta_optimizer_iterations: ONE\n",
      "  }\n",
      "}\n",
      ", '_keep_checkpoint_max': 5, '_keep_checkpoint_every_n_hours': 10000, '_log_step_count_steps': 100, '_train_distribute': None, '_device_fn': None, '_protocol': None, '_eval_distribute': None, '_experimental_distribute': None, '_experimental_max_worker_delay_secs': None, '_session_creation_timeout_secs': 7200, '_checkpoint_save_graph_def': True, '_service': None, '_cluster_spec': ClusterSpec({}), '_task_type': 'worker', '_task_id': 0, '_global_id_in_cluster': 0, '_master': '', '_evaluation_master': '', '_is_chief': True, '_num_ps_replicas': 0, '_num_worker_replicas': 1}\n"
     ]
    }
   ],
   "source": [
    "#Creating the model\n",
    "\n",
    "linear_est = tf.estimator.LinearClassifier(feature_columns=feature_columns)"
   ]
  },
  {
   "cell_type": "code",
   "execution_count": 75,
   "metadata": {},
   "outputs": [
    {
     "name": "stdout",
     "output_type": "stream",
     "text": [
      "INFO:tensorflow:Calling model_fn.\n",
      "INFO:tensorflow:Done calling model_fn.\n",
      "INFO:tensorflow:Create CheckpointSaverHook.\n"
     ]
    },
    {
     "name": "stderr",
     "output_type": "stream",
     "text": [
      "D:\\Python\\lib\\site-packages\\tensorflow_estimator\\python\\estimator\\canned\\linear.py:1468: UserWarning: `layer.add_variable` is deprecated and will be removed in a future version. Please use `layer.add_weight` method instead.\n",
      "  self.bias = self.add_variable(\n"
     ]
    },
    {
     "name": "stdout",
     "output_type": "stream",
     "text": [
      "INFO:tensorflow:Graph was finalized.\n",
      "INFO:tensorflow:Running local_init_op.\n",
      "INFO:tensorflow:Done running local_init_op.\n",
      "INFO:tensorflow:Calling checkpoint listeners before saving checkpoint 0...\n",
      "INFO:tensorflow:Saving checkpoints for 0 into C:\\Users\\denny\\AppData\\Local\\Temp\\tmpw52ttwqo\\model.ckpt.\n",
      "INFO:tensorflow:Calling checkpoint listeners after saving checkpoint 0...\n",
      "INFO:tensorflow:loss = 0.6931472, step = 0\n"
     ]
    },
    {
     "ename": "InvalidArgumentError",
     "evalue": "Graph execution error:\n\nassertion failed: [Labels must be <= n_classes - 1] [Condition x <= y did not hold element-wise:] [x (head/losses/labels:0) = ] [[0.166][0.231][0.228]...] [y (head/losses/check_label_range/Const:0) = ] [1]\n\t [[{{node Assert}}]]",
     "output_type": "error",
     "traceback": [
      "\u001b[1;31m---------------------------------------------------------------------------\u001b[0m",
      "\u001b[1;31mInvalidArgumentError\u001b[0m                      Traceback (most recent call last)",
      "File \u001b[1;32mD:\\Python\\lib\\site-packages\\tensorflow\\python\\client\\session.py:1377\u001b[0m, in \u001b[0;36mBaseSession._do_call\u001b[1;34m(self, fn, *args)\u001b[0m\n\u001b[0;32m   <a href='file:///d%3A/Python/lib/site-packages/tensorflow/python/client/session.py?line=1375'>1376</a>\u001b[0m \u001b[39mtry\u001b[39;00m:\n\u001b[1;32m-> <a href='file:///d%3A/Python/lib/site-packages/tensorflow/python/client/session.py?line=1376'>1377</a>\u001b[0m   \u001b[39mreturn\u001b[39;00m fn(\u001b[39m*\u001b[39;49margs)\n\u001b[0;32m   <a href='file:///d%3A/Python/lib/site-packages/tensorflow/python/client/session.py?line=1377'>1378</a>\u001b[0m \u001b[39mexcept\u001b[39;00m errors\u001b[39m.\u001b[39mOpError \u001b[39mas\u001b[39;00m e:\n",
      "File \u001b[1;32mD:\\Python\\lib\\site-packages\\tensorflow\\python\\client\\session.py:1360\u001b[0m, in \u001b[0;36mBaseSession._do_run.<locals>._run_fn\u001b[1;34m(feed_dict, fetch_list, target_list, options, run_metadata)\u001b[0m\n\u001b[0;32m   <a href='file:///d%3A/Python/lib/site-packages/tensorflow/python/client/session.py?line=1358'>1359</a>\u001b[0m \u001b[39mself\u001b[39m\u001b[39m.\u001b[39m_extend_graph()\n\u001b[1;32m-> <a href='file:///d%3A/Python/lib/site-packages/tensorflow/python/client/session.py?line=1359'>1360</a>\u001b[0m \u001b[39mreturn\u001b[39;00m \u001b[39mself\u001b[39;49m\u001b[39m.\u001b[39;49m_call_tf_sessionrun(options, feed_dict, fetch_list,\n\u001b[0;32m   <a href='file:///d%3A/Python/lib/site-packages/tensorflow/python/client/session.py?line=1360'>1361</a>\u001b[0m                                 target_list, run_metadata)\n",
      "File \u001b[1;32mD:\\Python\\lib\\site-packages\\tensorflow\\python\\client\\session.py:1453\u001b[0m, in \u001b[0;36mBaseSession._call_tf_sessionrun\u001b[1;34m(self, options, feed_dict, fetch_list, target_list, run_metadata)\u001b[0m\n\u001b[0;32m   <a href='file:///d%3A/Python/lib/site-packages/tensorflow/python/client/session.py?line=1450'>1451</a>\u001b[0m \u001b[39mdef\u001b[39;00m \u001b[39m_call_tf_sessionrun\u001b[39m(\u001b[39mself\u001b[39m, options, feed_dict, fetch_list, target_list,\n\u001b[0;32m   <a href='file:///d%3A/Python/lib/site-packages/tensorflow/python/client/session.py?line=1451'>1452</a>\u001b[0m                         run_metadata):\n\u001b[1;32m-> <a href='file:///d%3A/Python/lib/site-packages/tensorflow/python/client/session.py?line=1452'>1453</a>\u001b[0m   \u001b[39mreturn\u001b[39;00m tf_session\u001b[39m.\u001b[39;49mTF_SessionRun_wrapper(\u001b[39mself\u001b[39;49m\u001b[39m.\u001b[39;49m_session, options, feed_dict,\n\u001b[0;32m   <a href='file:///d%3A/Python/lib/site-packages/tensorflow/python/client/session.py?line=1453'>1454</a>\u001b[0m                                           fetch_list, target_list,\n\u001b[0;32m   <a href='file:///d%3A/Python/lib/site-packages/tensorflow/python/client/session.py?line=1454'>1455</a>\u001b[0m                                           run_metadata)\n",
      "\u001b[1;31mInvalidArgumentError\u001b[0m: assertion failed: [Labels must be <= n_classes - 1] [Condition x <= y did not hold element-wise:] [x (head/losses/labels:0) = ] [[0.166][0.231][0.228]...] [y (head/losses/check_label_range/Const:0) = ] [1]\n\t [[{{function_node head_losses_check_label_range_assert_less_equal_Assert_AssertGuard_false_5094}}{{node Assert}}]]",
      "\nDuring handling of the above exception, another exception occurred:\n",
      "\u001b[1;31mInvalidArgumentError\u001b[0m                      Traceback (most recent call last)",
      "\u001b[1;32md:\\OneDrive - Universitetet i Stavanger\\Bachelor\\test_model.ipynb Cell 18'\u001b[0m in \u001b[0;36m<module>\u001b[1;34m\u001b[0m\n\u001b[1;32m----> <a href='vscode-notebook-cell:/d%3A/OneDrive%20-%20Universitetet%20i%20Stavanger/Bachelor/test_model.ipynb#ch0000028?line=0'>1</a>\u001b[0m linear_est\u001b[39m.\u001b[39;49mtrain(train_input_fn)\n\u001b[0;32m      <a href='vscode-notebook-cell:/d%3A/OneDrive%20-%20Universitetet%20i%20Stavanger/Bachelor/test_model.ipynb#ch0000028?line=1'>2</a>\u001b[0m result \u001b[39m=\u001b[39m linear_est\u001b[39m.\u001b[39mevaluate(eval_input_fn)\n\u001b[0;32m      <a href='vscode-notebook-cell:/d%3A/OneDrive%20-%20Universitetet%20i%20Stavanger/Bachelor/test_model.ipynb#ch0000028?line=3'>4</a>\u001b[0m clear_output()\n",
      "File \u001b[1;32mD:\\Python\\lib\\site-packages\\tensorflow_estimator\\python\\estimator\\estimator.py:360\u001b[0m, in \u001b[0;36mEstimator.train\u001b[1;34m(self, input_fn, hooks, steps, max_steps, saving_listeners)\u001b[0m\n\u001b[0;32m    <a href='file:///d%3A/Python/lib/site-packages/tensorflow_estimator/python/estimator/estimator.py?line=356'>357</a>\u001b[0m hooks\u001b[39m.\u001b[39mextend(\u001b[39mself\u001b[39m\u001b[39m.\u001b[39m_convert_train_steps_to_hooks(steps, max_steps))\n\u001b[0;32m    <a href='file:///d%3A/Python/lib/site-packages/tensorflow_estimator/python/estimator/estimator.py?line=358'>359</a>\u001b[0m saving_listeners \u001b[39m=\u001b[39m _check_listeners_type(saving_listeners)\n\u001b[1;32m--> <a href='file:///d%3A/Python/lib/site-packages/tensorflow_estimator/python/estimator/estimator.py?line=359'>360</a>\u001b[0m loss \u001b[39m=\u001b[39m \u001b[39mself\u001b[39;49m\u001b[39m.\u001b[39;49m_train_model(input_fn, hooks, saving_listeners)\n\u001b[0;32m    <a href='file:///d%3A/Python/lib/site-packages/tensorflow_estimator/python/estimator/estimator.py?line=360'>361</a>\u001b[0m logging\u001b[39m.\u001b[39minfo(\u001b[39m'\u001b[39m\u001b[39mLoss for final step: \u001b[39m\u001b[39m%s\u001b[39;00m\u001b[39m.\u001b[39m\u001b[39m'\u001b[39m, loss)\n\u001b[0;32m    <a href='file:///d%3A/Python/lib/site-packages/tensorflow_estimator/python/estimator/estimator.py?line=361'>362</a>\u001b[0m \u001b[39mreturn\u001b[39;00m \u001b[39mself\u001b[39m\n",
      "File \u001b[1;32mD:\\Python\\lib\\site-packages\\tensorflow_estimator\\python\\estimator\\estimator.py:1186\u001b[0m, in \u001b[0;36mEstimator._train_model\u001b[1;34m(self, input_fn, hooks, saving_listeners)\u001b[0m\n\u001b[0;32m   <a href='file:///d%3A/Python/lib/site-packages/tensorflow_estimator/python/estimator/estimator.py?line=1183'>1184</a>\u001b[0m   \u001b[39mreturn\u001b[39;00m \u001b[39mself\u001b[39m\u001b[39m.\u001b[39m_train_model_distributed(input_fn, hooks, saving_listeners)\n\u001b[0;32m   <a href='file:///d%3A/Python/lib/site-packages/tensorflow_estimator/python/estimator/estimator.py?line=1184'>1185</a>\u001b[0m \u001b[39melse\u001b[39;00m:\n\u001b[1;32m-> <a href='file:///d%3A/Python/lib/site-packages/tensorflow_estimator/python/estimator/estimator.py?line=1185'>1186</a>\u001b[0m   \u001b[39mreturn\u001b[39;00m \u001b[39mself\u001b[39;49m\u001b[39m.\u001b[39;49m_train_model_default(input_fn, hooks, saving_listeners)\n",
      "File \u001b[1;32mD:\\Python\\lib\\site-packages\\tensorflow_estimator\\python\\estimator\\estimator.py:1217\u001b[0m, in \u001b[0;36mEstimator._train_model_default\u001b[1;34m(self, input_fn, hooks, saving_listeners)\u001b[0m\n\u001b[0;32m   <a href='file:///d%3A/Python/lib/site-packages/tensorflow_estimator/python/estimator/estimator.py?line=1213'>1214</a>\u001b[0m estimator_spec \u001b[39m=\u001b[39m \u001b[39mself\u001b[39m\u001b[39m.\u001b[39m_call_model_fn(features, labels, ModeKeys\u001b[39m.\u001b[39mTRAIN,\n\u001b[0;32m   <a href='file:///d%3A/Python/lib/site-packages/tensorflow_estimator/python/estimator/estimator.py?line=1214'>1215</a>\u001b[0m                                      \u001b[39mself\u001b[39m\u001b[39m.\u001b[39mconfig)\n\u001b[0;32m   <a href='file:///d%3A/Python/lib/site-packages/tensorflow_estimator/python/estimator/estimator.py?line=1215'>1216</a>\u001b[0m global_step_tensor \u001b[39m=\u001b[39m tf\u001b[39m.\u001b[39mcompat\u001b[39m.\u001b[39mv1\u001b[39m.\u001b[39mtrain\u001b[39m.\u001b[39mget_global_step(g)\n\u001b[1;32m-> <a href='file:///d%3A/Python/lib/site-packages/tensorflow_estimator/python/estimator/estimator.py?line=1216'>1217</a>\u001b[0m \u001b[39mreturn\u001b[39;00m \u001b[39mself\u001b[39;49m\u001b[39m.\u001b[39;49m_train_with_estimator_spec(estimator_spec, worker_hooks,\n\u001b[0;32m   <a href='file:///d%3A/Python/lib/site-packages/tensorflow_estimator/python/estimator/estimator.py?line=1217'>1218</a>\u001b[0m                                        hooks, global_step_tensor,\n\u001b[0;32m   <a href='file:///d%3A/Python/lib/site-packages/tensorflow_estimator/python/estimator/estimator.py?line=1218'>1219</a>\u001b[0m                                        saving_listeners)\n",
      "File \u001b[1;32mD:\\Python\\lib\\site-packages\\tensorflow_estimator\\python\\estimator\\estimator.py:1533\u001b[0m, in \u001b[0;36mEstimator._train_with_estimator_spec\u001b[1;34m(self, estimator_spec, worker_hooks, hooks, global_step_tensor, saving_listeners)\u001b[0m\n\u001b[0;32m   <a href='file:///d%3A/Python/lib/site-packages/tensorflow_estimator/python/estimator/estimator.py?line=1529'>1530</a>\u001b[0m   \u001b[39m# just as keras(https://github.com/tensorflow/tensorflow/blob/v2.4.1/tensorflow/python/keras/engine/training.py#L1093),\u001b[39;00m\n\u001b[0;32m   <a href='file:///d%3A/Python/lib/site-packages/tensorflow_estimator/python/estimator/estimator.py?line=1530'>1531</a>\u001b[0m   \u001b[39m# trace should be enabled for every step\u001b[39;00m\n\u001b[0;32m   <a href='file:///d%3A/Python/lib/site-packages/tensorflow_estimator/python/estimator/estimator.py?line=1531'>1532</a>\u001b[0m   \u001b[39mwith\u001b[39;00m trace\u001b[39m.\u001b[39mTrace(\u001b[39m'\u001b[39m\u001b[39mtrain\u001b[39m\u001b[39m'\u001b[39m, step_num\u001b[39m=\u001b[39mcurrent_step, _r\u001b[39m=\u001b[39m\u001b[39m1\u001b[39m):\n\u001b[1;32m-> <a href='file:///d%3A/Python/lib/site-packages/tensorflow_estimator/python/estimator/estimator.py?line=1532'>1533</a>\u001b[0m     _, loss \u001b[39m=\u001b[39m mon_sess\u001b[39m.\u001b[39;49mrun([estimator_spec\u001b[39m.\u001b[39;49mtrain_op, estimator_spec\u001b[39m.\u001b[39;49mloss])\n\u001b[0;32m   <a href='file:///d%3A/Python/lib/site-packages/tensorflow_estimator/python/estimator/estimator.py?line=1533'>1534</a>\u001b[0m \u001b[39mif\u001b[39;00m current_step \u001b[39m==\u001b[39m \u001b[39m0\u001b[39m:\n\u001b[0;32m   <a href='file:///d%3A/Python/lib/site-packages/tensorflow_estimator/python/estimator/estimator.py?line=1534'>1535</a>\u001b[0m   tf\u001b[39m.\u001b[39mcompat\u001b[39m.\u001b[39mv1\u001b[39m.\u001b[39mlogging\u001b[39m.\u001b[39mwarn(\u001b[39m'\u001b[39m\u001b[39mTraining with estimator made no steps. \u001b[39m\u001b[39m'\u001b[39m\n\u001b[0;32m   <a href='file:///d%3A/Python/lib/site-packages/tensorflow_estimator/python/estimator/estimator.py?line=1535'>1536</a>\u001b[0m                             \u001b[39m'\u001b[39m\u001b[39mPerhaps input is empty or misspecified.\u001b[39m\u001b[39m'\u001b[39m)\n",
      "File \u001b[1;32mD:\\Python\\lib\\site-packages\\tensorflow\\python\\training\\monitored_session.py:782\u001b[0m, in \u001b[0;36m_MonitoredSession.run\u001b[1;34m(self, fetches, feed_dict, options, run_metadata)\u001b[0m\n\u001b[0;32m    <a href='file:///d%3A/Python/lib/site-packages/tensorflow/python/training/monitored_session.py?line=767'>768</a>\u001b[0m \u001b[39mdef\u001b[39;00m \u001b[39mrun\u001b[39m(\u001b[39mself\u001b[39m, fetches, feed_dict\u001b[39m=\u001b[39m\u001b[39mNone\u001b[39;00m, options\u001b[39m=\u001b[39m\u001b[39mNone\u001b[39;00m, run_metadata\u001b[39m=\u001b[39m\u001b[39mNone\u001b[39;00m):\n\u001b[0;32m    <a href='file:///d%3A/Python/lib/site-packages/tensorflow/python/training/monitored_session.py?line=768'>769</a>\u001b[0m   \u001b[39m\"\"\"Run ops in the monitored session.\u001b[39;00m\n\u001b[0;32m    <a href='file:///d%3A/Python/lib/site-packages/tensorflow/python/training/monitored_session.py?line=769'>770</a>\u001b[0m \n\u001b[0;32m    <a href='file:///d%3A/Python/lib/site-packages/tensorflow/python/training/monitored_session.py?line=770'>771</a>\u001b[0m \u001b[39m  This method is completely compatible with the `tf.Session.run()` method.\u001b[39;00m\n\u001b[1;32m   (...)\u001b[0m\n\u001b[0;32m    <a href='file:///d%3A/Python/lib/site-packages/tensorflow/python/training/monitored_session.py?line=779'>780</a>\u001b[0m \u001b[39m    Same as `tf.Session.run()`.\u001b[39;00m\n\u001b[0;32m    <a href='file:///d%3A/Python/lib/site-packages/tensorflow/python/training/monitored_session.py?line=780'>781</a>\u001b[0m \u001b[39m  \"\"\"\u001b[39;00m\n\u001b[1;32m--> <a href='file:///d%3A/Python/lib/site-packages/tensorflow/python/training/monitored_session.py?line=781'>782</a>\u001b[0m   \u001b[39mreturn\u001b[39;00m \u001b[39mself\u001b[39;49m\u001b[39m.\u001b[39;49m_sess\u001b[39m.\u001b[39;49mrun(\n\u001b[0;32m    <a href='file:///d%3A/Python/lib/site-packages/tensorflow/python/training/monitored_session.py?line=782'>783</a>\u001b[0m       fetches,\n\u001b[0;32m    <a href='file:///d%3A/Python/lib/site-packages/tensorflow/python/training/monitored_session.py?line=783'>784</a>\u001b[0m       feed_dict\u001b[39m=\u001b[39;49mfeed_dict,\n\u001b[0;32m    <a href='file:///d%3A/Python/lib/site-packages/tensorflow/python/training/monitored_session.py?line=784'>785</a>\u001b[0m       options\u001b[39m=\u001b[39;49moptions,\n\u001b[0;32m    <a href='file:///d%3A/Python/lib/site-packages/tensorflow/python/training/monitored_session.py?line=785'>786</a>\u001b[0m       run_metadata\u001b[39m=\u001b[39;49mrun_metadata)\n",
      "File \u001b[1;32mD:\\Python\\lib\\site-packages\\tensorflow\\python\\training\\monitored_session.py:1311\u001b[0m, in \u001b[0;36m_RecoverableSession.run\u001b[1;34m(self, fetches, feed_dict, options, run_metadata)\u001b[0m\n\u001b[0;32m   <a href='file:///d%3A/Python/lib/site-packages/tensorflow/python/training/monitored_session.py?line=1308'>1309</a>\u001b[0m   \u001b[39mif\u001b[39;00m \u001b[39mnot\u001b[39;00m \u001b[39mself\u001b[39m\u001b[39m.\u001b[39m_sess:\n\u001b[0;32m   <a href='file:///d%3A/Python/lib/site-packages/tensorflow/python/training/monitored_session.py?line=1309'>1310</a>\u001b[0m     \u001b[39mself\u001b[39m\u001b[39m.\u001b[39m_sess \u001b[39m=\u001b[39m \u001b[39mself\u001b[39m\u001b[39m.\u001b[39m_create_session()\n\u001b[1;32m-> <a href='file:///d%3A/Python/lib/site-packages/tensorflow/python/training/monitored_session.py?line=1310'>1311</a>\u001b[0m   \u001b[39mreturn\u001b[39;00m \u001b[39mself\u001b[39;49m\u001b[39m.\u001b[39;49m_sess\u001b[39m.\u001b[39;49mrun(\n\u001b[0;32m   <a href='file:///d%3A/Python/lib/site-packages/tensorflow/python/training/monitored_session.py?line=1311'>1312</a>\u001b[0m       fetches,\n\u001b[0;32m   <a href='file:///d%3A/Python/lib/site-packages/tensorflow/python/training/monitored_session.py?line=1312'>1313</a>\u001b[0m       feed_dict\u001b[39m=\u001b[39;49mfeed_dict,\n\u001b[0;32m   <a href='file:///d%3A/Python/lib/site-packages/tensorflow/python/training/monitored_session.py?line=1313'>1314</a>\u001b[0m       options\u001b[39m=\u001b[39;49moptions,\n\u001b[0;32m   <a href='file:///d%3A/Python/lib/site-packages/tensorflow/python/training/monitored_session.py?line=1314'>1315</a>\u001b[0m       run_metadata\u001b[39m=\u001b[39;49mrun_metadata)\n\u001b[0;32m   <a href='file:///d%3A/Python/lib/site-packages/tensorflow/python/training/monitored_session.py?line=1315'>1316</a>\u001b[0m \u001b[39mexcept\u001b[39;00m _PREEMPTION_ERRORS \u001b[39mas\u001b[39;00m e:\n\u001b[0;32m   <a href='file:///d%3A/Python/lib/site-packages/tensorflow/python/training/monitored_session.py?line=1316'>1317</a>\u001b[0m   logging\u001b[39m.\u001b[39minfo(\n\u001b[0;32m   <a href='file:///d%3A/Python/lib/site-packages/tensorflow/python/training/monitored_session.py?line=1317'>1318</a>\u001b[0m       \u001b[39m'\u001b[39m\u001b[39mAn error was raised. This may be due to a preemption in \u001b[39m\u001b[39m'\u001b[39m\n\u001b[0;32m   <a href='file:///d%3A/Python/lib/site-packages/tensorflow/python/training/monitored_session.py?line=1318'>1319</a>\u001b[0m       \u001b[39m'\u001b[39m\u001b[39ma connected worker or parameter server. The current \u001b[39m\u001b[39m'\u001b[39m\n\u001b[1;32m   (...)\u001b[0m\n\u001b[0;32m   <a href='file:///d%3A/Python/lib/site-packages/tensorflow/python/training/monitored_session.py?line=1323'>1324</a>\u001b[0m       \u001b[39m'\u001b[39m\u001b[39mincreasing the number of parameter servers assigned to \u001b[39m\u001b[39m'\u001b[39m\n\u001b[0;32m   <a href='file:///d%3A/Python/lib/site-packages/tensorflow/python/training/monitored_session.py?line=1324'>1325</a>\u001b[0m       \u001b[39m'\u001b[39m\u001b[39mthe job. Error: \u001b[39m\u001b[39m%s\u001b[39;00m\u001b[39m'\u001b[39m, e)\n",
      "File \u001b[1;32mD:\\Python\\lib\\site-packages\\tensorflow\\python\\training\\monitored_session.py:1416\u001b[0m, in \u001b[0;36m_CoordinatedSession.run\u001b[1;34m(self, *args, **kwargs)\u001b[0m\n\u001b[0;32m   <a href='file:///d%3A/Python/lib/site-packages/tensorflow/python/training/monitored_session.py?line=1413'>1414</a>\u001b[0m   \u001b[39mraise\u001b[39;00m six\u001b[39m.\u001b[39mreraise(\u001b[39m*\u001b[39moriginal_exc_info)\n\u001b[0;32m   <a href='file:///d%3A/Python/lib/site-packages/tensorflow/python/training/monitored_session.py?line=1414'>1415</a>\u001b[0m \u001b[39melse\u001b[39;00m:\n\u001b[1;32m-> <a href='file:///d%3A/Python/lib/site-packages/tensorflow/python/training/monitored_session.py?line=1415'>1416</a>\u001b[0m   \u001b[39mraise\u001b[39;00m six\u001b[39m.\u001b[39;49mreraise(\u001b[39m*\u001b[39;49moriginal_exc_info)\n",
      "File \u001b[1;32m~\\AppData\\Roaming\\Python\\Python310\\site-packages\\six.py:719\u001b[0m, in \u001b[0;36mreraise\u001b[1;34m(tp, value, tb)\u001b[0m\n\u001b[0;32m    <a href='file:///~/AppData/Roaming/Python/Python310/site-packages/six.py?line=716'>717</a>\u001b[0m     \u001b[39mif\u001b[39;00m value\u001b[39m.\u001b[39m__traceback__ \u001b[39mis\u001b[39;00m \u001b[39mnot\u001b[39;00m tb:\n\u001b[0;32m    <a href='file:///~/AppData/Roaming/Python/Python310/site-packages/six.py?line=717'>718</a>\u001b[0m         \u001b[39mraise\u001b[39;00m value\u001b[39m.\u001b[39mwith_traceback(tb)\n\u001b[1;32m--> <a href='file:///~/AppData/Roaming/Python/Python310/site-packages/six.py?line=718'>719</a>\u001b[0m     \u001b[39mraise\u001b[39;00m value\n\u001b[0;32m    <a href='file:///~/AppData/Roaming/Python/Python310/site-packages/six.py?line=719'>720</a>\u001b[0m \u001b[39mfinally\u001b[39;00m:\n\u001b[0;32m    <a href='file:///~/AppData/Roaming/Python/Python310/site-packages/six.py?line=720'>721</a>\u001b[0m     value \u001b[39m=\u001b[39m \u001b[39mNone\u001b[39;00m\n",
      "File \u001b[1;32mD:\\Python\\lib\\site-packages\\tensorflow\\python\\training\\monitored_session.py:1401\u001b[0m, in \u001b[0;36m_CoordinatedSession.run\u001b[1;34m(self, *args, **kwargs)\u001b[0m\n\u001b[0;32m   <a href='file:///d%3A/Python/lib/site-packages/tensorflow/python/training/monitored_session.py?line=1398'>1399</a>\u001b[0m \u001b[39mdef\u001b[39;00m \u001b[39mrun\u001b[39m(\u001b[39mself\u001b[39m, \u001b[39m*\u001b[39margs, \u001b[39m*\u001b[39m\u001b[39m*\u001b[39mkwargs):\n\u001b[0;32m   <a href='file:///d%3A/Python/lib/site-packages/tensorflow/python/training/monitored_session.py?line=1399'>1400</a>\u001b[0m   \u001b[39mtry\u001b[39;00m:\n\u001b[1;32m-> <a href='file:///d%3A/Python/lib/site-packages/tensorflow/python/training/monitored_session.py?line=1400'>1401</a>\u001b[0m     \u001b[39mreturn\u001b[39;00m \u001b[39mself\u001b[39m\u001b[39m.\u001b[39m_sess\u001b[39m.\u001b[39mrun(\u001b[39m*\u001b[39margs, \u001b[39m*\u001b[39m\u001b[39m*\u001b[39mkwargs)\n\u001b[0;32m   <a href='file:///d%3A/Python/lib/site-packages/tensorflow/python/training/monitored_session.py?line=1401'>1402</a>\u001b[0m   \u001b[39mexcept\u001b[39;00m _PREEMPTION_ERRORS:\n\u001b[0;32m   <a href='file:///d%3A/Python/lib/site-packages/tensorflow/python/training/monitored_session.py?line=1402'>1403</a>\u001b[0m     \u001b[39mraise\u001b[39;00m\n",
      "File \u001b[1;32mD:\\Python\\lib\\site-packages\\tensorflow\\python\\training\\monitored_session.py:1469\u001b[0m, in \u001b[0;36m_HookedSession.run\u001b[1;34m(self, fetches, feed_dict, options, run_metadata)\u001b[0m\n\u001b[0;32m   <a href='file:///d%3A/Python/lib/site-packages/tensorflow/python/training/monitored_session.py?line=1466'>1467</a>\u001b[0m \u001b[39m# Do session run.\u001b[39;00m\n\u001b[0;32m   <a href='file:///d%3A/Python/lib/site-packages/tensorflow/python/training/monitored_session.py?line=1467'>1468</a>\u001b[0m run_metadata \u001b[39m=\u001b[39m run_metadata \u001b[39mor\u001b[39;00m config_pb2\u001b[39m.\u001b[39mRunMetadata()\n\u001b[1;32m-> <a href='file:///d%3A/Python/lib/site-packages/tensorflow/python/training/monitored_session.py?line=1468'>1469</a>\u001b[0m outputs \u001b[39m=\u001b[39m _WrappedSession\u001b[39m.\u001b[39;49mrun(\n\u001b[0;32m   <a href='file:///d%3A/Python/lib/site-packages/tensorflow/python/training/monitored_session.py?line=1469'>1470</a>\u001b[0m     \u001b[39mself\u001b[39;49m,\n\u001b[0;32m   <a href='file:///d%3A/Python/lib/site-packages/tensorflow/python/training/monitored_session.py?line=1470'>1471</a>\u001b[0m     fetches\u001b[39m=\u001b[39;49mactual_fetches,\n\u001b[0;32m   <a href='file:///d%3A/Python/lib/site-packages/tensorflow/python/training/monitored_session.py?line=1471'>1472</a>\u001b[0m     feed_dict\u001b[39m=\u001b[39;49mfeed_dict,\n\u001b[0;32m   <a href='file:///d%3A/Python/lib/site-packages/tensorflow/python/training/monitored_session.py?line=1472'>1473</a>\u001b[0m     options\u001b[39m=\u001b[39;49moptions,\n\u001b[0;32m   <a href='file:///d%3A/Python/lib/site-packages/tensorflow/python/training/monitored_session.py?line=1473'>1474</a>\u001b[0m     run_metadata\u001b[39m=\u001b[39;49mrun_metadata)\n\u001b[0;32m   <a href='file:///d%3A/Python/lib/site-packages/tensorflow/python/training/monitored_session.py?line=1475'>1476</a>\u001b[0m \u001b[39mfor\u001b[39;00m hook \u001b[39min\u001b[39;00m \u001b[39mself\u001b[39m\u001b[39m.\u001b[39m_hooks:\n\u001b[0;32m   <a href='file:///d%3A/Python/lib/site-packages/tensorflow/python/training/monitored_session.py?line=1476'>1477</a>\u001b[0m   hook\u001b[39m.\u001b[39mafter_run(\n\u001b[0;32m   <a href='file:///d%3A/Python/lib/site-packages/tensorflow/python/training/monitored_session.py?line=1477'>1478</a>\u001b[0m       run_context,\n\u001b[0;32m   <a href='file:///d%3A/Python/lib/site-packages/tensorflow/python/training/monitored_session.py?line=1478'>1479</a>\u001b[0m       session_run_hook\u001b[39m.\u001b[39mSessionRunValues(\n\u001b[0;32m   <a href='file:///d%3A/Python/lib/site-packages/tensorflow/python/training/monitored_session.py?line=1479'>1480</a>\u001b[0m           results\u001b[39m=\u001b[39moutputs[hook] \u001b[39mif\u001b[39;00m hook \u001b[39min\u001b[39;00m outputs \u001b[39melse\u001b[39;00m \u001b[39mNone\u001b[39;00m,\n\u001b[0;32m   <a href='file:///d%3A/Python/lib/site-packages/tensorflow/python/training/monitored_session.py?line=1480'>1481</a>\u001b[0m           options\u001b[39m=\u001b[39moptions,\n\u001b[0;32m   <a href='file:///d%3A/Python/lib/site-packages/tensorflow/python/training/monitored_session.py?line=1481'>1482</a>\u001b[0m           run_metadata\u001b[39m=\u001b[39mrun_metadata))\n",
      "File \u001b[1;32mD:\\Python\\lib\\site-packages\\tensorflow\\python\\training\\monitored_session.py:1232\u001b[0m, in \u001b[0;36m_WrappedSession.run\u001b[1;34m(self, *args, **kwargs)\u001b[0m\n\u001b[0;32m   <a href='file:///d%3A/Python/lib/site-packages/tensorflow/python/training/monitored_session.py?line=1230'>1231</a>\u001b[0m \u001b[39mdef\u001b[39;00m \u001b[39mrun\u001b[39m(\u001b[39mself\u001b[39m, \u001b[39m*\u001b[39margs, \u001b[39m*\u001b[39m\u001b[39m*\u001b[39mkwargs):\n\u001b[1;32m-> <a href='file:///d%3A/Python/lib/site-packages/tensorflow/python/training/monitored_session.py?line=1231'>1232</a>\u001b[0m   \u001b[39mreturn\u001b[39;00m \u001b[39mself\u001b[39m\u001b[39m.\u001b[39m_sess\u001b[39m.\u001b[39mrun(\u001b[39m*\u001b[39margs, \u001b[39m*\u001b[39m\u001b[39m*\u001b[39mkwargs)\n",
      "File \u001b[1;32mD:\\Python\\lib\\site-packages\\tensorflow\\python\\client\\session.py:967\u001b[0m, in \u001b[0;36mBaseSession.run\u001b[1;34m(self, fetches, feed_dict, options, run_metadata)\u001b[0m\n\u001b[0;32m    <a href='file:///d%3A/Python/lib/site-packages/tensorflow/python/client/session.py?line=963'>964</a>\u001b[0m run_metadata_ptr \u001b[39m=\u001b[39m tf_session\u001b[39m.\u001b[39mTF_NewBuffer() \u001b[39mif\u001b[39;00m run_metadata \u001b[39melse\u001b[39;00m \u001b[39mNone\u001b[39;00m\n\u001b[0;32m    <a href='file:///d%3A/Python/lib/site-packages/tensorflow/python/client/session.py?line=965'>966</a>\u001b[0m \u001b[39mtry\u001b[39;00m:\n\u001b[1;32m--> <a href='file:///d%3A/Python/lib/site-packages/tensorflow/python/client/session.py?line=966'>967</a>\u001b[0m   result \u001b[39m=\u001b[39m \u001b[39mself\u001b[39;49m\u001b[39m.\u001b[39;49m_run(\u001b[39mNone\u001b[39;49;00m, fetches, feed_dict, options_ptr,\n\u001b[0;32m    <a href='file:///d%3A/Python/lib/site-packages/tensorflow/python/client/session.py?line=967'>968</a>\u001b[0m                      run_metadata_ptr)\n\u001b[0;32m    <a href='file:///d%3A/Python/lib/site-packages/tensorflow/python/client/session.py?line=968'>969</a>\u001b[0m   \u001b[39mif\u001b[39;00m run_metadata:\n\u001b[0;32m    <a href='file:///d%3A/Python/lib/site-packages/tensorflow/python/client/session.py?line=969'>970</a>\u001b[0m     proto_data \u001b[39m=\u001b[39m tf_session\u001b[39m.\u001b[39mTF_GetBuffer(run_metadata_ptr)\n",
      "File \u001b[1;32mD:\\Python\\lib\\site-packages\\tensorflow\\python\\client\\session.py:1190\u001b[0m, in \u001b[0;36mBaseSession._run\u001b[1;34m(self, handle, fetches, feed_dict, options, run_metadata)\u001b[0m\n\u001b[0;32m   <a href='file:///d%3A/Python/lib/site-packages/tensorflow/python/client/session.py?line=1186'>1187</a>\u001b[0m \u001b[39m# We only want to really perform the run if fetches or targets are provided,\u001b[39;00m\n\u001b[0;32m   <a href='file:///d%3A/Python/lib/site-packages/tensorflow/python/client/session.py?line=1187'>1188</a>\u001b[0m \u001b[39m# or if the call is a partial run that specifies feeds.\u001b[39;00m\n\u001b[0;32m   <a href='file:///d%3A/Python/lib/site-packages/tensorflow/python/client/session.py?line=1188'>1189</a>\u001b[0m \u001b[39mif\u001b[39;00m final_fetches \u001b[39mor\u001b[39;00m final_targets \u001b[39mor\u001b[39;00m (handle \u001b[39mand\u001b[39;00m feed_dict_tensor):\n\u001b[1;32m-> <a href='file:///d%3A/Python/lib/site-packages/tensorflow/python/client/session.py?line=1189'>1190</a>\u001b[0m   results \u001b[39m=\u001b[39m \u001b[39mself\u001b[39;49m\u001b[39m.\u001b[39;49m_do_run(handle, final_targets, final_fetches,\n\u001b[0;32m   <a href='file:///d%3A/Python/lib/site-packages/tensorflow/python/client/session.py?line=1190'>1191</a>\u001b[0m                          feed_dict_tensor, options, run_metadata)\n\u001b[0;32m   <a href='file:///d%3A/Python/lib/site-packages/tensorflow/python/client/session.py?line=1191'>1192</a>\u001b[0m \u001b[39melse\u001b[39;00m:\n\u001b[0;32m   <a href='file:///d%3A/Python/lib/site-packages/tensorflow/python/client/session.py?line=1192'>1193</a>\u001b[0m   results \u001b[39m=\u001b[39m []\n",
      "File \u001b[1;32mD:\\Python\\lib\\site-packages\\tensorflow\\python\\client\\session.py:1370\u001b[0m, in \u001b[0;36mBaseSession._do_run\u001b[1;34m(self, handle, target_list, fetch_list, feed_dict, options, run_metadata)\u001b[0m\n\u001b[0;32m   <a href='file:///d%3A/Python/lib/site-packages/tensorflow/python/client/session.py?line=1366'>1367</a>\u001b[0m   \u001b[39mreturn\u001b[39;00m \u001b[39mself\u001b[39m\u001b[39m.\u001b[39m_call_tf_sessionprun(handle, feed_dict, fetch_list)\n\u001b[0;32m   <a href='file:///d%3A/Python/lib/site-packages/tensorflow/python/client/session.py?line=1368'>1369</a>\u001b[0m \u001b[39mif\u001b[39;00m handle \u001b[39mis\u001b[39;00m \u001b[39mNone\u001b[39;00m:\n\u001b[1;32m-> <a href='file:///d%3A/Python/lib/site-packages/tensorflow/python/client/session.py?line=1369'>1370</a>\u001b[0m   \u001b[39mreturn\u001b[39;00m \u001b[39mself\u001b[39;49m\u001b[39m.\u001b[39;49m_do_call(_run_fn, feeds, fetches, targets, options,\n\u001b[0;32m   <a href='file:///d%3A/Python/lib/site-packages/tensorflow/python/client/session.py?line=1370'>1371</a>\u001b[0m                        run_metadata)\n\u001b[0;32m   <a href='file:///d%3A/Python/lib/site-packages/tensorflow/python/client/session.py?line=1371'>1372</a>\u001b[0m \u001b[39melse\u001b[39;00m:\n\u001b[0;32m   <a href='file:///d%3A/Python/lib/site-packages/tensorflow/python/client/session.py?line=1372'>1373</a>\u001b[0m   \u001b[39mreturn\u001b[39;00m \u001b[39mself\u001b[39m\u001b[39m.\u001b[39m_do_call(_prun_fn, handle, feeds, fetches)\n",
      "File \u001b[1;32mD:\\Python\\lib\\site-packages\\tensorflow\\python\\client\\session.py:1396\u001b[0m, in \u001b[0;36mBaseSession._do_call\u001b[1;34m(self, fn, *args)\u001b[0m\n\u001b[0;32m   <a href='file:///d%3A/Python/lib/site-packages/tensorflow/python/client/session.py?line=1390'>1391</a>\u001b[0m \u001b[39mif\u001b[39;00m \u001b[39m'\u001b[39m\u001b[39monly supports NHWC tensor format\u001b[39m\u001b[39m'\u001b[39m \u001b[39min\u001b[39;00m message:\n\u001b[0;32m   <a href='file:///d%3A/Python/lib/site-packages/tensorflow/python/client/session.py?line=1391'>1392</a>\u001b[0m   message \u001b[39m+\u001b[39m\u001b[39m=\u001b[39m (\u001b[39m'\u001b[39m\u001b[39m\\n\u001b[39;00m\u001b[39mA possible workaround: Try disabling Grappler optimizer\u001b[39m\u001b[39m'\u001b[39m\n\u001b[0;32m   <a href='file:///d%3A/Python/lib/site-packages/tensorflow/python/client/session.py?line=1392'>1393</a>\u001b[0m               \u001b[39m'\u001b[39m\u001b[39m\\n\u001b[39;00m\u001b[39mby modifying the config for creating the session eg.\u001b[39m\u001b[39m'\u001b[39m\n\u001b[0;32m   <a href='file:///d%3A/Python/lib/site-packages/tensorflow/python/client/session.py?line=1393'>1394</a>\u001b[0m               \u001b[39m'\u001b[39m\u001b[39m\\n\u001b[39;00m\u001b[39msession_config.graph_options.rewrite_options.\u001b[39m\u001b[39m'\u001b[39m\n\u001b[0;32m   <a href='file:///d%3A/Python/lib/site-packages/tensorflow/python/client/session.py?line=1394'>1395</a>\u001b[0m               \u001b[39m'\u001b[39m\u001b[39mdisable_meta_optimizer = True\u001b[39m\u001b[39m'\u001b[39m)\n\u001b[1;32m-> <a href='file:///d%3A/Python/lib/site-packages/tensorflow/python/client/session.py?line=1395'>1396</a>\u001b[0m \u001b[39mraise\u001b[39;00m \u001b[39mtype\u001b[39m(e)(node_def, op, message)\n",
      "\u001b[1;31mInvalidArgumentError\u001b[0m: Graph execution error:\n\nassertion failed: [Labels must be <= n_classes - 1] [Condition x <= y did not hold element-wise:] [x (head/losses/labels:0) = ] [[0.166][0.231][0.228]...] [y (head/losses/check_label_range/Const:0) = ] [1]\n\t [[{{node Assert}}]]"
     ]
    }
   ],
   "source": [
    "linear_est.train(train_input_fn)\n",
    "result = linear_est.evaluate(eval_input_fn)\n",
    "\n",
    "clear_output()\n",
    "print(result['accuracy'])"
   ]
  }
 ],
 "metadata": {
  "interpreter": {
   "hash": "916dbcbb3f70747c44a77c7bcd40155683ae19c65e1c03b4aa3499c5328201f1"
  },
  "kernelspec": {
   "display_name": "Python 3.8.10 64-bit",
   "language": "python",
   "name": "python3"
  },
  "language_info": {
   "codemirror_mode": {
    "name": "ipython",
    "version": 3
   },
   "file_extension": ".py",
   "mimetype": "text/x-python",
   "name": "python",
   "nbconvert_exporter": "python",
   "pygments_lexer": "ipython3",
   "version": "3.10.2"
  },
  "orig_nbformat": 4
 },
 "nbformat": 4,
 "nbformat_minor": 2
}
