{
 "cells": [
  {
   "cell_type": "markdown",
   "metadata": {},
   "source": [
    "## Linear model\n",
    "\n",
    "using a linear model to predict the energy consumption"
   ]
  },
  {
   "cell_type": "markdown",
   "metadata": {},
   "source": [
    "from __future__ import absolute_import, division, print_function, unicode_literals\n",
    "\n",
    "import matplotlib.pyplot as plt\n",
    "import numpy as np\n",
    "import pandas as pd\n",
    "from IPython.display import clear_output\n",
    "from six.moves import urllib\n",
    "\n",
    "import tensorflow.compat.v2.feature_column as fc\n",
    "\n",
    "import tensorflow as tf\n",
    "\n",
    "from data_read import load_data_into_dataframe\n",
    "from house_filtration import house_filtration_select\n",
    "\n",
    "%tensorflow_version 2.x  # this line is not required unless you are in a notebook"
   ]
  },
  {
   "cell_type": "code",
   "execution_count": 2,
   "metadata": {},
   "outputs": [
    {
     "name": "stderr",
     "output_type": "stream",
     "text": [
      "/home/sindr/Documents/School/Bachelor/repo/Bachelor_thesis/data_read.py:42: DtypeWarning: Columns (2) have mixed types. Specify dtype option on import or set low_memory=False.\n",
      "  df = pd.concat((pd.read_csv(file) for file in dataset_files_csv), ignore_index=False)\n",
      "/home/sindr/Documents/School/Bachelor/repo/Bachelor_thesis/data_read.py:42: DtypeWarning: Columns (2) have mixed types. Specify dtype option on import or set low_memory=False.\n",
      "  df = pd.concat((pd.read_csv(file) for file in dataset_files_csv), ignore_index=False)\n",
      "/home/sindr/Documents/School/Bachelor/repo/Bachelor_thesis/data_read.py:42: DtypeWarning: Columns (2) have mixed types. Specify dtype option on import or set low_memory=False.\n",
      "  df = pd.concat((pd.read_csv(file) for file in dataset_files_csv), ignore_index=False)\n",
      "/home/sindr/Documents/School/Bachelor/repo/Bachelor_thesis/data_read.py:42: DtypeWarning: Columns (2) have mixed types. Specify dtype option on import or set low_memory=False.\n",
      "  df = pd.concat((pd.read_csv(file) for file in dataset_files_csv), ignore_index=False)\n",
      "/home/sindr/Documents/School/Bachelor/repo/Bachelor_thesis/data_read.py:42: DtypeWarning: Columns (2) have mixed types. Specify dtype option on import or set low_memory=False.\n",
      "  df = pd.concat((pd.read_csv(file) for file in dataset_files_csv), ignore_index=False)\n",
      "/home/sindr/Documents/School/Bachelor/repo/Bachelor_thesis/data_read.py:42: DtypeWarning: Columns (2) have mixed types. Specify dtype option on import or set low_memory=False.\n",
      "  df = pd.concat((pd.read_csv(file) for file in dataset_files_csv), ignore_index=False)\n",
      "/home/sindr/Documents/School/Bachelor/repo/Bachelor_thesis/data_read.py:42: DtypeWarning: Columns (2) have mixed types. Specify dtype option on import or set low_memory=False.\n",
      "  df = pd.concat((pd.read_csv(file) for file in dataset_files_csv), ignore_index=False)\n",
      "/home/sindr/Documents/School/Bachelor/repo/Bachelor_thesis/data_read.py:42: DtypeWarning: Columns (2) have mixed types. Specify dtype option on import or set low_memory=False.\n",
      "  df = pd.concat((pd.read_csv(file) for file in dataset_files_csv), ignore_index=False)\n"
     ]
    },
    {
     "name": "stdout",
     "output_type": "stream",
     "text": [
      "['MAC000168' 'MAC000169' 'MAC000179' 'MAC000181' 'MAC000165' 'MAC000173'\n",
      " 'MAC000152' 'MAC000153' 'MAC000159' 'MAC000150']\n"
     ]
    }
   ],
   "source": [
    "# Load the dataset\n",
    "df = house_filtration_select()\n",
    "\n",
    "# id for the household we want to use to train and test\n",
    "id_training = 'MAC000150' \n",
    "id_eval = 'MAC000152'\n",
    "\n",
    "def find_household(identification):\n",
    "    affluenthh_filt = df[\"LCLid\"] == identification\n",
    "    affluent_hh_data = df[affluenthh_filt]\n",
    "    return affluent_hh_data\n",
    "\n",
    "training = find_household(id_training)\n",
    "eval = find_household(id_eval)\n",
    "\n",
    "dftrain = training\n",
    "dfeval = eval\n",
    "\n",
    "y_train = dftrain.pop(\"energy(kWh/hh)\")\n",
    "y_eval = dfeval.pop(\"energy(kWh/hh)\")"
   ]
  },
  {
   "cell_type": "code",
   "execution_count": 3,
   "metadata": {},
   "outputs": [
    {
     "data": {
      "text/html": [
       "<div>\n",
       "<style scoped>\n",
       "    .dataframe tbody tr th:only-of-type {\n",
       "        vertical-align: middle;\n",
       "    }\n",
       "\n",
       "    .dataframe tbody tr th {\n",
       "        vertical-align: top;\n",
       "    }\n",
       "\n",
       "    .dataframe thead th {\n",
       "        text-align: right;\n",
       "    }\n",
       "</style>\n",
       "<table border=\"1\" class=\"dataframe\">\n",
       "  <thead>\n",
       "    <tr style=\"text-align: right;\">\n",
       "      <th></th>\n",
       "      <th>LCLid</th>\n",
       "      <th>tstp</th>\n",
       "    </tr>\n",
       "  </thead>\n",
       "  <tbody>\n",
       "    <tr>\n",
       "      <th>69303</th>\n",
       "      <td>MAC000150</td>\n",
       "      <td>2011-11-23 10:00:00.0000000</td>\n",
       "    </tr>\n",
       "    <tr>\n",
       "      <th>69304</th>\n",
       "      <td>MAC000150</td>\n",
       "      <td>2011-11-23 10:30:00.0000000</td>\n",
       "    </tr>\n",
       "    <tr>\n",
       "      <th>69305</th>\n",
       "      <td>MAC000150</td>\n",
       "      <td>2011-11-23 11:00:00.0000000</td>\n",
       "    </tr>\n",
       "    <tr>\n",
       "      <th>69306</th>\n",
       "      <td>MAC000150</td>\n",
       "      <td>2011-11-23 11:30:00.0000000</td>\n",
       "    </tr>\n",
       "    <tr>\n",
       "      <th>69307</th>\n",
       "      <td>MAC000150</td>\n",
       "      <td>2011-11-23 12:00:00.0000000</td>\n",
       "    </tr>\n",
       "  </tbody>\n",
       "</table>\n",
       "</div>"
      ],
      "text/plain": [
       "           LCLid                         tstp\n",
       "69303  MAC000150  2011-11-23 10:00:00.0000000\n",
       "69304  MAC000150  2011-11-23 10:30:00.0000000\n",
       "69305  MAC000150  2011-11-23 11:00:00.0000000\n",
       "69306  MAC000150  2011-11-23 11:30:00.0000000\n",
       "69307  MAC000150  2011-11-23 12:00:00.0000000"
      ]
     },
     "execution_count": 3,
     "metadata": {},
     "output_type": "execute_result"
    }
   ],
   "source": [
    "dftrain.head()"
   ]
  },
  {
   "cell_type": "code",
   "execution_count": 4,
   "metadata": {},
   "outputs": [
    {
     "data": {
      "text/html": [
       "<div>\n",
       "<style scoped>\n",
       "    .dataframe tbody tr th:only-of-type {\n",
       "        vertical-align: middle;\n",
       "    }\n",
       "\n",
       "    .dataframe tbody tr th {\n",
       "        vertical-align: top;\n",
       "    }\n",
       "\n",
       "    .dataframe thead th {\n",
       "        text-align: right;\n",
       "    }\n",
       "</style>\n",
       "<table border=\"1\" class=\"dataframe\">\n",
       "  <thead>\n",
       "    <tr style=\"text-align: right;\">\n",
       "      <th></th>\n",
       "      <th>LCLid</th>\n",
       "      <th>tstp</th>\n",
       "    </tr>\n",
       "  </thead>\n",
       "  <tbody>\n",
       "    <tr>\n",
       "      <th>count</th>\n",
       "      <td>39720</td>\n",
       "      <td>39720</td>\n",
       "    </tr>\n",
       "    <tr>\n",
       "      <th>unique</th>\n",
       "      <td>1</td>\n",
       "      <td>39720</td>\n",
       "    </tr>\n",
       "    <tr>\n",
       "      <th>top</th>\n",
       "      <td>MAC000150</td>\n",
       "      <td>2011-11-23 10:00:00.0000000</td>\n",
       "    </tr>\n",
       "    <tr>\n",
       "      <th>freq</th>\n",
       "      <td>39720</td>\n",
       "      <td>1</td>\n",
       "    </tr>\n",
       "  </tbody>\n",
       "</table>\n",
       "</div>"
      ],
      "text/plain": [
       "            LCLid                         tstp\n",
       "count       39720                        39720\n",
       "unique          1                        39720\n",
       "top     MAC000150  2011-11-23 10:00:00.0000000\n",
       "freq        39720                            1"
      ]
     },
     "execution_count": 4,
     "metadata": {},
     "output_type": "execute_result"
    }
   ],
   "source": [
    "dftrain.describe()"
   ]
  },
  {
   "cell_type": "code",
   "execution_count": null,
   "metadata": {},
   "outputs": [],
   "source": []
  }
 ],
 "metadata": {
  "interpreter": {
   "hash": "916dbcbb3f70747c44a77c7bcd40155683ae19c65e1c03b4aa3499c5328201f1"
  },
  "kernelspec": {
   "display_name": "Python 3.8.10 64-bit",
   "language": "python",
   "name": "python3"
  },
  "language_info": {
   "codemirror_mode": {
    "name": "ipython",
    "version": 3
   },
   "file_extension": ".py",
   "mimetype": "text/x-python",
   "name": "python",
   "nbconvert_exporter": "python",
   "pygments_lexer": "ipython3",
   "version": "3.8.10"
  },
  "orig_nbformat": 4
 },
 "nbformat": 4,
 "nbformat_minor": 2
}
