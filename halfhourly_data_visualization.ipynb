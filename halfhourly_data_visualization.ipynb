{
 "cells": [
  {
   "cell_type": "code",
   "execution_count": 14,
   "metadata": {},
   "outputs": [],
   "source": [
    "import pandas as pd\n",
    "import matplotlib.pyplot as plt\n",
    "from datetime import datetime\n",
    "\n",
    "from data_read import load_data_into_dataframe\n",
    "\n",
    "#enable IPython to display matplolib graphs\n",
    "%matplotlib inline"
   ]
  },
  {
   "cell_type": "code",
   "execution_count": 15,
   "metadata": {},
   "outputs": [
    {
     "name": "stderr",
     "output_type": "stream",
     "text": [
      "/home/daniel/Bachelor/Bachelor_thesis/data_read.py:39: DtypeWarning: Columns (2) have mixed types. Specify dtype option on import or set low_memory=False.\n",
      "  df = pd.concat((pd.read_csv(file) for file in dataset_files_csv), ignore_index=True)\n",
      "/home/daniel/Bachelor/Bachelor_thesis/data_read.py:39: DtypeWarning: Columns (2) have mixed types. Specify dtype option on import or set low_memory=False.\n",
      "  df = pd.concat((pd.read_csv(file) for file in dataset_files_csv), ignore_index=True)\n",
      "/home/daniel/Bachelor/Bachelor_thesis/data_read.py:39: DtypeWarning: Columns (2) have mixed types. Specify dtype option on import or set low_memory=False.\n",
      "  df = pd.concat((pd.read_csv(file) for file in dataset_files_csv), ignore_index=True)\n",
      "/home/daniel/Bachelor/Bachelor_thesis/data_read.py:39: DtypeWarning: Columns (2) have mixed types. Specify dtype option on import or set low_memory=False.\n",
      "  df = pd.concat((pd.read_csv(file) for file in dataset_files_csv), ignore_index=True)\n",
      "/home/daniel/Bachelor/Bachelor_thesis/data_read.py:39: DtypeWarning: Columns (2) have mixed types. Specify dtype option on import or set low_memory=False.\n",
      "  df = pd.concat((pd.read_csv(file) for file in dataset_files_csv), ignore_index=True)\n",
      "/home/daniel/Bachelor/Bachelor_thesis/data_read.py:39: DtypeWarning: Columns (2) have mixed types. Specify dtype option on import or set low_memory=False.\n",
      "  df = pd.concat((pd.read_csv(file) for file in dataset_files_csv), ignore_index=True)\n",
      "/home/daniel/Bachelor/Bachelor_thesis/data_read.py:39: DtypeWarning: Columns (2) have mixed types. Specify dtype option on import or set low_memory=False.\n",
      "  df = pd.concat((pd.read_csv(file) for file in dataset_files_csv), ignore_index=True)\n",
      "/home/daniel/Bachelor/Bachelor_thesis/data_read.py:39: DtypeWarning: Columns (2) have mixed types. Specify dtype option on import or set low_memory=False.\n",
      "  df = pd.concat((pd.read_csv(file) for file in dataset_files_csv), ignore_index=True)\n"
     ]
    },
    {
     "data": {
      "text/html": [
       "<div>\n",
       "<style scoped>\n",
       "    .dataframe tbody tr th:only-of-type {\n",
       "        vertical-align: middle;\n",
       "    }\n",
       "\n",
       "    .dataframe tbody tr th {\n",
       "        vertical-align: top;\n",
       "    }\n",
       "\n",
       "    .dataframe thead th {\n",
       "        text-align: right;\n",
       "    }\n",
       "</style>\n",
       "<table border=\"1\" class=\"dataframe\">\n",
       "  <thead>\n",
       "    <tr style=\"text-align: right;\">\n",
       "      <th></th>\n",
       "      <th>LCLid</th>\n",
       "      <th>tstp</th>\n",
       "      <th>energy(kWh/hh)</th>\n",
       "    </tr>\n",
       "  </thead>\n",
       "  <tbody>\n",
       "    <tr>\n",
       "      <th>0</th>\n",
       "      <td>MAC000239</td>\n",
       "      <td>2011-12-02 10:00:00.0000000</td>\n",
       "      <td>0.261</td>\n",
       "    </tr>\n",
       "    <tr>\n",
       "      <th>1</th>\n",
       "      <td>MAC000239</td>\n",
       "      <td>2011-12-02 10:30:00.0000000</td>\n",
       "      <td>0.138</td>\n",
       "    </tr>\n",
       "    <tr>\n",
       "      <th>2</th>\n",
       "      <td>MAC000239</td>\n",
       "      <td>2011-12-02 11:00:00.0000000</td>\n",
       "      <td>0.089</td>\n",
       "    </tr>\n",
       "    <tr>\n",
       "      <th>3</th>\n",
       "      <td>MAC000239</td>\n",
       "      <td>2011-12-02 11:30:00.0000000</td>\n",
       "      <td>0.1</td>\n",
       "    </tr>\n",
       "    <tr>\n",
       "      <th>4</th>\n",
       "      <td>MAC000239</td>\n",
       "      <td>2011-12-02 12:00:00.0000000</td>\n",
       "      <td>0.236</td>\n",
       "    </tr>\n",
       "  </tbody>\n",
       "</table>\n",
       "</div>"
      ],
      "text/plain": [
       "       LCLid                         tstp energy(kWh/hh)\n",
       "0  MAC000239  2011-12-02 10:00:00.0000000         0.261 \n",
       "1  MAC000239  2011-12-02 10:30:00.0000000         0.138 \n",
       "2  MAC000239  2011-12-02 11:00:00.0000000         0.089 \n",
       "3  MAC000239  2011-12-02 11:30:00.0000000           0.1 \n",
       "4  MAC000239  2011-12-02 12:00:00.0000000         0.236 "
      ]
     },
     "execution_count": 15,
     "metadata": {},
     "output_type": "execute_result"
    }
   ],
   "source": [
    "h_df = load_data_into_dataframe(\"halfhourly\")\n",
    "h_df.head()"
   ]
  },
  {
   "cell_type": "code",
   "execution_count": 16,
   "metadata": {},
   "outputs": [
    {
     "data": {
      "text/plain": [
       "(167817021, 3)"
      ]
     },
     "execution_count": 16,
     "metadata": {},
     "output_type": "execute_result"
    }
   ],
   "source": [
    "h_df.shape"
   ]
  },
  {
   "cell_type": "code",
   "execution_count": 18,
   "metadata": {},
   "outputs": [
    {
     "data": {
      "text/plain": [
       "0          2011-12-02 10:00:00.0000000\n",
       "1          2011-12-02 10:30:00.0000000\n",
       "2          2011-12-02 11:00:00.0000000\n",
       "3          2011-12-02 11:30:00.0000000\n",
       "4          2011-12-02 12:00:00.0000000\n",
       "                      ...             \n",
       "1528553    2013-09-09 22:00:00.0000000\n",
       "1528554    2013-09-09 22:30:00.0000000\n",
       "1528555    2013-09-09 23:00:00.0000000\n",
       "1528556    2013-09-09 23:30:00.0000000\n",
       "1528557    2013-09-10 00:00:00.0000000\n",
       "Name: tstp, Length: 167817021, dtype: object"
      ]
     },
     "execution_count": 18,
     "metadata": {},
     "output_type": "execute_result"
    }
   ],
   "source": [
    "h_df[\"tstp\"]"
   ]
  },
  {
   "cell_type": "code",
   "execution_count": 19,
   "metadata": {},
   "outputs": [
    {
     "name": "stdout",
     "output_type": "stream",
     "text": [
      "ERROR! Session/line number was not unique in database. History logging moved to new session 139\n"
     ]
    },
    {
     "data": {
      "text/plain": [
       "0    2011-12-02 10:00:00.0000000\n",
       "0    2011-12-14 14:00:00.0000000\n",
       "0    2011-11-23 12:30:00.0000000\n",
       "0    2011-12-12 11:00:00.0000000\n",
       "0    2011-11-23 13:00:00.0000000\n",
       "                ...             \n",
       "0    2012-04-27 12:00:00.0000000\n",
       "0    2011-12-07 10:00:00.0000000\n",
       "0    2011-12-06 09:30:00.0000000\n",
       "0    2012-03-02 11:30:00.0000000\n",
       "0    2011-12-07 11:30:00.0000000\n",
       "Name: tstp, Length: 112, dtype: object"
      ]
     },
     "execution_count": 19,
     "metadata": {},
     "output_type": "execute_result"
    }
   ],
   "source": [
    "h_df.loc[0,\"tstp\"]"
   ]
  },
  {
   "cell_type": "code",
   "execution_count": null,
   "metadata": {},
   "outputs": [],
   "source": []
  }
 ],
 "metadata": {
  "kernelspec": {
   "display_name": "Python 3.8.10 64-bit",
   "language": "python",
   "name": "python3810jvsc74a57bd031f2aee4e71d21fbe5cf8b01ff0e069b9275f58929596ceb00d14d90e3e16cd6"
  },
  "language_info": {
   "codemirror_mode": {
    "name": "ipython",
    "version": 3
   },
   "file_extension": ".py",
   "mimetype": "text/x-python",
   "name": "python",
   "nbconvert_exporter": "python",
   "pygments_lexer": "ipython3",
   "version": "3.8.10"
  }
 },
 "nbformat": 4,
 "nbformat_minor": 4
}
