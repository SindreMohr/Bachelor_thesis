{
 "cells": [
  {
   "cell_type": "markdown",
   "metadata": {},
   "source": [
    "Following this:\n",
    "https://www.tensorflow.org/tutorials/keras/regression"
   ]
  },
  {
   "cell_type": "code",
   "execution_count": 273,
   "metadata": {},
   "outputs": [],
   "source": [
    "import numpy as np \n",
    "import pandas as pd\n",
    "import tensorflow as tf\n",
    "import matplotlib.pyplot as plt\n",
    "from datetime import datetime\n",
    "import time\n",
    "\n",
    "from tensorflow import keras\n",
    "from keras import layers\n",
    "\n",
    "from sklearn.metrics import mean_squared_error\n",
    "import seaborn as sns\n",
    "np.set_printoptions(precision=3, suppress=True)"
   ]
  },
  {
   "cell_type": "code",
   "execution_count": 274,
   "metadata": {},
   "outputs": [
    {
     "data": {
      "text/plain": [
       "'2.8.0'"
      ]
     },
     "execution_count": 274,
     "metadata": {},
     "output_type": "execute_result"
    }
   ],
   "source": [
    "tf.__version__"
   ]
  },
  {
   "cell_type": "code",
   "execution_count": 275,
   "metadata": {},
   "outputs": [],
   "source": [
    "df = pd.read_csv('./data/ouput.csv')"
   ]
  },
  {
   "cell_type": "code",
   "execution_count": 276,
   "metadata": {},
   "outputs": [
    {
     "data": {
      "text/html": [
       "<div>\n",
       "<style scoped>\n",
       "    .dataframe tbody tr th:only-of-type {\n",
       "        vertical-align: middle;\n",
       "    }\n",
       "\n",
       "    .dataframe tbody tr th {\n",
       "        vertical-align: top;\n",
       "    }\n",
       "\n",
       "    .dataframe thead th {\n",
       "        text-align: right;\n",
       "    }\n",
       "</style>\n",
       "<table border=\"1\" class=\"dataframe\">\n",
       "  <thead>\n",
       "    <tr style=\"text-align: right;\">\n",
       "      <th></th>\n",
       "      <th>LCLid</th>\n",
       "      <th>tstp</th>\n",
       "      <th>energy(kWh/hh)</th>\n",
       "    </tr>\n",
       "  </thead>\n",
       "  <tbody>\n",
       "    <tr>\n",
       "      <th>0</th>\n",
       "      <td>MAC000168</td>\n",
       "      <td>2011-11-24 13:30:00</td>\n",
       "      <td>0.054</td>\n",
       "    </tr>\n",
       "    <tr>\n",
       "      <th>1</th>\n",
       "      <td>MAC000168</td>\n",
       "      <td>2011-11-24 14:00:00</td>\n",
       "      <td>0.178</td>\n",
       "    </tr>\n",
       "    <tr>\n",
       "      <th>2</th>\n",
       "      <td>MAC000168</td>\n",
       "      <td>2011-11-24 14:30:00</td>\n",
       "      <td>0.113</td>\n",
       "    </tr>\n",
       "    <tr>\n",
       "      <th>3</th>\n",
       "      <td>MAC000168</td>\n",
       "      <td>2011-11-24 15:00:00</td>\n",
       "      <td>0.068</td>\n",
       "    </tr>\n",
       "    <tr>\n",
       "      <th>4</th>\n",
       "      <td>MAC000168</td>\n",
       "      <td>2011-11-24 15:30:00</td>\n",
       "      <td>0.061</td>\n",
       "    </tr>\n",
       "  </tbody>\n",
       "</table>\n",
       "</div>"
      ],
      "text/plain": [
       "       LCLid                 tstp energy(kWh/hh)\n",
       "0  MAC000168  2011-11-24 13:30:00         0.054 \n",
       "1  MAC000168  2011-11-24 14:00:00         0.178 \n",
       "2  MAC000168  2011-11-24 14:30:00         0.113 \n",
       "3  MAC000168  2011-11-24 15:00:00         0.068 \n",
       "4  MAC000168  2011-11-24 15:30:00         0.061 "
      ]
     },
     "execution_count": 276,
     "metadata": {},
     "output_type": "execute_result"
    }
   ],
   "source": [
    "df.head()"
   ]
  },
  {
   "cell_type": "code",
   "execution_count": 277,
   "metadata": {},
   "outputs": [],
   "source": [
    "#ser ut som linear regression ikke funker med datetime så må converte (https://stackoverflow.com/questions/40217369/python-linear-regression-predict-by-date)\n",
    "df['tstp'] = [datetime.strptime(x, '%Y-%m-%d %H:%M:%S') for x in df['tstp']]\n",
    "\n",
    "# comment hvis sjekke for 1 måned\n",
    "# df['tstp'] = df['tstp'].apply(lambda x: time.mktime(x.timetuple()))\n",
    "df[\"energy(kWh/hh)\"] = pd.to_numeric(df[\"energy(kWh/hh)\"], errors=\"coerce\")"
   ]
  },
  {
   "cell_type": "code",
   "execution_count": 278,
   "metadata": {},
   "outputs": [],
   "source": [
    "# id_training = 'MAC000150' \n",
    "# id_eval = 'MAC000152'\n",
    "\n",
    "def find_household(identification):\n",
    "    affluenthh_filt = df[\"LCLid\"] == identification\n",
    "    affluent_hh_data = df[affluenthh_filt]\n",
    "    return affluent_hh_data"
   ]
  },
  {
   "cell_type": "code",
   "execution_count": 279,
   "metadata": {},
   "outputs": [],
   "source": [
    "dataset_house = find_household('MAC000150')\n",
    "\n",
    "dataset_house = dataset_house.set_index('tstp')\n",
    "\n",
    "dataset_house.head()\n",
    "\n",
    "# prøver å korte ned på datasettet\n",
    "train_dataset = dataset_house.loc['2013-01-01':'2013-02-01']\n",
    "test_dataset = dataset_house.loc['2013-03-01':'2013-04-01']\n",
    "\n",
    "# train_dataset = df.sample(frac=0.8, random_state=0)\n",
    "# test_dataset = df.drop(train_dataset.index)\n"
   ]
  },
  {
   "cell_type": "code",
   "execution_count": 280,
   "metadata": {},
   "outputs": [
    {
     "data": {
      "text/plain": [
       "<seaborn.axisgrid.PairGrid at 0x1f2cfd538e0>"
      ]
     },
     "execution_count": 280,
     "metadata": {},
     "output_type": "execute_result"
    },
    {
     "data": {
      "image/png": "[encoded data removed]",
      "text/plain": [
       "<Figure size 360x360 with 6 Axes>"
      ]
     },
     "metadata": {
      "needs_background": "light"
     },
     "output_type": "display_data"
    }
   ],
   "source": [
    "#reset index to plot and convert datetime\n",
    "train_dataset = train_dataset.reset_index('tstp')\n",
    "train_dataset['tstp'] = train_dataset['tstp'].apply(lambda x: time.mktime(x.timetuple()))\n",
    "sns.pairplot(train_dataset[['LCLid','tstp', 'energy(kWh/hh)']], diag_kind='kde')"
   ]
  },
  {
   "cell_type": "code",
   "execution_count": 281,
   "metadata": {},
   "outputs": [
    {
     "data": {
      "text/html": [
       "<div>\n",
       "<style scoped>\n",
       "    .dataframe tbody tr th:only-of-type {\n",
       "        vertical-align: middle;\n",
       "    }\n",
       "\n",
       "    .dataframe tbody tr th {\n",
       "        vertical-align: top;\n",
       "    }\n",
       "\n",
       "    .dataframe thead th {\n",
       "        text-align: right;\n",
       "    }\n",
       "</style>\n",
       "<table border=\"1\" class=\"dataframe\">\n",
       "  <thead>\n",
       "    <tr style=\"text-align: right;\">\n",
       "      <th></th>\n",
       "      <th>count</th>\n",
       "      <th>mean</th>\n",
       "      <th>std</th>\n",
       "      <th>min</th>\n",
       "      <th>25%</th>\n",
       "      <th>50%</th>\n",
       "      <th>75%</th>\n",
       "      <th>max</th>\n",
       "    </tr>\n",
       "  </thead>\n",
       "  <tbody>\n",
       "    <tr>\n",
       "      <th>tstp</th>\n",
       "      <td>1536.0</td>\n",
       "      <td>1.358376e+09</td>\n",
       "      <td>798388.777476</td>\n",
       "      <td>1.356995e+09</td>\n",
       "      <td>1.357686e+09</td>\n",
       "      <td>1.358376e+09</td>\n",
       "      <td>1.359067e+09</td>\n",
       "      <td>1.359758e+09</td>\n",
       "    </tr>\n",
       "    <tr>\n",
       "      <th>energy(kWh/hh)</th>\n",
       "      <td>1536.0</td>\n",
       "      <td>2.023490e-01</td>\n",
       "      <td>0.235301</td>\n",
       "      <td>4.700000e-02</td>\n",
       "      <td>8.600000e-02</td>\n",
       "      <td>1.300000e-01</td>\n",
       "      <td>2.022500e-01</td>\n",
       "      <td>2.037000e+00</td>\n",
       "    </tr>\n",
       "  </tbody>\n",
       "</table>\n",
       "</div>"
      ],
      "text/plain": [
       "                 count          mean            std           min  \\\n",
       "tstp            1536.0  1.358376e+09  798388.777476  1.356995e+09   \n",
       "energy(kWh/hh)  1536.0  2.023490e-01       0.235301  4.700000e-02   \n",
       "\n",
       "                         25%           50%           75%           max  \n",
       "tstp            1.357686e+09  1.358376e+09  1.359067e+09  1.359758e+09  \n",
       "energy(kWh/hh)  8.600000e-02  1.300000e-01  2.022500e-01  2.037000e+00  "
      ]
     },
     "execution_count": 281,
     "metadata": {},
     "output_type": "execute_result"
    }
   ],
   "source": [
    "train_dataset.describe().transpose()"
   ]
  },
  {
   "cell_type": "code",
   "execution_count": 282,
   "metadata": {},
   "outputs": [],
   "source": [
    "train_features = train_dataset.copy()\n",
    "test_features = test_dataset.copy()\n",
    "\n",
    "train_labels = train_features.pop('energy(kWh/hh)')\n",
    "test_labels = test_features.pop('energy(kWh/hh)')"
   ]
  },
  {
   "cell_type": "code",
   "execution_count": 283,
   "metadata": {},
   "outputs": [
    {
     "data": {
      "text/html": [
       "<div>\n",
       "<style scoped>\n",
       "    .dataframe tbody tr th:only-of-type {\n",
       "        vertical-align: middle;\n",
       "    }\n",
       "\n",
       "    .dataframe tbody tr th {\n",
       "        vertical-align: top;\n",
       "    }\n",
       "\n",
       "    .dataframe thead th {\n",
       "        text-align: right;\n",
       "    }\n",
       "</style>\n",
       "<table border=\"1\" class=\"dataframe\">\n",
       "  <thead>\n",
       "    <tr style=\"text-align: right;\">\n",
       "      <th></th>\n",
       "      <th>mean</th>\n",
       "      <th>std</th>\n",
       "    </tr>\n",
       "  </thead>\n",
       "  <tbody>\n",
       "    <tr>\n",
       "      <th>tstp</th>\n",
       "      <td>1.358376e+09</td>\n",
       "      <td>798388.777476</td>\n",
       "    </tr>\n",
       "    <tr>\n",
       "      <th>energy(kWh/hh)</th>\n",
       "      <td>2.023490e-01</td>\n",
       "      <td>0.235301</td>\n",
       "    </tr>\n",
       "  </tbody>\n",
       "</table>\n",
       "</div>"
      ],
      "text/plain": [
       "                        mean            std\n",
       "tstp            1.358376e+09  798388.777476\n",
       "energy(kWh/hh)  2.023490e-01       0.235301"
      ]
     },
     "execution_count": 283,
     "metadata": {},
     "output_type": "execute_result"
    }
   ],
   "source": [
    "train_dataset.describe().transpose()[['mean', 'std']]"
   ]
  },
  {
   "cell_type": "code",
   "execution_count": 284,
   "metadata": {},
   "outputs": [
    {
     "data": {
      "text/html": [
       "<div>\n",
       "<style scoped>\n",
       "    .dataframe tbody tr th:only-of-type {\n",
       "        vertical-align: middle;\n",
       "    }\n",
       "\n",
       "    .dataframe tbody tr th {\n",
       "        vertical-align: top;\n",
       "    }\n",
       "\n",
       "    .dataframe thead th {\n",
       "        text-align: right;\n",
       "    }\n",
       "</style>\n",
       "<table border=\"1\" class=\"dataframe\">\n",
       "  <thead>\n",
       "    <tr style=\"text-align: right;\">\n",
       "      <th></th>\n",
       "      <th>tstp</th>\n",
       "      <th>LCLid</th>\n",
       "      <th>energy(kWh/hh)</th>\n",
       "    </tr>\n",
       "  </thead>\n",
       "  <tbody>\n",
       "    <tr>\n",
       "      <th>0</th>\n",
       "      <td>1.356995e+09</td>\n",
       "      <td>MAC000150</td>\n",
       "      <td>0.160</td>\n",
       "    </tr>\n",
       "    <tr>\n",
       "      <th>1</th>\n",
       "      <td>1.356997e+09</td>\n",
       "      <td>MAC000150</td>\n",
       "      <td>0.147</td>\n",
       "    </tr>\n",
       "    <tr>\n",
       "      <th>2</th>\n",
       "      <td>1.356998e+09</td>\n",
       "      <td>MAC000150</td>\n",
       "      <td>0.183</td>\n",
       "    </tr>\n",
       "    <tr>\n",
       "      <th>3</th>\n",
       "      <td>1.357000e+09</td>\n",
       "      <td>MAC000150</td>\n",
       "      <td>0.154</td>\n",
       "    </tr>\n",
       "    <tr>\n",
       "      <th>4</th>\n",
       "      <td>1.357002e+09</td>\n",
       "      <td>MAC000150</td>\n",
       "      <td>0.161</td>\n",
       "    </tr>\n",
       "  </tbody>\n",
       "</table>\n",
       "</div>"
      ],
      "text/plain": [
       "           tstp      LCLid  energy(kWh/hh)\n",
       "0  1.356995e+09  MAC000150           0.160\n",
       "1  1.356997e+09  MAC000150           0.147\n",
       "2  1.356998e+09  MAC000150           0.183\n",
       "3  1.357000e+09  MAC000150           0.154\n",
       "4  1.357002e+09  MAC000150           0.161"
      ]
     },
     "execution_count": 284,
     "metadata": {},
     "output_type": "execute_result"
    }
   ],
   "source": [
    "train_dataset.head()"
   ]
  },
  {
   "cell_type": "markdown",
   "metadata": {},
   "source": [
    "dunno why normalization doesnt work, might be because of datetime (even tho i converted it to numeric?)"
   ]
  },
  {
   "cell_type": "code",
   "execution_count": 285,
   "metadata": {},
   "outputs": [],
   "source": [
    "#Normalize with keras\n",
    "normalizer = tf.keras.layers.Normalization(axis=0)\n",
    "normalizer.adapt(np.array(train_features['tstp']))"
   ]
  },
  {
   "cell_type": "code",
   "execution_count": 286,
   "metadata": {},
   "outputs": [
    {
     "data": {
      "text/plain": [
       "array([1.358e+09, 1.358e+09, 1.358e+09, 1.358e+09, 1.358e+09, 1.358e+09,\n",
       "       1.358e+09, 1.358e+09, 1.358e+09, 1.358e+09, 1.358e+09, 1.358e+09,\n",
       "       1.358e+09, 1.358e+09, 1.358e+09, 1.358e+09, 1.358e+09, 1.358e+09,\n",
       "       1.358e+09, 1.358e+09, 1.358e+09, 1.358e+09, 1.358e+09, 1.358e+09,\n",
       "       1.358e+09, 1.358e+09, 1.358e+09, 1.358e+09, 1.358e+09, 1.358e+09,\n",
       "       1.358e+09, 1.358e+09], dtype=float32)"
      ]
     },
     "execution_count": 286,
     "metadata": {},
     "output_type": "execute_result"
    }
   ],
   "source": [
    "normalizer.mean.numpy()"
   ]
  },
  {
   "cell_type": "code",
   "execution_count": 287,
   "metadata": {},
   "outputs": [],
   "source": [
    "#linear regression\n",
    "energy = np.array(train_features['tstp'])\n",
    "energy_normalizor = layers.Normalization(input_shape=[1,], axis=None)\n",
    "energy_normalizor.adapt(energy)"
   ]
  },
  {
   "cell_type": "code",
   "execution_count": 288,
   "metadata": {},
   "outputs": [
    {
     "name": "stdout",
     "output_type": "stream",
     "text": [
      "Model: \"sequential_3\"\n",
      "_________________________________________________________________\n",
      " Layer (type)                Output Shape              Param #   \n",
      "=================================================================\n",
      " normalization_15 (Normaliza  (None, 1)                3         \n",
      " tion)                                                           \n",
      "                                                                 \n",
      " dense_3 (Dense)             (None, 1)                 2         \n",
      "                                                                 \n",
      "=================================================================\n",
      "Total params: 5\n",
      "Trainable params: 2\n",
      "Non-trainable params: 3\n",
      "_________________________________________________________________\n"
     ]
    }
   ],
   "source": [
    "#build the model\n",
    "energy_model = tf.keras.Sequential([\n",
    "    energy_normalizor,\n",
    "    layers.Dense(units=1)\n",
    "])\n",
    "\n",
    "energy_model.summary()"
   ]
  },
  {
   "cell_type": "code",
   "execution_count": 289,
   "metadata": {},
   "outputs": [
    {
     "data": {
      "text/plain": [
       "array([[1.308],\n",
       "       [1.306],\n",
       "       [1.304],\n",
       "       [1.302],\n",
       "       [1.301],\n",
       "       [1.299],\n",
       "       [1.297],\n",
       "       [1.296],\n",
       "       [1.294],\n",
       "       [1.292]], dtype=float32)"
      ]
     },
     "execution_count": 289,
     "metadata": {},
     "output_type": "execute_result"
    }
   ],
   "source": [
    "energy_model.predict(energy[:10])"
   ]
  },
  {
   "cell_type": "code",
   "execution_count": 290,
   "metadata": {},
   "outputs": [],
   "source": [
    "energy_model.compile(optimizer=tf.keras.optimizers.Adam(learning_rate=0.1),\n",
    "loss='mean_absolute_error')"
   ]
  },
  {
   "cell_type": "code",
   "execution_count": 291,
   "metadata": {},
   "outputs": [
    {
     "name": "stdout",
     "output_type": "stream",
     "text": [
      "CPU times: total: 875 ms\n",
      "Wall time: 618 ms\n"
     ]
    }
   ],
   "source": [
    "%%time\n",
    "history = energy_model.fit(\n",
    "    train_features['tstp'],\n",
    "    train_labels,\n",
    "    epochs=10,\n",
    "    # Supress logging\n",
    "    verbose=0,\n",
    "    # Calculate validation results on 20% of the training data.\n",
    "    validation_split = 0.2\n",
    ")"
   ]
  },
  {
   "cell_type": "code",
   "execution_count": 292,
   "metadata": {},
   "outputs": [
    {
     "data": {
      "text/html": [
       "<div>\n",
       "<style scoped>\n",
       "    .dataframe tbody tr th:only-of-type {\n",
       "        vertical-align: middle;\n",
       "    }\n",
       "\n",
       "    .dataframe tbody tr th {\n",
       "        vertical-align: top;\n",
       "    }\n",
       "\n",
       "    .dataframe thead th {\n",
       "        text-align: right;\n",
       "    }\n",
       "</style>\n",
       "<table border=\"1\" class=\"dataframe\">\n",
       "  <thead>\n",
       "    <tr style=\"text-align: right;\">\n",
       "      <th></th>\n",
       "      <th>loss</th>\n",
       "      <th>val_loss</th>\n",
       "      <th>epoch</th>\n",
       "    </tr>\n",
       "  </thead>\n",
       "  <tbody>\n",
       "    <tr>\n",
       "      <th>5</th>\n",
       "      <td>0.123194</td>\n",
       "      <td>0.106837</td>\n",
       "      <td>5</td>\n",
       "    </tr>\n",
       "    <tr>\n",
       "      <th>6</th>\n",
       "      <td>0.126285</td>\n",
       "      <td>0.105562</td>\n",
       "      <td>6</td>\n",
       "    </tr>\n",
       "    <tr>\n",
       "      <th>7</th>\n",
       "      <td>0.120314</td>\n",
       "      <td>0.114845</td>\n",
       "      <td>7</td>\n",
       "    </tr>\n",
       "    <tr>\n",
       "      <th>8</th>\n",
       "      <td>0.119827</td>\n",
       "      <td>0.113529</td>\n",
       "      <td>8</td>\n",
       "    </tr>\n",
       "    <tr>\n",
       "      <th>9</th>\n",
       "      <td>0.121746</td>\n",
       "      <td>0.135893</td>\n",
       "      <td>9</td>\n",
       "    </tr>\n",
       "  </tbody>\n",
       "</table>\n",
       "</div>"
      ],
      "text/plain": [
       "       loss  val_loss  epoch\n",
       "5  0.123194  0.106837      5\n",
       "6  0.126285  0.105562      6\n",
       "7  0.120314  0.114845      7\n",
       "8  0.119827  0.113529      8\n",
       "9  0.121746  0.135893      9"
      ]
     },
     "execution_count": 292,
     "metadata": {},
     "output_type": "execute_result"
    }
   ],
   "source": [
    "hist = pd.DataFrame(history.history)\n",
    "hist['epoch'] = history.epoch\n",
    "hist.tail()"
   ]
  },
  {
   "cell_type": "code",
   "execution_count": 293,
   "metadata": {},
   "outputs": [],
   "source": [
    "def plot_loss(history):\n",
    "    plt.plot(history.history['loss'], label='loss')\n",
    "    plt.plot(history.history['val_loss'], label='val_loss')\n",
    "    plt.ylim([0, 10])\n",
    "    plt.xlabel('Epoch')\n",
    "    plt.ylabel('Error [energy(kWh/hh)]')\n",
    "    plt.legend()\n",
    "    plt.grid(True)"
   ]
  },
  {
   "cell_type": "code",
   "execution_count": 294,
   "metadata": {},
   "outputs": [
    {
     "data": {
      "image/png": "[encoded data removed]",
      "text/plain": [
       "<Figure size 432x288 with 1 Axes>"
      ]
     },
     "metadata": {
      "needs_background": "light"
     },
     "output_type": "display_data"
    }
   ],
   "source": [
    "plot_loss(history)"
   ]
  },
  {
   "cell_type": "code",
   "execution_count": 295,
   "metadata": {},
   "outputs": [],
   "source": [
    "test_features = test_features.reset_index('tstp')"
   ]
  },
  {
   "cell_type": "code",
   "execution_count": 296,
   "metadata": {},
   "outputs": [
    {
     "ename": "ValueError",
     "evalue": "Failed to convert a NumPy array to a Tensor (Unsupported numpy type: NPY_DATETIME).",
     "output_type": "error",
     "traceback": [
      "\u001b[1;31m---------------------------------------------------------------------------\u001b[0m",
      "\u001b[1;31mValueError\u001b[0m                                Traceback (most recent call last)",
      "\u001b[1;32md:\\OneDrive - Universitetet i Stavanger\\Bachelor\\hopethisworks.ipynb Cell 26'\u001b[0m in \u001b[0;36m<module>\u001b[1;34m\u001b[0m\n\u001b[0;32m      <a href='vscode-notebook-cell:/d%3A/OneDrive%20-%20Universitetet%20i%20Stavanger/Bachelor/hopethisworks.ipynb#ch0000024?line=0'>1</a>\u001b[0m \u001b[39m#noe feil med index, siden jeg satte tstp til index på starten\u001b[39;00m\n\u001b[0;32m      <a href='vscode-notebook-cell:/d%3A/OneDrive%20-%20Universitetet%20i%20Stavanger/Bachelor/hopethisworks.ipynb#ch0000024?line=1'>2</a>\u001b[0m test_results \u001b[39m=\u001b[39m {}\n\u001b[1;32m----> <a href='vscode-notebook-cell:/d%3A/OneDrive%20-%20Universitetet%20i%20Stavanger/Bachelor/hopethisworks.ipynb#ch0000024?line=3'>4</a>\u001b[0m test_results[\u001b[39m'\u001b[39m\u001b[39menergy_model\u001b[39m\u001b[39m'\u001b[39m] \u001b[39m=\u001b[39m energy_model\u001b[39m.\u001b[39;49mevaluate(\n\u001b[0;32m      <a href='vscode-notebook-cell:/d%3A/OneDrive%20-%20Universitetet%20i%20Stavanger/Bachelor/hopethisworks.ipynb#ch0000024?line=4'>5</a>\u001b[0m     test_features[\u001b[39m'\u001b[39;49m\u001b[39mtstp\u001b[39;49m\u001b[39m'\u001b[39;49m],\n\u001b[0;32m      <a href='vscode-notebook-cell:/d%3A/OneDrive%20-%20Universitetet%20i%20Stavanger/Bachelor/hopethisworks.ipynb#ch0000024?line=5'>6</a>\u001b[0m     test_labels, verbose\u001b[39m=\u001b[39;49m\u001b[39m0\u001b[39;49m)\n",
      "File \u001b[1;32md:\\OneDrive - Universitetet i Stavanger\\Bachelor\\venv\\lib\\site-packages\\keras\\utils\\traceback_utils.py:67\u001b[0m, in \u001b[0;36mfilter_traceback.<locals>.error_handler\u001b[1;34m(*args, **kwargs)\u001b[0m\n\u001b[0;32m     <a href='file:///d%3A/OneDrive%20-%20Universitetet%20i%20Stavanger/Bachelor/venv/lib/site-packages/keras/utils/traceback_utils.py?line=64'>65</a>\u001b[0m \u001b[39mexcept\u001b[39;00m \u001b[39mException\u001b[39;00m \u001b[39mas\u001b[39;00m e:  \u001b[39m# pylint: disable=broad-except\u001b[39;00m\n\u001b[0;32m     <a href='file:///d%3A/OneDrive%20-%20Universitetet%20i%20Stavanger/Bachelor/venv/lib/site-packages/keras/utils/traceback_utils.py?line=65'>66</a>\u001b[0m   filtered_tb \u001b[39m=\u001b[39m _process_traceback_frames(e\u001b[39m.\u001b[39m__traceback__)\n\u001b[1;32m---> <a href='file:///d%3A/OneDrive%20-%20Universitetet%20i%20Stavanger/Bachelor/venv/lib/site-packages/keras/utils/traceback_utils.py?line=66'>67</a>\u001b[0m   \u001b[39mraise\u001b[39;00m e\u001b[39m.\u001b[39mwith_traceback(filtered_tb) \u001b[39mfrom\u001b[39;00m \u001b[39mNone\u001b[39m\n\u001b[0;32m     <a href='file:///d%3A/OneDrive%20-%20Universitetet%20i%20Stavanger/Bachelor/venv/lib/site-packages/keras/utils/traceback_utils.py?line=67'>68</a>\u001b[0m \u001b[39mfinally\u001b[39;00m:\n\u001b[0;32m     <a href='file:///d%3A/OneDrive%20-%20Universitetet%20i%20Stavanger/Bachelor/venv/lib/site-packages/keras/utils/traceback_utils.py?line=68'>69</a>\u001b[0m   \u001b[39mdel\u001b[39;00m filtered_tb\n",
      "File \u001b[1;32md:\\OneDrive - Universitetet i Stavanger\\Bachelor\\venv\\lib\\site-packages\\tensorflow\\python\\framework\\constant_op.py:102\u001b[0m, in \u001b[0;36mconvert_to_eager_tensor\u001b[1;34m(value, ctx, dtype)\u001b[0m\n\u001b[0;32m    <a href='file:///d%3A/OneDrive%20-%20Universitetet%20i%20Stavanger/Bachelor/venv/lib/site-packages/tensorflow/python/framework/constant_op.py?line=99'>100</a>\u001b[0m     dtype \u001b[39m=\u001b[39m dtypes\u001b[39m.\u001b[39mas_dtype(dtype)\u001b[39m.\u001b[39mas_datatype_enum\n\u001b[0;32m    <a href='file:///d%3A/OneDrive%20-%20Universitetet%20i%20Stavanger/Bachelor/venv/lib/site-packages/tensorflow/python/framework/constant_op.py?line=100'>101</a>\u001b[0m ctx\u001b[39m.\u001b[39mensure_initialized()\n\u001b[1;32m--> <a href='file:///d%3A/OneDrive%20-%20Universitetet%20i%20Stavanger/Bachelor/venv/lib/site-packages/tensorflow/python/framework/constant_op.py?line=101'>102</a>\u001b[0m \u001b[39mreturn\u001b[39;00m ops\u001b[39m.\u001b[39;49mEagerTensor(value, ctx\u001b[39m.\u001b[39;49mdevice_name, dtype)\n",
      "\u001b[1;31mValueError\u001b[0m: Failed to convert a NumPy array to a Tensor (Unsupported numpy type: NPY_DATETIME)."
     ]
    }
   ],
   "source": [
    "#noe feil med index, siden jeg satte tstp til index på starten\n",
    "#Failed to convert a NumPy array to a Tensor (Unsupported numpy type: NPY_DATETIME).\n",
    "test_results = {}\n",
    "\n",
    "test_results['energy_model'] = energy_model.evaluate(\n",
    "    test_features['tstp'],\n",
    "    test_labels, verbose=0)"
   ]
  },
  {
   "cell_type": "code",
   "execution_count": null,
   "metadata": {},
   "outputs": [],
   "source": [
    "x = tf.linspace(0.0, 250, 251)\n",
    "y = energy_model.predict(x)"
   ]
  },
  {
   "cell_type": "code",
   "execution_count": null,
   "metadata": {},
   "outputs": [],
   "source": [
    "def plot_energy(x, y):\n",
    "  plt.scatter(train_features['tstp'], train_labels, label='Data')\n",
    "  plt.plot(x, y, color='k', label='Predictions')\n",
    "  plt.xlabel('tstp')\n",
    "  plt.ylabel('energy(kWh/hh)')\n",
    "  plt.legend()"
   ]
  },
  {
   "cell_type": "code",
   "execution_count": null,
   "metadata": {},
   "outputs": [
    {
     "data": {
      "image/png": "[encoded data removed]",
      "text/plain": [
       "<Figure size 432x288 with 1 Axes>"
      ]
     },
     "metadata": {
      "needs_background": "light"
     },
     "output_type": "display_data"
    }
   ],
   "source": [
    "plot_energy(x, y)"
   ]
  }
 ],
 "metadata": {
  "interpreter": {
   "hash": "55bc3ce9f9f57c4df1faa89487ee4749dce1b5d904b5bab89e302a644b73527a"
  },
  "kernelspec": {
   "display_name": "Python 3.10.2 ('.venv': venv)",
   "language": "python",
   "name": "python3"
  },
  "language_info": {
   "codemirror_mode": {
    "name": "ipython",
    "version": 3
   },
   "file_extension": ".py",
   "mimetype": "text/x-python",
   "name": "python",
   "nbconvert_exporter": "python",
   "pygments_lexer": "ipython3",
   "version": "3.10.2"
  },
  "orig_nbformat": 4
 },
 "nbformat": 4,
 "nbformat_minor": 2
}
