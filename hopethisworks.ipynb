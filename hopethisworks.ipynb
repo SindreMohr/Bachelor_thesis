{
 "cells": [
  {
   "cell_type": "markdown",
   "metadata": {},
   "source": [
    "Following this:\n",
    "https://www.tensorflow.org/tutorials/keras/regression"
   ]
  },
  {
   "cell_type": "code",
   "execution_count": 46,
   "metadata": {},
   "outputs": [],
   "source": [
    "import numpy as np \n",
    "import pandas as pd\n",
    "import tensorflow as tf\n",
    "import matplotlib.pyplot as plt\n",
    "from datetime import datetime\n",
    "\n",
    "from tensorflow import keras\n",
    "from keras import layers\n",
    "\n",
    "from sklearn.metrics import mean_squared_error\n",
    "import seaborn as sns\n",
    "np.set_printoptions(precision=3, suppress=True)"
   ]
  },
  {
   "cell_type": "code",
   "execution_count": 47,
   "metadata": {},
   "outputs": [
    {
     "data": {
      "text/plain": [
       "'2.8.0'"
      ]
     },
     "execution_count": 47,
     "metadata": {},
     "output_type": "execute_result"
    }
   ],
   "source": [
    "tf.__version__"
   ]
  },
  {
   "cell_type": "code",
   "execution_count": 48,
   "metadata": {},
   "outputs": [],
   "source": [
    "df = pd.read_csv('./data/ouput.csv')"
   ]
  },
  {
   "cell_type": "code",
   "execution_count": 49,
   "metadata": {},
   "outputs": [
    {
     "data": {
      "text/html": [
       "<div>\n",
       "<style scoped>\n",
       "    .dataframe tbody tr th:only-of-type {\n",
       "        vertical-align: middle;\n",
       "    }\n",
       "\n",
       "    .dataframe tbody tr th {\n",
       "        vertical-align: top;\n",
       "    }\n",
       "\n",
       "    .dataframe thead th {\n",
       "        text-align: right;\n",
       "    }\n",
       "</style>\n",
       "<table border=\"1\" class=\"dataframe\">\n",
       "  <thead>\n",
       "    <tr style=\"text-align: right;\">\n",
       "      <th></th>\n",
       "      <th>LCLid</th>\n",
       "      <th>tstp</th>\n",
       "      <th>energy(kWh/hh)</th>\n",
       "    </tr>\n",
       "  </thead>\n",
       "  <tbody>\n",
       "    <tr>\n",
       "      <th>0</th>\n",
       "      <td>MAC000168</td>\n",
       "      <td>2011-11-24 13:30:00</td>\n",
       "      <td>0.054</td>\n",
       "    </tr>\n",
       "    <tr>\n",
       "      <th>1</th>\n",
       "      <td>MAC000168</td>\n",
       "      <td>2011-11-24 14:00:00</td>\n",
       "      <td>0.178</td>\n",
       "    </tr>\n",
       "    <tr>\n",
       "      <th>2</th>\n",
       "      <td>MAC000168</td>\n",
       "      <td>2011-11-24 14:30:00</td>\n",
       "      <td>0.113</td>\n",
       "    </tr>\n",
       "    <tr>\n",
       "      <th>3</th>\n",
       "      <td>MAC000168</td>\n",
       "      <td>2011-11-24 15:00:00</td>\n",
       "      <td>0.068</td>\n",
       "    </tr>\n",
       "    <tr>\n",
       "      <th>4</th>\n",
       "      <td>MAC000168</td>\n",
       "      <td>2011-11-24 15:30:00</td>\n",
       "      <td>0.061</td>\n",
       "    </tr>\n",
       "  </tbody>\n",
       "</table>\n",
       "</div>"
      ],
      "text/plain": [
       "       LCLid                 tstp energy(kWh/hh)\n",
       "0  MAC000168  2011-11-24 13:30:00         0.054 \n",
       "1  MAC000168  2011-11-24 14:00:00         0.178 \n",
       "2  MAC000168  2011-11-24 14:30:00         0.113 \n",
       "3  MAC000168  2011-11-24 15:00:00         0.068 \n",
       "4  MAC000168  2011-11-24 15:30:00         0.061 "
      ]
     },
     "execution_count": 49,
     "metadata": {},
     "output_type": "execute_result"
    }
   ],
   "source": [
    "df.head()"
   ]
  },
  {
   "cell_type": "code",
   "execution_count": 50,
   "metadata": {},
   "outputs": [],
   "source": [
    "df['tstp'] = [datetime.strptime(x, '%Y-%m-%d %H:%M:%S') for x in df['tstp']]\n",
    "df[\"energy(kWh/hh)\"] = pd.to_numeric(df[\"energy(kWh/hh)\"], downcast=\"float\", errors=\"coerce\")"
   ]
  },
  {
   "cell_type": "code",
   "execution_count": 51,
   "metadata": {},
   "outputs": [
    {
     "data": {
      "text/html": [
       "<div>\n",
       "<style scoped>\n",
       "    .dataframe tbody tr th:only-of-type {\n",
       "        vertical-align: middle;\n",
       "    }\n",
       "\n",
       "    .dataframe tbody tr th {\n",
       "        vertical-align: top;\n",
       "    }\n",
       "\n",
       "    .dataframe thead th {\n",
       "        text-align: right;\n",
       "    }\n",
       "</style>\n",
       "<table border=\"1\" class=\"dataframe\">\n",
       "  <thead>\n",
       "    <tr style=\"text-align: right;\">\n",
       "      <th></th>\n",
       "      <th>LCLid</th>\n",
       "      <th>tstp</th>\n",
       "      <th>energy(kWh/hh)</th>\n",
       "    </tr>\n",
       "  </thead>\n",
       "  <tbody>\n",
       "    <tr>\n",
       "      <th>0</th>\n",
       "      <td>MAC000168</td>\n",
       "      <td>2011-11-24 13:30:00</td>\n",
       "      <td>0.054</td>\n",
       "    </tr>\n",
       "    <tr>\n",
       "      <th>1</th>\n",
       "      <td>MAC000168</td>\n",
       "      <td>2011-11-24 14:00:00</td>\n",
       "      <td>0.178</td>\n",
       "    </tr>\n",
       "    <tr>\n",
       "      <th>2</th>\n",
       "      <td>MAC000168</td>\n",
       "      <td>2011-11-24 14:30:00</td>\n",
       "      <td>0.113</td>\n",
       "    </tr>\n",
       "    <tr>\n",
       "      <th>3</th>\n",
       "      <td>MAC000168</td>\n",
       "      <td>2011-11-24 15:00:00</td>\n",
       "      <td>0.068</td>\n",
       "    </tr>\n",
       "    <tr>\n",
       "      <th>4</th>\n",
       "      <td>MAC000168</td>\n",
       "      <td>2011-11-24 15:30:00</td>\n",
       "      <td>0.061</td>\n",
       "    </tr>\n",
       "    <tr>\n",
       "      <th>...</th>\n",
       "      <td>...</td>\n",
       "      <td>...</td>\n",
       "      <td>...</td>\n",
       "    </tr>\n",
       "    <tr>\n",
       "      <th>396557</th>\n",
       "      <td>MAC000150</td>\n",
       "      <td>2014-02-27 22:00:00</td>\n",
       "      <td>0.631</td>\n",
       "    </tr>\n",
       "    <tr>\n",
       "      <th>396558</th>\n",
       "      <td>MAC000150</td>\n",
       "      <td>2014-02-27 22:30:00</td>\n",
       "      <td>0.178</td>\n",
       "    </tr>\n",
       "    <tr>\n",
       "      <th>396559</th>\n",
       "      <td>MAC000150</td>\n",
       "      <td>2014-02-27 23:00:00</td>\n",
       "      <td>0.108</td>\n",
       "    </tr>\n",
       "    <tr>\n",
       "      <th>396560</th>\n",
       "      <td>MAC000150</td>\n",
       "      <td>2014-02-27 23:30:00</td>\n",
       "      <td>0.078</td>\n",
       "    </tr>\n",
       "    <tr>\n",
       "      <th>396561</th>\n",
       "      <td>MAC000150</td>\n",
       "      <td>2014-02-28 00:00:00</td>\n",
       "      <td>0.113</td>\n",
       "    </tr>\n",
       "  </tbody>\n",
       "</table>\n",
       "<p>396562 rows × 3 columns</p>\n",
       "</div>"
      ],
      "text/plain": [
       "            LCLid                tstp  energy(kWh/hh)\n",
       "0       MAC000168 2011-11-24 13:30:00           0.054\n",
       "1       MAC000168 2011-11-24 14:00:00           0.178\n",
       "2       MAC000168 2011-11-24 14:30:00           0.113\n",
       "3       MAC000168 2011-11-24 15:00:00           0.068\n",
       "4       MAC000168 2011-11-24 15:30:00           0.061\n",
       "...           ...                 ...             ...\n",
       "396557  MAC000150 2014-02-27 22:00:00           0.631\n",
       "396558  MAC000150 2014-02-27 22:30:00           0.178\n",
       "396559  MAC000150 2014-02-27 23:00:00           0.108\n",
       "396560  MAC000150 2014-02-27 23:30:00           0.078\n",
       "396561  MAC000150 2014-02-28 00:00:00           0.113\n",
       "\n",
       "[396562 rows x 3 columns]"
      ]
     },
     "execution_count": 51,
     "metadata": {},
     "output_type": "execute_result"
    }
   ],
   "source": [
    "df"
   ]
  },
  {
   "cell_type": "code",
   "execution_count": 52,
   "metadata": {},
   "outputs": [],
   "source": [
    "train_dataset = df.sample(frac=0.8, random_state=0)\n",
    "test_dataset = df.drop(train_dataset.index)"
   ]
  },
  {
   "cell_type": "code",
   "execution_count": 53,
   "metadata": {},
   "outputs": [
    {
     "data": {
      "text/plain": [
       "<seaborn.axisgrid.PairGrid at 0x277115e16c0>"
      ]
     },
     "execution_count": 53,
     "metadata": {},
     "output_type": "execute_result"
    },
    {
     "data": {
      "image/png": "[encoded data removed]",
      "text/plain": [
       "<Figure size 180x180 with 2 Axes>"
      ]
     },
     "metadata": {
      "needs_background": "light"
     },
     "output_type": "display_data"
    }
   ],
   "source": [
    "#hmmmmmmmmmm\n",
    "sns.pairplot(train_dataset[['tstp', 'energy(kWh/hh)']], diag_kind='kde')"
   ]
  },
  {
   "cell_type": "code",
   "execution_count": 54,
   "metadata": {},
   "outputs": [
    {
     "data": {
      "text/html": [
       "<div>\n",
       "<style scoped>\n",
       "    .dataframe tbody tr th:only-of-type {\n",
       "        vertical-align: middle;\n",
       "    }\n",
       "\n",
       "    .dataframe tbody tr th {\n",
       "        vertical-align: top;\n",
       "    }\n",
       "\n",
       "    .dataframe thead th {\n",
       "        text-align: right;\n",
       "    }\n",
       "</style>\n",
       "<table border=\"1\" class=\"dataframe\">\n",
       "  <thead>\n",
       "    <tr style=\"text-align: right;\">\n",
       "      <th></th>\n",
       "      <th>count</th>\n",
       "      <th>mean</th>\n",
       "      <th>std</th>\n",
       "      <th>min</th>\n",
       "      <th>25%</th>\n",
       "      <th>50%</th>\n",
       "      <th>75%</th>\n",
       "      <th>max</th>\n",
       "    </tr>\n",
       "  </thead>\n",
       "  <tbody>\n",
       "    <tr>\n",
       "      <th>energy(kWh/hh)</th>\n",
       "      <td>317242.0</td>\n",
       "      <td>0.217255</td>\n",
       "      <td>0.302108</td>\n",
       "      <td>0.0</td>\n",
       "      <td>0.068</td>\n",
       "      <td>0.118</td>\n",
       "      <td>0.25</td>\n",
       "      <td>4.595</td>\n",
       "    </tr>\n",
       "  </tbody>\n",
       "</table>\n",
       "</div>"
      ],
      "text/plain": [
       "                   count      mean       std  min    25%    50%   75%    max\n",
       "energy(kWh/hh)  317242.0  0.217255  0.302108  0.0  0.068  0.118  0.25  4.595"
      ]
     },
     "execution_count": 54,
     "metadata": {},
     "output_type": "execute_result"
    }
   ],
   "source": [
    "train_dataset.describe().transpose()"
   ]
  },
  {
   "cell_type": "code",
   "execution_count": 55,
   "metadata": {},
   "outputs": [],
   "source": [
    "train_features = train_dataset.copy()\n",
    "test_features = test_dataset.copy()\n",
    "\n",
    "train_labels = train_features.pop('energy(kWh/hh)')\n",
    "test_labels = test_features.pop('energy(kWh/hh)')"
   ]
  },
  {
   "cell_type": "code",
   "execution_count": 56,
   "metadata": {},
   "outputs": [
    {
     "data": {
      "text/html": [
       "<div>\n",
       "<style scoped>\n",
       "    .dataframe tbody tr th:only-of-type {\n",
       "        vertical-align: middle;\n",
       "    }\n",
       "\n",
       "    .dataframe tbody tr th {\n",
       "        vertical-align: top;\n",
       "    }\n",
       "\n",
       "    .dataframe thead th {\n",
       "        text-align: right;\n",
       "    }\n",
       "</style>\n",
       "<table border=\"1\" class=\"dataframe\">\n",
       "  <thead>\n",
       "    <tr style=\"text-align: right;\">\n",
       "      <th></th>\n",
       "      <th>mean</th>\n",
       "      <th>std</th>\n",
       "    </tr>\n",
       "  </thead>\n",
       "  <tbody>\n",
       "    <tr>\n",
       "      <th>energy(kWh/hh)</th>\n",
       "      <td>0.217255</td>\n",
       "      <td>0.302108</td>\n",
       "    </tr>\n",
       "  </tbody>\n",
       "</table>\n",
       "</div>"
      ],
      "text/plain": [
       "                    mean       std\n",
       "energy(kWh/hh)  0.217255  0.302108"
      ]
     },
     "execution_count": 56,
     "metadata": {},
     "output_type": "execute_result"
    }
   ],
   "source": [
    "train_dataset.describe().transpose()[['mean', 'std']]"
   ]
  },
  {
   "cell_type": "code",
   "execution_count": 57,
   "metadata": {},
   "outputs": [
    {
     "ename": "ValueError",
     "evalue": "Failed to convert a NumPy array to a Tensor (Unsupported object type Timestamp).",
     "output_type": "error",
     "traceback": [
      "\u001b[1;31m---------------------------------------------------------------------------\u001b[0m",
      "\u001b[1;31mValueError\u001b[0m                                Traceback (most recent call last)",
      "\u001b[1;32md:\\OneDrive - Universitetet i Stavanger\\Bachelor\\hopethisworks.ipynb Cell 13'\u001b[0m in \u001b[0;36m<module>\u001b[1;34m\u001b[0m\n\u001b[0;32m      <a href='vscode-notebook-cell:/d%3A/OneDrive%20-%20Universitetet%20i%20Stavanger/Bachelor/hopethisworks.ipynb#ch0000014?line=0'>1</a>\u001b[0m \u001b[39m#Normalize with keras\u001b[39;00m\n\u001b[0;32m      <a href='vscode-notebook-cell:/d%3A/OneDrive%20-%20Universitetet%20i%20Stavanger/Bachelor/hopethisworks.ipynb#ch0000014?line=1'>2</a>\u001b[0m normalizer \u001b[39m=\u001b[39m tf\u001b[39m.\u001b[39mkeras\u001b[39m.\u001b[39mlayers\u001b[39m.\u001b[39mNormalization(axis\u001b[39m=\u001b[39m\u001b[39m-\u001b[39m\u001b[39m1\u001b[39m)\n\u001b[1;32m----> <a href='vscode-notebook-cell:/d%3A/OneDrive%20-%20Universitetet%20i%20Stavanger/Bachelor/hopethisworks.ipynb#ch0000014?line=2'>3</a>\u001b[0m normalizer\u001b[39m.\u001b[39;49madapt(np\u001b[39m.\u001b[39;49marray(train_features))\n",
      "File \u001b[1;32md:\\OneDrive - Universitetet i Stavanger\\Bachelor\\venv\\lib\\site-packages\\keras\\layers\\preprocessing\\normalization.py:242\u001b[0m, in \u001b[0;36mNormalization.adapt\u001b[1;34m(self, data, batch_size, steps)\u001b[0m\n\u001b[0;32m    <a href='file:///d%3A/OneDrive%20-%20Universitetet%20i%20Stavanger/Bachelor/venv/lib/site-packages/keras/layers/preprocessing/normalization.py?line=196'>197</a>\u001b[0m \u001b[39mdef\u001b[39;00m \u001b[39madapt\u001b[39m(\u001b[39mself\u001b[39m, data, batch_size\u001b[39m=\u001b[39m\u001b[39mNone\u001b[39;00m, steps\u001b[39m=\u001b[39m\u001b[39mNone\u001b[39;00m):\n\u001b[0;32m    <a href='file:///d%3A/OneDrive%20-%20Universitetet%20i%20Stavanger/Bachelor/venv/lib/site-packages/keras/layers/preprocessing/normalization.py?line=197'>198</a>\u001b[0m   \u001b[39m\"\"\"Computes the mean and variance of values in a dataset.\u001b[39;00m\n\u001b[0;32m    <a href='file:///d%3A/OneDrive%20-%20Universitetet%20i%20Stavanger/Bachelor/venv/lib/site-packages/keras/layers/preprocessing/normalization.py?line=198'>199</a>\u001b[0m \n\u001b[0;32m    <a href='file:///d%3A/OneDrive%20-%20Universitetet%20i%20Stavanger/Bachelor/venv/lib/site-packages/keras/layers/preprocessing/normalization.py?line=199'>200</a>\u001b[0m \u001b[39m  Calling `adapt()` on a `Normalization` layer is an alternative to passing in\u001b[39;00m\n\u001b[1;32m   (...)\u001b[0m\n\u001b[0;32m    <a href='file:///d%3A/OneDrive%20-%20Universitetet%20i%20Stavanger/Bachelor/venv/lib/site-packages/keras/layers/preprocessing/normalization.py?line=239'>240</a>\u001b[0m \u001b[39m        argument is not supported with array inputs.\u001b[39;00m\n\u001b[0;32m    <a href='file:///d%3A/OneDrive%20-%20Universitetet%20i%20Stavanger/Bachelor/venv/lib/site-packages/keras/layers/preprocessing/normalization.py?line=240'>241</a>\u001b[0m \u001b[39m  \"\"\"\u001b[39;00m\n\u001b[1;32m--> <a href='file:///d%3A/OneDrive%20-%20Universitetet%20i%20Stavanger/Bachelor/venv/lib/site-packages/keras/layers/preprocessing/normalization.py?line=241'>242</a>\u001b[0m   \u001b[39msuper\u001b[39;49m()\u001b[39m.\u001b[39;49madapt(data, batch_size\u001b[39m=\u001b[39;49mbatch_size, steps\u001b[39m=\u001b[39;49msteps)\n",
      "File \u001b[1;32md:\\OneDrive - Universitetet i Stavanger\\Bachelor\\venv\\lib\\site-packages\\keras\\engine\\base_preprocessing_layer.py:238\u001b[0m, in \u001b[0;36mPreprocessingLayer.adapt\u001b[1;34m(self, data, batch_size, steps)\u001b[0m\n\u001b[0;32m    <a href='file:///d%3A/OneDrive%20-%20Universitetet%20i%20Stavanger/Bachelor/venv/lib/site-packages/keras/engine/base_preprocessing_layer.py?line=235'>236</a>\u001b[0m \u001b[39mif\u001b[39;00m \u001b[39mself\u001b[39m\u001b[39m.\u001b[39mbuilt:\n\u001b[0;32m    <a href='file:///d%3A/OneDrive%20-%20Universitetet%20i%20Stavanger/Bachelor/venv/lib/site-packages/keras/engine/base_preprocessing_layer.py?line=236'>237</a>\u001b[0m   \u001b[39mself\u001b[39m\u001b[39m.\u001b[39mreset_state()\n\u001b[1;32m--> <a href='file:///d%3A/OneDrive%20-%20Universitetet%20i%20Stavanger/Bachelor/venv/lib/site-packages/keras/engine/base_preprocessing_layer.py?line=237'>238</a>\u001b[0m data_handler \u001b[39m=\u001b[39m data_adapter\u001b[39m.\u001b[39;49mDataHandler(\n\u001b[0;32m    <a href='file:///d%3A/OneDrive%20-%20Universitetet%20i%20Stavanger/Bachelor/venv/lib/site-packages/keras/engine/base_preprocessing_layer.py?line=238'>239</a>\u001b[0m     data,\n\u001b[0;32m    <a href='file:///d%3A/OneDrive%20-%20Universitetet%20i%20Stavanger/Bachelor/venv/lib/site-packages/keras/engine/base_preprocessing_layer.py?line=239'>240</a>\u001b[0m     batch_size\u001b[39m=\u001b[39;49mbatch_size,\n\u001b[0;32m    <a href='file:///d%3A/OneDrive%20-%20Universitetet%20i%20Stavanger/Bachelor/venv/lib/site-packages/keras/engine/base_preprocessing_layer.py?line=240'>241</a>\u001b[0m     steps_per_epoch\u001b[39m=\u001b[39;49msteps,\n\u001b[0;32m    <a href='file:///d%3A/OneDrive%20-%20Universitetet%20i%20Stavanger/Bachelor/venv/lib/site-packages/keras/engine/base_preprocessing_layer.py?line=241'>242</a>\u001b[0m     epochs\u001b[39m=\u001b[39;49m\u001b[39m1\u001b[39;49m,\n\u001b[0;32m    <a href='file:///d%3A/OneDrive%20-%20Universitetet%20i%20Stavanger/Bachelor/venv/lib/site-packages/keras/engine/base_preprocessing_layer.py?line=242'>243</a>\u001b[0m     steps_per_execution\u001b[39m=\u001b[39;49m\u001b[39mself\u001b[39;49m\u001b[39m.\u001b[39;49m_steps_per_execution,\n\u001b[0;32m    <a href='file:///d%3A/OneDrive%20-%20Universitetet%20i%20Stavanger/Bachelor/venv/lib/site-packages/keras/engine/base_preprocessing_layer.py?line=243'>244</a>\u001b[0m     distribute\u001b[39m=\u001b[39;49m\u001b[39mFalse\u001b[39;49;00m)\n\u001b[0;32m    <a href='file:///d%3A/OneDrive%20-%20Universitetet%20i%20Stavanger/Bachelor/venv/lib/site-packages/keras/engine/base_preprocessing_layer.py?line=244'>245</a>\u001b[0m \u001b[39mself\u001b[39m\u001b[39m.\u001b[39m_adapt_function \u001b[39m=\u001b[39m \u001b[39mself\u001b[39m\u001b[39m.\u001b[39mmake_adapt_function()\n\u001b[0;32m    <a href='file:///d%3A/OneDrive%20-%20Universitetet%20i%20Stavanger/Bachelor/venv/lib/site-packages/keras/engine/base_preprocessing_layer.py?line=245'>246</a>\u001b[0m \u001b[39mfor\u001b[39;00m _, iterator \u001b[39min\u001b[39;00m data_handler\u001b[39m.\u001b[39menumerate_epochs():\n",
      "File \u001b[1;32md:\\OneDrive - Universitetet i Stavanger\\Bachelor\\venv\\lib\\site-packages\\keras\\engine\\data_adapter.py:1149\u001b[0m, in \u001b[0;36mDataHandler.__init__\u001b[1;34m(self, x, y, sample_weight, batch_size, steps_per_epoch, initial_epoch, epochs, shuffle, class_weight, max_queue_size, workers, use_multiprocessing, model, steps_per_execution, distribute)\u001b[0m\n\u001b[0;32m   <a href='file:///d%3A/OneDrive%20-%20Universitetet%20i%20Stavanger/Bachelor/venv/lib/site-packages/keras/engine/data_adapter.py?line=1145'>1146</a>\u001b[0m   \u001b[39mself\u001b[39m\u001b[39m.\u001b[39m_steps_per_execution \u001b[39m=\u001b[39m steps_per_execution\n\u001b[0;32m   <a href='file:///d%3A/OneDrive%20-%20Universitetet%20i%20Stavanger/Bachelor/venv/lib/site-packages/keras/engine/data_adapter.py?line=1147'>1148</a>\u001b[0m adapter_cls \u001b[39m=\u001b[39m select_data_adapter(x, y)\n\u001b[1;32m-> <a href='file:///d%3A/OneDrive%20-%20Universitetet%20i%20Stavanger/Bachelor/venv/lib/site-packages/keras/engine/data_adapter.py?line=1148'>1149</a>\u001b[0m \u001b[39mself\u001b[39m\u001b[39m.\u001b[39m_adapter \u001b[39m=\u001b[39m adapter_cls(\n\u001b[0;32m   <a href='file:///d%3A/OneDrive%20-%20Universitetet%20i%20Stavanger/Bachelor/venv/lib/site-packages/keras/engine/data_adapter.py?line=1149'>1150</a>\u001b[0m     x,\n\u001b[0;32m   <a href='file:///d%3A/OneDrive%20-%20Universitetet%20i%20Stavanger/Bachelor/venv/lib/site-packages/keras/engine/data_adapter.py?line=1150'>1151</a>\u001b[0m     y,\n\u001b[0;32m   <a href='file:///d%3A/OneDrive%20-%20Universitetet%20i%20Stavanger/Bachelor/venv/lib/site-packages/keras/engine/data_adapter.py?line=1151'>1152</a>\u001b[0m     batch_size\u001b[39m=\u001b[39;49mbatch_size,\n\u001b[0;32m   <a href='file:///d%3A/OneDrive%20-%20Universitetet%20i%20Stavanger/Bachelor/venv/lib/site-packages/keras/engine/data_adapter.py?line=1152'>1153</a>\u001b[0m     steps\u001b[39m=\u001b[39;49msteps_per_epoch,\n\u001b[0;32m   <a href='file:///d%3A/OneDrive%20-%20Universitetet%20i%20Stavanger/Bachelor/venv/lib/site-packages/keras/engine/data_adapter.py?line=1153'>1154</a>\u001b[0m     epochs\u001b[39m=\u001b[39;49mepochs \u001b[39m-\u001b[39;49m initial_epoch,\n\u001b[0;32m   <a href='file:///d%3A/OneDrive%20-%20Universitetet%20i%20Stavanger/Bachelor/venv/lib/site-packages/keras/engine/data_adapter.py?line=1154'>1155</a>\u001b[0m     sample_weights\u001b[39m=\u001b[39;49msample_weight,\n\u001b[0;32m   <a href='file:///d%3A/OneDrive%20-%20Universitetet%20i%20Stavanger/Bachelor/venv/lib/site-packages/keras/engine/data_adapter.py?line=1155'>1156</a>\u001b[0m     shuffle\u001b[39m=\u001b[39;49mshuffle,\n\u001b[0;32m   <a href='file:///d%3A/OneDrive%20-%20Universitetet%20i%20Stavanger/Bachelor/venv/lib/site-packages/keras/engine/data_adapter.py?line=1156'>1157</a>\u001b[0m     max_queue_size\u001b[39m=\u001b[39;49mmax_queue_size,\n\u001b[0;32m   <a href='file:///d%3A/OneDrive%20-%20Universitetet%20i%20Stavanger/Bachelor/venv/lib/site-packages/keras/engine/data_adapter.py?line=1157'>1158</a>\u001b[0m     workers\u001b[39m=\u001b[39;49mworkers,\n\u001b[0;32m   <a href='file:///d%3A/OneDrive%20-%20Universitetet%20i%20Stavanger/Bachelor/venv/lib/site-packages/keras/engine/data_adapter.py?line=1158'>1159</a>\u001b[0m     use_multiprocessing\u001b[39m=\u001b[39;49muse_multiprocessing,\n\u001b[0;32m   <a href='file:///d%3A/OneDrive%20-%20Universitetet%20i%20Stavanger/Bachelor/venv/lib/site-packages/keras/engine/data_adapter.py?line=1159'>1160</a>\u001b[0m     distribution_strategy\u001b[39m=\u001b[39;49mtf\u001b[39m.\u001b[39;49mdistribute\u001b[39m.\u001b[39;49mget_strategy(),\n\u001b[0;32m   <a href='file:///d%3A/OneDrive%20-%20Universitetet%20i%20Stavanger/Bachelor/venv/lib/site-packages/keras/engine/data_adapter.py?line=1160'>1161</a>\u001b[0m     model\u001b[39m=\u001b[39;49mmodel)\n\u001b[0;32m   <a href='file:///d%3A/OneDrive%20-%20Universitetet%20i%20Stavanger/Bachelor/venv/lib/site-packages/keras/engine/data_adapter.py?line=1162'>1163</a>\u001b[0m strategy \u001b[39m=\u001b[39m tf\u001b[39m.\u001b[39mdistribute\u001b[39m.\u001b[39mget_strategy()\n\u001b[0;32m   <a href='file:///d%3A/OneDrive%20-%20Universitetet%20i%20Stavanger/Bachelor/venv/lib/site-packages/keras/engine/data_adapter.py?line=1164'>1165</a>\u001b[0m \u001b[39mself\u001b[39m\u001b[39m.\u001b[39m_current_step \u001b[39m=\u001b[39m \u001b[39m0\u001b[39m\n",
      "File \u001b[1;32md:\\OneDrive - Universitetet i Stavanger\\Bachelor\\venv\\lib\\site-packages\\keras\\engine\\data_adapter.py:236\u001b[0m, in \u001b[0;36mTensorLikeDataAdapter.__init__\u001b[1;34m(self, x, y, sample_weights, sample_weight_modes, batch_size, epochs, steps, shuffle, **kwargs)\u001b[0m\n\u001b[0;32m    <a href='file:///d%3A/OneDrive%20-%20Universitetet%20i%20Stavanger/Bachelor/venv/lib/site-packages/keras/engine/data_adapter.py?line=224'>225</a>\u001b[0m \u001b[39mdef\u001b[39;00m \u001b[39m__init__\u001b[39m(\u001b[39mself\u001b[39m,\n\u001b[0;32m    <a href='file:///d%3A/OneDrive%20-%20Universitetet%20i%20Stavanger/Bachelor/venv/lib/site-packages/keras/engine/data_adapter.py?line=225'>226</a>\u001b[0m              x,\n\u001b[0;32m    <a href='file:///d%3A/OneDrive%20-%20Universitetet%20i%20Stavanger/Bachelor/venv/lib/site-packages/keras/engine/data_adapter.py?line=226'>227</a>\u001b[0m              y\u001b[39m=\u001b[39m\u001b[39mNone\u001b[39;00m,\n\u001b[1;32m   (...)\u001b[0m\n\u001b[0;32m    <a href='file:///d%3A/OneDrive%20-%20Universitetet%20i%20Stavanger/Bachelor/venv/lib/site-packages/keras/engine/data_adapter.py?line=232'>233</a>\u001b[0m              shuffle\u001b[39m=\u001b[39m\u001b[39mFalse\u001b[39;00m,\n\u001b[0;32m    <a href='file:///d%3A/OneDrive%20-%20Universitetet%20i%20Stavanger/Bachelor/venv/lib/site-packages/keras/engine/data_adapter.py?line=233'>234</a>\u001b[0m              \u001b[39m*\u001b[39m\u001b[39m*\u001b[39mkwargs):\n\u001b[0;32m    <a href='file:///d%3A/OneDrive%20-%20Universitetet%20i%20Stavanger/Bachelor/venv/lib/site-packages/keras/engine/data_adapter.py?line=234'>235</a>\u001b[0m   \u001b[39msuper\u001b[39m(TensorLikeDataAdapter, \u001b[39mself\u001b[39m)\u001b[39m.\u001b[39m\u001b[39m__init__\u001b[39m(x, y, \u001b[39m*\u001b[39m\u001b[39m*\u001b[39mkwargs)\n\u001b[1;32m--> <a href='file:///d%3A/OneDrive%20-%20Universitetet%20i%20Stavanger/Bachelor/venv/lib/site-packages/keras/engine/data_adapter.py?line=235'>236</a>\u001b[0m   x, y, sample_weights \u001b[39m=\u001b[39m _process_tensorlike((x, y, sample_weights))\n\u001b[0;32m    <a href='file:///d%3A/OneDrive%20-%20Universitetet%20i%20Stavanger/Bachelor/venv/lib/site-packages/keras/engine/data_adapter.py?line=236'>237</a>\u001b[0m   sample_weight_modes \u001b[39m=\u001b[39m broadcast_sample_weight_modes(\n\u001b[0;32m    <a href='file:///d%3A/OneDrive%20-%20Universitetet%20i%20Stavanger/Bachelor/venv/lib/site-packages/keras/engine/data_adapter.py?line=237'>238</a>\u001b[0m       sample_weights, sample_weight_modes)\n\u001b[0;32m    <a href='file:///d%3A/OneDrive%20-%20Universitetet%20i%20Stavanger/Bachelor/venv/lib/site-packages/keras/engine/data_adapter.py?line=239'>240</a>\u001b[0m   \u001b[39m# If sample_weights are not specified for an output use 1.0 as weights.\u001b[39;00m\n",
      "File \u001b[1;32md:\\OneDrive - Universitetet i Stavanger\\Bachelor\\venv\\lib\\site-packages\\keras\\engine\\data_adapter.py:1043\u001b[0m, in \u001b[0;36m_process_tensorlike\u001b[1;34m(inputs)\u001b[0m\n\u001b[0;32m   <a href='file:///d%3A/OneDrive%20-%20Universitetet%20i%20Stavanger/Bachelor/venv/lib/site-packages/keras/engine/data_adapter.py?line=1039'>1040</a>\u001b[0m     \u001b[39mreturn\u001b[39;00m _scipy_sparse_to_sparse_tensor(x)\n\u001b[0;32m   <a href='file:///d%3A/OneDrive%20-%20Universitetet%20i%20Stavanger/Bachelor/venv/lib/site-packages/keras/engine/data_adapter.py?line=1040'>1041</a>\u001b[0m   \u001b[39mreturn\u001b[39;00m x\n\u001b[1;32m-> <a href='file:///d%3A/OneDrive%20-%20Universitetet%20i%20Stavanger/Bachelor/venv/lib/site-packages/keras/engine/data_adapter.py?line=1042'>1043</a>\u001b[0m inputs \u001b[39m=\u001b[39m tf\u001b[39m.\u001b[39;49mnest\u001b[39m.\u001b[39;49mmap_structure(_convert_single_tensor, inputs)\n\u001b[0;32m   <a href='file:///d%3A/OneDrive%20-%20Universitetet%20i%20Stavanger/Bachelor/venv/lib/site-packages/keras/engine/data_adapter.py?line=1043'>1044</a>\u001b[0m \u001b[39mreturn\u001b[39;00m tf\u001b[39m.\u001b[39m__internal__\u001b[39m.\u001b[39mnest\u001b[39m.\u001b[39mlist_to_tuple(inputs)\n",
      "File \u001b[1;32md:\\OneDrive - Universitetet i Stavanger\\Bachelor\\venv\\lib\\site-packages\\tensorflow\\python\\util\\nest.py:914\u001b[0m, in \u001b[0;36mmap_structure\u001b[1;34m(func, *structure, **kwargs)\u001b[0m\n\u001b[0;32m    <a href='file:///d%3A/OneDrive%20-%20Universitetet%20i%20Stavanger/Bachelor/venv/lib/site-packages/tensorflow/python/util/nest.py?line=909'>910</a>\u001b[0m flat_structure \u001b[39m=\u001b[39m (flatten(s, expand_composites) \u001b[39mfor\u001b[39;00m s \u001b[39min\u001b[39;00m structure)\n\u001b[0;32m    <a href='file:///d%3A/OneDrive%20-%20Universitetet%20i%20Stavanger/Bachelor/venv/lib/site-packages/tensorflow/python/util/nest.py?line=910'>911</a>\u001b[0m entries \u001b[39m=\u001b[39m \u001b[39mzip\u001b[39m(\u001b[39m*\u001b[39mflat_structure)\n\u001b[0;32m    <a href='file:///d%3A/OneDrive%20-%20Universitetet%20i%20Stavanger/Bachelor/venv/lib/site-packages/tensorflow/python/util/nest.py?line=912'>913</a>\u001b[0m \u001b[39mreturn\u001b[39;00m pack_sequence_as(\n\u001b[1;32m--> <a href='file:///d%3A/OneDrive%20-%20Universitetet%20i%20Stavanger/Bachelor/venv/lib/site-packages/tensorflow/python/util/nest.py?line=913'>914</a>\u001b[0m     structure[\u001b[39m0\u001b[39m], [func(\u001b[39m*\u001b[39mx) \u001b[39mfor\u001b[39;00m x \u001b[39min\u001b[39;00m entries],\n\u001b[0;32m    <a href='file:///d%3A/OneDrive%20-%20Universitetet%20i%20Stavanger/Bachelor/venv/lib/site-packages/tensorflow/python/util/nest.py?line=914'>915</a>\u001b[0m     expand_composites\u001b[39m=\u001b[39mexpand_composites)\n",
      "File \u001b[1;32md:\\OneDrive - Universitetet i Stavanger\\Bachelor\\venv\\lib\\site-packages\\tensorflow\\python\\util\\nest.py:914\u001b[0m, in \u001b[0;36m<listcomp>\u001b[1;34m(.0)\u001b[0m\n\u001b[0;32m    <a href='file:///d%3A/OneDrive%20-%20Universitetet%20i%20Stavanger/Bachelor/venv/lib/site-packages/tensorflow/python/util/nest.py?line=909'>910</a>\u001b[0m flat_structure \u001b[39m=\u001b[39m (flatten(s, expand_composites) \u001b[39mfor\u001b[39;00m s \u001b[39min\u001b[39;00m structure)\n\u001b[0;32m    <a href='file:///d%3A/OneDrive%20-%20Universitetet%20i%20Stavanger/Bachelor/venv/lib/site-packages/tensorflow/python/util/nest.py?line=910'>911</a>\u001b[0m entries \u001b[39m=\u001b[39m \u001b[39mzip\u001b[39m(\u001b[39m*\u001b[39mflat_structure)\n\u001b[0;32m    <a href='file:///d%3A/OneDrive%20-%20Universitetet%20i%20Stavanger/Bachelor/venv/lib/site-packages/tensorflow/python/util/nest.py?line=912'>913</a>\u001b[0m \u001b[39mreturn\u001b[39;00m pack_sequence_as(\n\u001b[1;32m--> <a href='file:///d%3A/OneDrive%20-%20Universitetet%20i%20Stavanger/Bachelor/venv/lib/site-packages/tensorflow/python/util/nest.py?line=913'>914</a>\u001b[0m     structure[\u001b[39m0\u001b[39m], [func(\u001b[39m*\u001b[39;49mx) \u001b[39mfor\u001b[39;00m x \u001b[39min\u001b[39;00m entries],\n\u001b[0;32m    <a href='file:///d%3A/OneDrive%20-%20Universitetet%20i%20Stavanger/Bachelor/venv/lib/site-packages/tensorflow/python/util/nest.py?line=914'>915</a>\u001b[0m     expand_composites\u001b[39m=\u001b[39mexpand_composites)\n",
      "File \u001b[1;32md:\\OneDrive - Universitetet i Stavanger\\Bachelor\\venv\\lib\\site-packages\\keras\\engine\\data_adapter.py:1038\u001b[0m, in \u001b[0;36m_process_tensorlike.<locals>._convert_single_tensor\u001b[1;34m(x)\u001b[0m\n\u001b[0;32m   <a href='file:///d%3A/OneDrive%20-%20Universitetet%20i%20Stavanger/Bachelor/venv/lib/site-packages/keras/engine/data_adapter.py?line=1035'>1036</a>\u001b[0m   \u001b[39mif\u001b[39;00m \u001b[39missubclass\u001b[39m(x\u001b[39m.\u001b[39mdtype\u001b[39m.\u001b[39mtype, np\u001b[39m.\u001b[39mfloating):\n\u001b[0;32m   <a href='file:///d%3A/OneDrive%20-%20Universitetet%20i%20Stavanger/Bachelor/venv/lib/site-packages/keras/engine/data_adapter.py?line=1036'>1037</a>\u001b[0m     dtype \u001b[39m=\u001b[39m backend\u001b[39m.\u001b[39mfloatx()\n\u001b[1;32m-> <a href='file:///d%3A/OneDrive%20-%20Universitetet%20i%20Stavanger/Bachelor/venv/lib/site-packages/keras/engine/data_adapter.py?line=1037'>1038</a>\u001b[0m   \u001b[39mreturn\u001b[39;00m tf\u001b[39m.\u001b[39;49mconvert_to_tensor(x, dtype\u001b[39m=\u001b[39;49mdtype)\n\u001b[0;32m   <a href='file:///d%3A/OneDrive%20-%20Universitetet%20i%20Stavanger/Bachelor/venv/lib/site-packages/keras/engine/data_adapter.py?line=1038'>1039</a>\u001b[0m \u001b[39melif\u001b[39;00m _is_scipy_sparse(x):\n\u001b[0;32m   <a href='file:///d%3A/OneDrive%20-%20Universitetet%20i%20Stavanger/Bachelor/venv/lib/site-packages/keras/engine/data_adapter.py?line=1039'>1040</a>\u001b[0m   \u001b[39mreturn\u001b[39;00m _scipy_sparse_to_sparse_tensor(x)\n",
      "File \u001b[1;32md:\\OneDrive - Universitetet i Stavanger\\Bachelor\\venv\\lib\\site-packages\\tensorflow\\python\\util\\traceback_utils.py:153\u001b[0m, in \u001b[0;36mfilter_traceback.<locals>.error_handler\u001b[1;34m(*args, **kwargs)\u001b[0m\n\u001b[0;32m    <a href='file:///d%3A/OneDrive%20-%20Universitetet%20i%20Stavanger/Bachelor/venv/lib/site-packages/tensorflow/python/util/traceback_utils.py?line=150'>151</a>\u001b[0m \u001b[39mexcept\u001b[39;00m \u001b[39mException\u001b[39;00m \u001b[39mas\u001b[39;00m e:\n\u001b[0;32m    <a href='file:///d%3A/OneDrive%20-%20Universitetet%20i%20Stavanger/Bachelor/venv/lib/site-packages/tensorflow/python/util/traceback_utils.py?line=151'>152</a>\u001b[0m   filtered_tb \u001b[39m=\u001b[39m _process_traceback_frames(e\u001b[39m.\u001b[39m__traceback__)\n\u001b[1;32m--> <a href='file:///d%3A/OneDrive%20-%20Universitetet%20i%20Stavanger/Bachelor/venv/lib/site-packages/tensorflow/python/util/traceback_utils.py?line=152'>153</a>\u001b[0m   \u001b[39mraise\u001b[39;00m e\u001b[39m.\u001b[39mwith_traceback(filtered_tb) \u001b[39mfrom\u001b[39;00m \u001b[39mNone\u001b[39m\n\u001b[0;32m    <a href='file:///d%3A/OneDrive%20-%20Universitetet%20i%20Stavanger/Bachelor/venv/lib/site-packages/tensorflow/python/util/traceback_utils.py?line=153'>154</a>\u001b[0m \u001b[39mfinally\u001b[39;00m:\n\u001b[0;32m    <a href='file:///d%3A/OneDrive%20-%20Universitetet%20i%20Stavanger/Bachelor/venv/lib/site-packages/tensorflow/python/util/traceback_utils.py?line=154'>155</a>\u001b[0m   \u001b[39mdel\u001b[39;00m filtered_tb\n",
      "File \u001b[1;32md:\\OneDrive - Universitetet i Stavanger\\Bachelor\\venv\\lib\\site-packages\\tensorflow\\python\\framework\\constant_op.py:102\u001b[0m, in \u001b[0;36mconvert_to_eager_tensor\u001b[1;34m(value, ctx, dtype)\u001b[0m\n\u001b[0;32m    <a href='file:///d%3A/OneDrive%20-%20Universitetet%20i%20Stavanger/Bachelor/venv/lib/site-packages/tensorflow/python/framework/constant_op.py?line=99'>100</a>\u001b[0m     dtype \u001b[39m=\u001b[39m dtypes\u001b[39m.\u001b[39mas_dtype(dtype)\u001b[39m.\u001b[39mas_datatype_enum\n\u001b[0;32m    <a href='file:///d%3A/OneDrive%20-%20Universitetet%20i%20Stavanger/Bachelor/venv/lib/site-packages/tensorflow/python/framework/constant_op.py?line=100'>101</a>\u001b[0m ctx\u001b[39m.\u001b[39mensure_initialized()\n\u001b[1;32m--> <a href='file:///d%3A/OneDrive%20-%20Universitetet%20i%20Stavanger/Bachelor/venv/lib/site-packages/tensorflow/python/framework/constant_op.py?line=101'>102</a>\u001b[0m \u001b[39mreturn\u001b[39;00m ops\u001b[39m.\u001b[39;49mEagerTensor(value, ctx\u001b[39m.\u001b[39;49mdevice_name, dtype)\n",
      "\u001b[1;31mValueError\u001b[0m: Failed to convert a NumPy array to a Tensor (Unsupported object type Timestamp)."
     ]
    }
   ],
   "source": [
    "#Normalize with keras\n",
    "normalizer = tf.keras.layers.Normalization(axis=-1)\n",
    "normalizer.adapt(np.array(train_features))"
   ]
  },
  {
   "cell_type": "code",
   "execution_count": null,
   "metadata": {},
   "outputs": [
    {
     "ename": "AttributeError",
     "evalue": "'Normalization' object has no attribute 'mean'",
     "output_type": "error",
     "traceback": [
      "\u001b[1;31m---------------------------------------------------------------------------\u001b[0m",
      "\u001b[1;31mAttributeError\u001b[0m                            Traceback (most recent call last)",
      "\u001b[1;32md:\\OneDrive - Universitetet i Stavanger\\Bachelor\\hopethisworks.ipynb Cell 13'\u001b[0m in \u001b[0;36m<module>\u001b[1;34m\u001b[0m\n\u001b[1;32m----> <a href='vscode-notebook-cell:/d%3A/OneDrive%20-%20Universitetet%20i%20Stavanger/Bachelor/hopethisworks.ipynb#ch0000015?line=0'>1</a>\u001b[0m normalizer\u001b[39m.\u001b[39;49mmean\u001b[39m.\u001b[39mnumpy()\n",
      "\u001b[1;31mAttributeError\u001b[0m: 'Normalization' object has no attribute 'mean'"
     ]
    }
   ],
   "source": [
    "normalizer.mean.numpy()"
   ]
  },
  {
   "cell_type": "code",
   "execution_count": null,
   "metadata": {},
   "outputs": [
    {
     "ename": "ValueError",
     "evalue": "Failed to convert a NumPy array to a Tensor (Unsupported numpy type: NPY_DATETIME).",
     "output_type": "error",
     "traceback": [
      "\u001b[1;31m---------------------------------------------------------------------------\u001b[0m",
      "\u001b[1;31mValueError\u001b[0m                                Traceback (most recent call last)",
      "\u001b[1;32md:\\OneDrive - Universitetet i Stavanger\\Bachelor\\hopethisworks.ipynb Cell 14'\u001b[0m in \u001b[0;36m<module>\u001b[1;34m\u001b[0m\n\u001b[0;32m      <a href='vscode-notebook-cell:/d%3A/OneDrive%20-%20Universitetet%20i%20Stavanger/Bachelor/hopethisworks.ipynb#ch0000016?line=1'>2</a>\u001b[0m energy \u001b[39m=\u001b[39m np\u001b[39m.\u001b[39marray(train_features[\u001b[39m'\u001b[39m\u001b[39mtstp\u001b[39m\u001b[39m'\u001b[39m])\n\u001b[0;32m      <a href='vscode-notebook-cell:/d%3A/OneDrive%20-%20Universitetet%20i%20Stavanger/Bachelor/hopethisworks.ipynb#ch0000016?line=2'>3</a>\u001b[0m energy_normalizor \u001b[39m=\u001b[39m layers\u001b[39m.\u001b[39mNormalization(input_shape\u001b[39m=\u001b[39m[\u001b[39m1\u001b[39m,], axis\u001b[39m=\u001b[39m\u001b[39mNone\u001b[39;00m)\n\u001b[1;32m----> <a href='vscode-notebook-cell:/d%3A/OneDrive%20-%20Universitetet%20i%20Stavanger/Bachelor/hopethisworks.ipynb#ch0000016?line=3'>4</a>\u001b[0m energy_normalizor\u001b[39m.\u001b[39;49madapt(energy)\n",
      "File \u001b[1;32md:\\OneDrive - Universitetet i Stavanger\\Bachelor\\venv\\lib\\site-packages\\keras\\layers\\preprocessing\\normalization.py:242\u001b[0m, in \u001b[0;36mNormalization.adapt\u001b[1;34m(self, data, batch_size, steps)\u001b[0m\n\u001b[0;32m    <a href='file:///d%3A/OneDrive%20-%20Universitetet%20i%20Stavanger/Bachelor/venv/lib/site-packages/keras/layers/preprocessing/normalization.py?line=196'>197</a>\u001b[0m \u001b[39mdef\u001b[39;00m \u001b[39madapt\u001b[39m(\u001b[39mself\u001b[39m, data, batch_size\u001b[39m=\u001b[39m\u001b[39mNone\u001b[39;00m, steps\u001b[39m=\u001b[39m\u001b[39mNone\u001b[39;00m):\n\u001b[0;32m    <a href='file:///d%3A/OneDrive%20-%20Universitetet%20i%20Stavanger/Bachelor/venv/lib/site-packages/keras/layers/preprocessing/normalization.py?line=197'>198</a>\u001b[0m   \u001b[39m\"\"\"Computes the mean and variance of values in a dataset.\u001b[39;00m\n\u001b[0;32m    <a href='file:///d%3A/OneDrive%20-%20Universitetet%20i%20Stavanger/Bachelor/venv/lib/site-packages/keras/layers/preprocessing/normalization.py?line=198'>199</a>\u001b[0m \n\u001b[0;32m    <a href='file:///d%3A/OneDrive%20-%20Universitetet%20i%20Stavanger/Bachelor/venv/lib/site-packages/keras/layers/preprocessing/normalization.py?line=199'>200</a>\u001b[0m \u001b[39m  Calling `adapt()` on a `Normalization` layer is an alternative to passing in\u001b[39;00m\n\u001b[1;32m   (...)\u001b[0m\n\u001b[0;32m    <a href='file:///d%3A/OneDrive%20-%20Universitetet%20i%20Stavanger/Bachelor/venv/lib/site-packages/keras/layers/preprocessing/normalization.py?line=239'>240</a>\u001b[0m \u001b[39m        argument is not supported with array inputs.\u001b[39;00m\n\u001b[0;32m    <a href='file:///d%3A/OneDrive%20-%20Universitetet%20i%20Stavanger/Bachelor/venv/lib/site-packages/keras/layers/preprocessing/normalization.py?line=240'>241</a>\u001b[0m \u001b[39m  \"\"\"\u001b[39;00m\n\u001b[1;32m--> <a href='file:///d%3A/OneDrive%20-%20Universitetet%20i%20Stavanger/Bachelor/venv/lib/site-packages/keras/layers/preprocessing/normalization.py?line=241'>242</a>\u001b[0m   \u001b[39msuper\u001b[39;49m()\u001b[39m.\u001b[39;49madapt(data, batch_size\u001b[39m=\u001b[39;49mbatch_size, steps\u001b[39m=\u001b[39;49msteps)\n",
      "File \u001b[1;32md:\\OneDrive - Universitetet i Stavanger\\Bachelor\\venv\\lib\\site-packages\\keras\\engine\\base_preprocessing_layer.py:238\u001b[0m, in \u001b[0;36mPreprocessingLayer.adapt\u001b[1;34m(self, data, batch_size, steps)\u001b[0m\n\u001b[0;32m    <a href='file:///d%3A/OneDrive%20-%20Universitetet%20i%20Stavanger/Bachelor/venv/lib/site-packages/keras/engine/base_preprocessing_layer.py?line=235'>236</a>\u001b[0m \u001b[39mif\u001b[39;00m \u001b[39mself\u001b[39m\u001b[39m.\u001b[39mbuilt:\n\u001b[0;32m    <a href='file:///d%3A/OneDrive%20-%20Universitetet%20i%20Stavanger/Bachelor/venv/lib/site-packages/keras/engine/base_preprocessing_layer.py?line=236'>237</a>\u001b[0m   \u001b[39mself\u001b[39m\u001b[39m.\u001b[39mreset_state()\n\u001b[1;32m--> <a href='file:///d%3A/OneDrive%20-%20Universitetet%20i%20Stavanger/Bachelor/venv/lib/site-packages/keras/engine/base_preprocessing_layer.py?line=237'>238</a>\u001b[0m data_handler \u001b[39m=\u001b[39m data_adapter\u001b[39m.\u001b[39;49mDataHandler(\n\u001b[0;32m    <a href='file:///d%3A/OneDrive%20-%20Universitetet%20i%20Stavanger/Bachelor/venv/lib/site-packages/keras/engine/base_preprocessing_layer.py?line=238'>239</a>\u001b[0m     data,\n\u001b[0;32m    <a href='file:///d%3A/OneDrive%20-%20Universitetet%20i%20Stavanger/Bachelor/venv/lib/site-packages/keras/engine/base_preprocessing_layer.py?line=239'>240</a>\u001b[0m     batch_size\u001b[39m=\u001b[39;49mbatch_size,\n\u001b[0;32m    <a href='file:///d%3A/OneDrive%20-%20Universitetet%20i%20Stavanger/Bachelor/venv/lib/site-packages/keras/engine/base_preprocessing_layer.py?line=240'>241</a>\u001b[0m     steps_per_epoch\u001b[39m=\u001b[39;49msteps,\n\u001b[0;32m    <a href='file:///d%3A/OneDrive%20-%20Universitetet%20i%20Stavanger/Bachelor/venv/lib/site-packages/keras/engine/base_preprocessing_layer.py?line=241'>242</a>\u001b[0m     epochs\u001b[39m=\u001b[39;49m\u001b[39m1\u001b[39;49m,\n\u001b[0;32m    <a href='file:///d%3A/OneDrive%20-%20Universitetet%20i%20Stavanger/Bachelor/venv/lib/site-packages/keras/engine/base_preprocessing_layer.py?line=242'>243</a>\u001b[0m     steps_per_execution\u001b[39m=\u001b[39;49m\u001b[39mself\u001b[39;49m\u001b[39m.\u001b[39;49m_steps_per_execution,\n\u001b[0;32m    <a href='file:///d%3A/OneDrive%20-%20Universitetet%20i%20Stavanger/Bachelor/venv/lib/site-packages/keras/engine/base_preprocessing_layer.py?line=243'>244</a>\u001b[0m     distribute\u001b[39m=\u001b[39;49m\u001b[39mFalse\u001b[39;49;00m)\n\u001b[0;32m    <a href='file:///d%3A/OneDrive%20-%20Universitetet%20i%20Stavanger/Bachelor/venv/lib/site-packages/keras/engine/base_preprocessing_layer.py?line=244'>245</a>\u001b[0m \u001b[39mself\u001b[39m\u001b[39m.\u001b[39m_adapt_function \u001b[39m=\u001b[39m \u001b[39mself\u001b[39m\u001b[39m.\u001b[39mmake_adapt_function()\n\u001b[0;32m    <a href='file:///d%3A/OneDrive%20-%20Universitetet%20i%20Stavanger/Bachelor/venv/lib/site-packages/keras/engine/base_preprocessing_layer.py?line=245'>246</a>\u001b[0m \u001b[39mfor\u001b[39;00m _, iterator \u001b[39min\u001b[39;00m data_handler\u001b[39m.\u001b[39menumerate_epochs():\n",
      "File \u001b[1;32md:\\OneDrive - Universitetet i Stavanger\\Bachelor\\venv\\lib\\site-packages\\keras\\engine\\data_adapter.py:1149\u001b[0m, in \u001b[0;36mDataHandler.__init__\u001b[1;34m(self, x, y, sample_weight, batch_size, steps_per_epoch, initial_epoch, epochs, shuffle, class_weight, max_queue_size, workers, use_multiprocessing, model, steps_per_execution, distribute)\u001b[0m\n\u001b[0;32m   <a href='file:///d%3A/OneDrive%20-%20Universitetet%20i%20Stavanger/Bachelor/venv/lib/site-packages/keras/engine/data_adapter.py?line=1145'>1146</a>\u001b[0m   \u001b[39mself\u001b[39m\u001b[39m.\u001b[39m_steps_per_execution \u001b[39m=\u001b[39m steps_per_execution\n\u001b[0;32m   <a href='file:///d%3A/OneDrive%20-%20Universitetet%20i%20Stavanger/Bachelor/venv/lib/site-packages/keras/engine/data_adapter.py?line=1147'>1148</a>\u001b[0m adapter_cls \u001b[39m=\u001b[39m select_data_adapter(x, y)\n\u001b[1;32m-> <a href='file:///d%3A/OneDrive%20-%20Universitetet%20i%20Stavanger/Bachelor/venv/lib/site-packages/keras/engine/data_adapter.py?line=1148'>1149</a>\u001b[0m \u001b[39mself\u001b[39m\u001b[39m.\u001b[39m_adapter \u001b[39m=\u001b[39m adapter_cls(\n\u001b[0;32m   <a href='file:///d%3A/OneDrive%20-%20Universitetet%20i%20Stavanger/Bachelor/venv/lib/site-packages/keras/engine/data_adapter.py?line=1149'>1150</a>\u001b[0m     x,\n\u001b[0;32m   <a href='file:///d%3A/OneDrive%20-%20Universitetet%20i%20Stavanger/Bachelor/venv/lib/site-packages/keras/engine/data_adapter.py?line=1150'>1151</a>\u001b[0m     y,\n\u001b[0;32m   <a href='file:///d%3A/OneDrive%20-%20Universitetet%20i%20Stavanger/Bachelor/venv/lib/site-packages/keras/engine/data_adapter.py?line=1151'>1152</a>\u001b[0m     batch_size\u001b[39m=\u001b[39;49mbatch_size,\n\u001b[0;32m   <a href='file:///d%3A/OneDrive%20-%20Universitetet%20i%20Stavanger/Bachelor/venv/lib/site-packages/keras/engine/data_adapter.py?line=1152'>1153</a>\u001b[0m     steps\u001b[39m=\u001b[39;49msteps_per_epoch,\n\u001b[0;32m   <a href='file:///d%3A/OneDrive%20-%20Universitetet%20i%20Stavanger/Bachelor/venv/lib/site-packages/keras/engine/data_adapter.py?line=1153'>1154</a>\u001b[0m     epochs\u001b[39m=\u001b[39;49mepochs \u001b[39m-\u001b[39;49m initial_epoch,\n\u001b[0;32m   <a href='file:///d%3A/OneDrive%20-%20Universitetet%20i%20Stavanger/Bachelor/venv/lib/site-packages/keras/engine/data_adapter.py?line=1154'>1155</a>\u001b[0m     sample_weights\u001b[39m=\u001b[39;49msample_weight,\n\u001b[0;32m   <a href='file:///d%3A/OneDrive%20-%20Universitetet%20i%20Stavanger/Bachelor/venv/lib/site-packages/keras/engine/data_adapter.py?line=1155'>1156</a>\u001b[0m     shuffle\u001b[39m=\u001b[39;49mshuffle,\n\u001b[0;32m   <a href='file:///d%3A/OneDrive%20-%20Universitetet%20i%20Stavanger/Bachelor/venv/lib/site-packages/keras/engine/data_adapter.py?line=1156'>1157</a>\u001b[0m     max_queue_size\u001b[39m=\u001b[39;49mmax_queue_size,\n\u001b[0;32m   <a href='file:///d%3A/OneDrive%20-%20Universitetet%20i%20Stavanger/Bachelor/venv/lib/site-packages/keras/engine/data_adapter.py?line=1157'>1158</a>\u001b[0m     workers\u001b[39m=\u001b[39;49mworkers,\n\u001b[0;32m   <a href='file:///d%3A/OneDrive%20-%20Universitetet%20i%20Stavanger/Bachelor/venv/lib/site-packages/keras/engine/data_adapter.py?line=1158'>1159</a>\u001b[0m     use_multiprocessing\u001b[39m=\u001b[39;49muse_multiprocessing,\n\u001b[0;32m   <a href='file:///d%3A/OneDrive%20-%20Universitetet%20i%20Stavanger/Bachelor/venv/lib/site-packages/keras/engine/data_adapter.py?line=1159'>1160</a>\u001b[0m     distribution_strategy\u001b[39m=\u001b[39;49mtf\u001b[39m.\u001b[39;49mdistribute\u001b[39m.\u001b[39;49mget_strategy(),\n\u001b[0;32m   <a href='file:///d%3A/OneDrive%20-%20Universitetet%20i%20Stavanger/Bachelor/venv/lib/site-packages/keras/engine/data_adapter.py?line=1160'>1161</a>\u001b[0m     model\u001b[39m=\u001b[39;49mmodel)\n\u001b[0;32m   <a href='file:///d%3A/OneDrive%20-%20Universitetet%20i%20Stavanger/Bachelor/venv/lib/site-packages/keras/engine/data_adapter.py?line=1162'>1163</a>\u001b[0m strategy \u001b[39m=\u001b[39m tf\u001b[39m.\u001b[39mdistribute\u001b[39m.\u001b[39mget_strategy()\n\u001b[0;32m   <a href='file:///d%3A/OneDrive%20-%20Universitetet%20i%20Stavanger/Bachelor/venv/lib/site-packages/keras/engine/data_adapter.py?line=1164'>1165</a>\u001b[0m \u001b[39mself\u001b[39m\u001b[39m.\u001b[39m_current_step \u001b[39m=\u001b[39m \u001b[39m0\u001b[39m\n",
      "File \u001b[1;32md:\\OneDrive - Universitetet i Stavanger\\Bachelor\\venv\\lib\\site-packages\\keras\\engine\\data_adapter.py:236\u001b[0m, in \u001b[0;36mTensorLikeDataAdapter.__init__\u001b[1;34m(self, x, y, sample_weights, sample_weight_modes, batch_size, epochs, steps, shuffle, **kwargs)\u001b[0m\n\u001b[0;32m    <a href='file:///d%3A/OneDrive%20-%20Universitetet%20i%20Stavanger/Bachelor/venv/lib/site-packages/keras/engine/data_adapter.py?line=224'>225</a>\u001b[0m \u001b[39mdef\u001b[39;00m \u001b[39m__init__\u001b[39m(\u001b[39mself\u001b[39m,\n\u001b[0;32m    <a href='file:///d%3A/OneDrive%20-%20Universitetet%20i%20Stavanger/Bachelor/venv/lib/site-packages/keras/engine/data_adapter.py?line=225'>226</a>\u001b[0m              x,\n\u001b[0;32m    <a href='file:///d%3A/OneDrive%20-%20Universitetet%20i%20Stavanger/Bachelor/venv/lib/site-packages/keras/engine/data_adapter.py?line=226'>227</a>\u001b[0m              y\u001b[39m=\u001b[39m\u001b[39mNone\u001b[39;00m,\n\u001b[1;32m   (...)\u001b[0m\n\u001b[0;32m    <a href='file:///d%3A/OneDrive%20-%20Universitetet%20i%20Stavanger/Bachelor/venv/lib/site-packages/keras/engine/data_adapter.py?line=232'>233</a>\u001b[0m              shuffle\u001b[39m=\u001b[39m\u001b[39mFalse\u001b[39;00m,\n\u001b[0;32m    <a href='file:///d%3A/OneDrive%20-%20Universitetet%20i%20Stavanger/Bachelor/venv/lib/site-packages/keras/engine/data_adapter.py?line=233'>234</a>\u001b[0m              \u001b[39m*\u001b[39m\u001b[39m*\u001b[39mkwargs):\n\u001b[0;32m    <a href='file:///d%3A/OneDrive%20-%20Universitetet%20i%20Stavanger/Bachelor/venv/lib/site-packages/keras/engine/data_adapter.py?line=234'>235</a>\u001b[0m   \u001b[39msuper\u001b[39m(TensorLikeDataAdapter, \u001b[39mself\u001b[39m)\u001b[39m.\u001b[39m\u001b[39m__init__\u001b[39m(x, y, \u001b[39m*\u001b[39m\u001b[39m*\u001b[39mkwargs)\n\u001b[1;32m--> <a href='file:///d%3A/OneDrive%20-%20Universitetet%20i%20Stavanger/Bachelor/venv/lib/site-packages/keras/engine/data_adapter.py?line=235'>236</a>\u001b[0m   x, y, sample_weights \u001b[39m=\u001b[39m _process_tensorlike((x, y, sample_weights))\n\u001b[0;32m    <a href='file:///d%3A/OneDrive%20-%20Universitetet%20i%20Stavanger/Bachelor/venv/lib/site-packages/keras/engine/data_adapter.py?line=236'>237</a>\u001b[0m   sample_weight_modes \u001b[39m=\u001b[39m broadcast_sample_weight_modes(\n\u001b[0;32m    <a href='file:///d%3A/OneDrive%20-%20Universitetet%20i%20Stavanger/Bachelor/venv/lib/site-packages/keras/engine/data_adapter.py?line=237'>238</a>\u001b[0m       sample_weights, sample_weight_modes)\n\u001b[0;32m    <a href='file:///d%3A/OneDrive%20-%20Universitetet%20i%20Stavanger/Bachelor/venv/lib/site-packages/keras/engine/data_adapter.py?line=239'>240</a>\u001b[0m   \u001b[39m# If sample_weights are not specified for an output use 1.0 as weights.\u001b[39;00m\n",
      "File \u001b[1;32md:\\OneDrive - Universitetet i Stavanger\\Bachelor\\venv\\lib\\site-packages\\keras\\engine\\data_adapter.py:1043\u001b[0m, in \u001b[0;36m_process_tensorlike\u001b[1;34m(inputs)\u001b[0m\n\u001b[0;32m   <a href='file:///d%3A/OneDrive%20-%20Universitetet%20i%20Stavanger/Bachelor/venv/lib/site-packages/keras/engine/data_adapter.py?line=1039'>1040</a>\u001b[0m     \u001b[39mreturn\u001b[39;00m _scipy_sparse_to_sparse_tensor(x)\n\u001b[0;32m   <a href='file:///d%3A/OneDrive%20-%20Universitetet%20i%20Stavanger/Bachelor/venv/lib/site-packages/keras/engine/data_adapter.py?line=1040'>1041</a>\u001b[0m   \u001b[39mreturn\u001b[39;00m x\n\u001b[1;32m-> <a href='file:///d%3A/OneDrive%20-%20Universitetet%20i%20Stavanger/Bachelor/venv/lib/site-packages/keras/engine/data_adapter.py?line=1042'>1043</a>\u001b[0m inputs \u001b[39m=\u001b[39m tf\u001b[39m.\u001b[39;49mnest\u001b[39m.\u001b[39;49mmap_structure(_convert_single_tensor, inputs)\n\u001b[0;32m   <a href='file:///d%3A/OneDrive%20-%20Universitetet%20i%20Stavanger/Bachelor/venv/lib/site-packages/keras/engine/data_adapter.py?line=1043'>1044</a>\u001b[0m \u001b[39mreturn\u001b[39;00m tf\u001b[39m.\u001b[39m__internal__\u001b[39m.\u001b[39mnest\u001b[39m.\u001b[39mlist_to_tuple(inputs)\n",
      "File \u001b[1;32md:\\OneDrive - Universitetet i Stavanger\\Bachelor\\venv\\lib\\site-packages\\tensorflow\\python\\util\\nest.py:914\u001b[0m, in \u001b[0;36mmap_structure\u001b[1;34m(func, *structure, **kwargs)\u001b[0m\n\u001b[0;32m    <a href='file:///d%3A/OneDrive%20-%20Universitetet%20i%20Stavanger/Bachelor/venv/lib/site-packages/tensorflow/python/util/nest.py?line=909'>910</a>\u001b[0m flat_structure \u001b[39m=\u001b[39m (flatten(s, expand_composites) \u001b[39mfor\u001b[39;00m s \u001b[39min\u001b[39;00m structure)\n\u001b[0;32m    <a href='file:///d%3A/OneDrive%20-%20Universitetet%20i%20Stavanger/Bachelor/venv/lib/site-packages/tensorflow/python/util/nest.py?line=910'>911</a>\u001b[0m entries \u001b[39m=\u001b[39m \u001b[39mzip\u001b[39m(\u001b[39m*\u001b[39mflat_structure)\n\u001b[0;32m    <a href='file:///d%3A/OneDrive%20-%20Universitetet%20i%20Stavanger/Bachelor/venv/lib/site-packages/tensorflow/python/util/nest.py?line=912'>913</a>\u001b[0m \u001b[39mreturn\u001b[39;00m pack_sequence_as(\n\u001b[1;32m--> <a href='file:///d%3A/OneDrive%20-%20Universitetet%20i%20Stavanger/Bachelor/venv/lib/site-packages/tensorflow/python/util/nest.py?line=913'>914</a>\u001b[0m     structure[\u001b[39m0\u001b[39m], [func(\u001b[39m*\u001b[39mx) \u001b[39mfor\u001b[39;00m x \u001b[39min\u001b[39;00m entries],\n\u001b[0;32m    <a href='file:///d%3A/OneDrive%20-%20Universitetet%20i%20Stavanger/Bachelor/venv/lib/site-packages/tensorflow/python/util/nest.py?line=914'>915</a>\u001b[0m     expand_composites\u001b[39m=\u001b[39mexpand_composites)\n",
      "File \u001b[1;32md:\\OneDrive - Universitetet i Stavanger\\Bachelor\\venv\\lib\\site-packages\\tensorflow\\python\\util\\nest.py:914\u001b[0m, in \u001b[0;36m<listcomp>\u001b[1;34m(.0)\u001b[0m\n\u001b[0;32m    <a href='file:///d%3A/OneDrive%20-%20Universitetet%20i%20Stavanger/Bachelor/venv/lib/site-packages/tensorflow/python/util/nest.py?line=909'>910</a>\u001b[0m flat_structure \u001b[39m=\u001b[39m (flatten(s, expand_composites) \u001b[39mfor\u001b[39;00m s \u001b[39min\u001b[39;00m structure)\n\u001b[0;32m    <a href='file:///d%3A/OneDrive%20-%20Universitetet%20i%20Stavanger/Bachelor/venv/lib/site-packages/tensorflow/python/util/nest.py?line=910'>911</a>\u001b[0m entries \u001b[39m=\u001b[39m \u001b[39mzip\u001b[39m(\u001b[39m*\u001b[39mflat_structure)\n\u001b[0;32m    <a href='file:///d%3A/OneDrive%20-%20Universitetet%20i%20Stavanger/Bachelor/venv/lib/site-packages/tensorflow/python/util/nest.py?line=912'>913</a>\u001b[0m \u001b[39mreturn\u001b[39;00m pack_sequence_as(\n\u001b[1;32m--> <a href='file:///d%3A/OneDrive%20-%20Universitetet%20i%20Stavanger/Bachelor/venv/lib/site-packages/tensorflow/python/util/nest.py?line=913'>914</a>\u001b[0m     structure[\u001b[39m0\u001b[39m], [func(\u001b[39m*\u001b[39;49mx) \u001b[39mfor\u001b[39;00m x \u001b[39min\u001b[39;00m entries],\n\u001b[0;32m    <a href='file:///d%3A/OneDrive%20-%20Universitetet%20i%20Stavanger/Bachelor/venv/lib/site-packages/tensorflow/python/util/nest.py?line=914'>915</a>\u001b[0m     expand_composites\u001b[39m=\u001b[39mexpand_composites)\n",
      "File \u001b[1;32md:\\OneDrive - Universitetet i Stavanger\\Bachelor\\venv\\lib\\site-packages\\keras\\engine\\data_adapter.py:1038\u001b[0m, in \u001b[0;36m_process_tensorlike.<locals>._convert_single_tensor\u001b[1;34m(x)\u001b[0m\n\u001b[0;32m   <a href='file:///d%3A/OneDrive%20-%20Universitetet%20i%20Stavanger/Bachelor/venv/lib/site-packages/keras/engine/data_adapter.py?line=1035'>1036</a>\u001b[0m   \u001b[39mif\u001b[39;00m \u001b[39missubclass\u001b[39m(x\u001b[39m.\u001b[39mdtype\u001b[39m.\u001b[39mtype, np\u001b[39m.\u001b[39mfloating):\n\u001b[0;32m   <a href='file:///d%3A/OneDrive%20-%20Universitetet%20i%20Stavanger/Bachelor/venv/lib/site-packages/keras/engine/data_adapter.py?line=1036'>1037</a>\u001b[0m     dtype \u001b[39m=\u001b[39m backend\u001b[39m.\u001b[39mfloatx()\n\u001b[1;32m-> <a href='file:///d%3A/OneDrive%20-%20Universitetet%20i%20Stavanger/Bachelor/venv/lib/site-packages/keras/engine/data_adapter.py?line=1037'>1038</a>\u001b[0m   \u001b[39mreturn\u001b[39;00m tf\u001b[39m.\u001b[39;49mconvert_to_tensor(x, dtype\u001b[39m=\u001b[39;49mdtype)\n\u001b[0;32m   <a href='file:///d%3A/OneDrive%20-%20Universitetet%20i%20Stavanger/Bachelor/venv/lib/site-packages/keras/engine/data_adapter.py?line=1038'>1039</a>\u001b[0m \u001b[39melif\u001b[39;00m _is_scipy_sparse(x):\n\u001b[0;32m   <a href='file:///d%3A/OneDrive%20-%20Universitetet%20i%20Stavanger/Bachelor/venv/lib/site-packages/keras/engine/data_adapter.py?line=1039'>1040</a>\u001b[0m   \u001b[39mreturn\u001b[39;00m _scipy_sparse_to_sparse_tensor(x)\n",
      "File \u001b[1;32md:\\OneDrive - Universitetet i Stavanger\\Bachelor\\venv\\lib\\site-packages\\tensorflow\\python\\util\\traceback_utils.py:153\u001b[0m, in \u001b[0;36mfilter_traceback.<locals>.error_handler\u001b[1;34m(*args, **kwargs)\u001b[0m\n\u001b[0;32m    <a href='file:///d%3A/OneDrive%20-%20Universitetet%20i%20Stavanger/Bachelor/venv/lib/site-packages/tensorflow/python/util/traceback_utils.py?line=150'>151</a>\u001b[0m \u001b[39mexcept\u001b[39;00m \u001b[39mException\u001b[39;00m \u001b[39mas\u001b[39;00m e:\n\u001b[0;32m    <a href='file:///d%3A/OneDrive%20-%20Universitetet%20i%20Stavanger/Bachelor/venv/lib/site-packages/tensorflow/python/util/traceback_utils.py?line=151'>152</a>\u001b[0m   filtered_tb \u001b[39m=\u001b[39m _process_traceback_frames(e\u001b[39m.\u001b[39m__traceback__)\n\u001b[1;32m--> <a href='file:///d%3A/OneDrive%20-%20Universitetet%20i%20Stavanger/Bachelor/venv/lib/site-packages/tensorflow/python/util/traceback_utils.py?line=152'>153</a>\u001b[0m   \u001b[39mraise\u001b[39;00m e\u001b[39m.\u001b[39mwith_traceback(filtered_tb) \u001b[39mfrom\u001b[39;00m \u001b[39mNone\u001b[39m\n\u001b[0;32m    <a href='file:///d%3A/OneDrive%20-%20Universitetet%20i%20Stavanger/Bachelor/venv/lib/site-packages/tensorflow/python/util/traceback_utils.py?line=153'>154</a>\u001b[0m \u001b[39mfinally\u001b[39;00m:\n\u001b[0;32m    <a href='file:///d%3A/OneDrive%20-%20Universitetet%20i%20Stavanger/Bachelor/venv/lib/site-packages/tensorflow/python/util/traceback_utils.py?line=154'>155</a>\u001b[0m   \u001b[39mdel\u001b[39;00m filtered_tb\n",
      "File \u001b[1;32md:\\OneDrive - Universitetet i Stavanger\\Bachelor\\venv\\lib\\site-packages\\tensorflow\\python\\framework\\constant_op.py:102\u001b[0m, in \u001b[0;36mconvert_to_eager_tensor\u001b[1;34m(value, ctx, dtype)\u001b[0m\n\u001b[0;32m    <a href='file:///d%3A/OneDrive%20-%20Universitetet%20i%20Stavanger/Bachelor/venv/lib/site-packages/tensorflow/python/framework/constant_op.py?line=99'>100</a>\u001b[0m     dtype \u001b[39m=\u001b[39m dtypes\u001b[39m.\u001b[39mas_dtype(dtype)\u001b[39m.\u001b[39mas_datatype_enum\n\u001b[0;32m    <a href='file:///d%3A/OneDrive%20-%20Universitetet%20i%20Stavanger/Bachelor/venv/lib/site-packages/tensorflow/python/framework/constant_op.py?line=100'>101</a>\u001b[0m ctx\u001b[39m.\u001b[39mensure_initialized()\n\u001b[1;32m--> <a href='file:///d%3A/OneDrive%20-%20Universitetet%20i%20Stavanger/Bachelor/venv/lib/site-packages/tensorflow/python/framework/constant_op.py?line=101'>102</a>\u001b[0m \u001b[39mreturn\u001b[39;00m ops\u001b[39m.\u001b[39;49mEagerTensor(value, ctx\u001b[39m.\u001b[39;49mdevice_name, dtype)\n",
      "\u001b[1;31mValueError\u001b[0m: Failed to convert a NumPy array to a Tensor (Unsupported numpy type: NPY_DATETIME)."
     ]
    }
   ],
   "source": [
    "#linear regression\n",
    "energy = np.array(train_features['tstp'])\n",
    "energy_normalizor = layers.Normalization(input_shape=[1,], axis=None)\n",
    "energy_normalizor.adapt(energy)"
   ]
  },
  {
   "cell_type": "code",
   "execution_count": null,
   "metadata": {},
   "outputs": [
    {
     "name": "stdout",
     "output_type": "stream",
     "text": [
      "Model: \"sequential\"\n",
      "_________________________________________________________________\n",
      " Layer (type)                Output Shape              Param #   \n",
      "=================================================================\n",
      " normalization_3 (Normalizat  (None, 1)                3         \n",
      " ion)                                                            \n",
      "                                                                 \n",
      " dense (Dense)               (None, 1)                 2         \n",
      "                                                                 \n",
      "=================================================================\n",
      "Total params: 5\n",
      "Trainable params: 2\n",
      "Non-trainable params: 3\n",
      "_________________________________________________________________\n"
     ]
    }
   ],
   "source": [
    "#build the model\n",
    "energy_model = tf.keras.Sequential([\n",
    "    energy_normalizor,\n",
    "    layers.Dense(units=1)\n",
    "])\n",
    "\n",
    "energy_model.summary()"
   ]
  },
  {
   "cell_type": "code",
   "execution_count": null,
   "metadata": {},
   "outputs": [
    {
     "ename": "ValueError",
     "evalue": "Failed to convert a NumPy array to a Tensor (Unsupported numpy type: NPY_DATETIME).",
     "output_type": "error",
     "traceback": [
      "\u001b[1;31m---------------------------------------------------------------------------\u001b[0m",
      "\u001b[1;31mValueError\u001b[0m                                Traceback (most recent call last)",
      "\u001b[1;32md:\\OneDrive - Universitetet i Stavanger\\Bachelor\\hopethisworks.ipynb Cell 16'\u001b[0m in \u001b[0;36m<module>\u001b[1;34m\u001b[0m\n\u001b[1;32m----> <a href='vscode-notebook-cell:/d%3A/OneDrive%20-%20Universitetet%20i%20Stavanger/Bachelor/hopethisworks.ipynb#ch0000019?line=0'>1</a>\u001b[0m energy_model\u001b[39m.\u001b[39;49mpredict(energy[:\u001b[39m10\u001b[39;49m])\n",
      "File \u001b[1;32md:\\OneDrive - Universitetet i Stavanger\\Bachelor\\venv\\lib\\site-packages\\keras\\utils\\traceback_utils.py:67\u001b[0m, in \u001b[0;36mfilter_traceback.<locals>.error_handler\u001b[1;34m(*args, **kwargs)\u001b[0m\n\u001b[0;32m     <a href='file:///d%3A/OneDrive%20-%20Universitetet%20i%20Stavanger/Bachelor/venv/lib/site-packages/keras/utils/traceback_utils.py?line=64'>65</a>\u001b[0m \u001b[39mexcept\u001b[39;00m \u001b[39mException\u001b[39;00m \u001b[39mas\u001b[39;00m e:  \u001b[39m# pylint: disable=broad-except\u001b[39;00m\n\u001b[0;32m     <a href='file:///d%3A/OneDrive%20-%20Universitetet%20i%20Stavanger/Bachelor/venv/lib/site-packages/keras/utils/traceback_utils.py?line=65'>66</a>\u001b[0m   filtered_tb \u001b[39m=\u001b[39m _process_traceback_frames(e\u001b[39m.\u001b[39m__traceback__)\n\u001b[1;32m---> <a href='file:///d%3A/OneDrive%20-%20Universitetet%20i%20Stavanger/Bachelor/venv/lib/site-packages/keras/utils/traceback_utils.py?line=66'>67</a>\u001b[0m   \u001b[39mraise\u001b[39;00m e\u001b[39m.\u001b[39mwith_traceback(filtered_tb) \u001b[39mfrom\u001b[39;00m \u001b[39mNone\u001b[39m\n\u001b[0;32m     <a href='file:///d%3A/OneDrive%20-%20Universitetet%20i%20Stavanger/Bachelor/venv/lib/site-packages/keras/utils/traceback_utils.py?line=67'>68</a>\u001b[0m \u001b[39mfinally\u001b[39;00m:\n\u001b[0;32m     <a href='file:///d%3A/OneDrive%20-%20Universitetet%20i%20Stavanger/Bachelor/venv/lib/site-packages/keras/utils/traceback_utils.py?line=68'>69</a>\u001b[0m   \u001b[39mdel\u001b[39;00m filtered_tb\n",
      "File \u001b[1;32md:\\OneDrive - Universitetet i Stavanger\\Bachelor\\venv\\lib\\site-packages\\tensorflow\\python\\framework\\constant_op.py:102\u001b[0m, in \u001b[0;36mconvert_to_eager_tensor\u001b[1;34m(value, ctx, dtype)\u001b[0m\n\u001b[0;32m    <a href='file:///d%3A/OneDrive%20-%20Universitetet%20i%20Stavanger/Bachelor/venv/lib/site-packages/tensorflow/python/framework/constant_op.py?line=99'>100</a>\u001b[0m     dtype \u001b[39m=\u001b[39m dtypes\u001b[39m.\u001b[39mas_dtype(dtype)\u001b[39m.\u001b[39mas_datatype_enum\n\u001b[0;32m    <a href='file:///d%3A/OneDrive%20-%20Universitetet%20i%20Stavanger/Bachelor/venv/lib/site-packages/tensorflow/python/framework/constant_op.py?line=100'>101</a>\u001b[0m ctx\u001b[39m.\u001b[39mensure_initialized()\n\u001b[1;32m--> <a href='file:///d%3A/OneDrive%20-%20Universitetet%20i%20Stavanger/Bachelor/venv/lib/site-packages/tensorflow/python/framework/constant_op.py?line=101'>102</a>\u001b[0m \u001b[39mreturn\u001b[39;00m ops\u001b[39m.\u001b[39;49mEagerTensor(value, ctx\u001b[39m.\u001b[39;49mdevice_name, dtype)\n",
      "\u001b[1;31mValueError\u001b[0m: Failed to convert a NumPy array to a Tensor (Unsupported numpy type: NPY_DATETIME)."
     ]
    }
   ],
   "source": [
    "energy_model.predict(energy[:10])"
   ]
  }
 ],
 "metadata": {
  "interpreter": {
   "hash": "55bc3ce9f9f57c4df1faa89487ee4749dce1b5d904b5bab89e302a644b73527a"
  },
  "kernelspec": {
   "display_name": "Python 3.10.2 ('.venv': venv)",
   "language": "python",
   "name": "python3"
  },
  "language_info": {
   "codemirror_mode": {
    "name": "ipython",
    "version": 3
   },
   "file_extension": ".py",
   "mimetype": "text/x-python",
   "name": "python",
   "nbconvert_exporter": "python",
   "pygments_lexer": "ipython3",
   "version": "3.10.2"
  },
  "orig_nbformat": 4
 },
 "nbformat": 4,
 "nbformat_minor": 2
}
