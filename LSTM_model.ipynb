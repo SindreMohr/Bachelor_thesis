{
 "cells": [
  {
   "cell_type": "code",
   "execution_count": 1,
   "metadata": {},
   "outputs": [],
   "source": [
    "import pandas as pd\n",
    "import numpy as np\n",
    "from datetime import datetime, timedelta\n",
    "import matplotlib.pyplot as plt\n",
    "from pandas.plotting import register_matplotlib_converters\n",
    "register_matplotlib_converters()\n",
    "\n",
    "\n",
    "# Deep learning packages\n",
    "from keras.models import Sequential\n",
    "from keras.layers import LSTM, Dense\n",
    "\n",
    "#enable IPython to display matplolib graphs\n",
    "%matplotlib inline\n"
   ]
  },
  {
   "cell_type": "code",
   "execution_count": 2,
   "metadata": {},
   "outputs": [],
   "source": [
    "df = pd.read_csv('./data/ouput.csv')"
   ]
  },
  {
   "cell_type": "markdown",
   "metadata": {},
   "source": []
  },
  {
   "cell_type": "code",
   "execution_count": 3,
   "metadata": {},
   "outputs": [
    {
     "data": {
      "text/html": [
       "<div>\n",
       "<style scoped>\n",
       "    .dataframe tbody tr th:only-of-type {\n",
       "        vertical-align: middle;\n",
       "    }\n",
       "\n",
       "    .dataframe tbody tr th {\n",
       "        vertical-align: top;\n",
       "    }\n",
       "\n",
       "    .dataframe thead th {\n",
       "        text-align: right;\n",
       "    }\n",
       "</style>\n",
       "<table border=\"1\" class=\"dataframe\">\n",
       "  <thead>\n",
       "    <tr style=\"text-align: right;\">\n",
       "      <th></th>\n",
       "      <th>LCLid</th>\n",
       "      <th>tstp</th>\n",
       "      <th>energy(kWh/hh)</th>\n",
       "    </tr>\n",
       "  </thead>\n",
       "  <tbody>\n",
       "    <tr>\n",
       "      <th>0</th>\n",
       "      <td>MAC000168</td>\n",
       "      <td>2011-11-24 13:30:00</td>\n",
       "      <td>0.054</td>\n",
       "    </tr>\n",
       "    <tr>\n",
       "      <th>1</th>\n",
       "      <td>MAC000168</td>\n",
       "      <td>2011-11-24 14:00:00</td>\n",
       "      <td>0.178</td>\n",
       "    </tr>\n",
       "    <tr>\n",
       "      <th>2</th>\n",
       "      <td>MAC000168</td>\n",
       "      <td>2011-11-24 14:30:00</td>\n",
       "      <td>0.113</td>\n",
       "    </tr>\n",
       "    <tr>\n",
       "      <th>3</th>\n",
       "      <td>MAC000168</td>\n",
       "      <td>2011-11-24 15:00:00</td>\n",
       "      <td>0.068</td>\n",
       "    </tr>\n",
       "    <tr>\n",
       "      <th>4</th>\n",
       "      <td>MAC000168</td>\n",
       "      <td>2011-11-24 15:30:00</td>\n",
       "      <td>0.061</td>\n",
       "    </tr>\n",
       "  </tbody>\n",
       "</table>\n",
       "</div>"
      ],
      "text/plain": [
       "       LCLid                 tstp energy(kWh/hh)\n",
       "0  MAC000168  2011-11-24 13:30:00         0.054 \n",
       "1  MAC000168  2011-11-24 14:00:00         0.178 \n",
       "2  MAC000168  2011-11-24 14:30:00         0.113 \n",
       "3  MAC000168  2011-11-24 15:00:00         0.068 \n",
       "4  MAC000168  2011-11-24 15:30:00         0.061 "
      ]
     },
     "execution_count": 3,
     "metadata": {},
     "output_type": "execute_result"
    }
   ],
   "source": [
    "df.head()"
   ]
  },
  {
   "cell_type": "code",
   "execution_count": 4,
   "metadata": {},
   "outputs": [
    {
     "data": {
      "text/plain": [
       "(396562, 3)"
      ]
     },
     "execution_count": 4,
     "metadata": {},
     "output_type": "execute_result"
    }
   ],
   "source": [
    "df.shape"
   ]
  },
  {
   "cell_type": "code",
   "execution_count": 5,
   "metadata": {},
   "outputs": [
    {
     "data": {
      "text/plain": [
       "4.595"
      ]
     },
     "execution_count": 5,
     "metadata": {},
     "output_type": "execute_result"
    }
   ],
   "source": [
    "df['tstp'] = [datetime.strptime(x, '%Y-%m-%d %H:%M:%S') for x in df['tstp']]\n",
    "#df[\"tstp\"] = pd.to_datetime(df[\"tstp\"])\n",
    "df[\"energy(kWh/hh)\"] = pd.to_numeric(df[\"energy(kWh/hh)\"], downcast=\"float\", errors=\"coerce\")\n",
    "\n",
    "max_value_energy = df[\"energy(kWh/hh)\"].max()\n",
    "max_value_energy\n"
   ]
  },
  {
   "cell_type": "code",
   "execution_count": null,
   "metadata": {},
   "outputs": [],
   "source": []
  },
  {
   "cell_type": "code",
   "execution_count": 6,
   "metadata": {},
   "outputs": [],
   "source": [
    "df['energy(kWh/hh)'] = df['energy(kWh/hh)'].apply(lambda x: x / max_value_energy)"
   ]
  },
  {
   "cell_type": "code",
   "execution_count": 7,
   "metadata": {},
   "outputs": [],
   "source": [
    "# Sorting the values\n",
    "df.sort_values('tstp', inplace=True)"
   ]
  },
  {
   "cell_type": "code",
   "execution_count": 8,
   "metadata": {},
   "outputs": [
    {
     "data": {
      "text/html": [
       "<div>\n",
       "<style scoped>\n",
       "    .dataframe tbody tr th:only-of-type {\n",
       "        vertical-align: middle;\n",
       "    }\n",
       "\n",
       "    .dataframe tbody tr th {\n",
       "        vertical-align: top;\n",
       "    }\n",
       "\n",
       "    .dataframe thead th {\n",
       "        text-align: right;\n",
       "    }\n",
       "</style>\n",
       "<table border=\"1\" class=\"dataframe\">\n",
       "  <thead>\n",
       "    <tr style=\"text-align: right;\">\n",
       "      <th></th>\n",
       "      <th>LCLid</th>\n",
       "      <th>tstp</th>\n",
       "      <th>energy(kWh/hh)</th>\n",
       "    </tr>\n",
       "  </thead>\n",
       "  <tbody>\n",
       "    <tr>\n",
       "      <th>356842</th>\n",
       "      <td>MAC000150</td>\n",
       "      <td>2011-11-23 10:00:00</td>\n",
       "      <td>0.065506</td>\n",
       "    </tr>\n",
       "    <tr>\n",
       "      <th>356843</th>\n",
       "      <td>MAC000150</td>\n",
       "      <td>2011-11-23 10:30:00</td>\n",
       "      <td>0.027639</td>\n",
       "    </tr>\n",
       "    <tr>\n",
       "      <th>356844</th>\n",
       "      <td>MAC000150</td>\n",
       "      <td>2011-11-23 11:00:00</td>\n",
       "      <td>0.043743</td>\n",
       "    </tr>\n",
       "    <tr>\n",
       "      <th>356845</th>\n",
       "      <td>MAC000150</td>\n",
       "      <td>2011-11-23 11:30:00</td>\n",
       "      <td>0.122742</td>\n",
       "    </tr>\n",
       "    <tr>\n",
       "      <th>356846</th>\n",
       "      <td>MAC000150</td>\n",
       "      <td>2011-11-23 12:00:00</td>\n",
       "      <td>0.034603</td>\n",
       "    </tr>\n",
       "  </tbody>\n",
       "</table>\n",
       "</div>"
      ],
      "text/plain": [
       "            LCLid                tstp  energy(kWh/hh)\n",
       "356842  MAC000150 2011-11-23 10:00:00        0.065506\n",
       "356843  MAC000150 2011-11-23 10:30:00        0.027639\n",
       "356844  MAC000150 2011-11-23 11:00:00        0.043743\n",
       "356845  MAC000150 2011-11-23 11:30:00        0.122742\n",
       "356846  MAC000150 2011-11-23 12:00:00        0.034603"
      ]
     },
     "execution_count": 8,
     "metadata": {},
     "output_type": "execute_result"
    }
   ],
   "source": [
    "df.head()"
   ]
  },
  {
   "cell_type": "code",
   "execution_count": 9,
   "metadata": {},
   "outputs": [
    {
     "data": {
      "text/plain": [
       "1.0"
      ]
     },
     "execution_count": 9,
     "metadata": {},
     "output_type": "execute_result"
    }
   ],
   "source": [
    "df['energy(kWh/hh)'].max()"
   ]
  },
  {
   "cell_type": "code",
   "execution_count": 10,
   "metadata": {},
   "outputs": [
    {
     "data": {
      "text/plain": [
       "0.0"
      ]
     },
     "execution_count": 10,
     "metadata": {},
     "output_type": "execute_result"
    }
   ],
   "source": [
    "df['energy(kWh/hh)'].min()"
   ]
  },
  {
   "cell_type": "code",
   "execution_count": 11,
   "metadata": {},
   "outputs": [
    {
     "name": "stdout",
     "output_type": "stream",
     "text": [
      "Model: \"sequential\"\n",
      "_________________________________________________________________\n",
      " Layer (type)                Output Shape              Param #   \n",
      "=================================================================\n",
      " lstm (LSTM)                 (None, 5)                 140       \n",
      "                                                                 \n",
      " dense (Dense)               (None, 1)                 6         \n",
      "                                                                 \n",
      "=================================================================\n",
      "Total params: 146\n",
      "Trainable params: 146\n",
      "Non-trainable params: 0\n",
      "_________________________________________________________________\n"
     ]
    },
    {
     "name": "stderr",
     "output_type": "stream",
     "text": [
      "2022-02-28 10:33:25.669811: I tensorflow/stream_executor/cuda/cuda_gpu_executor.cc:936] successful NUMA node read from SysFS had negative value (-1), but there must be at least one NUMA node, so returning NUMA node zero\n",
      "2022-02-28 10:33:25.670089: W tensorflow/stream_executor/platform/default/dso_loader.cc:64] Could not load dynamic library 'libcudart.so.11.0'; dlerror: libcudart.so.11.0: cannot open shared object file: No such file or directory\n",
      "2022-02-28 10:33:25.670116: W tensorflow/stream_executor/platform/default/dso_loader.cc:64] Could not load dynamic library 'libcublas.so.11'; dlerror: libcublas.so.11: cannot open shared object file: No such file or directory\n",
      "2022-02-28 10:33:25.670140: W tensorflow/stream_executor/platform/default/dso_loader.cc:64] Could not load dynamic library 'libcublasLt.so.11'; dlerror: libcublasLt.so.11: cannot open shared object file: No such file or directory\n",
      "2022-02-28 10:33:25.670162: W tensorflow/stream_executor/platform/default/dso_loader.cc:64] Could not load dynamic library 'libcufft.so.10'; dlerror: libcufft.so.10: cannot open shared object file: No such file or directory\n",
      "2022-02-28 10:33:25.670183: W tensorflow/stream_executor/platform/default/dso_loader.cc:64] Could not load dynamic library 'libcurand.so.10'; dlerror: libcurand.so.10: cannot open shared object file: No such file or directory\n",
      "2022-02-28 10:33:25.670202: W tensorflow/stream_executor/platform/default/dso_loader.cc:64] Could not load dynamic library 'libcusolver.so.11'; dlerror: libcusolver.so.11: cannot open shared object file: No such file or directory\n",
      "2022-02-28 10:33:25.670222: W tensorflow/stream_executor/platform/default/dso_loader.cc:64] Could not load dynamic library 'libcusparse.so.11'; dlerror: libcusparse.so.11: cannot open shared object file: No such file or directory\n",
      "2022-02-28 10:33:25.670244: W tensorflow/stream_executor/platform/default/dso_loader.cc:64] Could not load dynamic library 'libcudnn.so.8'; dlerror: libcudnn.so.8: cannot open shared object file: No such file or directory\n",
      "2022-02-28 10:33:25.670249: W tensorflow/core/common_runtime/gpu/gpu_device.cc:1850] Cannot dlopen some GPU libraries. Please make sure the missing libraries mentioned above are installed properly if you would like to use GPU. Follow the guide at https://www.tensorflow.org/install/gpu for how to download and setup the required libraries for your platform.\n",
      "Skipping registering GPU devices...\n",
      "2022-02-28 10:33:25.670524: I tensorflow/core/platform/cpu_feature_guard.cc:151] This TensorFlow binary is optimized with oneAPI Deep Neural Network Library (oneDNN) to use the following CPU instructions in performance-critical operations:  AVX2 FMA\n",
      "To enable them in other operations, rebuild TensorFlow with the appropriate compiler flags.\n"
     ]
    }
   ],
   "source": [
    "# Deep Learning (LSTM)\n",
    "\n",
    "# Defining the number of neurons in the LSTM layer\n",
    "n_layer = 5\n",
    "\n",
    "# Defining how many lags will be used in the time series\n",
    "n_lag = 3\n",
    "\n",
    "\n",
    "# Defining the model\n",
    "model = Sequential()\n",
    "model.add(LSTM(n_layer, activation='relu', input_shape=(n_lag, 1)))\n",
    "model.add(Dense(1))\n",
    "\n",
    "model.summary()\n",
    "\n",
    "# The objective functions which will be minimized is mean squared error (mse)\n",
    "model.compile(optimizer='adam', loss='mse')"
   ]
  },
  {
   "cell_type": "code",
   "execution_count": 12,
   "metadata": {},
   "outputs": [],
   "source": [
    "from LSTMModel import LSTMModel"
   ]
  },
  {
   "cell_type": "code",
   "execution_count": 13,
   "metadata": {},
   "outputs": [],
   "source": [
    "lclid_list = df['LCLid'].unique()\n",
    "def find_household(identification):\n",
    "    affluenthh_filt = df[\"LCLid\"] == identification\n",
    "    affluent_hh_data = df[affluenthh_filt]\n",
    "    return affluent_hh_data\n",
    "\n",
    "hh = find_household(\"MAC000150\")\n",
    "hh.pop(\"LCLid\")\n",
    "hh = hh.set_index(\"tstp\")\n",
    "hh = hh.resample(\"H\").sum()\n",
    "hh = hh.reset_index()"
   ]
  },
  {
   "cell_type": "code",
   "execution_count": 14,
   "metadata": {},
   "outputs": [
    {
     "data": {
      "text/plain": [
       "numpy.float64"
      ]
     },
     "execution_count": 14,
     "metadata": {},
     "output_type": "execute_result"
    }
   ],
   "source": [
    "#normalizedtstp = (hh[\"tstp\"] - hh[\"tstp\"].mean()) / hh[\"tstp\"].std()\n",
    "#normalizedtstp\n",
    "type(hh.iloc[0][\"energy(kWh/hh)\"])"
   ]
  },
  {
   "cell_type": "code",
   "execution_count": 15,
   "metadata": {},
   "outputs": [],
   "source": [
    "# Initiating the class\n",
    "deep_learner = LSTMModel(\n",
    "data = hh,\n",
    "Y_var = 'energy(kWh/hh)',\n",
    "lag = 24,\n",
    "LSTM_layer_depth = 50,\n",
    "epochs = 10,\n",
    "batch_size = 256,\n",
    "train_test_split = 0.15\n",
    ")\n"
   ]
  },
  {
   "cell_type": "code",
   "execution_count": 16,
   "metadata": {},
   "outputs": [
    {
     "name": "stdout",
     "output_type": "stream",
     "text": [
      "Epoch 1/10\n",
      "66/66 [==============================] - 1s 13ms/step - loss: 0.0087 - val_loss: 0.0080\n",
      "Epoch 2/10\n",
      "66/66 [==============================] - 1s 12ms/step - loss: 0.0069 - val_loss: 0.0075\n",
      "Epoch 3/10\n",
      "66/66 [==============================] - 1s 11ms/step - loss: 0.0064 - val_loss: 0.0070\n",
      "Epoch 4/10\n",
      "66/66 [==============================] - 1s 12ms/step - loss: 0.0061 - val_loss: 0.0065\n",
      "Epoch 5/10\n",
      "66/66 [==============================] - 1s 11ms/step - loss: 0.0057 - val_loss: 0.0058\n",
      "Epoch 6/10\n",
      "66/66 [==============================] - 1s 12ms/step - loss: 0.0054 - val_loss: 0.0055\n",
      "Epoch 7/10\n",
      "66/66 [==============================] - 1s 11ms/step - loss: 0.0053 - val_loss: 0.0054\n",
      "Epoch 8/10\n",
      "66/66 [==============================] - 1s 12ms/step - loss: 0.0053 - val_loss: 0.0054\n",
      "Epoch 9/10\n",
      "66/66 [==============================] - 1s 12ms/step - loss: 0.0053 - val_loss: 0.0054\n",
      "Epoch 10/10\n",
      "66/66 [==============================] - 1s 11ms/step - loss: 0.0052 - val_loss: 0.0053\n"
     ]
    }
   ],
   "source": [
    "# Fitting the model\n",
    "\n",
    "model = deep_learner.LSTModel()"
   ]
  },
  {
   "cell_type": "code",
   "execution_count": 17,
   "metadata": {},
   "outputs": [],
   "source": [
    "# Defining the lag that we used for training of the model \n",
    "lag_model = 24\n",
    "# Getting the last period\n",
    "ts = hh['energy(kWh/hh)'].tail(lag_model).values.tolist()\n",
    "# Creating the X matrix for the model\n",
    "X, _ = deep_learner.create_X_Y(ts, lag=lag_model)\n",
    "# Getting the forecast\n",
    "yhat = model.predict(X)"
   ]
  },
  {
   "cell_type": "code",
   "execution_count": 18,
   "metadata": {},
   "outputs": [
    {
     "data": {
      "image/png": "[encoded data removed]",
      "text/plain": [
       "<Figure size 864x576 with 1 Axes>"
      ]
     },
     "metadata": {
      "needs_background": "light"
     },
     "output_type": "display_data"
    }
   ],
   "source": [
    "yhat = deep_learner.predict()\n",
    "# Constructing the forecast dataframe\n",
    "fc = df.tail(len(yhat)).copy()\n",
    "fc.reset_index(inplace=True)\n",
    "fc['forecast'] = yhat\n",
    "# Ploting the forecasts\n",
    "plt.figure(figsize=(12, 8))\n",
    "for dtype in ['energy(kWh/hh)', 'forecast']:\n",
    "  plt.plot(\n",
    "    'tstp',\n",
    "    dtype,\n",
    "    data=fc,\n",
    "    label=dtype,\n",
    "    alpha=0.8\n",
    "  )\n",
    "plt.legend()\n",
    "plt.grid()"
   ]
  },
  {
   "cell_type": "code",
   "execution_count": 19,
   "metadata": {},
   "outputs": [
    {
     "ename": "NameError",
     "evalue": "name 'DeepModelTS' is not defined",
     "output_type": "error",
     "traceback": [
      "\u001b[0;31m---------------------------------------------------------------------------\u001b[0m",
      "\u001b[0;31mNameError\u001b[0m                                 Traceback (most recent call last)",
      "\u001b[1;32m/home/daniel/Bachelor/Bachelor_thesis/LSTM model.ipynb Cell 21'\u001b[0m in \u001b[0;36m<module>\u001b[0;34m\u001b[0m\n\u001b[1;32m      <a href='vscode-notebook-cell:/home/daniel/Bachelor/Bachelor_thesis/LSTM%20model.ipynb#ch0000021?line=0'>1</a>\u001b[0m \u001b[39m# Forecasting n steps ahead   \u001b[39;00m\n\u001b[1;32m      <a href='vscode-notebook-cell:/home/daniel/Bachelor/Bachelor_thesis/LSTM%20model.ipynb#ch0000021?line=1'>2</a>\u001b[0m \n\u001b[1;32m      <a href='vscode-notebook-cell:/home/daniel/Bachelor/Bachelor_thesis/LSTM%20model.ipynb#ch0000021?line=2'>3</a>\u001b[0m \u001b[39m# Creating the model using full data and forecasting n steps ahead\u001b[39;00m\n\u001b[0;32m----> <a href='vscode-notebook-cell:/home/daniel/Bachelor/Bachelor_thesis/LSTM%20model.ipynb#ch0000021?line=3'>4</a>\u001b[0m deep_learner \u001b[39m=\u001b[39m DeepModelTS(\n\u001b[1;32m      <a href='vscode-notebook-cell:/home/daniel/Bachelor/Bachelor_thesis/LSTM%20model.ipynb#ch0000021?line=4'>5</a>\u001b[0m     data\u001b[39m=\u001b[39mhh, \n\u001b[1;32m      <a href='vscode-notebook-cell:/home/daniel/Bachelor/Bachelor_thesis/LSTM%20model.ipynb#ch0000021?line=5'>6</a>\u001b[0m     Y_var\u001b[39m=\u001b[39m\u001b[39m'\u001b[39m\u001b[39menergy(kWh/hh)\u001b[39m\u001b[39m'\u001b[39m,\n\u001b[1;32m      <a href='vscode-notebook-cell:/home/daniel/Bachelor/Bachelor_thesis/LSTM%20model.ipynb#ch0000021?line=6'>7</a>\u001b[0m     lag\u001b[39m=\u001b[39m\u001b[39m24\u001b[39m,\n\u001b[1;32m      <a href='vscode-notebook-cell:/home/daniel/Bachelor/Bachelor_thesis/LSTM%20model.ipynb#ch0000021?line=7'>8</a>\u001b[0m     LSTM_layer_depth\u001b[39m=\u001b[39m\u001b[39m64\u001b[39m,\n\u001b[1;32m      <a href='vscode-notebook-cell:/home/daniel/Bachelor/Bachelor_thesis/LSTM%20model.ipynb#ch0000021?line=8'>9</a>\u001b[0m     epochs\u001b[39m=\u001b[39m\u001b[39m10\u001b[39m,\n\u001b[1;32m     <a href='vscode-notebook-cell:/home/daniel/Bachelor/Bachelor_thesis/LSTM%20model.ipynb#ch0000021?line=9'>10</a>\u001b[0m     train_test_split\u001b[39m=\u001b[39m\u001b[39m0\u001b[39m \n\u001b[1;32m     <a href='vscode-notebook-cell:/home/daniel/Bachelor/Bachelor_thesis/LSTM%20model.ipynb#ch0000021?line=10'>11</a>\u001b[0m )\n\u001b[1;32m     <a href='vscode-notebook-cell:/home/daniel/Bachelor/Bachelor_thesis/LSTM%20model.ipynb#ch0000021?line=12'>13</a>\u001b[0m \u001b[39m# Fitting the model \u001b[39;00m\n\u001b[1;32m     <a href='vscode-notebook-cell:/home/daniel/Bachelor/Bachelor_thesis/LSTM%20model.ipynb#ch0000021?line=13'>14</a>\u001b[0m deep_learner\u001b[39m.\u001b[39mLSTModel()\n",
      "\u001b[0;31mNameError\u001b[0m: name 'DeepModelTS' is not defined"
     ]
    }
   ],
   "source": [
    "# Forecasting n steps ahead   \n",
    "\n",
    "# Creating the model using full data and forecasting n steps ahead\n",
    "deep_learner = LSTMModel(\n",
    "    data=hh, \n",
    "    Y_var='energy(kWh/hh)',\n",
    "    lag=24,\n",
    "    LSTM_layer_depth=64,\n",
    "    epochs=10,\n",
    "    train_test_split=0 \n",
    ")\n",
    "\n",
    "# Fitting the model \n",
    "deep_learner.LSTModel()\n",
    "\n",
    "# Forecasting n steps ahead\n",
    "n_ahead = 168\n",
    "yhat = deep_learner.predict_n_ahead(n_ahead)\n",
    "yhat = [y[0][0] for y in yhat]\n",
    "\n",
    "# Constructing the forecast dataframe\n",
    "fc = hh.tail(400).copy() \n",
    "fc['type'] = 'original'\n",
    "\n",
    "last_date = max(fc['tstp'])\n",
    "hat_frame = pd.DataFrame({\n",
    "    'tstp': [last_date + timedelta(hours=x + 1) for x in range(n_ahead)], \n",
    "    'energy(kWh/hh)': yhat,\n",
    "    'type': 'forecast'\n",
    "})\n",
    "\n",
    "fc = fc.append(hat_frame)\n",
    "fc.reset_index(inplace=True, drop=True)\n",
    "\n",
    "# Ploting the forecasts \n",
    "plt.figure(figsize=(12, 8))\n",
    "for col_type in ['original', 'forecast']:\n",
    "    plt.plot(\n",
    "        'tstp', \n",
    "        'energy(kWh/hh)', \n",
    "        data=fc[fc['type']==col_type],\n",
    "        label=col_type\n",
    "        )\n",
    "\n",
    "plt.legend()\n",
    "plt.grid()   "
   ]
  },
  {
   "cell_type": "code",
   "execution_count": 20,
   "metadata": {},
   "outputs": [],
   "source": [
    "import math\n",
    "\n",
    "def rmse(y_true, y_pred):\n",
    "\tsquared_error = 0\n",
    "\tn = len(y_true)\n",
    "\t\n",
    "\tfor i in range(n):\n",
    "\t\tsquared_error += (y_true[i] - y_pred[i]) ** 2\n",
    "\troot_mse = math.sqrt(squared_error / n)\n",
    "\treturn root_mse"
   ]
  },
  {
   "cell_type": "code",
   "execution_count": null,
   "metadata": {},
   "outputs": [],
   "source": []
  }
 ],
 "metadata": {
  "interpreter": {
   "hash": "55bc3ce9f9f57c4df1faa89487ee4749dce1b5d904b5bab89e302a644b73527a"
  },
  "kernelspec": {
   "display_name": "Python 3 (ipykernel)",
   "language": "python",
   "name": "python3"
  },
  "language_info": {
   "codemirror_mode": {
    "name": "ipython",
    "version": 3
   },
   "file_extension": ".py",
   "mimetype": "text/x-python",
   "name": "python",
   "nbconvert_exporter": "python",
   "pygments_lexer": "ipython3",
   "version": "3.8.10"
  }
 },
 "nbformat": 4,
 "nbformat_minor": 2
}
