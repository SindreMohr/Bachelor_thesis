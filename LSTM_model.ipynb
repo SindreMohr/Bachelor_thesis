{
 "cells": [
  {
   "cell_type": "code",
   "execution_count": 1,
   "metadata": {},
   "outputs": [
    {
     "name": "stderr",
     "output_type": "stream",
     "text": [
      "2022-02-28 13:53:24.110236: W tensorflow/stream_executor/platform/default/dso_loader.cc:64] Could not load dynamic library 'libcudart.so.11.0'; dlerror: libcudart.so.11.0: cannot open shared object file: No such file or directory\n",
      "2022-02-28 13:53:24.110253: I tensorflow/stream_executor/cuda/cudart_stub.cc:29] Ignore above cudart dlerror if you do not have a GPU set up on your machine.\n"
     ]
    }
   ],
   "source": [
    "import pandas as pd\n",
    "import numpy as np\n",
    "from datetime import datetime, timedelta\n",
    "import matplotlib.pyplot as plt\n",
    "from pandas.plotting import register_matplotlib_converters\n",
    "register_matplotlib_converters()\n",
    "\n",
    "\n",
    "# Deep learning packages\n",
    "from keras.models import Sequential\n",
    "from keras.layers import LSTM, Dense\n",
    "\n",
    "#enable IPython to display matplolib graphs\n",
    "%matplotlib inline\n"
   ]
  },
  {
   "cell_type": "code",
   "execution_count": 2,
   "metadata": {},
   "outputs": [],
   "source": [
    "df = pd.read_csv('./data/ouput.csv')"
   ]
  },
  {
   "cell_type": "markdown",
   "metadata": {},
   "source": []
  },
  {
   "cell_type": "code",
   "execution_count": 3,
   "metadata": {},
   "outputs": [
    {
     "data": {
      "text/html": [
       "<div>\n",
       "<style scoped>\n",
       "    .dataframe tbody tr th:only-of-type {\n",
       "        vertical-align: middle;\n",
       "    }\n",
       "\n",
       "    .dataframe tbody tr th {\n",
       "        vertical-align: top;\n",
       "    }\n",
       "\n",
       "    .dataframe thead th {\n",
       "        text-align: right;\n",
       "    }\n",
       "</style>\n",
       "<table border=\"1\" class=\"dataframe\">\n",
       "  <thead>\n",
       "    <tr style=\"text-align: right;\">\n",
       "      <th></th>\n",
       "      <th>LCLid</th>\n",
       "      <th>tstp</th>\n",
       "      <th>energy(kWh/hh)</th>\n",
       "    </tr>\n",
       "  </thead>\n",
       "  <tbody>\n",
       "    <tr>\n",
       "      <th>0</th>\n",
       "      <td>MAC000168</td>\n",
       "      <td>2011-11-24 13:30:00</td>\n",
       "      <td>0.054</td>\n",
       "    </tr>\n",
       "    <tr>\n",
       "      <th>1</th>\n",
       "      <td>MAC000168</td>\n",
       "      <td>2011-11-24 14:00:00</td>\n",
       "      <td>0.178</td>\n",
       "    </tr>\n",
       "    <tr>\n",
       "      <th>2</th>\n",
       "      <td>MAC000168</td>\n",
       "      <td>2011-11-24 14:30:00</td>\n",
       "      <td>0.113</td>\n",
       "    </tr>\n",
       "    <tr>\n",
       "      <th>3</th>\n",
       "      <td>MAC000168</td>\n",
       "      <td>2011-11-24 15:00:00</td>\n",
       "      <td>0.068</td>\n",
       "    </tr>\n",
       "    <tr>\n",
       "      <th>4</th>\n",
       "      <td>MAC000168</td>\n",
       "      <td>2011-11-24 15:30:00</td>\n",
       "      <td>0.061</td>\n",
       "    </tr>\n",
       "  </tbody>\n",
       "</table>\n",
       "</div>"
      ],
      "text/plain": [
       "       LCLid                 tstp energy(kWh/hh)\n",
       "0  MAC000168  2011-11-24 13:30:00         0.054 \n",
       "1  MAC000168  2011-11-24 14:00:00         0.178 \n",
       "2  MAC000168  2011-11-24 14:30:00         0.113 \n",
       "3  MAC000168  2011-11-24 15:00:00         0.068 \n",
       "4  MAC000168  2011-11-24 15:30:00         0.061 "
      ]
     },
     "execution_count": 3,
     "metadata": {},
     "output_type": "execute_result"
    }
   ],
   "source": [
    "df.head()"
   ]
  },
  {
   "cell_type": "code",
   "execution_count": 4,
   "metadata": {},
   "outputs": [
    {
     "data": {
      "text/plain": [
       "(396562, 3)"
      ]
     },
     "execution_count": 4,
     "metadata": {},
     "output_type": "execute_result"
    }
   ],
   "source": [
    "df.shape"
   ]
  },
  {
   "cell_type": "code",
   "execution_count": 5,
   "metadata": {},
   "outputs": [
    {
     "data": {
      "text/plain": [
       "4.595"
      ]
     },
     "execution_count": 5,
     "metadata": {},
     "output_type": "execute_result"
    }
   ],
   "source": [
    "df['tstp'] = [datetime.strptime(x, '%Y-%m-%d %H:%M:%S') for x in df['tstp']]\n",
    "#df[\"tstp\"] = pd.to_datetime(df[\"tstp\"])\n",
    "df[\"energy(kWh/hh)\"] = pd.to_numeric(df[\"energy(kWh/hh)\"], downcast=\"float\", errors=\"coerce\")\n",
    "\n",
    "max_value_energy = df[\"energy(kWh/hh)\"].max()\n",
    "max_value_energy\n"
   ]
  },
  {
   "cell_type": "code",
   "execution_count": null,
   "metadata": {},
   "outputs": [],
   "source": []
  },
  {
   "cell_type": "code",
   "execution_count": 6,
   "metadata": {},
   "outputs": [],
   "source": [
    "df['energy(kWh/hh)'] = df['energy(kWh/hh)'].apply(lambda x: x / max_value_energy)"
   ]
  },
  {
   "cell_type": "code",
   "execution_count": 7,
   "metadata": {},
   "outputs": [],
   "source": [
    "# Sorting the values\n",
    "df.sort_values('tstp', inplace=True)"
   ]
  },
  {
   "cell_type": "code",
   "execution_count": 8,
   "metadata": {},
   "outputs": [
    {
     "data": {
      "text/html": [
       "<div>\n",
       "<style scoped>\n",
       "    .dataframe tbody tr th:only-of-type {\n",
       "        vertical-align: middle;\n",
       "    }\n",
       "\n",
       "    .dataframe tbody tr th {\n",
       "        vertical-align: top;\n",
       "    }\n",
       "\n",
       "    .dataframe thead th {\n",
       "        text-align: right;\n",
       "    }\n",
       "</style>\n",
       "<table border=\"1\" class=\"dataframe\">\n",
       "  <thead>\n",
       "    <tr style=\"text-align: right;\">\n",
       "      <th></th>\n",
       "      <th>LCLid</th>\n",
       "      <th>tstp</th>\n",
       "      <th>energy(kWh/hh)</th>\n",
       "    </tr>\n",
       "  </thead>\n",
       "  <tbody>\n",
       "    <tr>\n",
       "      <th>356842</th>\n",
       "      <td>MAC000150</td>\n",
       "      <td>2011-11-23 10:00:00</td>\n",
       "      <td>0.065506</td>\n",
       "    </tr>\n",
       "    <tr>\n",
       "      <th>356843</th>\n",
       "      <td>MAC000150</td>\n",
       "      <td>2011-11-23 10:30:00</td>\n",
       "      <td>0.027639</td>\n",
       "    </tr>\n",
       "    <tr>\n",
       "      <th>356844</th>\n",
       "      <td>MAC000150</td>\n",
       "      <td>2011-11-23 11:00:00</td>\n",
       "      <td>0.043743</td>\n",
       "    </tr>\n",
       "    <tr>\n",
       "      <th>356845</th>\n",
       "      <td>MAC000150</td>\n",
       "      <td>2011-11-23 11:30:00</td>\n",
       "      <td>0.122742</td>\n",
       "    </tr>\n",
       "    <tr>\n",
       "      <th>356846</th>\n",
       "      <td>MAC000150</td>\n",
       "      <td>2011-11-23 12:00:00</td>\n",
       "      <td>0.034603</td>\n",
       "    </tr>\n",
       "  </tbody>\n",
       "</table>\n",
       "</div>"
      ],
      "text/plain": [
       "            LCLid                tstp  energy(kWh/hh)\n",
       "356842  MAC000150 2011-11-23 10:00:00        0.065506\n",
       "356843  MAC000150 2011-11-23 10:30:00        0.027639\n",
       "356844  MAC000150 2011-11-23 11:00:00        0.043743\n",
       "356845  MAC000150 2011-11-23 11:30:00        0.122742\n",
       "356846  MAC000150 2011-11-23 12:00:00        0.034603"
      ]
     },
     "execution_count": 8,
     "metadata": {},
     "output_type": "execute_result"
    }
   ],
   "source": [
    "df.head()"
   ]
  },
  {
   "cell_type": "code",
   "execution_count": 9,
   "metadata": {},
   "outputs": [
    {
     "data": {
      "text/plain": [
       "1.0"
      ]
     },
     "execution_count": 9,
     "metadata": {},
     "output_type": "execute_result"
    }
   ],
   "source": [
    "df['energy(kWh/hh)'].max()"
   ]
  },
  {
   "cell_type": "code",
   "execution_count": 10,
   "metadata": {},
   "outputs": [
    {
     "data": {
      "text/plain": [
       "0.0"
      ]
     },
     "execution_count": 10,
     "metadata": {},
     "output_type": "execute_result"
    }
   ],
   "source": [
    "df['energy(kWh/hh)'].min()"
   ]
  },
  {
   "cell_type": "code",
   "execution_count": 11,
   "metadata": {},
   "outputs": [
    {
     "name": "stdout",
     "output_type": "stream",
     "text": [
      "Model: \"sequential\"\n",
      "_________________________________________________________________\n",
      " Layer (type)                Output Shape              Param #   \n",
      "=================================================================\n",
      " lstm (LSTM)                 (None, 5)                 140       \n",
      "                                                                 \n",
      " dense (Dense)               (None, 1)                 6         \n",
      "                                                                 \n",
      "=================================================================\n",
      "Total params: 146\n",
      "Trainable params: 146\n",
      "Non-trainable params: 0\n",
      "_________________________________________________________________\n"
     ]
    },
    {
     "name": "stderr",
     "output_type": "stream",
     "text": [
      "2022-02-28 13:53:27.423214: I tensorflow/stream_executor/cuda/cuda_gpu_executor.cc:936] successful NUMA node read from SysFS had negative value (-1), but there must be at least one NUMA node, so returning NUMA node zero\n",
      "2022-02-28 13:53:27.423664: W tensorflow/stream_executor/platform/default/dso_loader.cc:64] Could not load dynamic library 'libcudart.so.11.0'; dlerror: libcudart.so.11.0: cannot open shared object file: No such file or directory\n",
      "2022-02-28 13:53:27.423712: W tensorflow/stream_executor/platform/default/dso_loader.cc:64] Could not load dynamic library 'libcublas.so.11'; dlerror: libcublas.so.11: cannot open shared object file: No such file or directory\n",
      "2022-02-28 13:53:27.423753: W tensorflow/stream_executor/platform/default/dso_loader.cc:64] Could not load dynamic library 'libcublasLt.so.11'; dlerror: libcublasLt.so.11: cannot open shared object file: No such file or directory\n",
      "2022-02-28 13:53:27.423792: W tensorflow/stream_executor/platform/default/dso_loader.cc:64] Could not load dynamic library 'libcufft.so.10'; dlerror: libcufft.so.10: cannot open shared object file: No such file or directory\n",
      "2022-02-28 13:53:27.423830: W tensorflow/stream_executor/platform/default/dso_loader.cc:64] Could not load dynamic library 'libcurand.so.10'; dlerror: libcurand.so.10: cannot open shared object file: No such file or directory\n",
      "2022-02-28 13:53:27.423867: W tensorflow/stream_executor/platform/default/dso_loader.cc:64] Could not load dynamic library 'libcusolver.so.11'; dlerror: libcusolver.so.11: cannot open shared object file: No such file or directory\n",
      "2022-02-28 13:53:27.423903: W tensorflow/stream_executor/platform/default/dso_loader.cc:64] Could not load dynamic library 'libcusparse.so.11'; dlerror: libcusparse.so.11: cannot open shared object file: No such file or directory\n",
      "2022-02-28 13:53:27.423940: W tensorflow/stream_executor/platform/default/dso_loader.cc:64] Could not load dynamic library 'libcudnn.so.8'; dlerror: libcudnn.so.8: cannot open shared object file: No such file or directory\n",
      "2022-02-28 13:53:27.423948: W tensorflow/core/common_runtime/gpu/gpu_device.cc:1850] Cannot dlopen some GPU libraries. Please make sure the missing libraries mentioned above are installed properly if you would like to use GPU. Follow the guide at https://www.tensorflow.org/install/gpu for how to download and setup the required libraries for your platform.\n",
      "Skipping registering GPU devices...\n",
      "2022-02-28 13:53:27.424290: I tensorflow/core/platform/cpu_feature_guard.cc:151] This TensorFlow binary is optimized with oneAPI Deep Neural Network Library (oneDNN) to use the following CPU instructions in performance-critical operations:  AVX2 FMA\n",
      "To enable them in other operations, rebuild TensorFlow with the appropriate compiler flags.\n"
     ]
    }
   ],
   "source": [
    "# Deep Learning (LSTM)\n",
    "\n",
    "# Defining the number of neurons in the LSTM layer\n",
    "n_layer = 5\n",
    "\n",
    "# Defining how many lags will be used in the time series\n",
    "n_lag = 3\n",
    "\n",
    "\n",
    "# Defining the model\n",
    "model = Sequential()\n",
    "model.add(LSTM(n_layer, activation='relu', input_shape=(n_lag, 1)))\n",
    "model.add(Dense(1))\n",
    "\n",
    "model.summary()\n",
    "\n",
    "# The objective functions which will be minimized is mean squared error (mse)\n",
    "model.compile(optimizer='adam', loss='mse')"
   ]
  },
  {
   "cell_type": "code",
   "execution_count": 12,
   "metadata": {},
   "outputs": [],
   "source": [
    "from LSTMModel import LSTMModel"
   ]
  },
  {
   "cell_type": "code",
   "execution_count": 13,
   "metadata": {},
   "outputs": [],
   "source": [
    "lclid_list = df['LCLid'].unique()\n",
    "def find_household(identification):\n",
    "    affluenthh_filt = df[\"LCLid\"] == identification\n",
    "    affluent_hh_data = df[affluenthh_filt]\n",
    "    return affluent_hh_data\n",
    "\n",
    "hh = find_household(\"MAC000150\")\n",
    "hh.pop(\"LCLid\")\n",
    "hh = hh.set_index(\"tstp\")\n",
    "hh = hh.resample(\"H\").sum()\n",
    "hh = hh.reset_index()"
   ]
  },
  {
   "cell_type": "code",
   "execution_count": 14,
   "metadata": {},
   "outputs": [
    {
     "data": {
      "text/plain": [
       "numpy.float64"
      ]
     },
     "execution_count": 14,
     "metadata": {},
     "output_type": "execute_result"
    }
   ],
   "source": [
    "#normalizedtstp = (hh[\"tstp\"] - hh[\"tstp\"].mean()) / hh[\"tstp\"].std()\n",
    "#normalizedtstp\n",
    "type(hh.iloc[0][\"energy(kWh/hh)\"])"
   ]
  },
  {
   "cell_type": "code",
   "execution_count": 15,
   "metadata": {},
   "outputs": [],
   "source": [
    "# Initiating the class\n",
    "deep_learner = LSTMModel(\n",
    "data = hh,\n",
    "Y_var = 'energy(kWh/hh)',\n",
    "lag = 24,\n",
    "LSTM_layer_depth = 50,\n",
    "epochs = 10,\n",
    "batch_size = 256,\n",
    "train_test_split = 0.15\n",
    ")\n"
   ]
  },
  {
   "cell_type": "code",
   "execution_count": 16,
   "metadata": {},
   "outputs": [
    {
     "name": "stdout",
     "output_type": "stream",
     "text": [
      "Epoch 1/10\n",
      "66/66 [==============================] - 1s 13ms/step - loss: 0.0081 - val_loss: 0.0074\n",
      "Epoch 2/10\n",
      "66/66 [==============================] - 1s 11ms/step - loss: 0.0063 - val_loss: 0.0063\n",
      "Epoch 3/10\n",
      "66/66 [==============================] - 1s 11ms/step - loss: 0.0054 - val_loss: 0.0056\n",
      "Epoch 4/10\n",
      "66/66 [==============================] - 1s 11ms/step - loss: 0.0052 - val_loss: 0.0053\n",
      "Epoch 5/10\n",
      "66/66 [==============================] - 1s 11ms/step - loss: 0.0052 - val_loss: 0.0053\n",
      "Epoch 6/10\n",
      "66/66 [==============================] - 1s 11ms/step - loss: 0.0051 - val_loss: 0.0052\n",
      "Epoch 7/10\n",
      "66/66 [==============================] - 1s 11ms/step - loss: 0.0051 - val_loss: 0.0051\n",
      "Epoch 8/10\n",
      "66/66 [==============================] - 1s 11ms/step - loss: 0.0051 - val_loss: 0.0051\n",
      "Epoch 9/10\n",
      "66/66 [==============================] - 1s 11ms/step - loss: 0.0051 - val_loss: 0.0051\n",
      "Epoch 10/10\n",
      "66/66 [==============================] - 1s 11ms/step - loss: 0.0051 - val_loss: 0.0050\n"
     ]
    }
   ],
   "source": [
    "# Fitting the model\n",
    "\n",
    "model = deep_learner.LSTModel()"
   ]
  },
  {
   "cell_type": "code",
   "execution_count": 17,
   "metadata": {},
   "outputs": [
    {
     "data": {
      "text/plain": [
       "array([[0.04185815]], dtype=float32)"
      ]
     },
     "execution_count": 17,
     "metadata": {},
     "output_type": "execute_result"
    }
   ],
   "source": [
    "# Defining the lag that we used for training of the model \n",
    "lag_model = 24\n",
    "# Getting the last period\n",
    "ts = hh['energy(kWh/hh)'].tail(lag_model).values.tolist()\n",
    "# Creating the X matrix for the model\n",
    "X, _ = deep_learner.create_X_Y(ts, lag=lag_model)\n",
    "# Getting the forecast\n",
    "yhat = model.predict(X)\n",
    "yhat"
   ]
  },
  {
   "cell_type": "code",
   "execution_count": 18,
   "metadata": {},
   "outputs": [
    {
     "data": {
      "image/png": "[encoded data removed]",
      "text/plain": [
       "<Figure size 864x576 with 1 Axes>"
      ]
     },
     "metadata": {
      "needs_background": "light"
     },
     "output_type": "display_data"
    }
   ],
   "source": [
    "yhat = deep_learner.predict()\n",
    "# Constructing the forecast dataframe\n",
    "fc = df.tail(len(yhat)).copy()\n",
    "fc.reset_index(inplace=True)\n",
    "fc['forecast'] = yhat\n",
    "# Ploting the forecasts\n",
    "plt.figure(figsize=(12, 8))\n",
    "for dtype in ['energy(kWh/hh)', 'forecast']:\n",
    "  plt.plot(\n",
    "    'tstp',\n",
    "    dtype,\n",
    "    data=fc,\n",
    "    label=dtype,\n",
    "    alpha=0.8\n",
    "  )\n",
    "plt.legend()\n",
    "plt.grid()"
   ]
  },
  {
   "cell_type": "code",
   "execution_count": 19,
   "metadata": {},
   "outputs": [
    {
     "name": "stdout",
     "output_type": "stream",
     "text": [
      "[[0.04185815]]\n",
      "[[0.03978482]]\n",
      "[[0.03849161]]\n",
      "[[0.03991503]]\n",
      "[[0.04373412]]\n",
      "[[0.04926375]]\n",
      "[[0.05574811]]\n",
      "[[0.06276181]]\n",
      "[[0.07005823]]\n",
      "[[0.07764145]]\n",
      "[[0.08545647]]\n",
      "[[0.09306695]]\n",
      "[[0.10071409]]\n",
      "[[0.10656104]]\n",
      "[[0.11256517]]\n",
      "[[0.11838118]]\n",
      "[[0.11712389]]\n",
      "[[0.11545024]]\n",
      "[[0.10764205]]\n",
      "[[0.10189591]]\n",
      "[[0.09806312]]\n",
      "[[0.09196412]]\n",
      "[[0.08587322]]\n",
      "[[0.08165003]]\n",
      "[[0.07869958]]\n",
      "[[0.07663549]]\n",
      "[[0.07545532]]\n",
      "[[0.07508474]]\n",
      "[[0.07538472]]\n",
      "[[0.07620789]]\n",
      "[[0.07743022]]\n",
      "[[0.07891067]]\n",
      "[[0.08052896]]\n",
      "[[0.08217841]]\n",
      "[[0.08375957]]\n",
      "[[0.08517066]]\n",
      "[[0.08634315]]\n",
      "[[0.08722585]]\n",
      "[[0.08781146]]\n",
      "[[0.08806232]]\n",
      "[[0.08796093]]\n",
      "[[0.08757389]]\n",
      "[[0.08694762]]\n",
      "[[0.0862224]]\n",
      "[[0.08545272]]\n",
      "[[0.08466451]]\n",
      "[[0.08392989]]\n",
      "[[0.08330967]]\n",
      "[[0.08282607]]\n",
      "[[0.08248269]]\n",
      "[[0.08227767]]\n",
      "[[0.08220057]]\n",
      "[[0.08223601]]\n",
      "[[0.08236467]]\n",
      "[[0.08256261]]\n",
      "[[0.08280521]]\n",
      "[[0.08306922]]\n",
      "[[0.08333355]]\n",
      "[[0.08358115]]\n",
      "[[0.0838005]]\n",
      "[[0.08397878]]\n",
      "[[0.08410913]]\n",
      "[[0.08418887]]\n",
      "[[0.08421878]]\n",
      "[[0.084203]]\n",
      "[[0.08414871]]\n",
      "[[0.08406502]]\n",
      "[[0.08396236]]\n",
      "[[0.08385032]]\n",
      "[[0.08373775]]\n",
      "[[0.08363254]]\n",
      "[[0.08354148]]\n",
      "[[0.08346962]]\n",
      "[[0.08341809]]\n",
      "[[0.08338716]]\n",
      "[[0.08337561]]\n",
      "[[0.08338121]]\n",
      "[[0.08340089]]\n",
      "[[0.08343111]]\n",
      "[[0.08346808]]\n",
      "[[0.08350822]]\n",
      "[[0.08354835]]\n",
      "[[0.08358604]]\n",
      "[[0.08361924]]\n",
      "[[0.08364613]]\n",
      "[[0.08366568]]\n",
      "[[0.08367758]]\n",
      "[[0.08368207]]\n",
      "[[0.08367984]]\n",
      "[[0.08367197]]\n",
      "[[0.0836598]]\n",
      "[[0.08364479]]\n",
      "[[0.08362844]]\n",
      "[[0.08361191]]\n",
      "[[0.08359645]]\n",
      "[[0.08358297]]\n",
      "[[0.08357209]]\n",
      "[[0.08356432]]\n",
      "[[0.08355962]]\n",
      "[[0.08355784]]\n",
      "[[0.08355861]]\n",
      "[[0.0835615]]\n",
      "[[0.083566]]\n",
      "[[0.08357154]]\n",
      "[[0.08357766]]\n",
      "[[0.08358385]]\n",
      "[[0.08358964]]\n",
      "[[0.08359479]]\n",
      "[[0.08359894]]\n",
      "[[0.08360191]]\n",
      "[[0.08360377]]\n",
      "[[0.08360452]]\n",
      "[[0.08360423]]\n",
      "[[0.08360309]]\n",
      "[[0.08360127]]\n",
      "[[0.08359904]]\n",
      "[[0.08359662]]\n",
      "[[0.08359413]]\n",
      "[[0.08359178]]\n",
      "[[0.08358974]]\n",
      "[[0.08358812]]\n",
      "[[0.08358692]]\n",
      "[[0.08358619]]\n",
      "[[0.08358587]]\n",
      "[[0.08358599]]\n",
      "[[0.08358642]]\n",
      "[[0.08358708]]\n",
      "[[0.08358797]]\n",
      "[[0.08358887]]\n",
      "[[0.0835898]]\n",
      "[[0.08359074]]\n",
      "[[0.08359152]]\n",
      "[[0.08359216]]\n",
      "[[0.08359262]]\n",
      "[[0.08359292]]\n",
      "[[0.08359303]]\n",
      "[[0.08359299]]\n",
      "[[0.08359283]]\n",
      "[[0.08359252]]\n",
      "[[0.08359219]]\n",
      "[[0.08359184]]\n",
      "[[0.08359148]]\n",
      "[[0.08359113]]\n",
      "[[0.08359084]]\n",
      "[[0.08359058]]\n",
      "[[0.08359041]]\n",
      "[[0.08359031]]\n",
      "[[0.08359027]]\n",
      "[[0.08359025]]\n",
      "[[0.08359034]]\n",
      "[[0.08359044]]\n",
      "[[0.08359057]]\n",
      "[[0.08359069]]\n",
      "[[0.08359087]]\n",
      "[[0.08359098]]\n",
      "[[0.08359108]]\n",
      "[[0.08359119]]\n",
      "[[0.08359126]]\n",
      "[[0.08359129]]\n",
      "[[0.08359133]]\n",
      "[[0.08359132]]\n",
      "[[0.08359128]]\n",
      "[[0.08359125]]\n",
      "[[0.08359122]]\n",
      "[[0.08359121]]\n",
      "[[0.08359114]]\n",
      "[[0.08359109]]\n",
      "[[0.08359102]]\n"
     ]
    },
    {
     "name": "stderr",
     "output_type": "stream",
     "text": [
      "/tmp/ipykernel_76716/1181257990.py:17: FutureWarning: The frame.append method is deprecated and will be removed from pandas in a future version. Use pandas.concat instead.\n",
      "  fc = fc.append(hat_frame)\n"
     ]
    },
    {
     "data": {
      "image/png": "[encoded data removed]",
      "text/plain": [
       "<Figure size 864x576 with 1 Axes>"
      ]
     },
     "metadata": {
      "needs_background": "light"
     },
     "output_type": "display_data"
    }
   ],
   "source": [
    "\n",
    "\n",
    "# Forecasting n steps ahead\n",
    "n_ahead = 168\n",
    "yhat = deep_learner.predict_n_ahead(n_ahead)\n",
    "yhat = [y[0][0] for y in yhat]\n",
    "\n",
    "# Constructing the forecast dataframe\n",
    "fc = hh.tail(400).copy() \n",
    "fc['type'] = 'original'\n",
    "\n",
    "last_date = max(fc['tstp'])\n",
    "hat_frame = pd.DataFrame({\n",
    "    'tstp': [last_date + timedelta(hours=x + 1) for x in range(n_ahead)], \n",
    "    'energy(kWh/hh)': yhat,\n",
    "    'type': 'forecast'\n",
    "})\n",
    "\n",
    "fc = fc.append(hat_frame)\n",
    "fc.reset_index(inplace=True, drop=True)\n",
    "\n",
    "# Ploting the forecasts \n",
    "plt.figure(figsize=(12, 8))\n",
    "for col_type in ['original', 'forecast']:\n",
    "    plt.plot(\n",
    "        'tstp', \n",
    "        'energy(kWh/hh)', \n",
    "        data=fc[fc['type']==col_type],\n",
    "        label=col_type\n",
    "        )\n",
    "\n",
    "plt.legend()\n",
    "plt.grid()   "
   ]
  },
  {
   "cell_type": "code",
   "execution_count": 20,
   "metadata": {},
   "outputs": [],
   "source": [
    "import math\n",
    "\n",
    "def rmse(y_true, y_pred):\n",
    "\tsquared_error = 0\n",
    "\tn = len(y_true)\n",
    "\t\n",
    "\tfor i in range(n):\n",
    "\t\tsquared_error += (y_true[i] - y_pred[i]) ** 2\n",
    "\troot_mse = math.sqrt(squared_error / n)\n",
    "\treturn root_mse"
   ]
  },
  {
   "cell_type": "code",
   "execution_count": 21,
   "metadata": {},
   "outputs": [
    {
     "data": {
      "text/plain": [
       "0.0050465290270265955"
      ]
     },
     "execution_count": 21,
     "metadata": {},
     "output_type": "execute_result"
    }
   ],
   "source": [
    "f =deep_learner.evaluateMSE()\n",
    "f"
   ]
  },
  {
   "cell_type": "code",
   "execution_count": 22,
   "metadata": {},
   "outputs": [
    {
     "data": {
      "text/plain": [
       "0.07103892613931179"
      ]
     },
     "execution_count": 22,
     "metadata": {},
     "output_type": "execute_result"
    }
   ],
   "source": [
    "import math\n",
    "math.sqrt(f)"
   ]
  },
  {
   "cell_type": "code",
   "execution_count": 23,
   "metadata": {},
   "outputs": [],
   "source": [
    "#deep_learner.save_lstm_model()"
   ]
  },
  {
   "cell_type": "code",
   "execution_count": null,
   "metadata": {},
   "outputs": [],
   "source": [
    "deep_learner.evaluateMSE()"
   ]
  },
  {
   "cell_type": "code",
   "execution_count": null,
   "metadata": {},
   "outputs": [],
   "source": [
    "deep_learner.evaluateRMSE()"
   ]
  },
  {
   "cell_type": "code",
   "execution_count": null,
   "metadata": {},
   "outputs": [],
   "source": [
    "deep_learner.evaluateMAE()"
   ]
  },
  {
   "cell_type": "code",
   "execution_count": null,
   "metadata": {},
   "outputs": [],
   "source": [
    "deep_learner.evaluateMAPE()"
   ]
  }
 ],
 "metadata": {
  "interpreter": {
   "hash": "55bc3ce9f9f57c4df1faa89487ee4749dce1b5d904b5bab89e302a644b73527a"
  },
  "kernelspec": {
   "display_name": "Python 3 (ipykernel)",
   "language": "python",
   "name": "python3"
  },
  "language_info": {
   "codemirror_mode": {
    "name": "ipython",
    "version": 3
   },
   "file_extension": ".py",
   "mimetype": "text/x-python",
   "name": "python",
   "nbconvert_exporter": "python",
   "pygments_lexer": "ipython3",
   "version": "3.8.10"
  }
 },
 "nbformat": 4,
 "nbformat_minor": 2
}
