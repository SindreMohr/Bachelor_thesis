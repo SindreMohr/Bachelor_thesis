{
 "cells": [
  {
   "cell_type": "code",
   "execution_count": 1,
   "metadata": {},
   "outputs": [
    {
     "name": "stderr",
     "output_type": "stream",
     "text": [
      "2022-03-23 16:12:30.337122: W tensorflow/stream_executor/platform/default/dso_loader.cc:64] Could not load dynamic library 'libcudart.so.11.0'; dlerror: libcudart.so.11.0: cannot open shared object file: No such file or directory\n",
      "2022-03-23 16:12:30.337140: I tensorflow/stream_executor/cuda/cudart_stub.cc:29] Ignore above cudart dlerror if you do not have a GPU set up on your machine.\n"
     ]
    }
   ],
   "source": [
    "import pandas as pd\n",
    "import numpy as np\n",
    "from datetime import datetime, timedelta\n",
    "import matplotlib.pyplot as plt\n",
    "from pandas.plotting import register_matplotlib_converters\n",
    "register_matplotlib_converters()\n",
    "\n",
    "\n",
    "# Deep learning packages\n",
    "from keras.models import Sequential\n",
    "from keras.layers import LSTM, Dense\n",
    "\n",
    "#enable IPython to display matplolib graphs\n",
    "%matplotlib inline\n"
   ]
  },
  {
   "cell_type": "code",
   "execution_count": 2,
   "metadata": {},
   "outputs": [],
   "source": [
    "df = pd.read_csv('./data/ouput.csv')"
   ]
  },
  {
   "cell_type": "markdown",
   "metadata": {},
   "source": []
  },
  {
   "cell_type": "code",
   "execution_count": 3,
   "metadata": {},
   "outputs": [
    {
     "data": {
      "text/html": [
       "<div>\n",
       "<style scoped>\n",
       "    .dataframe tbody tr th:only-of-type {\n",
       "        vertical-align: middle;\n",
       "    }\n",
       "\n",
       "    .dataframe tbody tr th {\n",
       "        vertical-align: top;\n",
       "    }\n",
       "\n",
       "    .dataframe thead th {\n",
       "        text-align: right;\n",
       "    }\n",
       "</style>\n",
       "<table border=\"1\" class=\"dataframe\">\n",
       "  <thead>\n",
       "    <tr style=\"text-align: right;\">\n",
       "      <th></th>\n",
       "      <th>LCLid</th>\n",
       "      <th>tstp</th>\n",
       "      <th>energy(kWh/hh)</th>\n",
       "    </tr>\n",
       "  </thead>\n",
       "  <tbody>\n",
       "    <tr>\n",
       "      <th>0</th>\n",
       "      <td>MAC000168</td>\n",
       "      <td>2011-11-24 13:30:00</td>\n",
       "      <td>0.054</td>\n",
       "    </tr>\n",
       "    <tr>\n",
       "      <th>1</th>\n",
       "      <td>MAC000168</td>\n",
       "      <td>2011-11-24 14:00:00</td>\n",
       "      <td>0.178</td>\n",
       "    </tr>\n",
       "    <tr>\n",
       "      <th>2</th>\n",
       "      <td>MAC000168</td>\n",
       "      <td>2011-11-24 14:30:00</td>\n",
       "      <td>0.113</td>\n",
       "    </tr>\n",
       "    <tr>\n",
       "      <th>3</th>\n",
       "      <td>MAC000168</td>\n",
       "      <td>2011-11-24 15:00:00</td>\n",
       "      <td>0.068</td>\n",
       "    </tr>\n",
       "    <tr>\n",
       "      <th>4</th>\n",
       "      <td>MAC000168</td>\n",
       "      <td>2011-11-24 15:30:00</td>\n",
       "      <td>0.061</td>\n",
       "    </tr>\n",
       "  </tbody>\n",
       "</table>\n",
       "</div>"
      ],
      "text/plain": [
       "       LCLid                 tstp  energy(kWh/hh)\n",
       "0  MAC000168  2011-11-24 13:30:00           0.054\n",
       "1  MAC000168  2011-11-24 14:00:00           0.178\n",
       "2  MAC000168  2011-11-24 14:30:00           0.113\n",
       "3  MAC000168  2011-11-24 15:00:00           0.068\n",
       "4  MAC000168  2011-11-24 15:30:00           0.061"
      ]
     },
     "execution_count": 3,
     "metadata": {},
     "output_type": "execute_result"
    }
   ],
   "source": [
    "df.head()"
   ]
  },
  {
   "cell_type": "code",
   "execution_count": 4,
   "metadata": {},
   "outputs": [
    {
     "data": {
      "text/plain": [
       "(396552, 3)"
      ]
     },
     "execution_count": 4,
     "metadata": {},
     "output_type": "execute_result"
    }
   ],
   "source": [
    "df.shape"
   ]
  },
  {
   "cell_type": "code",
   "execution_count": 5,
   "metadata": {},
   "outputs": [
    {
     "data": {
      "text/plain": [
       "4.595"
      ]
     },
     "execution_count": 5,
     "metadata": {},
     "output_type": "execute_result"
    }
   ],
   "source": [
    "df['tstp'] = [datetime.strptime(x, '%Y-%m-%d %H:%M:%S') for x in df['tstp']]\n",
    "df[\"tstp\"] = pd.to_datetime(df[\"tstp\"])\n",
    "df[\"energy(kWh/hh)\"] = pd.to_numeric(df[\"energy(kWh/hh)\"], downcast=\"float\", errors=\"coerce\")\n",
    "\n",
    "max_value_energy = df[\"energy(kWh/hh)\"].max()\n",
    "max_value_energy\n"
   ]
  },
  {
   "cell_type": "code",
   "execution_count": null,
   "metadata": {},
   "outputs": [],
   "source": []
  },
  {
   "cell_type": "code",
   "execution_count": 6,
   "metadata": {},
   "outputs": [],
   "source": [
    "#max value for hh doesnt compare with hourly\n",
    "#df['energy(kWh/hh)'] = df['energy(kWh/hh)'].apply(lambda x: x / max_value_energy)"
   ]
  },
  {
   "cell_type": "code",
   "execution_count": 7,
   "metadata": {},
   "outputs": [],
   "source": [
    "# Sorting the values\n",
    "#df.sort_values('tstp', inplace=True)"
   ]
  },
  {
   "cell_type": "code",
   "execution_count": 8,
   "metadata": {},
   "outputs": [
    {
     "data": {
      "text/html": [
       "<div>\n",
       "<style scoped>\n",
       "    .dataframe tbody tr th:only-of-type {\n",
       "        vertical-align: middle;\n",
       "    }\n",
       "\n",
       "    .dataframe tbody tr th {\n",
       "        vertical-align: top;\n",
       "    }\n",
       "\n",
       "    .dataframe thead th {\n",
       "        text-align: right;\n",
       "    }\n",
       "</style>\n",
       "<table border=\"1\" class=\"dataframe\">\n",
       "  <thead>\n",
       "    <tr style=\"text-align: right;\">\n",
       "      <th></th>\n",
       "      <th>LCLid</th>\n",
       "      <th>tstp</th>\n",
       "      <th>energy(kWh/hh)</th>\n",
       "    </tr>\n",
       "  </thead>\n",
       "  <tbody>\n",
       "    <tr>\n",
       "      <th>0</th>\n",
       "      <td>MAC000168</td>\n",
       "      <td>2011-11-24 13:30:00</td>\n",
       "      <td>0.054</td>\n",
       "    </tr>\n",
       "    <tr>\n",
       "      <th>1</th>\n",
       "      <td>MAC000168</td>\n",
       "      <td>2011-11-24 14:00:00</td>\n",
       "      <td>0.178</td>\n",
       "    </tr>\n",
       "    <tr>\n",
       "      <th>2</th>\n",
       "      <td>MAC000168</td>\n",
       "      <td>2011-11-24 14:30:00</td>\n",
       "      <td>0.113</td>\n",
       "    </tr>\n",
       "    <tr>\n",
       "      <th>3</th>\n",
       "      <td>MAC000168</td>\n",
       "      <td>2011-11-24 15:00:00</td>\n",
       "      <td>0.068</td>\n",
       "    </tr>\n",
       "    <tr>\n",
       "      <th>4</th>\n",
       "      <td>MAC000168</td>\n",
       "      <td>2011-11-24 15:30:00</td>\n",
       "      <td>0.061</td>\n",
       "    </tr>\n",
       "  </tbody>\n",
       "</table>\n",
       "</div>"
      ],
      "text/plain": [
       "       LCLid                tstp  energy(kWh/hh)\n",
       "0  MAC000168 2011-11-24 13:30:00           0.054\n",
       "1  MAC000168 2011-11-24 14:00:00           0.178\n",
       "2  MAC000168 2011-11-24 14:30:00           0.113\n",
       "3  MAC000168 2011-11-24 15:00:00           0.068\n",
       "4  MAC000168 2011-11-24 15:30:00           0.061"
      ]
     },
     "execution_count": 8,
     "metadata": {},
     "output_type": "execute_result"
    }
   ],
   "source": [
    "df.head()"
   ]
  },
  {
   "cell_type": "code",
   "execution_count": 9,
   "metadata": {},
   "outputs": [
    {
     "data": {
      "text/plain": [
       "4.595"
      ]
     },
     "execution_count": 9,
     "metadata": {},
     "output_type": "execute_result"
    }
   ],
   "source": [
    "df['energy(kWh/hh)'].max()"
   ]
  },
  {
   "cell_type": "code",
   "execution_count": 10,
   "metadata": {},
   "outputs": [
    {
     "data": {
      "text/plain": [
       "0.0"
      ]
     },
     "execution_count": 10,
     "metadata": {},
     "output_type": "execute_result"
    }
   ],
   "source": [
    "df['energy(kWh/hh)'].min()"
   ]
  },
  {
   "cell_type": "code",
   "execution_count": 11,
   "metadata": {},
   "outputs": [],
   "source": [
    "from ML_classes.LSTMModel import LSTMModel"
   ]
  },
  {
   "cell_type": "code",
   "execution_count": 12,
   "metadata": {},
   "outputs": [],
   "source": [
    "lclid_list = df['LCLid'].unique()\n",
    "def find_household(identification):\n",
    "    affluenthh_filt = df[\"LCLid\"] == identification\n",
    "    affluent_hh_data = df[affluenthh_filt]\n",
    "    return affluent_hh_data\n",
    "\n",
    "hh = find_household(\"MAC000150\")\n",
    "hh.pop(\"LCLid\")\n",
    "hh = hh.set_index(\"tstp\")\n",
    "hh = hh.resample(\"H\").sum()\n",
    "hh = hh.reset_index()\n",
    "\n",
    "hh_max = hh['energy(kWh/hh)'].max()\n",
    "hh['energy(kWh/hh)'] = hh['energy(kWh/hh)'].apply(lambda x: x / hh_max)"
   ]
  },
  {
   "cell_type": "code",
   "execution_count": 13,
   "metadata": {},
   "outputs": [
    {
     "data": {
      "text/plain": [
       "numpy.float64"
      ]
     },
     "execution_count": 13,
     "metadata": {},
     "output_type": "execute_result"
    }
   ],
   "source": [
    "#normalizedtstp = (hh[\"tstp\"] - hh[\"tstp\"].mean()) / hh[\"tstp\"].std()\n",
    "#normalizedtstp\n",
    "type(hh.iloc[0][\"energy(kWh/hh)\"])"
   ]
  },
  {
   "cell_type": "code",
   "execution_count": 14,
   "metadata": {},
   "outputs": [],
   "source": [
    "# Initiating the class\n",
    "deep_learner = LSTMModel(\n",
    "data = hh,\n",
    "Y_var = 'energy(kWh/hh)',\n",
    "lag = 24,\n",
    "LSTM_layer_depth = 10,\n",
    "epochs =20,\n",
    "batch_size = 256,\n",
    "train_test_split = 0.15\n",
    ")\n"
   ]
  },
  {
   "cell_type": "code",
   "execution_count": 15,
   "metadata": {},
   "outputs": [
    {
     "name": "stdout",
     "output_type": "stream",
     "text": [
      "Epoch 1/20\n"
     ]
    },
    {
     "name": "stderr",
     "output_type": "stream",
     "text": [
      "2022-03-23 16:12:33.481967: I tensorflow/stream_executor/cuda/cuda_gpu_executor.cc:936] successful NUMA node read from SysFS had negative value (-1), but there must be at least one NUMA node, so returning NUMA node zero\n",
      "2022-03-23 16:12:33.482309: W tensorflow/stream_executor/platform/default/dso_loader.cc:64] Could not load dynamic library 'libcudart.so.11.0'; dlerror: libcudart.so.11.0: cannot open shared object file: No such file or directory\n",
      "2022-03-23 16:12:33.482347: W tensorflow/stream_executor/platform/default/dso_loader.cc:64] Could not load dynamic library 'libcublas.so.11'; dlerror: libcublas.so.11: cannot open shared object file: No such file or directory\n",
      "2022-03-23 16:12:33.482376: W tensorflow/stream_executor/platform/default/dso_loader.cc:64] Could not load dynamic library 'libcublasLt.so.11'; dlerror: libcublasLt.so.11: cannot open shared object file: No such file or directory\n",
      "2022-03-23 16:12:33.482404: W tensorflow/stream_executor/platform/default/dso_loader.cc:64] Could not load dynamic library 'libcufft.so.10'; dlerror: libcufft.so.10: cannot open shared object file: No such file or directory\n",
      "2022-03-23 16:12:33.482430: W tensorflow/stream_executor/platform/default/dso_loader.cc:64] Could not load dynamic library 'libcurand.so.10'; dlerror: libcurand.so.10: cannot open shared object file: No such file or directory\n",
      "2022-03-23 16:12:33.482461: W tensorflow/stream_executor/platform/default/dso_loader.cc:64] Could not load dynamic library 'libcusolver.so.11'; dlerror: libcusolver.so.11: cannot open shared object file: No such file or directory\n",
      "2022-03-23 16:12:33.482503: W tensorflow/stream_executor/platform/default/dso_loader.cc:64] Could not load dynamic library 'libcusparse.so.11'; dlerror: libcusparse.so.11: cannot open shared object file: No such file or directory\n",
      "2022-03-23 16:12:33.482542: W tensorflow/stream_executor/platform/default/dso_loader.cc:64] Could not load dynamic library 'libcudnn.so.8'; dlerror: libcudnn.so.8: cannot open shared object file: No such file or directory\n",
      "2022-03-23 16:12:33.482549: W tensorflow/core/common_runtime/gpu/gpu_device.cc:1850] Cannot dlopen some GPU libraries. Please make sure the missing libraries mentioned above are installed properly if you would like to use GPU. Follow the guide at https://www.tensorflow.org/install/gpu for how to download and setup the required libraries for your platform.\n",
      "Skipping registering GPU devices...\n",
      "2022-03-23 16:12:33.482800: I tensorflow/core/platform/cpu_feature_guard.cc:151] This TensorFlow binary is optimized with oneAPI Deep Neural Network Library (oneDNN) to use the following CPU instructions in performance-critical operations:  AVX2 FMA\n",
      "To enable them in other operations, rebuild TensorFlow with the appropriate compiler flags.\n"
     ]
    },
    {
     "name": "stdout",
     "output_type": "stream",
     "text": [
      "66/66 [==============================] - 1s 7ms/step - loss: 0.0099 - val_loss: 0.0087\n",
      "Epoch 2/20\n",
      "66/66 [==============================] - 0s 5ms/step - loss: 0.0074 - val_loss: 0.0080\n",
      "Epoch 3/20\n",
      "66/66 [==============================] - 0s 5ms/step - loss: 0.0069 - val_loss: 0.0076\n",
      "Epoch 4/20\n",
      "66/66 [==============================] - 0s 5ms/step - loss: 0.0066 - val_loss: 0.0072\n",
      "Epoch 5/20\n",
      "66/66 [==============================] - 0s 4ms/step - loss: 0.0063 - val_loss: 0.0068\n",
      "Epoch 6/20\n",
      "66/66 [==============================] - 0s 5ms/step - loss: 0.0061 - val_loss: 0.0064\n",
      "Epoch 7/20\n",
      "66/66 [==============================] - 0s 5ms/step - loss: 0.0059 - val_loss: 0.0061\n",
      "Epoch 8/20\n",
      "66/66 [==============================] - 0s 5ms/step - loss: 0.0056 - val_loss: 0.0056\n",
      "Epoch 9/20\n",
      "66/66 [==============================] - 0s 5ms/step - loss: 0.0055 - val_loss: 0.0055\n",
      "Epoch 10/20\n",
      "66/66 [==============================] - 0s 5ms/step - loss: 0.0055 - val_loss: 0.0055\n",
      "Epoch 11/20\n",
      "66/66 [==============================] - 0s 5ms/step - loss: 0.0055 - val_loss: 0.0055\n",
      "Epoch 12/20\n",
      "66/66 [==============================] - 0s 5ms/step - loss: 0.0055 - val_loss: 0.0055\n",
      "Epoch 13/20\n",
      "66/66 [==============================] - 0s 5ms/step - loss: 0.0055 - val_loss: 0.0055\n",
      "Epoch 14/20\n",
      "66/66 [==============================] - 0s 5ms/step - loss: 0.0055 - val_loss: 0.0055\n",
      "Epoch 15/20\n",
      "66/66 [==============================] - 0s 4ms/step - loss: 0.0055 - val_loss: 0.0055\n",
      "Epoch 16/20\n",
      "66/66 [==============================] - 0s 5ms/step - loss: 0.0055 - val_loss: 0.0054\n",
      "Epoch 17/20\n",
      "66/66 [==============================] - 0s 5ms/step - loss: 0.0054 - val_loss: 0.0054\n",
      "Epoch 18/20\n",
      "66/66 [==============================] - 0s 5ms/step - loss: 0.0054 - val_loss: 0.0054\n",
      "Epoch 19/20\n",
      "66/66 [==============================] - 0s 5ms/step - loss: 0.0054 - val_loss: 0.0054\n",
      "Epoch 20/20\n",
      "66/66 [==============================] - 0s 5ms/step - loss: 0.0054 - val_loss: 0.0054\n"
     ]
    }
   ],
   "source": [
    "# Fitting the model\n",
    "\n",
    "model = deep_learner.LSTModel()"
   ]
  },
  {
   "cell_type": "code",
   "execution_count": 16,
   "metadata": {},
   "outputs": [
    {
     "data": {
      "image/png": "[encoded data removed]",
      "text/plain": [
       "<Figure size 432x288 with 1 Axes>"
      ]
     },
     "metadata": {
      "needs_background": "light"
     },
     "output_type": "display_data"
    }
   ],
   "source": [
    "def plot_loss(history):\n",
    "    plt.plot(history.history['loss'], label='loss')\n",
    "    plt.plot(history.history['val_loss'], label='val_loss')\n",
    "    plt.ylim([0, 0.1])\n",
    "    plt.xlabel('Epoch')\n",
    "    plt.ylabel('Error [energy(kWh/hh)]')\n",
    "    plt.legend()\n",
    "    plt.grid(True)\n",
    "plot_loss(deep_learner.history)"
   ]
  },
  {
   "cell_type": "code",
   "execution_count": 17,
   "metadata": {},
   "outputs": [
    {
     "data": {
      "text/plain": [
       "array([[0.04530479]], dtype=float32)"
      ]
     },
     "execution_count": 17,
     "metadata": {},
     "output_type": "execute_result"
    }
   ],
   "source": [
    "# Defining the lag that we used for training of the model \n",
    "lag_model = 24\n",
    "# Getting the last period\n",
    "ts = hh['energy(kWh/hh)'].tail(lag_model).values.tolist()\n",
    "# Creating the X matrix for the model\n",
    "X, _ = deep_learner.dc.create_X_Y(ts, lag=lag_model)\n",
    "# Getting the forecast\n",
    "yhat = model.predict(X)\n",
    "yhat"
   ]
  },
  {
   "cell_type": "code",
   "execution_count": 18,
   "metadata": {},
   "outputs": [
    {
     "data": {
      "image/png": "[encoded data removed]",
      "text/plain": [
       "<Figure size 864x576 with 1 Axes>"
      ]
     },
     "metadata": {
      "needs_background": "light"
     },
     "output_type": "display_data"
    }
   ],
   "source": [
    "yhat = deep_learner.predict()\n",
    "# Constructing the forecast dataframe\n",
    "fc = hh.tail(len(yhat)).copy()\n",
    "fc.reset_index(inplace=True)\n",
    "fc['forecast'] = yhat\n",
    "# Ploting the forecasts\n",
    "plt.figure(figsize=(12, 8))\n",
    "for dtype in ['energy(kWh/hh)', 'forecast']:\n",
    "  plt.plot(\n",
    "    'tstp',\n",
    "    dtype,\n",
    "    data=fc,\n",
    "    label=dtype,\n",
    "    alpha=0.8\n",
    "  )\n",
    "plt.legend()\n",
    "plt.grid()"
   ]
  },
  {
   "cell_type": "code",
   "execution_count": 19,
   "metadata": {},
   "outputs": [
    {
     "name": "stderr",
     "output_type": "stream",
     "text": [
      "/tmp/ipykernel_303226/1181257990.py:17: FutureWarning: The frame.append method is deprecated and will be removed from pandas in a future version. Use pandas.concat instead.\n",
      "  fc = fc.append(hat_frame)\n"
     ]
    },
    {
     "data": {
      "image/png": "[encoded data removed]",
      "text/plain": [
       "<Figure size 864x576 with 1 Axes>"
      ]
     },
     "metadata": {
      "needs_background": "light"
     },
     "output_type": "display_data"
    }
   ],
   "source": [
    "\n",
    "\n",
    "# Forecasting n steps ahead\n",
    "n_ahead = 168\n",
    "yhat = deep_learner.predict_n_ahead(n_ahead)\n",
    "yhat = [y[0][0] for y in yhat]\n",
    "\n",
    "# Constructing the forecast dataframe\n",
    "fc = hh.tail(400).copy() \n",
    "fc['type'] = 'original'\n",
    "\n",
    "last_date = max(fc['tstp'])\n",
    "hat_frame = pd.DataFrame({\n",
    "    'tstp': [last_date + timedelta(hours=x + 1) for x in range(n_ahead)], \n",
    "    'energy(kWh/hh)': yhat,\n",
    "    'type': 'forecast'\n",
    "})\n",
    "\n",
    "fc = fc.append(hat_frame)\n",
    "fc.reset_index(inplace=True, drop=True)\n",
    "\n",
    "# Ploting the forecasts \n",
    "plt.figure(figsize=(12, 8))\n",
    "for col_type in ['original', 'forecast']:\n",
    "    plt.plot(\n",
    "        'tstp', \n",
    "        'energy(kWh/hh)', \n",
    "        data=fc[fc['type']==col_type],\n",
    "        label=col_type\n",
    "        )\n",
    "\n",
    "plt.legend()\n",
    "plt.grid()   "
   ]
  },
  {
   "cell_type": "code",
   "execution_count": 20,
   "metadata": {},
   "outputs": [],
   "source": [
    "#deep_learner.save_lstm_model()"
   ]
  },
  {
   "cell_type": "code",
   "execution_count": 21,
   "metadata": {},
   "outputs": [
    {
     "data": {
      "text/plain": [
       "0.005425782762112718"
      ]
     },
     "execution_count": 21,
     "metadata": {},
     "output_type": "execute_result"
    }
   ],
   "source": [
    "deep_learner.evaluateMSE()"
   ]
  },
  {
   "cell_type": "code",
   "execution_count": 22,
   "metadata": {},
   "outputs": [
    {
     "data": {
      "text/plain": [
       "0.07365991285708066"
      ]
     },
     "execution_count": 22,
     "metadata": {},
     "output_type": "execute_result"
    }
   ],
   "source": [
    "deep_learner.evaluateRMSE()"
   ]
  },
  {
   "cell_type": "code",
   "execution_count": 23,
   "metadata": {},
   "outputs": [
    {
     "data": {
      "text/plain": [
       "0.04478880860474232"
      ]
     },
     "execution_count": 23,
     "metadata": {},
     "output_type": "execute_result"
    }
   ],
   "source": [
    "deep_learner.evaluateMAE()"
   ]
  },
  {
   "cell_type": "code",
   "execution_count": 26,
   "metadata": {},
   "outputs": [
    {
     "data": {
      "text/plain": [
       "46.75262911566073"
      ]
     },
     "execution_count": 26,
     "metadata": {},
     "output_type": "execute_result"
    }
   ],
   "source": [
    "deep_learner.evaluateMAPE()"
   ]
  },
  {
   "cell_type": "code",
   "execution_count": 28,
   "metadata": {},
   "outputs": [
    {
     "name": "stdout",
     "output_type": "stream",
     "text": [
      "Epoch 1/20\n",
      "66/66 [==============================] - 1s 13ms/step - loss: 0.0037 - val_loss: 0.0063\n",
      "Epoch 2/20\n",
      "66/66 [==============================] - 1s 11ms/step - loss: 0.0034 - val_loss: 0.0061\n",
      "Epoch 3/20\n",
      "66/66 [==============================] - 1s 11ms/step - loss: 0.0033 - val_loss: 0.0061\n",
      "Epoch 4/20\n",
      "66/66 [==============================] - 1s 11ms/step - loss: 0.0032 - val_loss: 0.0060\n",
      "Epoch 5/20\n",
      "66/66 [==============================] - 1s 11ms/step - loss: 0.0032 - val_loss: 0.0059\n",
      "Epoch 6/20\n",
      "66/66 [==============================] - 1s 11ms/step - loss: 0.0031 - val_loss: 0.0058\n",
      "Epoch 7/20\n",
      "66/66 [==============================] - 1s 12ms/step - loss: 0.0031 - val_loss: 0.0058\n",
      "Epoch 8/20\n",
      "66/66 [==============================] - 1s 11ms/step - loss: 0.0031 - val_loss: 0.0057\n",
      "Epoch 9/20\n",
      "66/66 [==============================] - 1s 11ms/step - loss: 0.0030 - val_loss: 0.0057\n",
      "Epoch 10/20\n",
      "66/66 [==============================] - 1s 11ms/step - loss: 0.0030 - val_loss: 0.0058\n",
      "Epoch 11/20\n",
      "66/66 [==============================] - 1s 11ms/step - loss: 0.0029 - val_loss: 0.0054\n",
      "Epoch 12/20\n",
      "66/66 [==============================] - 1s 11ms/step - loss: 0.0028 - val_loss: 0.0057\n",
      "Epoch 13/20\n",
      "66/66 [==============================] - 1s 11ms/step - loss: 0.0028 - val_loss: 0.0053\n",
      "Epoch 14/20\n",
      "66/66 [==============================] - 1s 11ms/step - loss: 0.0027 - val_loss: 0.0056\n",
      "Epoch 15/20\n",
      "66/66 [==============================] - 1s 11ms/step - loss: 0.0028 - val_loss: 0.0053\n",
      "Epoch 16/20\n",
      "66/66 [==============================] - 1s 12ms/step - loss: 0.0027 - val_loss: 0.0054\n",
      "Epoch 17/20\n",
      "66/66 [==============================] - 1s 11ms/step - loss: 0.0027 - val_loss: 0.0052\n",
      "Epoch 18/20\n",
      "66/66 [==============================] - 1s 11ms/step - loss: 0.0027 - val_loss: 0.0052\n",
      "Epoch 19/20\n",
      "66/66 [==============================] - 1s 11ms/step - loss: 0.0027 - val_loss: 0.0051\n",
      "Epoch 20/20\n",
      "66/66 [==============================] - 1s 11ms/step - loss: 0.0026 - val_loss: 0.0051\n",
      "Epoch 1/20\n",
      "66/66 [==============================] - 1s 12ms/step - loss: 0.0058 - val_loss: 0.0076\n",
      "Epoch 2/20\n",
      "66/66 [==============================] - 1s 11ms/step - loss: 0.0044 - val_loss: 0.0070\n",
      "Epoch 3/20\n",
      "66/66 [==============================] - 1s 11ms/step - loss: 0.0041 - val_loss: 0.0064\n",
      "Epoch 4/20\n",
      "66/66 [==============================] - 1s 11ms/step - loss: 0.0038 - val_loss: 0.0058\n",
      "Epoch 5/20\n",
      "66/66 [==============================] - 1s 11ms/step - loss: 0.0035 - val_loss: 0.0053\n",
      "Epoch 6/20\n",
      "66/66 [==============================] - 1s 12ms/step - loss: 0.0032 - val_loss: 0.0048\n",
      "Epoch 7/20\n",
      "66/66 [==============================] - 1s 11ms/step - loss: 0.0029 - val_loss: 0.0049\n",
      "Epoch 8/20\n",
      "66/66 [==============================] - 1s 11ms/step - loss: 0.0029 - val_loss: 0.0046\n",
      "Epoch 9/20\n",
      "66/66 [==============================] - 1s 11ms/step - loss: 0.0028 - val_loss: 0.0046\n",
      "Epoch 10/20\n",
      "66/66 [==============================] - 1s 11ms/step - loss: 0.0028 - val_loss: 0.0045\n",
      "Epoch 11/20\n",
      "66/66 [==============================] - 1s 11ms/step - loss: 0.0028 - val_loss: 0.0045\n",
      "Epoch 12/20\n",
      "66/66 [==============================] - 1s 11ms/step - loss: 0.0028 - val_loss: 0.0045\n",
      "Epoch 13/20\n",
      "66/66 [==============================] - 1s 11ms/step - loss: 0.0028 - val_loss: 0.0045\n",
      "Epoch 14/20\n",
      "66/66 [==============================] - 1s 11ms/step - loss: 0.0028 - val_loss: 0.0045\n",
      "Epoch 15/20\n",
      "66/66 [==============================] - 1s 11ms/step - loss: 0.0028 - val_loss: 0.0044\n",
      "Epoch 16/20\n",
      "66/66 [==============================] - 1s 11ms/step - loss: 0.0027 - val_loss: 0.0044\n",
      "Epoch 17/20\n",
      "66/66 [==============================] - 1s 11ms/step - loss: 0.0027 - val_loss: 0.0044\n",
      "Epoch 18/20\n",
      "66/66 [==============================] - 1s 11ms/step - loss: 0.0027 - val_loss: 0.0044\n",
      "Epoch 19/20\n",
      "66/66 [==============================] - 1s 11ms/step - loss: 0.0027 - val_loss: 0.0044\n",
      "Epoch 20/20\n",
      "66/66 [==============================] - 1s 11ms/step - loss: 0.0027 - val_loss: 0.0043\n",
      "Epoch 1/20\n",
      "66/66 [==============================] - 1s 12ms/step - loss: 0.0107 - val_loss: 0.0058\n",
      "Epoch 2/20\n",
      "66/66 [==============================] - 1s 11ms/step - loss: 0.0076 - val_loss: 0.0056\n",
      "Epoch 3/20\n",
      "66/66 [==============================] - 1s 11ms/step - loss: 0.0072 - val_loss: 0.0054\n",
      "Epoch 4/20\n",
      "66/66 [==============================] - 1s 11ms/step - loss: 0.0069 - val_loss: 0.0052\n",
      "Epoch 5/20\n",
      "66/66 [==============================] - 1s 11ms/step - loss: 0.0066 - val_loss: 0.0050\n",
      "Epoch 6/20\n",
      "66/66 [==============================] - 1s 11ms/step - loss: 0.0064 - val_loss: 0.0049\n",
      "Epoch 7/20\n",
      "66/66 [==============================] - 1s 11ms/step - loss: 0.0061 - val_loss: 0.0047\n",
      "Epoch 8/20\n",
      "66/66 [==============================] - 1s 11ms/step - loss: 0.0059 - val_loss: 0.0046\n",
      "Epoch 9/20\n",
      "66/66 [==============================] - 1s 11ms/step - loss: 0.0058 - val_loss: 0.0045\n",
      "Epoch 10/20\n",
      "66/66 [==============================] - 1s 11ms/step - loss: 0.0057 - val_loss: 0.0044\n",
      "Epoch 11/20\n",
      "66/66 [==============================] - 1s 11ms/step - loss: 0.0056 - val_loss: 0.0044\n",
      "Epoch 12/20\n",
      "66/66 [==============================] - 1s 11ms/step - loss: 0.0055 - val_loss: 0.0043\n",
      "Epoch 13/20\n",
      "66/66 [==============================] - 1s 11ms/step - loss: 0.0054 - val_loss: 0.0043\n",
      "Epoch 14/20\n",
      "66/66 [==============================] - 1s 11ms/step - loss: 0.0054 - val_loss: 0.0043\n",
      "Epoch 15/20\n",
      "66/66 [==============================] - 1s 11ms/step - loss: 0.0053 - val_loss: 0.0043\n",
      "Epoch 16/20\n",
      "66/66 [==============================] - 1s 12ms/step - loss: 0.0053 - val_loss: 0.0043\n",
      "Epoch 17/20\n",
      "66/66 [==============================] - 1s 11ms/step - loss: 0.0053 - val_loss: 0.0043\n",
      "Epoch 18/20\n",
      "66/66 [==============================] - 1s 11ms/step - loss: 0.0053 - val_loss: 0.0043\n",
      "Epoch 19/20\n",
      "66/66 [==============================] - 1s 11ms/step - loss: 0.0053 - val_loss: 0.0042\n",
      "Epoch 20/20\n",
      "66/66 [==============================] - 1s 11ms/step - loss: 0.0052 - val_loss: 0.0042\n",
      "Epoch 1/20\n",
      "66/66 [==============================] - 1s 13ms/step - loss: 0.0057 - val_loss: 0.0042\n",
      "Epoch 2/20\n",
      "66/66 [==============================] - 1s 11ms/step - loss: 0.0054 - val_loss: 0.0040\n",
      "Epoch 3/20\n",
      "66/66 [==============================] - 1s 11ms/step - loss: 0.0052 - val_loss: 0.0038\n",
      "Epoch 4/20\n",
      "66/66 [==============================] - 1s 11ms/step - loss: 0.0050 - val_loss: 0.0038\n",
      "Epoch 5/20\n",
      "66/66 [==============================] - 1s 10ms/step - loss: 0.0049 - val_loss: 0.0037\n",
      "Epoch 6/20\n",
      "66/66 [==============================] - 1s 11ms/step - loss: 0.0049 - val_loss: 0.0036\n",
      "Epoch 7/20\n",
      "66/66 [==============================] - 1s 10ms/step - loss: 0.0048 - val_loss: 0.0036\n",
      "Epoch 8/20\n",
      "66/66 [==============================] - 1s 10ms/step - loss: 0.0048 - val_loss: 0.0035\n",
      "Epoch 9/20\n",
      "66/66 [==============================] - 1s 11ms/step - loss: 0.0048 - val_loss: 0.0035\n",
      "Epoch 10/20\n",
      "66/66 [==============================] - 1s 10ms/step - loss: 0.0047 - val_loss: 0.0035\n",
      "Epoch 11/20\n",
      "66/66 [==============================] - 1s 10ms/step - loss: 0.0047 - val_loss: 0.0034\n",
      "Epoch 12/20\n",
      "66/66 [==============================] - 1s 10ms/step - loss: 0.0047 - val_loss: 0.0034\n",
      "Epoch 13/20\n",
      "66/66 [==============================] - 1s 10ms/step - loss: 0.0047 - val_loss: 0.0034\n",
      "Epoch 14/20\n",
      "66/66 [==============================] - 1s 10ms/step - loss: 0.0046 - val_loss: 0.0034\n",
      "Epoch 15/20\n",
      "66/66 [==============================] - 1s 10ms/step - loss: 0.0046 - val_loss: 0.0034\n",
      "Epoch 16/20\n",
      "66/66 [==============================] - 1s 10ms/step - loss: 0.0046 - val_loss: 0.0034\n",
      "Epoch 17/20\n",
      "66/66 [==============================] - 1s 10ms/step - loss: 0.0046 - val_loss: 0.0034\n",
      "Epoch 18/20\n",
      "66/66 [==============================] - 1s 10ms/step - loss: 0.0046 - val_loss: 0.0034\n",
      "Epoch 19/20\n",
      "66/66 [==============================] - 1s 10ms/step - loss: 0.0046 - val_loss: 0.0034\n",
      "Epoch 20/20\n",
      "66/66 [==============================] - 1s 10ms/step - loss: 0.0046 - val_loss: 0.0034\n",
      "Epoch 1/20\n",
      "66/66 [==============================] - 1s 12ms/step - loss: 0.0142 - val_loss: 0.0134\n",
      "Epoch 2/20\n",
      "66/66 [==============================] - 1s 10ms/step - loss: 0.0085 - val_loss: 0.0100\n",
      "Epoch 3/20\n"
     ]
    },
    {
     "name": "stdout",
     "output_type": "stream",
     "text": [
      "66/66 [==============================] - 1s 10ms/step - loss: 0.0075 - val_loss: 0.0089\n",
      "Epoch 4/20\n",
      "66/66 [==============================] - 1s 10ms/step - loss: 0.0073 - val_loss: 0.0080\n",
      "Epoch 5/20\n",
      "66/66 [==============================] - 1s 10ms/step - loss: 0.0073 - val_loss: 0.0080\n",
      "Epoch 6/20\n",
      "66/66 [==============================] - 1s 10ms/step - loss: 0.0073 - val_loss: 0.0079\n",
      "Epoch 7/20\n",
      "66/66 [==============================] - 1s 10ms/step - loss: 0.0073 - val_loss: 0.0079\n",
      "Epoch 8/20\n",
      "66/66 [==============================] - 1s 10ms/step - loss: 0.0072 - val_loss: 0.0076\n",
      "Epoch 9/20\n",
      "66/66 [==============================] - 1s 10ms/step - loss: 0.0070 - val_loss: 0.0075\n",
      "Epoch 10/20\n",
      "66/66 [==============================] - 1s 11ms/step - loss: 0.0069 - val_loss: 0.0073\n",
      "Epoch 11/20\n",
      "66/66 [==============================] - 1s 11ms/step - loss: 0.0069 - val_loss: 0.0073\n",
      "Epoch 12/20\n",
      "66/66 [==============================] - 1s 10ms/step - loss: 0.0068 - val_loss: 0.0072\n",
      "Epoch 13/20\n",
      "66/66 [==============================] - 1s 10ms/step - loss: 0.0067 - val_loss: 0.0071\n",
      "Epoch 14/20\n",
      "66/66 [==============================] - 1s 10ms/step - loss: 0.0066 - val_loss: 0.0071\n",
      "Epoch 15/20\n",
      "66/66 [==============================] - 1s 10ms/step - loss: 0.0065 - val_loss: 0.0072\n",
      "Epoch 16/20\n",
      "66/66 [==============================] - 1s 11ms/step - loss: 0.0065 - val_loss: 0.0071\n",
      "Epoch 17/20\n",
      "66/66 [==============================] - 1s 10ms/step - loss: 0.0065 - val_loss: 0.0070\n",
      "Epoch 18/20\n",
      "66/66 [==============================] - 1s 10ms/step - loss: 0.0064 - val_loss: 0.0070\n",
      "Epoch 19/20\n",
      "66/66 [==============================] - 1s 10ms/step - loss: 0.0064 - val_loss: 0.0069\n",
      "Epoch 20/20\n",
      "66/66 [==============================] - 1s 10ms/step - loss: 0.0064 - val_loss: 0.0068\n",
      "Epoch 1/20\n",
      "66/66 [==============================] - 1s 12ms/step - loss: 0.0166 - val_loss: 0.0190\n",
      "Epoch 2/20\n",
      "66/66 [==============================] - 1s 10ms/step - loss: 0.0127 - val_loss: 0.0184\n",
      "Epoch 3/20\n",
      "66/66 [==============================] - 1s 10ms/step - loss: 0.0121 - val_loss: 0.0170\n",
      "Epoch 4/20\n",
      "66/66 [==============================] - 1s 11ms/step - loss: 0.0111 - val_loss: 0.0147\n",
      "Epoch 5/20\n",
      "66/66 [==============================] - 1s 10ms/step - loss: 0.0100 - val_loss: 0.0141\n",
      "Epoch 6/20\n",
      "66/66 [==============================] - 1s 11ms/step - loss: 0.0104 - val_loss: 0.0147\n",
      "Epoch 7/20\n",
      "66/66 [==============================] - 1s 11ms/step - loss: 0.0100 - val_loss: 0.0135\n",
      "Epoch 8/20\n",
      "66/66 [==============================] - 1s 11ms/step - loss: 0.0096 - val_loss: 0.0130\n",
      "Epoch 9/20\n",
      "66/66 [==============================] - 1s 11ms/step - loss: 0.0094 - val_loss: 0.0127\n",
      "Epoch 10/20\n",
      "66/66 [==============================] - 1s 11ms/step - loss: 0.0092 - val_loss: 0.0124\n",
      "Epoch 11/20\n",
      "66/66 [==============================] - 1s 11ms/step - loss: 0.0091 - val_loss: 0.0123\n",
      "Epoch 12/20\n",
      "66/66 [==============================] - 1s 11ms/step - loss: 0.0090 - val_loss: 0.0121\n",
      "Epoch 13/20\n",
      "66/66 [==============================] - 1s 11ms/step - loss: 0.0090 - val_loss: 0.0121\n",
      "Epoch 14/20\n",
      "66/66 [==============================] - 1s 11ms/step - loss: 0.0089 - val_loss: 0.0120\n",
      "Epoch 15/20\n",
      "66/66 [==============================] - 1s 11ms/step - loss: 0.0089 - val_loss: 0.0119\n",
      "Epoch 16/20\n",
      "66/66 [==============================] - 1s 11ms/step - loss: 0.0088 - val_loss: 0.0119\n",
      "Epoch 17/20\n",
      "66/66 [==============================] - 1s 11ms/step - loss: 0.0088 - val_loss: 0.0118\n",
      "Epoch 18/20\n",
      "66/66 [==============================] - 1s 12ms/step - loss: 0.0088 - val_loss: 0.0118\n",
      "Epoch 19/20\n",
      "66/66 [==============================] - 1s 11ms/step - loss: 0.0087 - val_loss: 0.0117\n",
      "Epoch 20/20\n",
      "66/66 [==============================] - 1s 11ms/step - loss: 0.0086 - val_loss: 0.0118\n",
      "Epoch 1/20\n",
      "66/66 [==============================] - 1s 12ms/step - loss: 0.0074 - val_loss: 0.0113\n",
      "Epoch 2/20\n",
      "66/66 [==============================] - 1s 11ms/step - loss: 0.0058 - val_loss: 0.0108\n",
      "Epoch 3/20\n",
      "66/66 [==============================] - 1s 11ms/step - loss: 0.0055 - val_loss: 0.0100\n",
      "Epoch 4/20\n",
      "66/66 [==============================] - 1s 11ms/step - loss: 0.0052 - val_loss: 0.0095\n",
      "Epoch 5/20\n",
      "66/66 [==============================] - 1s 11ms/step - loss: 0.0049 - val_loss: 0.0088\n",
      "Epoch 6/20\n",
      "66/66 [==============================] - 1s 11ms/step - loss: 0.0046 - val_loss: 0.0083\n",
      "Epoch 7/20\n",
      "66/66 [==============================] - 1s 11ms/step - loss: 0.0045 - val_loss: 0.0080\n",
      "Epoch 8/20\n",
      "66/66 [==============================] - 1s 11ms/step - loss: 0.0043 - val_loss: 0.0079\n",
      "Epoch 9/20\n",
      "66/66 [==============================] - 1s 11ms/step - loss: 0.0042 - val_loss: 0.0078\n",
      "Epoch 10/20\n",
      "66/66 [==============================] - 1s 11ms/step - loss: 0.0042 - val_loss: 0.0078\n",
      "Epoch 11/20\n",
      "66/66 [==============================] - 1s 12ms/step - loss: 0.0041 - val_loss: 0.0077\n",
      "Epoch 12/20\n",
      "66/66 [==============================] - 1s 11ms/step - loss: 0.0041 - val_loss: 0.0077\n",
      "Epoch 13/20\n",
      "66/66 [==============================] - 1s 11ms/step - loss: 0.0041 - val_loss: 0.0076\n",
      "Epoch 14/20\n",
      "66/66 [==============================] - 1s 11ms/step - loss: 0.0040 - val_loss: 0.0076\n",
      "Epoch 15/20\n",
      "66/66 [==============================] - 1s 11ms/step - loss: 0.0040 - val_loss: 0.0076\n",
      "Epoch 16/20\n",
      "66/66 [==============================] - 1s 11ms/step - loss: 0.0040 - val_loss: 0.0076\n",
      "Epoch 17/20\n",
      "66/66 [==============================] - 1s 11ms/step - loss: 0.0040 - val_loss: 0.0075\n",
      "Epoch 18/20\n",
      "66/66 [==============================] - 1s 11ms/step - loss: 0.0040 - val_loss: 0.0075\n",
      "Epoch 19/20\n",
      "66/66 [==============================] - 1s 11ms/step - loss: 0.0039 - val_loss: 0.0075\n",
      "Epoch 20/20\n",
      "66/66 [==============================] - 1s 11ms/step - loss: 0.0039 - val_loss: 0.0075\n",
      "Epoch 1/20\n",
      "66/66 [==============================] - 1s 13ms/step - loss: 0.0248 - val_loss: 0.0248\n",
      "Epoch 2/20\n",
      "66/66 [==============================] - 1s 11ms/step - loss: 0.0206 - val_loss: 0.0212\n",
      "Epoch 3/20\n",
      "66/66 [==============================] - 1s 10ms/step - loss: 0.0188 - val_loss: 0.0188\n",
      "Epoch 4/20\n",
      "66/66 [==============================] - 1s 11ms/step - loss: 0.0176 - val_loss: 0.0182\n",
      "Epoch 5/20\n",
      "66/66 [==============================] - 1s 11ms/step - loss: 0.0169 - val_loss: 0.0183\n",
      "Epoch 6/20\n",
      "66/66 [==============================] - 1s 11ms/step - loss: 0.0165 - val_loss: 0.0168\n",
      "Epoch 7/20\n",
      "66/66 [==============================] - 1s 11ms/step - loss: 0.0157 - val_loss: 0.0166\n",
      "Epoch 8/20\n",
      "66/66 [==============================] - 1s 11ms/step - loss: 0.0151 - val_loss: 0.0162\n",
      "Epoch 9/20\n",
      "66/66 [==============================] - 1s 11ms/step - loss: 0.0143 - val_loss: 0.0145\n",
      "Epoch 10/20\n",
      "66/66 [==============================] - 1s 11ms/step - loss: 0.0129 - val_loss: 0.0125\n",
      "Epoch 11/20\n",
      "66/66 [==============================] - 1s 11ms/step - loss: 0.0114 - val_loss: 0.0127\n",
      "Epoch 12/20\n",
      "66/66 [==============================] - 1s 11ms/step - loss: 0.0110 - val_loss: 0.0164\n",
      "Epoch 13/20\n",
      "66/66 [==============================] - 1s 11ms/step - loss: 0.0128 - val_loss: 0.0158\n",
      "Epoch 14/20\n",
      "66/66 [==============================] - 1s 10ms/step - loss: 0.0123 - val_loss: 0.0138\n",
      "Epoch 15/20\n",
      "66/66 [==============================] - 1s 11ms/step - loss: 0.0109 - val_loss: 0.0129\n",
      "Epoch 16/20\n",
      "66/66 [==============================] - 1s 11ms/step - loss: 0.0099 - val_loss: 0.0095\n",
      "Epoch 17/20\n",
      "66/66 [==============================] - 1s 11ms/step - loss: 0.0088 - val_loss: 0.0085\n",
      "Epoch 18/20\n",
      "66/66 [==============================] - 1s 11ms/step - loss: 0.0081 - val_loss: 0.0079\n",
      "Epoch 19/20\n",
      "66/66 [==============================] - 1s 11ms/step - loss: 0.0078 - val_loss: 0.0075\n",
      "Epoch 20/20\n",
      "66/66 [==============================] - 1s 11ms/step - loss: 0.0076 - val_loss: 0.0072\n",
      "Epoch 1/20\n",
      "66/66 [==============================] - 1s 12ms/step - loss: 0.0305 - val_loss: 0.0050\n",
      "Epoch 2/20\n",
      "66/66 [==============================] - 1s 11ms/step - loss: 0.0161 - val_loss: 0.0055\n",
      "Epoch 3/20\n",
      "66/66 [==============================] - 1s 11ms/step - loss: 0.0151 - val_loss: 0.0054\n",
      "Epoch 4/20\n",
      "66/66 [==============================] - 1s 10ms/step - loss: 0.0141 - val_loss: 0.0053\n",
      "Epoch 5/20\n"
     ]
    },
    {
     "name": "stdout",
     "output_type": "stream",
     "text": [
      "66/66 [==============================] - 1s 11ms/step - loss: 0.0130 - val_loss: 0.0049\n",
      "Epoch 6/20\n",
      "66/66 [==============================] - 1s 11ms/step - loss: 0.0113 - val_loss: 0.0040\n",
      "Epoch 7/20\n",
      "66/66 [==============================] - 1s 11ms/step - loss: 0.0101 - val_loss: 0.0042\n",
      "Epoch 8/20\n",
      "66/66 [==============================] - 1s 11ms/step - loss: 0.0095 - val_loss: 0.0044\n",
      "Epoch 9/20\n",
      "66/66 [==============================] - 1s 11ms/step - loss: 0.0090 - val_loss: 0.0043\n",
      "Epoch 10/20\n",
      "66/66 [==============================] - 1s 10ms/step - loss: 0.0086 - val_loss: 0.0042\n",
      "Epoch 11/20\n",
      "66/66 [==============================] - 1s 11ms/step - loss: 0.0082 - val_loss: 0.0039\n",
      "Epoch 12/20\n",
      "66/66 [==============================] - 1s 11ms/step - loss: 0.0081 - val_loss: 0.0040\n",
      "Epoch 13/20\n",
      "66/66 [==============================] - 1s 11ms/step - loss: 0.0079 - val_loss: 0.0040\n",
      "Epoch 14/20\n",
      "66/66 [==============================] - 1s 11ms/step - loss: 0.0077 - val_loss: 0.0039\n",
      "Epoch 15/20\n",
      "66/66 [==============================] - 1s 11ms/step - loss: 0.0076 - val_loss: 0.0039\n",
      "Epoch 16/20\n",
      "66/66 [==============================] - 1s 11ms/step - loss: 0.0075 - val_loss: 0.0039\n",
      "Epoch 17/20\n",
      "66/66 [==============================] - 1s 11ms/step - loss: 0.0074 - val_loss: 0.0038\n",
      "Epoch 18/20\n",
      "66/66 [==============================] - 1s 11ms/step - loss: 0.0073 - val_loss: 0.0038\n",
      "Epoch 19/20\n",
      "66/66 [==============================] - 1s 11ms/step - loss: 0.0072 - val_loss: 0.0038\n",
      "Epoch 20/20\n",
      "66/66 [==============================] - 1s 11ms/step - loss: 0.0072 - val_loss: 0.0038\n",
      "Epoch 1/20\n",
      "66/66 [==============================] - 1s 12ms/step - loss: 0.0076 - val_loss: 0.0078\n",
      "Epoch 2/20\n",
      "66/66 [==============================] - 1s 11ms/step - loss: 0.0066 - val_loss: 0.0069\n",
      "Epoch 3/20\n",
      "66/66 [==============================] - 1s 11ms/step - loss: 0.0060 - val_loss: 0.0061\n",
      "Epoch 4/20\n",
      "66/66 [==============================] - 1s 12ms/step - loss: 0.0057 - val_loss: 0.0059\n",
      "Epoch 5/20\n",
      "66/66 [==============================] - 1s 11ms/step - loss: 0.0056 - val_loss: 0.0057\n",
      "Epoch 6/20\n",
      "66/66 [==============================] - 1s 11ms/step - loss: 0.0056 - val_loss: 0.0056\n",
      "Epoch 7/20\n",
      "66/66 [==============================] - 1s 11ms/step - loss: 0.0055 - val_loss: 0.0055\n",
      "Epoch 8/20\n",
      "66/66 [==============================] - 1s 11ms/step - loss: 0.0054 - val_loss: 0.0054\n",
      "Epoch 9/20\n",
      "66/66 [==============================] - 1s 11ms/step - loss: 0.0054 - val_loss: 0.0053\n",
      "Epoch 10/20\n",
      "66/66 [==============================] - 1s 11ms/step - loss: 0.0053 - val_loss: 0.0053\n",
      "Epoch 11/20\n",
      "66/66 [==============================] - 1s 11ms/step - loss: 0.0053 - val_loss: 0.0052\n",
      "Epoch 12/20\n",
      "66/66 [==============================] - 1s 12ms/step - loss: 0.0053 - val_loss: 0.0052\n",
      "Epoch 13/20\n",
      "66/66 [==============================] - 1s 11ms/step - loss: 0.0053 - val_loss: 0.0052\n",
      "Epoch 14/20\n",
      "66/66 [==============================] - 1s 11ms/step - loss: 0.0053 - val_loss: 0.0052\n",
      "Epoch 15/20\n",
      "66/66 [==============================] - 1s 11ms/step - loss: 0.0052 - val_loss: 0.0052\n",
      "Epoch 16/20\n",
      "66/66 [==============================] - 1s 11ms/step - loss: 0.0052 - val_loss: 0.0052\n",
      "Epoch 17/20\n",
      "66/66 [==============================] - 1s 11ms/step - loss: 0.0052 - val_loss: 0.0051\n",
      "Epoch 18/20\n",
      "66/66 [==============================] - 1s 12ms/step - loss: 0.0052 - val_loss: 0.0051\n",
      "Epoch 19/20\n",
      "66/66 [==============================] - 1s 11ms/step - loss: 0.0052 - val_loss: 0.0051\n",
      "Epoch 20/20\n",
      "66/66 [==============================] - 1s 11ms/step - loss: 0.0052 - val_loss: 0.0051\n"
     ]
    }
   ],
   "source": [
    "#train for all houses\n",
    "lclid_list = df['LCLid'].unique().tolist()\n",
    "#print(type(lclid_list))\n",
    "mse = []\n",
    "rmse = []\n",
    "mae = []\n",
    "mape = []\n",
    "for lclid in lclid_list:\n",
    "    #print(lclid)\n",
    "\n",
    "\n",
    "    hh = find_household(lclid)\n",
    "    hh.pop(\"LCLid\")\n",
    "    hh = hh.set_index(\"tstp\")\n",
    "    hh = hh.resample(\"H\").sum()\n",
    "    hh = hh.reset_index()\n",
    "\n",
    "    hh_max = hh['energy(kWh/hh)'].max()\n",
    "    hh['energy(kWh/hh)'] = hh['energy(kWh/hh)'].apply(lambda x: x / hh_max)\n",
    "    \n",
    "    # Initiating the class\n",
    "    deep_learner = LSTMModel(\n",
    "        data = hh,\n",
    "        Y_var = 'energy(kWh/hh)',\n",
    "        lag = 24,\n",
    "        LSTM_layer_depth = 50,\n",
    "        epochs =20,\n",
    "        batch_size = 256,\n",
    "        train_test_split = 0.15\n",
    "    )\n",
    "    #training\n",
    "    model = deep_learner.LSTModel()\n",
    "    \n",
    "    mse.append(deep_learner.evaluateMSE())\n",
    "    rmse.append(deep_learner.evaluateRMSE())\n",
    "    mae.append(deep_learner.evaluateMAE())\n",
    "    mape.append(deep_learner.evaluateMAPE())\n",
    "houses = pd.Series(data=lclid_list,name=\"lclid\")\n",
    "mse = pd.Series(data=mse,name=\"mse\")\n",
    "rmse = pd.Series(data=rmse,name=\"rmse\")\n",
    "mae = pd.Series(data=mae,name=\"mae\")\n",
    "mape = pd.Series(data=mape,name=\"mape\")\n",
    "\n",
    "res_df = pd.merge(houses, mse, right_index=True, left_index=True)\n",
    "res_df[\"rmse\"] = rmse\n",
    "res_df[\"mae\"] = mae\n",
    "res_df[\"mape\"] = mape\n"
   ]
  },
  {
   "cell_type": "raw",
   "metadata": {},
   "source": []
  },
  {
   "cell_type": "code",
   "execution_count": 27,
   "metadata": {},
   "outputs": [
    {
     "data": {
      "text/html": [
       "<div>\n",
       "<style scoped>\n",
       "    .dataframe tbody tr th:only-of-type {\n",
       "        vertical-align: middle;\n",
       "    }\n",
       "\n",
       "    .dataframe tbody tr th {\n",
       "        vertical-align: top;\n",
       "    }\n",
       "\n",
       "    .dataframe thead th {\n",
       "        text-align: right;\n",
       "    }\n",
       "</style>\n",
       "<table border=\"1\" class=\"dataframe\">\n",
       "  <thead>\n",
       "    <tr style=\"text-align: right;\">\n",
       "      <th></th>\n",
       "      <th>lclid</th>\n",
       "      <th>mse</th>\n",
       "      <th>rmse</th>\n",
       "      <th>mae</th>\n",
       "      <th>mape</th>\n",
       "    </tr>\n",
       "  </thead>\n",
       "  <tbody>\n",
       "    <tr>\n",
       "      <th>0</th>\n",
       "      <td>MAC000168</td>\n",
       "      <td>0.004727</td>\n",
       "      <td>0.068756</td>\n",
       "      <td>0.025197</td>\n",
       "      <td>74.908174</td>\n",
       "    </tr>\n",
       "    <tr>\n",
       "      <th>1</th>\n",
       "      <td>MAC000169</td>\n",
       "      <td>0.003849</td>\n",
       "      <td>0.062041</td>\n",
       "      <td>0.030090</td>\n",
       "      <td>37.295013</td>\n",
       "    </tr>\n",
       "    <tr>\n",
       "      <th>2</th>\n",
       "      <td>MAC000179</td>\n",
       "      <td>0.002702</td>\n",
       "      <td>0.051981</td>\n",
       "      <td>0.028757</td>\n",
       "      <td>52.566547</td>\n",
       "    </tr>\n",
       "    <tr>\n",
       "      <th>3</th>\n",
       "      <td>MAC000181</td>\n",
       "      <td>0.001751</td>\n",
       "      <td>0.041844</td>\n",
       "      <td>0.017570</td>\n",
       "      <td>25.348945</td>\n",
       "    </tr>\n",
       "    <tr>\n",
       "      <th>4</th>\n",
       "      <td>MAC000165</td>\n",
       "      <td>0.005822</td>\n",
       "      <td>0.076300</td>\n",
       "      <td>0.042987</td>\n",
       "      <td>22.743629</td>\n",
       "    </tr>\n",
       "    <tr>\n",
       "      <th>5</th>\n",
       "      <td>MAC000173</td>\n",
       "      <td>0.006195</td>\n",
       "      <td>0.078706</td>\n",
       "      <td>0.045837</td>\n",
       "      <td>44.348553</td>\n",
       "    </tr>\n",
       "    <tr>\n",
       "      <th>6</th>\n",
       "      <td>MAC000152</td>\n",
       "      <td>0.005570</td>\n",
       "      <td>0.074633</td>\n",
       "      <td>0.040199</td>\n",
       "      <td>82.454956</td>\n",
       "    </tr>\n",
       "    <tr>\n",
       "      <th>7</th>\n",
       "      <td>MAC000153</td>\n",
       "      <td>0.007195</td>\n",
       "      <td>0.084826</td>\n",
       "      <td>0.051807</td>\n",
       "      <td>41.732310</td>\n",
       "    </tr>\n",
       "    <tr>\n",
       "      <th>8</th>\n",
       "      <td>MAC000159</td>\n",
       "      <td>0.002175</td>\n",
       "      <td>0.046642</td>\n",
       "      <td>0.022639</td>\n",
       "      <td>24.502428</td>\n",
       "    </tr>\n",
       "    <tr>\n",
       "      <th>9</th>\n",
       "      <td>MAC000150</td>\n",
       "      <td>0.004603</td>\n",
       "      <td>0.067847</td>\n",
       "      <td>0.036846</td>\n",
       "      <td>46.752629</td>\n",
       "    </tr>\n",
       "  </tbody>\n",
       "</table>\n",
       "</div>"
      ],
      "text/plain": [
       "       lclid       mse      rmse       mae       mape\n",
       "0  MAC000168  0.004727  0.068756  0.025197  74.908174\n",
       "1  MAC000169  0.003849  0.062041  0.030090  37.295013\n",
       "2  MAC000179  0.002702  0.051981  0.028757  52.566547\n",
       "3  MAC000181  0.001751  0.041844  0.017570  25.348945\n",
       "4  MAC000165  0.005822  0.076300  0.042987  22.743629\n",
       "5  MAC000173  0.006195  0.078706  0.045837  44.348553\n",
       "6  MAC000152  0.005570  0.074633  0.040199  82.454956\n",
       "7  MAC000153  0.007195  0.084826  0.051807  41.732310\n",
       "8  MAC000159  0.002175  0.046642  0.022639  24.502428\n",
       "9  MAC000150  0.004603  0.067847  0.036846  46.752629"
      ]
     },
     "execution_count": 27,
     "metadata": {},
     "output_type": "execute_result"
    }
   ],
   "source": [
    "res_df"
   ]
  },
  {
   "cell_type": "code",
   "execution_count": null,
   "metadata": {},
   "outputs": [],
   "source": []
  }
 ],
 "metadata": {
  "interpreter": {
   "hash": "55bc3ce9f9f57c4df1faa89487ee4749dce1b5d904b5bab89e302a644b73527a"
  },
  "kernelspec": {
   "display_name": "Python 3 (ipykernel)",
   "language": "python",
   "name": "python3"
  },
  "language_info": {
   "codemirror_mode": {
    "name": "ipython",
    "version": 3
   },
   "file_extension": ".py",
   "mimetype": "text/x-python",
   "name": "python",
   "nbconvert_exporter": "python",
   "pygments_lexer": "ipython3",
   "version": "3.8.10"
  }
 },
 "nbformat": 4,
 "nbformat_minor": 2
}
